{
 "cells": [
  {
   "cell_type": "code",
   "execution_count": 6,
   "id": "34412ac1-d401-4dea-8e0d-e50c3b63e5c5",
   "metadata": {
    "scrolled": true
   },
   "outputs": [
    {
     "name": "stdout",
     "output_type": "stream",
     "text": [
      "Current Directory: /Users/Travail/git/Amazing-Project\n",
      "ReactionSmiles\tPatentNumber\tParagraphNum\tYear\tTextMinedYield\tCalculatedYield\n",
      "\n",
      "                                                 Product 1 Product 2  \\\n",
      "25       [Br:8][C:19]1[CH:18]=[CH:17][C:16]2[N:10]([CH3...      None   \n",
      "27       [CH2:1]([S:3][C:4]1[CH:26]=[CH:25][C:7]2[N:8](...      None   \n",
      "28       [CH2:1]([S:3][C:4]1[CH:25]=[CH:24][C:7]2[N:8](...        2|   \n",
      "31       [CH2:7]([S:9][C:10]1[CH:31]=[CH:30][C:13]2[N:1...         1   \n",
      "36       [C:14]([NH:1][C:2]1[CH:3]=[CH:4][C:5]2[N:9]=[C...      None   \n",
      "...                                                    ...       ...   \n",
      "1808930  [CH:28]1[C:36]2[C:35]3[CH:37]=[CH:38][CH:39]=[...       3,5   \n",
      "1808931  [CH:28]1[C:36]2[C:35]3[CH:37]=[CH:38][CH:39]=[...       3,5   \n",
      "1808933  [C:28]1([C:34]2[C:42]3[S:41][C:40]4[C:43]([C:4...       3,5   \n",
      "1808935  [CH:34]1[C:42]2[C:41]3[CH:43]=[CH:44][CH:45]=[...       3,5   \n",
      "1808936  [CH:34]1[C:42]2[C:41]3[CH:43]=[CH:44][CH:45]=[...       3,5   \n",
      "\n",
      "        Product 3 Product 4 Product 5 Product 6 Product 7 Product 8 Product 9  \\\n",
      "25           None      None      None      None      None      None      None   \n",
      "27           None      None      None      None      None      None      None   \n",
      "28           None      None      None      None      None      None      None   \n",
      "31              2         3         4       5,8        9|      None      None   \n",
      "36           None      None      None      None      None      None      None   \n",
      "...           ...       ...       ...       ...       ...       ...       ...   \n",
      "1808930         6        7|      None      None      None      None      None   \n",
      "1808931         6        7|      None      None      None      None      None   \n",
      "1808933         6        7|      None      None      None      None      None   \n",
      "1808935         6        7|      None      None      None      None      None   \n",
      "1808936         6        7|      None      None      None      None      None   \n",
      "\n",
      "        Product 10  ... Reactant 53 Reactant 54 Reactant 55 Reactant 56  \\\n",
      "25            None  ...        None        None        None        None   \n",
      "27            None  ...        None        None        None        None   \n",
      "28            None  ...        None        None        None        None   \n",
      "31            None  ...        None        None        None        None   \n",
      "36            None  ...        None        None        None        None   \n",
      "...            ...  ...         ...         ...         ...         ...   \n",
      "1808930       None  ...        None        None        None        None   \n",
      "1808931       None  ...        None        None        None        None   \n",
      "1808933       None  ...        None        None        None        None   \n",
      "1808935       None  ...        None        None        None        None   \n",
      "1808936       None  ...        None        None        None        None   \n",
      "\n",
      "        Reactant 57 Reactant 58 Reactant 59 Reactant 60 Reactant 61  \\\n",
      "25             None        None        None        None        None   \n",
      "27             None        None        None        None        None   \n",
      "28             None        None        None        None        None   \n",
      "31             None        None        None        None        None   \n",
      "36             None        None        None        None        None   \n",
      "...             ...         ...         ...         ...         ...   \n",
      "1808930        None        None        None        None        None   \n",
      "1808931        None        None        None        None        None   \n",
      "1808933        None        None        None        None        None   \n",
      "1808935        None        None        None        None        None   \n",
      "1808936        None        None        None        None        None   \n",
      "\n",
      "        CalculatedYield  \n",
      "25               100.5%  \n",
      "27                82.0%  \n",
      "28                78.1%  \n",
      "31                82.1%  \n",
      "36                67.9%  \n",
      "...                 ...  \n",
      "1808930           73.8%  \n",
      "1808931           90.7%  \n",
      "1808933           77.4%  \n",
      "1808935           69.5%  \n",
      "1808936           58.7%  \n",
      "\n",
      "[739764 rows x 189 columns]\n"
     ]
    }
   ],
   "source": [
    "# read the data and turn it into a dataframe\n",
    "#imports\"\n",
    "from pathlib import Path\n",
    "from rdkit import Chem\n",
    "from rdkit.Chem import Draw\n",
    "from rdkit.Chem import PandasTools\n",
    "import pandas as pd\n",
    "import os\n",
    "\n",
    "# Create a Path object for the current directory\n",
    "current_directory = Path.cwd()\n",
    "print(\"Current Directory:\", current_directory.resolve())\n",
    "\n",
    "# Creating a Path object for an example file that does not yet exist\n",
    "example_file_path = current_directory / \"1976_Sep2016_USPTOgrants_smiles.rsmi\"\n",
    "\n",
    "# Reading the contents of the file to test if we have well acess to our data\n",
    "if example_file_path.exists():\n",
    "    with example_file_path.open(\"r\") as file:\n",
    "        first_line = file.readline()\n",
    "        print(first_line)\n",
    "else:\n",
    "    print(\"The file does not exist.\")\n",
    "\n",
    "dataFrame= pd.read_csv(\"1976_Sep2016_USPTOgrants_smiles.rsmi\", delimiter='\\t',low_memory=False)\n",
    "#Delete columns that are not the reactions or the yield\n",
    "columns_to_delete = [\"PatentNumber\", \"ParagraphNum\", \"Year\", \"TextMinedYield\"]\n",
    "dataFrame.drop(columns=columns_to_delete, inplace=True)\n",
    "#Separate the Reactants from the Products\n",
    "new_columns = dataFrame['ReactionSmiles'].str.split('>', expand=True)\n",
    "new_columns = new_columns.rename(columns={0: 'Reactant 1', 2 : \"Product 1\"})\n",
    "dataFrame = pd.concat([new_columns, dataFrame.iloc[:, 1:]], axis=1)\n",
    "dataFrame.drop(columns=1, inplace=True)\n",
    "#Separate the reactants from each other\n",
    "reactants_split = dataFrame['Reactant 1'].str.split(\"\\.\", expand = True)\n",
    "reactants_split.columns = [f'Reactant {i+1}' for i in range(reactants_split.shape[1])]\n",
    "dataFrame = pd.concat([reactants_split, dataFrame.iloc[:, 1:]], axis=1)\n",
    "#Separate the Products from each other\n",
    "products_split = dataFrame['Product 1'].str.split(\"\\.\", expand = True)\n",
    "products_split.columns = [f'Product {i+1}' for i in range(products_split.shape[1])]\n",
    "dataFrame = pd.concat([products_split, dataFrame.iloc[:, 1:]], axis=1)\n",
    "dataFrame = dataFrame.loc[:, ~dataFrame.columns.duplicated(keep='first')]\n",
    "\n",
    "null_rows = dataFrame[dataFrame[\"CalculatedYield\"].isnull()]\n",
    "dataFrame.dropna(subset=[\"CalculatedYield\"], inplace=True)\n",
    "print(dataFrame)\n"
   ]
  },
  {
   "cell_type": "code",
   "execution_count": 7,
   "id": "f4495a67-b86d-4f99-b6bc-8508ac815cea",
   "metadata": {},
   "outputs": [],
   "source": [
    "\"\"\"\n",
    "This Cell groups the functions used to clean the dataframe to be able to use it later\n",
    "\"\"\"\n",
    "# Remove atome mapping numbers from smiles\n",
    "import re\n",
    "\n",
    "def remove_atom_mapping(smiles):\n",
    "    \"\"\"\n",
    "    Remove atom mapping numbers from a SMILES-like notation.\n",
    "    Args:\n",
    "    - smiles (str): The SMILES-like notation with atom mapping numbers.\n",
    "    Returns:\n",
    "    - smiles_without_mapping (str): The SMILES notation without atom mapping numbers.\n",
    "    \"\"\"\n",
    "    # Define a regular expression pattern to match atom mapping numbers\n",
    "    pattern = r':\\d+'\n",
    "    smiles_without_mapping = re.sub(pattern, '', smiles)\n",
    "    return smiles_without_mapping\n",
    "\n",
    "dataFrame = dataFrame.astype(str)\n",
    "columns_to_process = dataFrame.columns[:-1]\n",
    "for column in columns_to_process:\n",
    "    dataFrame[column] = dataFrame[column].apply(remove_atom_mapping)\n",
    "    \n",
    "#Remove the percentage symbol\n",
    "def remove_percent_symbol(value):\n",
    "    \"\"\"\n",
    "    Remove the '%' symbol from a percentage value.\n",
    "    Args:\n",
    "    - value (str): The percentage value with the '%' symbol.\n",
    "    Returns:\n",
    "    - value_without_percent (str): The percentage value without the '%' symbol.\n",
    "    \"\"\"\n",
    "    return value.replace('%', '')\n",
    "\n",
    "# Apply the remove_percent_symbol function to the \"PercentageColumn\" column\n",
    "dataFrame['CalculatedYield'] = dataFrame['CalculatedYield'].apply(remove_percent_symbol)\n"
   ]
  },
  {
   "cell_type": "code",
   "execution_count": 8,
   "id": "ade93868-f2e1-4a40-9b2f-0d670d72505a",
   "metadata": {},
   "outputs": [
    {
     "name": "stdout",
     "output_type": "stream",
     "text": [
      "                                                 Product 1 Product 2  \\\n",
      "25             BrC1CH=CHC2NCH3C3CH=CHCH=CHC=3CH2C=OC=2CH=1      None   \n",
      "27       CH2SC1CH=CHC2NCH3C3CH=CHCH=CHC=3CH2C=CHCOCH2CH...      None   \n",
      "28       CH2SC1CH=CHC2NCH3C3CH=CHCH=CHC=3CH=CCH2COH=OC=...        2|   \n",
      "31       CH2SC1CH=CHC2NCH3C3CH=CHCH=CHC=3CH=CCH2CH2NCH3...         1   \n",
      "36                 CNHC1CH=CHC2N=C3CH2CH2CH2N3C=2CH=1=OCH3      None   \n",
      "...                                                    ...       ...   \n",
      "1808930  CH1C2C3CH=CHCH=CHC=3SC=2CC2CH=CHC3NC4CH=CHCH=C...       3,5   \n",
      "1808931  CH1C2C3CH=CHCH=CHC=3OC=2CC2CH=CHC3NC4CH=CHCH=C...       3,5   \n",
      "1808933  C1C2C3SC4CC5CH=CHC6NC7CH=CHCC8C9CCC%10CH=CHCH=...       3,5   \n",
      "1808935  CH1C2C3CH=CHCH=CHC=3SC=2CC2CH=CHC3NC4CH=CHCH=C...       3,5   \n",
      "1808936  CH1C2C3CH=CHCH=CHC=3OC=2CC2CH=CHC3NC4CH=CHCH=C...       3,5   \n",
      "\n",
      "        Product 3 Product 4 Product 5 Product 6 Product 7 Product 8 Product 9  \\\n",
      "25           None      None      None      None      None      None      None   \n",
      "27           None      None      None      None      None      None      None   \n",
      "28           None      None      None      None      None      None      None   \n",
      "31              2         3         4       5,8        9|      None      None   \n",
      "36           None      None      None      None      None      None      None   \n",
      "...           ...       ...       ...       ...       ...       ...       ...   \n",
      "1808930         6        7|      None      None      None      None      None   \n",
      "1808931         6        7|      None      None      None      None      None   \n",
      "1808933         6        7|      None      None      None      None      None   \n",
      "1808935         6        7|      None      None      None      None      None   \n",
      "1808936         6        7|      None      None      None      None      None   \n",
      "\n",
      "        Product 10  ... Reactant 53 Reactant 54 Reactant 55 Reactant 56  \\\n",
      "25            None  ...        None        None        None        None   \n",
      "27            None  ...        None        None        None        None   \n",
      "28            None  ...        None        None        None        None   \n",
      "31            None  ...        None        None        None        None   \n",
      "36            None  ...        None        None        None        None   \n",
      "...            ...  ...         ...         ...         ...         ...   \n",
      "1808930       None  ...        None        None        None        None   \n",
      "1808931       None  ...        None        None        None        None   \n",
      "1808933       None  ...        None        None        None        None   \n",
      "1808935       None  ...        None        None        None        None   \n",
      "1808936       None  ...        None        None        None        None   \n",
      "\n",
      "        Reactant 57 Reactant 58 Reactant 59 Reactant 60 Reactant 61  \\\n",
      "25             None        None        None        None        None   \n",
      "27             None        None        None        None        None   \n",
      "28             None        None        None        None        None   \n",
      "31             None        None        None        None        None   \n",
      "36             None        None        None        None        None   \n",
      "...             ...         ...         ...         ...         ...   \n",
      "1808930        None        None        None        None        None   \n",
      "1808931        None        None        None        None        None   \n",
      "1808933        None        None        None        None        None   \n",
      "1808935        None        None        None        None        None   \n",
      "1808936        None        None        None        None        None   \n",
      "\n",
      "        CalculatedYield  \n",
      "25                100.5  \n",
      "27                 82.0  \n",
      "28                 78.1  \n",
      "31                 82.1  \n",
      "36                 67.9  \n",
      "...                 ...  \n",
      "1808930            73.8  \n",
      "1808931            90.7  \n",
      "1808933            77.4  \n",
      "1808935            69.5  \n",
      "1808936            58.7  \n",
      "\n",
      "[739764 rows x 189 columns]\n"
     ]
    }
   ],
   "source": [
    "# Isomers Data Frame\n",
    "Isomers_dataFrame= dataFrame.copy()\n",
    "\n",
    "# Function to remove brackets, parentheses, and plus/minus signs\n",
    "def clean_string(s):\n",
    "    return re.sub(r'[\\[\\]\\(\\)\\+\\-\\#]', '', s)\n",
    "\n",
    "Isomers_dataFrame = Isomers_dataFrame.astype(str)\n",
    "Isomers_dataFrame = dataFrame.apply(lambda x: x.map(clean_string))\n",
    "\n",
    "print (Isomers_dataFrame)"
   ]
  },
  {
   "cell_type": "code",
   "execution_count": 8,
   "id": "9d7d36a6-f4c6-4197-a55f-1995458048b0",
   "metadata": {},
   "outputs": [
    {
     "name": "stdin",
     "output_type": "stream",
     "text": [
      "Press Enter to get random products or type 'exit' to quit:  \n"
     ]
    },
    {
     "name": "stdout",
     "output_type": "stream",
     "text": [
      "68268    [CH3][O][C]1[CH]=[CH][C]([N+]([O-])=[O])=[C]([CH]=1)[CH2][Cl]\n",
      "dtype: object\n"
     ]
    },
    {
     "name": "stdin",
     "output_type": "stream",
     "text": [
      "Do you want to continue? (yes/no):  no\n"
     ]
    },
    {
     "name": "stdout",
     "output_type": "stream",
     "text": [
      "Exiting.\n"
     ]
    }
   ],
   "source": [
    "pd.set_option('display.max_colwidth', None)\n",
    "def main():\n",
    "    \n",
    "    while True:\n",
    "        choice=input(\"Press Enter to get random products or type 'exit' to quit: \")\n",
    "        if choice == \"exit\":\n",
    "            print(\"Exiting.\")\n",
    "            break\n",
    "        else: \n",
    "            filtered_columns = [pd.Series(dataFrame.iloc[:, i].dropna().unique()) for i in range(128)]\n",
    "            selected_columns = pd.concat(filtered_columns, axis=0)\n",
    "            random_products = selected_columns.sample(n=1)\n",
    "            print(random_products)\n",
    "\n",
    "        \n",
    "        choice = input(\"Do you want to continue? (yes/no): \").strip().lower()\n",
    "        if choice == \"no\":\n",
    "            print(\"Exiting.\")\n",
    "            break\n",
    "            \n",
    "if __name__ == \"__main__\":\n",
    "    main()"
   ]
  },
  {
   "cell_type": "code",
   "execution_count": 1,
   "id": "79448839-05ae-4005-b1f7-63ac1ba3e782",
   "metadata": {},
   "outputs": [
    {
     "name": "stdout",
     "output_type": "stream",
     "text": [
      "you can enter the name of the molecule or its SMILES, the racemic configuration is available. Only halogen molecules are taken in account in the data base\n"
     ]
    },
    {
     "name": "stdin",
     "output_type": "stream",
     "text": [
      "Enter the molecule that you want to form:  ethylene diamine\n"
     ]
    }
   ],
   "source": [
    "# Prompt the user to enter the molecule that he wants to form\n",
    "print (\"you can enter the name of the molecule or its SMILES, the racemic configuration is available. Only halogen molecules are taken in account in the data base\")\n",
    "string_input_mol = input(\"Enter the molecule that you want to form: \")"
   ]
  },
  {
   "cell_type": "code",
   "execution_count": 2,
   "id": "81dafb2d-c250-4feb-bfd1-2aabd39e0a0e",
   "metadata": {},
   "outputs": [
    {
     "name": "stdout",
     "output_type": "stream",
     "text": [
      "'ethylene diamine' is not a valid SMILES notation.\n"
     ]
    },
    {
     "name": "stderr",
     "output_type": "stream",
     "text": [
      "[16:05:12] SMILES Parse Error: syntax error while parsing: ethylene\n",
      "[16:05:12] SMILES Parse Error: Failed parsing SMILES 'ethylene' for input: 'ethylene'\n"
     ]
    }
   ],
   "source": [
    "\"\"\"\n",
    "Function to determine if the user enters the SMILES notation or the usual name of the molecule.\n",
    "\"\"\"\n",
    "from rdkit import Chem\n",
    "\n",
    "def is_smiles(smiles):\n",
    "    \"\"\"\n",
    "    Check if a string represents a valid SMILES notation.\n",
    "    Args:\n",
    "    - smiles (str): The string to check.\n",
    "    Returns:\n",
    "    - is_valid (bool): True if the string is a valid SMILES notation, False otherwise.\n",
    "    \"\"\"\n",
    "    if Chem.MolFromSmiles(smiles)== None:\n",
    "        return False\n",
    "    else:\n",
    "        return True\n",
    "\n",
    "# Check if the entered string is a valid SMILES notation\n",
    "if is_smiles(string_input_mol):\n",
    "    print(f\"'{string_input_mol}' is a valid SMILES notation.\")\n",
    "else:\n",
    "    print(f\"'{string_input_mol}' is not a valid SMILES notation.\")"
   ]
  },
  {
   "cell_type": "code",
   "execution_count": 11,
   "id": "7738401b-dea7-4423-93af-b50e380210c3",
   "metadata": {},
   "outputs": [
    {
     "name": "stdout",
     "output_type": "stream",
     "text": [
      "Requirement already satisfied: pubchempy in /Users/Travail/anaconda3/envs/project/lib/python3.10/site-packages (1.0.4)\n"
     ]
    }
   ],
   "source": [
    "!pip install pubchempy"
   ]
  },
  {
   "cell_type": "code",
   "execution_count": 3,
   "id": "f3740d73-44f9-4449-a996-745577fa4f1f",
   "metadata": {},
   "outputs": [
    {
     "name": "stderr",
     "output_type": "stream",
     "text": [
      "[16:05:17] SMILES Parse Error: syntax error while parsing: ethylene\n",
      "[16:05:17] SMILES Parse Error: Failed parsing SMILES 'ethylene' for input: 'ethylene'\n"
     ]
    },
    {
     "name": "stdout",
     "output_type": "stream",
     "text": [
      "SMILES notation for C(CN)N: C(CN)N\n"
     ]
    }
   ],
   "source": [
    "\"\"\"\n",
    "Function to convert name into SMILES if the input isn't in this form.\n",
    "\"\"\"\n",
    "import pubchempy as pcp\n",
    "\n",
    "def name_to_smiles(molecule_name):\n",
    "    \"\"\"\n",
    "    Convert a molecule name to a SMILES notation using PubChemPy's PubChem database.\n",
    "    Args:\n",
    "    - molecule_name (str): The name of the molecule.\n",
    "    Returns:\n",
    "    - smiles (str): The SMILES notation of the molecule, or None if retrieval fails.\n",
    "    \"\"\"\n",
    "    try:\n",
    "        compound = pcp.get_compounds(molecule_name, 'name')\n",
    "        if compound:\n",
    "            return compound[0].canonical_smiles\n",
    "        else:\n",
    "            print(\"Error: Unable to retrieve molecule information. Please try with the SMILE of the molecule\")\n",
    "            return None\n",
    "    except:\n",
    "        print(\"Error: Unable to retrieve molecule information. Please try again\")\n",
    "        return None\n",
    "\n",
    "# Call the function to convert the molecule name to SMILES notation\n",
    "if is_smiles(string_input_mol)== False:\n",
    "    string_input_mol = name_to_smiles(string_input_mol)\n",
    "    if string_input_mol:\n",
    "        print(f\"SMILES notation for {string_input_mol}: {string_input_mol}\")\n",
    "else:\n",
    "    print (string_input_mol)"
   ]
  },
  {
   "cell_type": "code",
   "execution_count": 13,
   "id": "8e84cabe-1edc-4dd3-91c5-aceb1d301a98",
   "metadata": {},
   "outputs": [
    {
     "name": "stdout",
     "output_type": "stream",
     "text": [
      "The product is not in the database\n"
     ]
    }
   ],
   "source": [
    "\"\"\"\n",
    "This code finds the molecule searched in the database and returns the rows of the database where we can find it.\n",
    "\"\"\"\n",
    "\n",
    "remove_atom_mapping(string_input_mol)\n",
    "# Function that returns the row of the elements formation reaction\n",
    "def compare_molecule_with_data(element):\n",
    "    return ''.join(element.split()).lower() == ''.join(string_input_mol.split()).lower()\n",
    "\n",
    "# Initialize a variable to store the row number\n",
    "found_row_number = None\n",
    "rows=[]\n",
    "# Iterate over the last three columns of the DataFrame\n",
    "for column_name in dataFrame.columns[0 : 128]:\n",
    "    column = dataFrame[column_name]\n",
    "    # Check if any element in the column matches the input molecule\n",
    "    for index, value in column.items():\n",
    "        if compare_molecule_with_data(value):\n",
    "            # Store the row number where the molecule is found\n",
    "            found_row_number = index\n",
    "            rows.append(found_row_number)\n",
    "    else:\n",
    "        continue  # Continue to the next column if molecule not found in current column\n",
    "\n",
    "# Check if the molecule was found and return the row number\n",
    "if found_row_number is not None:\n",
    "   print(rows)\n",
    "else:\n",
    "    print(\"The product is not in the database\")\n"
   ]
  },
  {
   "cell_type": "code",
   "execution_count": 14,
   "id": "6c948574-d1f9-43d3-ad69-51bdb18db70c",
   "metadata": {},
   "outputs": [
    {
     "name": "stdin",
     "output_type": "stream",
     "text": [
      "Your product isn't in the database do-you want to look for an isomer molecule? (enter yes/no)  yes\n"
     ]
    },
    {
     "name": "stdout",
     "output_type": "stream",
     "text": [
      "The product is not in the database, please try with an other molecule\n"
     ]
    }
   ],
   "source": [
    "\"\"\"\n",
    "This code finds the isomers (if there is ones) if the product searched isn't in the database.\n",
    "\"\"\"\n",
    "\n",
    "if found_row_number is None:\n",
    "        choice=input(\"Your product isn't in the database do-you want to look for an isomer molecule? (enter yes/no) \")\n",
    "        if choice == \"no\":\n",
    "            print(\"Exiting.\")\n",
    "        else:\n",
    "            clean_string(string_input_mol)\n",
    "            # Initialize a variable to store the row number\n",
    "            found_row_number = None\n",
    "            rows=[]\n",
    "            # Iterate over the last three columns of the DataFrame\n",
    "            for column_name in Isomers_dataFrame.columns[0 : 128]:\n",
    "                column = Isomers_dataFrame[column_name]\n",
    "            # Check if any element in the column matches the input molecule\n",
    "            for index, value in column.items():\n",
    "                if compare_molecule_with_data(value):\n",
    "                    # Store the row number where the molecule is found\n",
    "                    found_row_number = index\n",
    "                    rows.append(found_row_number)\n",
    "                else:\n",
    "                    continue  # Continue to the next column if molecule not found in current column\n",
    "\n",
    "        # Check if the molecule was found and return the row number\n",
    "        if found_row_number is not None:\n",
    "           print(rows)\n",
    "        else:\n",
    "           print(\"The product is not in the database, please try with an other molecule\")\n"
   ]
  },
  {
   "cell_type": "code",
   "execution_count": 15,
   "id": "92baa181-28da-4d4e-b32b-0711f8a1af28",
   "metadata": {},
   "outputs": [
    {
     "name": "stdout",
     "output_type": "stream",
     "text": [
      "Row with the highest yield:\n",
      "Product 1          [C]([O][C](=[O])[N]([CH2][C]1[CH]=[N][C]([F])=[CH][C]=1[B]1[O][C]([CH3])([CH3])[C]([CH3])([CH3])[O]1)[CH2][CH2][C]([F])([F])[F])([CH3])([CH3])[CH3] |f\n",
      "Product 2                                                                                                                                                             2,6\n",
      "Product 3                                                                                                                                                               7\n",
      "Product 4                                                                                                                                                               8\n",
      "Product 5                                                                                                                                                               9\n",
      "                                                                                            ...                                                                          \n",
      "Reactant 58                                                                                                                                                          None\n",
      "Reactant 59                                                                                                                                                          None\n",
      "Reactant 60                                                                                                                                                          None\n",
      "Reactant 61                                                                                                                                                          None\n",
      "CalculatedYield                                                                                                                                                     103.0\n",
      "Name: 1132379, Length: 189, dtype: object\n"
     ]
    }
   ],
   "source": [
    "\"\"\"\n",
    "This code prints the yield and shows the image of the reaction corresponding\n",
    "\"\"\"\n",
    "import numpy as np\n",
    "# Convert the 'Yield' column to float\n",
    "dataFrame['CalculatedYield'] = dataFrame['CalculatedYield'].astype(float)\n",
    "# Subset the DataFrame to include only the specified rows\n",
    "subset_df = dataFrame.iloc[rows]\n",
    "if subset_df['CalculatedYield'].isnull().all():\n",
    "    # If all values are NaN, randomly select a row as the maximum yield row\n",
    "    max_yield_row_index = np.random.choice(subset_df.index)\n",
    "else:\n",
    "    # Find the index of the row with the highest yield\n",
    "    max_yield_row_index = subset_df['CalculatedYield'].idxmax()\n",
    "# Retrieve the row with the highest yield\n",
    "max_yield_row = dataFrame.loc[max_yield_row_index]\n",
    "print(\"Row with the highest yield:\")\n",
    "print(max_yield_row)\n",
    "\n",
    "# print the reaction\n",
    "from rdkit import Chem\n",
    "from rdkit.Chem import Draw\n",
    "from rdkit.Chem import AllChem\n",
    "#Create a Dataframe where the reaction is in one column\n",
    "dataFrameImage= pd.read_csv(\"1976_Sep2016_USPTOgrants_smiles.rsmi\", delimiter='\\t',low_memory=False)\n",
    "columns_to_delete = [\"PatentNumber\", \"ParagraphNum\", \"Year\", \"TextMinedYield\"]\n",
    "dataFrameImage.drop(columns=columns_to_delete, inplace=True)\n",
    "dataFrameImage[\"ReactionSmiles\"] = dataFrameImage[\"ReactionSmiles\"].apply(remove_atom_mapping)\n",
    "# Create a reaction SMILES string\n",
    "reaction_smiles = dataFrameImage.iloc[max_yield_row_index, 0]\n",
    "# Parse the reaction SMILES string\n",
    "reaction = Chem.AllChem.ReactionFromSmarts(reaction_smiles)\n",
    "# Draw the reaction\n",
    "reaction_image = Draw.ReactionToImage(reaction)\n",
    "\n",
    "# Save or display the image\n",
    "reaction_image.show()"
   ]
  },
  {
   "cell_type": "code",
   "execution_count": 7,
   "id": "c04c8bd3-4379-4eeb-9226-1668dbe45dea",
   "metadata": {},
   "outputs": [
    {
     "name": "stdout",
     "output_type": "stream",
     "text": [
      "Requirement already satisfied: chemspipy in c:\\users\\33783\\anaconda3\\lib\\site-packages (2.0.0)Note: you may need to restart the kernel to use updated packages.\n",
      "\n",
      "Requirement already satisfied: requests in c:\\users\\33783\\anaconda3\\lib\\site-packages (from chemspipy) (2.31.0)\n",
      "Requirement already satisfied: six in c:\\users\\33783\\anaconda3\\lib\\site-packages (from chemspipy) (1.16.0)\n",
      "Requirement already satisfied: charset-normalizer<4,>=2 in c:\\users\\33783\\anaconda3\\lib\\site-packages (from requests->chemspipy) (2.0.4)\n",
      "Requirement already satisfied: idna<4,>=2.5 in c:\\users\\33783\\anaconda3\\lib\\site-packages (from requests->chemspipy) (3.4)\n",
      "Requirement already satisfied: urllib3<3,>=1.21.1 in c:\\users\\33783\\anaconda3\\lib\\site-packages (from requests->chemspipy) (2.0.7)\n",
      "Requirement already satisfied: certifi>=2017.4.17 in c:\\users\\33783\\anaconda3\\lib\\site-packages (from requests->chemspipy) (2024.2.2)\n"
     ]
    }
   ],
   "source": [
    "pip install chemspipy"
   ]
  },
  {
   "cell_type": "code",
   "execution_count": 8,
   "id": "a3ba952c-0b16-405e-9935-ec6c3191a89d",
   "metadata": {},
   "outputs": [
    {
     "name": "stdout",
     "output_type": "stream",
     "text": [
      "Unable to retrieve molecule name.\n"
     ]
    },
    {
     "data": {
      "image/png": "[encoded data removed]",
      "text/plain": [
       "<Figure size 640x480 with 1 Axes>"
      ]
     },
     "metadata": {},
     "output_type": "display_data"
    }
   ],
   "source": [
    "\"Informations about the product that we want to form\"\n",
    "\n",
    "#name of the molecule\n",
    "\n",
    "from chemspipy import ChemSpider\n",
    "\n",
    "def get_molecule_name(smiles):\n",
    "    \"\"\"\n",
    "    Get the common name of a molecule from its SMILES representation using ChemSpider.\n",
    "    Args:\n",
    "    - smiles (str): SMILES representation of the molecule.\n",
    "    Returns:\n",
    "    - name (str): Common name of the molecule.\n",
    "    \"\"\"\n",
    "    cs = ChemSpider('your_api_key_here')  # Replace 'your_api_key_here' with your ChemSpider API key\n",
    "    results = cs.simple_search(smiles)\n",
    "    if results:\n",
    "        return results[0].common_name\n",
    "    else:\n",
    "        return \"Unable to retrieve molecule name.\"\n",
    "\n",
    "print (get_molecule_name(string_input_mol))\n",
    "\n",
    "#3D representation of the molecule\n",
    "\n",
    "\n",
    "\n",
    "import matplotlib.pyplot as plt\n",
    "from mpl_toolkits.mplot3d import Axes3D\n",
    "from rdkit import Chem\n",
    "from rdkit.Chem import AllChem\n",
    "import numpy as np\n",
    "\n",
    "def plot_molecule_3D(smiles):\n",
    "    \"\"\"\n",
    "    Plot a molecule in 3D with different colors for different types of atoms and bonds between atoms.\n",
    "    Args:\n",
    "    - smiles (str): SMILES representation of the molecule.\n",
    "    \"\"\"\n",
    "    # Generate RDKit molecule from SMILES\n",
    "    mol = Chem.MolFromSmiles(smiles)\n",
    "    if mol is None:\n",
    "        print(\"Error: Unable to generate molecule from SMILES.\")\n",
    "        return\n",
    "    \n",
    "    # Add explicit hydrogens\n",
    "    mol = Chem.AddHs(mol)\n",
    "\n",
    "    # Generate 3D coordinates\n",
    "    AllChem.EmbedMolecule(mol)\n",
    "    AllChem.UFFOptimizeMolecule(mol)\n",
    "\n",
    "    # Extract atom coordinates and symbols\n",
    "    coords = mol.GetConformer().GetPositions()\n",
    "    symbols = [atom.GetSymbol() for atom in mol.GetAtoms()]\n",
    "\n",
    "    # Create 3D plot\n",
    "    fig = plt.figure()\n",
    "    ax = fig.add_subplot(111, projection='3d')\n",
    "\n",
    "    # Define colors for different atom types\n",
    "    atom_colors = {'H': 'gray', 'C': 'black', 'O': 'red', 'N': 'blue', 'F': 'green', 'Br': 'purple', 'Cl': 'yellow'}\n",
    "\n",
    "    # Plot atoms with different colors\n",
    "    for atom_idx, symbol in enumerate(symbols):\n",
    "        x, y, z = coords[atom_idx]\n",
    "        color = atom_colors.get(symbol, 'brown')  # Default to brown for unknown atoms\n",
    "        ax.scatter(x, y, z, c=color, label=symbol, s=100)\n",
    "\n",
    "    # Helper function to plot bonds\n",
    "    def plot_bond(ax, start_pos, end_pos, offset=np.array([0, 0, 0])):\n",
    "        ax.plot([start_pos[0] + offset[0], end_pos[0] + offset[0]], \n",
    "                [start_pos[1] + offset[1], end_pos[1] + offset[1]], \n",
    "                [start_pos[2] + offset[2], end_pos[2] + offset[2]], c='gray')\n",
    "\n",
    "    # Plot bonds between atoms with different styles for single and double bonds\n",
    "    for bond in mol.GetBonds():\n",
    "        start_idx = bond.GetBeginAtomIdx()\n",
    "        end_idx = bond.GetEndAtomIdx()\n",
    "        start_pos = coords[start_idx]\n",
    "        end_pos = coords[end_idx]\n",
    "        bond_type = bond.GetBondType()\n",
    "        \n",
    "        if bond_type == Chem.rdchem.BondType.SINGLE:\n",
    "            plot_bond(ax, start_pos, end_pos)\n",
    "        elif bond_type == Chem.rdchem.BondType.DOUBLE:\n",
    "            # Calculate an offset direction perpendicular to the bond\n",
    "            bond_vector = end_pos - start_pos\n",
    "            normal_vector = np.cross(bond_vector, np.array([1, 0, 0]))\n",
    "            if np.linalg.norm(normal_vector) < 1e-3:\n",
    "                normal_vector = np.cross(bond_vector, np.array([0, 1, 0]))\n",
    "            normal_vector /= np.linalg.norm(normal_vector)  # Normalize the vector\n",
    "            offset = normal_vector * 0.125\n",
    "            plot_bond(ax, start_pos, end_pos, offset)\n",
    "            plot_bond(ax, start_pos, end_pos, -offset)\n",
    "\n",
    "    # Set labels\n",
    "    ax.set_xlabel('X')\n",
    "    ax.set_ylabel('Y')\n",
    "    ax.set_zlabel('Z')\n",
    "    ax.set_title('Molecule in 3D')\n",
    "\n",
    "    # Show legend\n",
    "    handles = [plt.Line2D([0], [0], marker='o', color='w', markersize=10, markerfacecolor=color, label=symbol)\n",
    "               for symbol, color in atom_colors.items()]\n",
    "    ax.legend(handles=handles, title='Atom types', loc='best')\n",
    "\n",
    "    # Show plot\n",
    "    plt.show()\n",
    "\n",
    "plot_molecule_3D(string_input_mol)\n"
   ]
  },
  {
   "cell_type": "code",
   "execution_count": null,
   "id": "61984190-2bec-47d1-9944-055b1e3c57ea",
   "metadata": {},
   "outputs": [],
   "source": []
  }
 ],
 "metadata": {
  "kernelspec": {
   "display_name": "Python 3 (ipykernel)",
   "language": "python",
   "name": "python3"
  },
  "language_info": {
   "codemirror_mode": {
    "name": "ipython",
    "version": 3
   },
   "file_extension": ".py",
   "mimetype": "text/x-python",
   "name": "python",
   "nbconvert_exporter": "python",
   "pygments_lexer": "ipython3",
   "version": "3.11.5"
  }
 },
 "nbformat": 4,
 "nbformat_minor": 5
}
