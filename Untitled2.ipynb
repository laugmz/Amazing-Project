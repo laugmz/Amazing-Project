{
 "cells": [
  {
   "cell_type": "code",
   "execution_count": 25,
   "id": "f97884cb-a553-46ec-ab7a-98e71cd866e5",
   "metadata": {},
   "outputs": [
    {
     "name": "stdin",
     "output_type": "stream",
     "text": [
      "Your product isn't in the database. Do you want to look for an isomer molecule? (enter yes/no)  no\n"
     ]
    },
    {
     "name": "stdout",
     "output_type": "stream",
     "text": [
      "Exiting.\n"
     ]
    }
   ],
   "source": [
    "import pandas as pd\n",
    "import re\n",
    "\n",
    "def clean_string(s):\n",
    "    cleaned = re.sub(r'[\\[\\]\\(\\)\\+\\-#]', '', s.lower())  # Clean and convert to lowercase\n",
    "    return cleaned\n",
    "\n",
    "def sort_string(s):\n",
    "    return ''.join(sorted(s.lower()))  # Sort and convert to lowercase\n",
    "\n",
    "Isomers_dataFrame = {\n",
    "    'Column1': [\"[Br]\", \"[Cl]\",\"[F]\" ]\n",
    "}\n",
    "\n",
    "Isomers_dataFrame = pd.DataFrame(Isomers_dataFrame)\n",
    "\n",
    "string_input_mol = \"[rB]\"\n",
    "\n",
    "string_input_mol2 = clean_string(string_input_mol)\n",
    "\n",
    "def find_anagram(Isomers_dataFrame, string_input_mol2):\n",
    "    sorted_input = sort_string(string_input_mol2)\n",
    "    print(\"Sorted Input:\", sorted_input)\n",
    "    for col in Isomers_dataFrame['Column1']:\n",
    "        sorted_col = sort_string(clean_string(col))\n",
    "        print(\"Sorted Col:\", sorted_col)\n",
    "        if sorted_col == sorted_input:\n",
    "            return col\n",
    "    return None\n",
    "\n",
    "if string_input_mol2:  \n",
    "    choice = input(\"Your product isn't in the database. Do you want to look for an isomer molecule? (enter yes/no) \")\n",
    "    if choice.lower() == \"no\":\n",
    "        print(\"Exiting.\")\n",
    "    else:\n",
    "        isomer = find_anagram(Isomers_dataFrame, string_input_mol2)\n",
    "        print(f\"isomer: {isomer}\")\n",
    "        if isomer:\n",
    "            print(f\"An isomer was found for {string_input_mol}: {isomer}.\")\n",
    "        else:\n",
    "            print(f\"No isomer was found for {string_input_mol}.\")\n"
   ]
  },
  {
   "cell_type": "code",
   "execution_count": null,
   "id": "541fa1d7-f820-4993-9c01-2b2f36ba0749",
   "metadata": {},
   "outputs": [],
   "source": []
  }
 ],
 "metadata": {
  "kernelspec": {
   "display_name": "Python 3 (ipykernel)",
   "language": "python",
   "name": "python3"
  },
  "language_info": {
   "codemirror_mode": {
    "name": "ipython",
    "version": 3
   },
   "file_extension": ".py",
   "mimetype": "text/x-python",
   "name": "python",
   "nbconvert_exporter": "python",
   "pygments_lexer": "ipython3",
   "version": "3.10.12"
  }
 },
 "nbformat": 4,
 "nbformat_minor": 5
}
