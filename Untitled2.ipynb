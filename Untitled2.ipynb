{
 "cells": [
  {
   "cell_type": "code",
   "execution_count": 4,
   "id": "21ce6f4d-efce-499f-83be-d56330c0a80d",
   "metadata": {},
   "outputs": [
    {
     "name": "stdout",
     "output_type": "stream",
     "text": [
      "11222333bccccccccccccccchhhhhhhhhnor\n",
      "112233bcccccccccccccccnor\n",
      "False\n"
     ]
    }
   ],
   "source": [
    "import re\n",
    "def sort_string(s):\n",
    "    return ''.join(sorted(s.lower()))  # Sort and convert to lowercase\n",
    "def clean_string(s):\n",
    "    return re.sub(r'[\\[\\]\\(\\)\\+\\-\\#\\=]', '', s)\n",
    "\n",
    "trueone = sort_string(\"[Br][C]1[CH]=[CH][C]2[N]([CH3])[C]3[CH]=[CH][CH]=[CH][C]=3[CH2][C](=[O])[C]=2[CH]=1\")\n",
    "trueone = clean_string(trueone)\n",
    "falseone = sort_string(\"BrC1=CC2=C(N(C3=CC=CC=C3)C(=O)C2=C1)C=C\")\n",
    "falseone = clean_string(falseone)\n",
    "print(trueone)\n",
    "print(falseone)\n",
    "print(trueone == falseone)"
   ]
  },
  {
   "cell_type": "code",
   "execution_count": 14,
   "id": "d3ba2d25-e7e7-4b8a-bd52-3cf76af46804",
   "metadata": {},
   "outputs": [
    {
     "name": "stdout",
     "output_type": "stream",
     "text": [
      "('C19H19NO2S', 'C19H19NO2S', True)\n"
     ]
    }
   ],
   "source": [
    "from rdkit import Chem\n",
    "from rdkit.Chem import Descriptors\n",
    "from rdkit.Chem import rdMolDescriptors\n",
    "\n",
    "def is_isomer(smiles1, smiles2):\n",
    "    # Create RDKit molecule objects from SMILES\n",
    "    mol1 = Chem.MolFromSmiles(smiles1)\n",
    "    mol2 = Chem.MolFromSmiles(smiles2)\n",
    "    \n",
    "    # Check if both molecules are valid\n",
    "    if mol1 is None or mol2 is None:\n",
    "        return False\n",
    "    \n",
    "    # Get molecular formulas\n",
    "    formula1 = rdMolDescriptors.CalcMolFormula(mol1)\n",
    "    formula2 = rdMolDescriptors.CalcMolFormula(mol2)\n",
    "    \n",
    "    # Compare the formulas\n",
    "    return formula1, formula2, formula1 == formula2\n",
    "\n",
    "\n",
    "\n",
    "smiles1 = \"CCSc2cccc3c(CC(=O)O)cc1ccccc1n(C)c23\"\n",
    "smiles2 = \"[CH2]([S][C]1[CH]=[CH][C]2[N]([CH3])[C]3[CH]=[CH][CH]=[CH][C]=3[CH]=[C]([CH2][C]([OH])=[O])[C]=2[CH]=1)[CH3]\"\n",
    "\n",
    "print(is_isomer(smiles1, smiles2))\n"
   ]
  },
  {
   "cell_type": "code",
   "execution_count": null,
   "id": "afb63596-5c36-48d7-8338-25bd37939a55",
   "metadata": {},
   "outputs": [],
   "source": [
    "def sort_string(s):\n",
    "    \"\"\"Sorts the characters of the input string `s` and returns the sorted string.\"\"\"\n",
    "    return ''.join(sorted(s))\n",
    "\n",
    "def clean_string(s):\n",
    "    return re.sub(r'[\\[\\]\\(\\)\\+\\-\\#\\dh=]', '', s)"
   ]
  }
 ],
 "metadata": {
  "kernelspec": {
   "display_name": "Python 3 (ipykernel)",
   "language": "python",
   "name": "python3"
  },
  "language_info": {
   "codemirror_mode": {
    "name": "ipython",
    "version": 3
   },
   "file_extension": ".py",
   "mimetype": "text/x-python",
   "name": "python",
   "nbconvert_exporter": "python",
   "pygments_lexer": "ipython3",
   "version": "3.10.12"
  }
 },
 "nbformat": 4,
 "nbformat_minor": 5
}
