{
 "cells": [
  {
   "cell_type": "code",
   "execution_count": 324,
   "id": "5dae1f88-ca2b-45b9-8462-70b66e934d87",
   "metadata": {},
   "outputs": [
    {
     "name": "stdout",
     "output_type": "stream",
     "text": [
      "Current Directory: C:\\Users\\33783\\Documents\\EPFL\\Etudes\\BA4\\Amazing-Project\n",
      "Reactant 1;Reactant 2;Product 1;Product 2;Product 3;yield;reaction_smarts\n",
      "\n"
     ]
    }
   ],
   "source": [
    "# read the data\n",
    "#imports\"\n",
    "from pathlib import Path\n",
    "from rdkit import Chem\n",
    "from rdkit.Chem import Draw\n",
    "\n",
    "# Create a Path object for the current directory\n",
    "current_directory = Path.cwd()\n",
    "print(\"Current Directory:\", current_directory.resolve())\n",
    "\n",
    "# Creating a Path object for an example file that does not yet exist\n",
    "example_file_path = current_directory / \"database.csv\"\n",
    "\n",
    "# Reading the contents of the file to test if we have well acess to our data\n",
    "if example_file_path.exists():\n",
    "    with example_file_path.open(\"r\") as file:\n",
    "        first_line = file.readline()\n",
    "        print(first_line)\n",
    "else:\n",
    "    print(\"The file does not exist.\")"
   ]
  },
  {
   "cell_type": "code",
   "execution_count": 325,
   "id": "4a41e2c1-9822-4f1c-b1f9-dc653e3626ed",
   "metadata": {},
   "outputs": [
    {
     "name": "stdout",
     "output_type": "stream",
     "text": [
      "     Reactant 1;Reactant 2;Product 1;Product 2;Product 3;yield;reaction_smarts\n",
      "0     [Br-:2];[Br:1][C:5]([C:4]([H:3])([C:31]#[N:32]...                       \n",
      "1     [Br-:2];[Br:1][C:5]([C:4]([H:3])([C:31]#[N:32]...                       \n",
      "2     [Br-:2];[Br:1][C:5]([C:4]([H:3])([H:31])[C:41]...                       \n",
      "3     [Br-:2];[Br:1][C:5]([C:4]([H:3])([H:31])[H:41]...                       \n",
      "4     [Br-:2];[Br:1][C:5]([C:4]([H:3])([H:31])[H:41]...                       \n",
      "...                                                 ...                       \n",
      "3620  [F:1][C@:5]([C@:4]([H:3])([N:31]([H:32])[H:33]...                       \n",
      "3621  [F:1][C@:5]([C@:4]([H:3])([N:31]([H:32])[H:33]...                       \n",
      "3622  [F:1][C@:5]([C@:4]([H:3])([N:31]([H:32])[H:33]...                       \n",
      "3623  [F:1][C@:5]([C@:4]([H:3])([N:31]([H:32])[H:33]...                       \n",
      "3624  [F:1][C@:5]([C@:4]([H:3])([N:31]([H:32])[H:33]...                       \n",
      "\n",
      "[3625 rows x 1 columns]\n"
     ]
    }
   ],
   "source": [
    "# Create the Data Frame\n",
    "from rdkit import Chem\n",
    "from rdkit.Chem import PandasTools\n",
    "import pandas as pd\n",
    "from pathlib import Path\n",
    "import os\n",
    "\n",
    "dataFrame= pd.read_csv(\"database.csv\")\n",
    "print (dataFrame)"
   ]
  },
  {
   "cell_type": "code",
   "execution_count": 326,
   "id": "0e5e58c9-8e37-49b7-868f-979132b10509",
   "metadata": {},
   "outputs": [],
   "source": [
    "# fonction to remove atome mapping numbers from smiles\n",
    "import re\n",
    "\n",
    "def remove_atom_mapping(smiles):\n",
    "    \"\"\"\n",
    "    Remove atom mapping numbers from a SMILES-like notation.\n",
    "    Args:\n",
    "    - smiles (str): The SMILES-like notation with atom mapping numbers.\n",
    "    Returns:\n",
    "    - smiles_without_mapping (str): The SMILES notation without atom mapping numbers.\n",
    "    \"\"\"\n",
    "    # Define a regular expression pattern to match atom mapping numbers\n",
    "    pattern = r':\\d+'\n",
    "    smiles_without_mapping = re.sub(pattern, '', smiles)\n",
    "    return smiles_without_mapping"
   ]
  },
  {
   "cell_type": "code",
   "execution_count": 327,
   "id": "3eda2fe8-a8eb-4b05-90de-89167ec90034",
   "metadata": {},
   "outputs": [],
   "source": [
    "# give smiles\n",
    "\n",
    "import re\n",
    "\n",
    "def Smiles(smiles):\n",
    "    \"\"\"\n",
    "    Remove atom mapping numbers, brackets, 'H' characters, and empty parentheses from a SMILES-like notation.\n",
    "    Args:\n",
    "    - smiles (str): The SMILES-like notation with atom mapping numbers, brackets, 'H' characters, and empty parentheses.\n",
    "    Returns:\n",
    "    - smiles_cleaned (str): The cleaned SMILES notation.\n",
    "    \"\"\"\n",
    "    # Define a regular expression pattern to match atom mapping numbers, brackets, 'H' characters, and empty parentheses\n",
    "    pattern = r'[:\\[\\]\\ H@\\/]'\n",
    "    # Use re.sub() to remove the specified characters\n",
    "    smiles_cleaned = re.sub(pattern, '', smiles)\n",
    "    # Remove empty parentheses only\n",
    "    smiles_cleaned = re.sub(r'\\(\\)', '', smiles_cleaned)\n",
    "    return smiles_cleaned\n",
    "\n",
    "def remove_back_slash(smiles):\n",
    "    \"\"\"\n",
    "    Remove forward slash '(\\)' from a string.\n",
    "    Args:\n",
    "    - smiles (str): The input string.\n",
    "    Returns:\n",
    "    - cleaned_str (str): The string with forward slash removed.\n",
    "    \"\"\"\n",
    "    return smiles.replace(r'(\\)', '')\n",
    "\n",
    "def remove_empty_reactants_products(smiles):\n",
    "    \"\"\"\n",
    "    Remove forward slash '.-' from a string.\n",
    "    Args:\n",
    "    - smiles (str): The input string.\n",
    "    Returns:\n",
    "    - cleaned_str (str): The string with forward slash removed.\n",
    "    \"\"\"\n",
    "    return smiles.replace(r'.-', '')\n",
    "\n",
    "def convert_X(smiles):\n",
    "    \"\"\"\n",
    "    Convert \"X-\" elements where X can be \"Br\", \"Cl\", or \"F\" into \"[X-]\" in a SMILES-like notation.\n",
    "    Args:\n",
    "    - smiles (str): The SMILES-like notation.\n",
    "    Returns:\n",
    "    - cleaned_smiles (str): The cleaned SMILES notation.\n",
    "    \"\"\"\n",
    "    # Define the elements you want to convert\n",
    "    elements = ['Br', 'Cl', 'F']\n",
    "    # Iterate over each element\n",
    "    for element in elements:\n",
    "        # Replace \"X-\" with \"[X-]\"\n",
    "        smiles = smiles.replace(element + '-', '[' + element + '-]')\n",
    "    return smiles\n",
    "\n",
    "def transform_anions(smiles):\n",
    "    \"\"\"\n",
    "    Transform the input string by replacing '(N+(O-)O)' with 'NO'.\n",
    "    Args:\n",
    "    - input_string (str): The input string to be transformed.\n",
    "    Returns:\n",
    "    - transformed_string (str): The transformed string.\n",
    "    \"\"\"\n",
    "    transformed_string = re.sub(r'N\\+\\(O-\\)', '([N+][O-])', smiles)\n",
    "    return transformed_string\n"
   ]
  },
  {
   "cell_type": "code",
   "execution_count": 328,
   "id": "c2b94140-30bb-4787-b0c3-31d2db2eafc7",
   "metadata": {},
   "outputs": [
    {
     "name": "stdout",
     "output_type": "stream",
     "text": [
      "     Reactant 1;Reactant 2;Product 1;Product 2;Product 3;yield;reaction_smarts\n",
      "0     [Br-];BrC(C(C#N)C#N);[Br-];BrC(C(C#N)C#N);;28....                       \n",
      "1     [Br-];BrC(C(C#N))(C)C;[Br-];BrC(C(C#N))(C)C;;3...                       \n",
      "2     [Br-];BrC(CC#N)(C)C;[Br-];BrC(CC#N)(C)C;;37.64...                       \n",
      "3     [Br-];BrC(C)(C);[Br-];BrC(C)(C);;24.2066422218...                       \n",
      "4     [Br-];BrC(C)C;[Br-];BrC(C)C;;18.45075294694804...                       \n",
      "...                                                 ...                       \n",
      "3620  FC(C(N)([N+][O-])O)N;-;[F-];C(C(N)([N+][O-])O)...                       \n",
      "3621  FC(C(N)([N+][O-])O)(([N+][O-])O)C;-;C(=C(([N+]...                       \n",
      "3622  FC(C(N)([N+][O-])O)(([N+][O-])O);-;[F-];C(C(N)...                       \n",
      "3623  FC(C(N)([N+][O-])O)(N)C#N;-;[F-];C(C(N)([N+][O...                       \n",
      "3624  FC(C(N)([N+][O-])O)(N);-;[F-];C(C(N)([N+][O-])...                       \n",
      "\n",
      "[3625 rows x 1 columns]\n"
     ]
    }
   ],
   "source": [
    "# remove mapping from the Data Frame\n",
    "for column in dataFrame.columns:\n",
    "    # Apply the remove_atom_mapping function to each column\n",
    "    dataFrame[column] = dataFrame[column].apply(remove_atom_mapping)\n",
    "    dataFrame[column] = dataFrame[column].apply(remove_back_slash)\n",
    "    dataFrame[column] = dataFrame[column].apply(Smiles)\n",
    "    dataFrame[column] = dataFrame[column].apply(convert_X)\n",
    "    dataFrame[column] = dataFrame[column].apply(transform_anions)\n",
    "    dataFrame[column] = dataFrame[column].apply(remove_empty_reactants_products)\n",
    "print(dataFrame)"
   ]
  },
  {
   "cell_type": "code",
   "execution_count": 329,
   "id": "8f5332aa-d053-467b-b239-d4c04c709bfb",
   "metadata": {},
   "outputs": [
    {
     "name": "stdout",
     "output_type": "stream",
     "text": [
      "                             Reactant 1       Reactant 2  \\\n",
      "0                                 [Br-]   BrC(C(C#N)C#N)   \n",
      "1                                 [Br-]  BrC(C(C#N))(C)C   \n",
      "2                                 [Br-]    BrC(CC#N)(C)C   \n",
      "3                                 [Br-]        BrC(C)(C)   \n",
      "4                                 [Br-]          BrC(C)C   \n",
      "...                                 ...              ...   \n",
      "3620               FC(C(N)([N+][O-])O)N                -   \n",
      "3621  FC(C(N)([N+][O-])O)(([N+][O-])O)C                -   \n",
      "3622   FC(C(N)([N+][O-])O)(([N+][O-])O)                -   \n",
      "3623          FC(C(N)([N+][O-])O)(N)C#N                -   \n",
      "3624             FC(C(N)([N+][O-])O)(N)                -   \n",
      "\n",
      "                               Product 1                        Product 2  \\\n",
      "0                                  [Br-]                   BrC(C(C#N)C#N)   \n",
      "1                                  [Br-]                  BrC(C(C#N))(C)C   \n",
      "2                                  [Br-]                    BrC(CC#N)(C)C   \n",
      "3                                  [Br-]                        BrC(C)(C)   \n",
      "4                                  [Br-]                          BrC(C)C   \n",
      "...                                  ...                              ...   \n",
      "3620                                [F-]              C(C(N)([N+][O-])O)N   \n",
      "3621  C(=C(([N+][O-])O)C)(\\N)([N+][O-])O                             [F-]   \n",
      "3622                                [F-]  C(C(N)([N+][O-])O)(([N+][O-])O)   \n",
      "3623                                [F-]         C(C(N)([N+][O-])O)(N)C#N   \n",
      "3624                                [F-]            C(C(N)([N+][O-])O)(N)   \n",
      "\n",
      "     Product 3               yield  \\\n",
      "0                28.81200403800853   \n",
      "1               33.410337794832714   \n",
      "2                37.64569798608316   \n",
      "3                24.20664222186525   \n",
      "4               18.450752946948047   \n",
      "...        ...                 ...   \n",
      "3620             26.84488831926287   \n",
      "3621             2.283999477538191   \n",
      "3622            18.142052222155485   \n",
      "3623             18.12725496195325   \n",
      "3624            30.153134421367486   \n",
      "\n",
      "                                        reaction_smarts  \n",
      "0            [Br-].BrC(C(C#N)C#N)>>[Br-].BrC(C(C#N)C#N)  \n",
      "1          [Br-].BrC(C(C#N))(C)C>>[Br-].BrC(C(C#N))(C)C  \n",
      "2              [Br-].BrC(CC#N)(C)C>>[Br-].BrC(CC#N)(C)C  \n",
      "3                      [Br-].BrC(C)(C)>>[Br-].BrC(C)(C)  \n",
      "4                          [Br-].BrC(C)C>>[Br-].BrC(C)C  \n",
      "...                                                 ...  \n",
      "3620     FC(C(N)([N+][O-])O)N>>[F-].C(C(N)([N+][O-])O)N  \n",
      "3621  FC(C(N)([N+][O-])O)(([N+][O-])O)C>>C(=C(([N+][...  \n",
      "3622  FC(C(N)([N+][O-])O)(([N+][O-])O)>>[F-].C(C(N)(...  \n",
      "3623  FC(C(N)([N+][O-])O)(N)C#N>>[F-].C(C(N)([N+][O-...  \n",
      "3624  FC(C(N)([N+][O-])O)(N)>>[F-].C(C(N)([N+][O-])O...  \n",
      "\n",
      "[3625 rows x 7 columns]\n"
     ]
    }
   ],
   "source": [
    "# Split the column values at each \";\" and expand them into separate columns\n",
    "split_dataFrame = dataFrame['Reactant 1;Reactant 2;Product 1;Product 2;Product 3;yield;reaction_smarts'].str.split(';', expand=True)\n",
    "\n",
    "# Rename the columns\n",
    "split_dataFrame.columns = ['Reactant 1', 'Reactant 2', 'Product 1', 'Product 2', 'Product 3', 'yield', \"reaction_smarts\"]\n",
    "\n",
    "# Display the resulting DataFrame\n",
    "print(split_dataFrame)"
   ]
  },
  {
   "cell_type": "code",
   "execution_count": 330,
   "id": "f4d370c8-7b8f-4e06-9e90-9b1cadf10501",
   "metadata": {
    "scrolled": true
   },
   "outputs": [
    {
     "name": "stdout",
     "output_type": "stream",
     "text": [
      "     Reactant 1               Reactant 2 Product 1                Product 2  \\\n",
      "0         [Br-]           BrC(C(C#N)C#N)     [Br-]           BrC(C(C#N)C#N)   \n",
      "1         [Br-]          BrC(C(C#N))(C)C     [Br-]          BrC(C(C#N))(C)C   \n",
      "2         [Br-]            BrC(CC#N)(C)C     [Br-]            BrC(CC#N)(C)C   \n",
      "3         [Br-]                BrC(C)(C)     [Br-]                BrC(C)(C)   \n",
      "4         [Br-]                  BrC(C)C     [Br-]                  BrC(C)C   \n",
      "...         ...                      ...       ...                      ...   \n",
      "3115       [F-]   FC(C(N)([N+][O-])O)(C)      [F-]   FC(C(N)([N+][O-])O)(C)   \n",
      "3116       [F-]  FC(C(N)([N+][O-])O)(C)N      [F-]  FC(C(N)([N+][O-])O)(C)N   \n",
      "3117       [F-]   FC(C(N)([N+][O-])O)C#N      [F-]   FC(C(N)([N+][O-])O)C#N   \n",
      "3118       [F-]     FC(C(N)([N+][O-])O)C      [F-]     FC(C(N)([N+][O-])O)C   \n",
      "3119       [F-]     FC(C(N)([N+][O-])O)N      [F-]     FC(C(N)([N+][O-])O)N   \n",
      "\n",
      "     Product 3               yield  \\\n",
      "0                28.81200403800853   \n",
      "1               33.410337794832714   \n",
      "2                37.64569798608316   \n",
      "3                24.20664222186525   \n",
      "4               18.450752946948047   \n",
      "...        ...                 ...   \n",
      "3115            29.867013786552302   \n",
      "3116             43.40575171340909   \n",
      "3117            22.331670077719888   \n",
      "3118             34.26727575729252   \n",
      "3119              36.2192822642026   \n",
      "\n",
      "                                        reaction_smarts  \n",
      "0            [Br-].BrC(C(C#N)C#N)>>[Br-].BrC(C(C#N)C#N)  \n",
      "1          [Br-].BrC(C(C#N))(C)C>>[Br-].BrC(C(C#N))(C)C  \n",
      "2              [Br-].BrC(CC#N)(C)C>>[Br-].BrC(CC#N)(C)C  \n",
      "3                      [Br-].BrC(C)(C)>>[Br-].BrC(C)(C)  \n",
      "4                          [Br-].BrC(C)C>>[Br-].BrC(C)C  \n",
      "...                                                 ...  \n",
      "3115  [F-].FC(C(N)([N+][O-])O)(C)>>[F-].FC(C(N)([N+]...  \n",
      "3116  [F-].FC(C(N)([N+][O-])O)(C)N>>[F-].FC(C(N)([N+...  \n",
      "3117  [F-].FC(C(N)([N+][O-])O)C#N>>[F-].FC(C(N)([N+]...  \n",
      "3118  [F-].FC(C(N)([N+][O-])O)C>>[F-].FC(C(N)([N+][O...  \n",
      "3119  [F-].FC(C(N)([N+][O-])O)N>>[F-].FC(C(N)([N+][O...  \n",
      "\n",
      "[1652 rows x 7 columns]\n"
     ]
    }
   ],
   "source": [
    "import pandas as pd\n",
    "from rdkit import Chem\n",
    "from contextlib import redirect_stdout, redirect_stderr\n",
    "import os\n",
    "\n",
    "# Define a null device depending on the operating system\n",
    "if os.name == 'posix':  # Unix-like systems\n",
    "    NULL_DEVICE = '/dev/null'\n",
    "elif os.name == 'nt':  # Windows\n",
    "    NULL_DEVICE = 'nul'\n",
    "else:\n",
    "    raise OSError(\"Unsupported operating system\")\n",
    "\n",
    "def is_valid_smiles(smiles):\n",
    "    \"\"\"\n",
    "    Check if a SMILES string is valid.\n",
    "    Args:\n",
    "    - smiles (str): The SMILES string to check.\n",
    "    Returns:\n",
    "    - True if the SMILES string is valid, False otherwise.\n",
    "    \"\"\"\n",
    "    try:\n",
    "        with redirect_stdout(open(NULL_DEVICE, 'w')), redirect_stderr(open(NULL_DEVICE, 'w')):\n",
    "            mol = Chem.MolFromSmiles(smiles)\n",
    "        if mol is None:\n",
    "            return False\n",
    "    except Exception as e:\n",
    "        # Ignore and consider the row as valid if the specific SMILES parse error occurs\n",
    "        if \"[12:01:51] SMILES Parse Error: Failed parsing SMILES '-'\" in str(e):\n",
    "            return True\n",
    "        else:\n",
    "            return False\n",
    "    return True\n",
    "\n",
    "def filter_valid_smiles(dataframe):\n",
    "    \"\"\"\n",
    "    Filter rows containing valid SMILES molecules from the first 5 columns of a DataFrame.\n",
    "    Args:\n",
    "    - dataframe (pd.DataFrame): The DataFrame to filter.\n",
    "    Returns:\n",
    "    - A new DataFrame containing only the rows with valid SMILES molecules.\n",
    "    \"\"\"\n",
    "    valid_rows = []\n",
    "    for index, row in dataframe.iterrows():\n",
    "        valid_smiles_in_row = True\n",
    "        for column in row[:5]:  # Iterate through the first 5 columns\n",
    "            if not is_valid_smiles(column):\n",
    "                valid_smiles_in_row = False\n",
    "                break\n",
    "        if valid_smiles_in_row:\n",
    "            valid_rows.append(row)\n",
    "    return pd.DataFrame(valid_rows, columns=dataframe.columns)\n",
    "\n",
    "# Example usage:\n",
    "# Assuming your original DataFrame is named \"original_data\"\n",
    "valid_smiles_df = filter_valid_smiles(split_dataFrame)\n",
    "\n",
    "# Print the resulting DataFrame\n",
    "print(valid_smiles_df)\n",
    "\n"
   ]
  },
  {
   "cell_type": "code",
   "execution_count": 331,
   "id": "9d474126-24be-442b-be8d-c03040c775d2",
   "metadata": {},
   "outputs": [
    {
     "name": "stdout",
     "output_type": "stream",
     "text": [
      "First element of the third column: [Br-]\n",
      "Type of the element: <class 'str'>\n"
     ]
    }
   ],
   "source": [
    "# Assuming your DataFrame is named dataFrame\n",
    "# Access the third column and get its first element\n",
    "element = split_dataFrame.iloc[0, 2]\n",
    "\n",
    "# Print the element and its type\n",
    "print(\"First element of the third column:\", element)\n",
    "print(\"Type of the element:\", type(element))"
   ]
  },
  {
   "cell_type": "code",
   "execution_count": 333,
   "id": "d2a59da5-2d2c-42d9-9709-14325fa15d80",
   "metadata": {},
   "outputs": [
    {
     "name": "stdin",
     "output_type": "stream",
     "text": [
      "Press Enter to get random products or type 'exit' to quit:  no\n"
     ]
    },
    {
     "name": "stdout",
     "output_type": "stream",
     "text": [
      "Randomly selected products: 111    ClC(C(C#N)C#N)\n",
      "dtype: object\n"
     ]
    },
    {
     "name": "stdin",
     "output_type": "stream",
     "text": [
      "Do you want to continue? (yes/no):  no\n"
     ]
    },
    {
     "name": "stdout",
     "output_type": "stream",
     "text": [
      "Exiting...\n"
     ]
    }
   ],
   "source": [
    "def main():\n",
    "    \n",
    "    \n",
    "    while True:\n",
    "        input(\"Press Enter to get random products or type 'exit' to quit: \")\n",
    "        filtered_columns = filtered_columns = [pd.Series(valid_smiles_df[col].dropna().unique()) for col in [\"Product 1\", \"Product 2\"]]\n",
    "        selected_columns = pd.concat(filtered_columns, axis=0)\n",
    "        products = selected_columns.sample(n=1)\n",
    "        print(\"Randomly selected products:\", products)\n",
    "\n",
    "        \n",
    "        choice = input(\"Do you want to continue? (yes/no): \").strip().lower()\n",
    "        if choice == \"no\":\n",
    "            print(\"Exiting...\")\n",
    "            break\n",
    "            \n",
    "if __name__ == \"__main__\":\n",
    "    main()"
   ]
  },
  {
   "cell_type": "code",
   "execution_count": 336,
   "id": "9187d1ec-3cec-4ef3-a03c-eb9423cd44e8",
   "metadata": {},
   "outputs": [
    {
     "name": "stdout",
     "output_type": "stream",
     "text": [
      "you can enter the name of the molecule or its SMILES, the racemic configuration is available. Only halogen molecules are taken in account in the data base\n"
     ]
    },
    {
     "name": "stdin",
     "output_type": "stream",
     "text": [
      "Enter the molecule that you want to form:  ClC(C(C#N)C#N)\n"
     ]
    }
   ],
   "source": [
    "# Prompt the user to enter the molecule that he wants to form\n",
    "print (\"you can enter the name of the molecule or its SMILES, the racemic configuration is available. Only halogen molecules are taken in account in the data base\")\n",
    "string_input_mol = input(\"Enter the molecule that you want to form: \")"
   ]
  },
  {
   "cell_type": "code",
   "execution_count": 337,
   "id": "b1e2a5c4-8b5d-40c6-bef2-96078e961f3b",
   "metadata": {},
   "outputs": [
    {
     "name": "stdout",
     "output_type": "stream",
     "text": [
      "'ClC(C(C#N)C#N)' is a valid SMILES notation.\n"
     ]
    }
   ],
   "source": [
    "# function to determine if the user enters the SMILES notation or the usual name of the molecule\n",
    "from rdkit import Chem\n",
    "\n",
    "def is_smiles(smiles):\n",
    "    \"\"\"\n",
    "    Check if a string represents a valid SMILES notation.\n",
    "    Args:\n",
    "    - smiles (str): The string to check.\n",
    "    Returns:\n",
    "    - is_valid (bool): True if the string is a valid SMILES notation, False otherwise.\n",
    "    \"\"\"\n",
    "    if Chem.MolFromSmiles(smiles)== None:\n",
    "        return False\n",
    "    else:\n",
    "        return True\n",
    "\n",
    "# Check if the entered string is a valid SMILES notation\n",
    "if is_smiles(string_input_mol):\n",
    "    print(f\"'{string_input_mol}' is a valid SMILES notation.\")\n",
    "else:\n",
    "    print(f\"'{string_input_mol}' is not a valid SMILES notation.\")"
   ]
  },
  {
   "cell_type": "code",
   "execution_count": 338,
   "id": "2392592a-14be-44a4-9233-c4219810f3b9",
   "metadata": {},
   "outputs": [
    {
     "name": "stdout",
     "output_type": "stream",
     "text": [
      "Requirement already satisfied: pubchempy in c:\\users\\33783\\anaconda3\\envs\\env\\lib\\site-packages (1.0.4)\n"
     ]
    }
   ],
   "source": [
    "!pip install pubchempy"
   ]
  },
  {
   "cell_type": "code",
   "execution_count": 339,
   "id": "c84b7ab4-fe4b-4b2a-a0af-aae25abebcbc",
   "metadata": {},
   "outputs": [],
   "source": [
    "# function to convert name into SMILES\n",
    "\n",
    "import pubchempy as pcp\n",
    "\n",
    "def name_to_smiles(molecule_name):\n",
    "    \"\"\"\n",
    "    Convert a molecule name to a SMILES notation using PubChemPy's PubChem database.\n",
    "    Args:\n",
    "    - molecule_name (str): The name of the molecule.\n",
    "    Returns:\n",
    "    - smiles (str): The SMILES notation of the molecule, or None if retrieval fails.\n",
    "    \"\"\"\n",
    "    try:\n",
    "        compound = pcp.get_compounds(molecule_name, 'name')\n",
    "        if compound:\n",
    "            return compound[0].canonical_smiles\n",
    "        else:\n",
    "            print(\"Error: Unable to retrieve molecule information. Please try with the SMILE of the molecule\")\n",
    "            return None\n",
    "    except:\n",
    "        print(\"Error: Unable to retrieve molecule information. Please try again\")\n",
    "        return None"
   ]
  },
  {
   "cell_type": "code",
   "execution_count": 340,
   "id": "1e35f02c-45ad-47f9-8f1d-f9a2eb5aa6ac",
   "metadata": {},
   "outputs": [
    {
     "name": "stdout",
     "output_type": "stream",
     "text": [
      "ClC(C(C#N)C#N)\n"
     ]
    }
   ],
   "source": [
    "# Call the function to convert the molecule name to SMILES notation\n",
    "if is_smiles(string_input_mol)== False:\n",
    "    string_input_mol = name_to_smiles(string_input_mol)\n",
    "    if string_input_mol:\n",
    "        print(f\"SMILES notation for {string_input_mol}: {string_input_mol}\")\n",
    "else:\n",
    "    print (string_input_mol)"
   ]
  },
  {
   "cell_type": "code",
   "execution_count": 341,
   "id": "4311d40e-e62f-4efe-9588-44b279348ca0",
   "metadata": {},
   "outputs": [
    {
     "name": "stdout",
     "output_type": "stream",
     "text": [
      "[406, 1299]\n"
     ]
    }
   ],
   "source": [
    "# Function that returns the row of the elements formation reaction\n",
    "def compare_molecule_with_data(element):\n",
    "    return ''.join(element.split()).lower() == ''.join(string_input_mol.split()).lower()\n",
    "\n",
    "# Initialize a variable to store the row number\n",
    "found_row_number = None\n",
    "rows=[]\n",
    "# Iterate over the last three columns of the DataFrame\n",
    "for column_name in valid_smiles_df.columns[-5:-1]:\n",
    "    column = valid_smiles_df[column_name]\n",
    "    # Check if any element in the column matches the input molecule\n",
    "    for index, value in column.items():\n",
    "        if compare_molecule_with_data(value):\n",
    "            # Store the row number where the molecule is found\n",
    "            found_row_number = index\n",
    "            rows.append(found_row_number)\n",
    "    else:\n",
    "        continue  # Continue to the next column if molecule not found in current column\n",
    "\n",
    "# Check if the molecule was found and return the row number\n",
    "if found_row_number is not None:\n",
    "   print(rows)\n",
    "else:\n",
    "    print(\"The product is not in the database\")\n"
   ]
  },
  {
   "cell_type": "code",
   "execution_count": 344,
   "id": "0eee2125-1ec9-4df7-8462-3d2f91ae3309",
   "metadata": {},
   "outputs": [
    {
     "name": "stdout",
     "output_type": "stream",
     "text": [
      "           Reactant 1 Reactant 2 Product 1       Product 2 Product 3  \\\n",
      "572   BrC(C(C#N)C#N)C       [F-]     [Br-]  FC(C(C#N)C#N)C             \n",
      "2420      ClC(C(N)N)N       [F-]     [Cl-]      FC(C(N)N)N             \n",
      "\n",
      "          yield                             reaction_smarts  \n",
      "572    4.097819  BrC(C(C#N)C#N)C.[F-]>>[Br-].FC(C(C#N)C#N)C  \n",
      "2420  31.283218          ClC(C(N)N)N.[F-]>>[Cl-].FC(C(N)N)N  \n",
      "Row with the highest yield:\n",
      "Reactant 1                                ClC(C(N)N)N\n",
      "Reactant 2                                       [F-]\n",
      "Product 1                                       [Cl-]\n",
      "Product 2                                  FC(C(N)N)N\n",
      "Product 3                                            \n",
      "yield                                       31.283218\n",
      "reaction_smarts    ClC(C(N)N)N.[F-]>>[Cl-].FC(C(N)N)N\n",
      "Name: 2420, dtype: object\n"
     ]
    }
   ],
   "source": [
    "# print the yield\n",
    "# Convert the 'Yield' column to float\n",
    "valid_smiles_df['yield'] = valid_smiles_df['yield'].astype(float)\n",
    "\n",
    "# Assuming 'rows_to_compare' is a list containing the row numbers to compare\n",
    "\n",
    "# Subset the DataFrame to include only the specified rows\n",
    "subset_df = valid_smiles_df.iloc[rows]\n",
    "print(subset_df)\n",
    "\n",
    "# Find the index of the row with the highest yield\n",
    "max_yield_row_index = subset_df['yield'].idxmax()\n",
    "\n",
    "# Retrieve the row with the highest yield\n",
    "max_yield_row = valid_smiles_df.loc[max_yield_row_index]\n",
    "\n",
    "print(\"Row with the highest yield:\")\n",
    "print(max_yield_row)\n"
   ]
  },
  {
   "cell_type": "code",
   "execution_count": 346,
   "id": "5290ab77-1f8d-49ce-bb50-02f51001625a",
   "metadata": {},
   "outputs": [],
   "source": [
    "# print the reaction\n",
    "from rdkit import Chem\n",
    "from rdkit.Chem import Draw\n",
    "from rdkit.Chem import AllChem\n",
    "\n",
    "# Create a reaction SMARTS string\n",
    "reaction_smarts = split_dataFrame.iloc[max_yield_row_index, 6]\n",
    "# Parse the reaction SMARTS string\n",
    "\n",
    "reaction = AllChem.ReactionFromSmarts(reaction_smarts)\n",
    "\n",
    "# Draw the reaction\n",
    "reaction_image = Draw.ReactionToImage(reaction)\n",
    "\n",
    "# Save or display the image\n",
    "reaction_image.show()"
   ]
  },
  {
   "cell_type": "code",
   "execution_count": 307,
   "id": "c45375bd-04ac-4818-822c-b56e384b9cc9",
   "metadata": {},
   "outputs": [
    {
     "name": "stdout",
     "output_type": "stream",
     "text": [
      "Invalid SMILES string\n"
     ]
    },
    {
     "name": "stderr",
     "output_type": "stream",
     "text": [
      "[12:04:17] SMILES Parse Error: syntax error while parsing: FC(C)(([N+][O-])O)N\n",
      "[12:04:17] SMILES Parse Error: Failed parsing SMILES 'FC(C)(([N+][O-])O)N' for input: 'FC(C)(([N+][O-])O)N'\n"
     ]
    }
   ],
   "source": [
    "from rdkit import Chem\n",
    "from rdkit.Chem import Draw\n",
    "\n",
    "# SMILES representation of the molecule\n",
    "smiles = \"FC(C)(([N+][O-])O)N\"\n",
    "\n",
    "# Create a molecule object from the SMILES string\n",
    "mol = Chem.MolFromSmiles(smiles)\n",
    "\n",
    "# Check if the molecule object is not None (i.e., if the SMILES string is valid)\n",
    "if mol is not None:\n",
    "    # Draw and display the molecule\n",
    "    img = Draw.MolToImage(mol)\n",
    "    img.show()\n",
    "else:\n",
    "    print(\"Invalid SMILES string\")"
   ]
  },
  {
   "cell_type": "code",
   "execution_count": null,
   "id": "3b285088-b671-4889-ae9e-8d33cbc153d7",
   "metadata": {},
   "outputs": [],
   "source": [
    "\n"
   ]
  },
  {
   "cell_type": "code",
   "execution_count": 26,
   "id": "978f26b3-65d8-4eec-b20e-ec64aab57216",
   "metadata": {},
   "outputs": [],
   "source": []
  },
  {
   "cell_type": "code",
   "execution_count": null,
   "id": "c7eda5fe-04f9-484d-9353-11524dea25be",
   "metadata": {},
   "outputs": [],
   "source": []
  }
 ],
 "metadata": {
  "kernelspec": {
   "display_name": "Python 3 (ipykernel)",
   "language": "python",
   "name": "python3"
  },
  "language_info": {
   "codemirror_mode": {
    "name": "ipython",
    "version": 3
   },
   "file_extension": ".py",
   "mimetype": "text/x-python",
   "name": "python",
   "nbconvert_exporter": "python",
   "pygments_lexer": "ipython3",
   "version": "3.9.18"
  }
 },
 "nbformat": 4,
 "nbformat_minor": 5
}
