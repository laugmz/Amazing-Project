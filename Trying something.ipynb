{
 "cells": [
  {
   "cell_type": "code",
   "execution_count": 7,
   "id": "34412ac1-d401-4dea-8e0d-e50c3b63e5c5",
   "metadata": {
    "scrolled": true
   },
   "outputs": [
    {
     "name": "stdout",
     "output_type": "stream",
     "text": [
      "Current Directory: C:\\Users\\33783\\Documents\\EPFL\\Etudes\\BA4\\Amazing-Project\n",
      "The file does not exist.\n"
     ]
    },
    {
     "ename": "FileNotFoundError",
     "evalue": "[Errno 2] No such file or directory: '1976_Sep2016_USPTOgrants_smiles.rsmi'",
     "output_type": "error",
     "traceback": [
      "\u001b[1;31m---------------------------------------------------------------------------\u001b[0m",
      "\u001b[1;31mFileNotFoundError\u001b[0m                         Traceback (most recent call last)",
      "Cell \u001b[1;32mIn[7], line 25\u001b[0m\n\u001b[0;32m     22\u001b[0m \u001b[38;5;28;01melse\u001b[39;00m:\n\u001b[0;32m     23\u001b[0m     \u001b[38;5;28mprint\u001b[39m(\u001b[38;5;124m\"\u001b[39m\u001b[38;5;124mThe file does not exist.\u001b[39m\u001b[38;5;124m\"\u001b[39m)\n\u001b[1;32m---> 25\u001b[0m dataFrame\u001b[38;5;241m=\u001b[39m \u001b[43mpd\u001b[49m\u001b[38;5;241;43m.\u001b[39;49m\u001b[43mread_csv\u001b[49m\u001b[43m(\u001b[49m\u001b[38;5;124;43m\"\u001b[39;49m\u001b[38;5;124;43m1976_Sep2016_USPTOgrants_smiles.rsmi\u001b[39;49m\u001b[38;5;124;43m\"\u001b[39;49m\u001b[43m,\u001b[49m\u001b[43m \u001b[49m\u001b[43mdelimiter\u001b[49m\u001b[38;5;241;43m=\u001b[39;49m\u001b[38;5;124;43m'\u001b[39;49m\u001b[38;5;130;43;01m\\t\u001b[39;49;00m\u001b[38;5;124;43m'\u001b[39;49m\u001b[43m,\u001b[49m\u001b[43mlow_memory\u001b[49m\u001b[38;5;241;43m=\u001b[39;49m\u001b[38;5;28;43;01mFalse\u001b[39;49;00m\u001b[43m)\u001b[49m\n\u001b[0;32m     26\u001b[0m \u001b[38;5;66;03m#Delete columns that are not the reactions or the yield\u001b[39;00m\n\u001b[0;32m     27\u001b[0m columns_to_delete \u001b[38;5;241m=\u001b[39m [\u001b[38;5;124m\"\u001b[39m\u001b[38;5;124mPatentNumber\u001b[39m\u001b[38;5;124m\"\u001b[39m, \u001b[38;5;124m\"\u001b[39m\u001b[38;5;124mParagraphNum\u001b[39m\u001b[38;5;124m\"\u001b[39m, \u001b[38;5;124m\"\u001b[39m\u001b[38;5;124mYear\u001b[39m\u001b[38;5;124m\"\u001b[39m, \u001b[38;5;124m\"\u001b[39m\u001b[38;5;124mTextMinedYield\u001b[39m\u001b[38;5;124m\"\u001b[39m]\n",
      "File \u001b[1;32m~\\anaconda3\\envs\\env\\lib\\site-packages\\pandas\\io\\parsers\\readers.py:1026\u001b[0m, in \u001b[0;36mread_csv\u001b[1;34m(filepath_or_buffer, sep, delimiter, header, names, index_col, usecols, dtype, engine, converters, true_values, false_values, skipinitialspace, skiprows, skipfooter, nrows, na_values, keep_default_na, na_filter, verbose, skip_blank_lines, parse_dates, infer_datetime_format, keep_date_col, date_parser, date_format, dayfirst, cache_dates, iterator, chunksize, compression, thousands, decimal, lineterminator, quotechar, quoting, doublequote, escapechar, comment, encoding, encoding_errors, dialect, on_bad_lines, delim_whitespace, low_memory, memory_map, float_precision, storage_options, dtype_backend)\u001b[0m\n\u001b[0;32m   1013\u001b[0m kwds_defaults \u001b[38;5;241m=\u001b[39m _refine_defaults_read(\n\u001b[0;32m   1014\u001b[0m     dialect,\n\u001b[0;32m   1015\u001b[0m     delimiter,\n\u001b[1;32m   (...)\u001b[0m\n\u001b[0;32m   1022\u001b[0m     dtype_backend\u001b[38;5;241m=\u001b[39mdtype_backend,\n\u001b[0;32m   1023\u001b[0m )\n\u001b[0;32m   1024\u001b[0m kwds\u001b[38;5;241m.\u001b[39mupdate(kwds_defaults)\n\u001b[1;32m-> 1026\u001b[0m \u001b[38;5;28;01mreturn\u001b[39;00m \u001b[43m_read\u001b[49m\u001b[43m(\u001b[49m\u001b[43mfilepath_or_buffer\u001b[49m\u001b[43m,\u001b[49m\u001b[43m \u001b[49m\u001b[43mkwds\u001b[49m\u001b[43m)\u001b[49m\n",
      "File \u001b[1;32m~\\anaconda3\\envs\\env\\lib\\site-packages\\pandas\\io\\parsers\\readers.py:620\u001b[0m, in \u001b[0;36m_read\u001b[1;34m(filepath_or_buffer, kwds)\u001b[0m\n\u001b[0;32m    617\u001b[0m _validate_names(kwds\u001b[38;5;241m.\u001b[39mget(\u001b[38;5;124m\"\u001b[39m\u001b[38;5;124mnames\u001b[39m\u001b[38;5;124m\"\u001b[39m, \u001b[38;5;28;01mNone\u001b[39;00m))\n\u001b[0;32m    619\u001b[0m \u001b[38;5;66;03m# Create the parser.\u001b[39;00m\n\u001b[1;32m--> 620\u001b[0m parser \u001b[38;5;241m=\u001b[39m TextFileReader(filepath_or_buffer, \u001b[38;5;241m*\u001b[39m\u001b[38;5;241m*\u001b[39mkwds)\n\u001b[0;32m    622\u001b[0m \u001b[38;5;28;01mif\u001b[39;00m chunksize \u001b[38;5;129;01mor\u001b[39;00m iterator:\n\u001b[0;32m    623\u001b[0m     \u001b[38;5;28;01mreturn\u001b[39;00m parser\n",
      "File \u001b[1;32m~\\anaconda3\\envs\\env\\lib\\site-packages\\pandas\\io\\parsers\\readers.py:1620\u001b[0m, in \u001b[0;36mTextFileReader.__init__\u001b[1;34m(self, f, engine, **kwds)\u001b[0m\n\u001b[0;32m   1617\u001b[0m     \u001b[38;5;28mself\u001b[39m\u001b[38;5;241m.\u001b[39moptions[\u001b[38;5;124m\"\u001b[39m\u001b[38;5;124mhas_index_names\u001b[39m\u001b[38;5;124m\"\u001b[39m] \u001b[38;5;241m=\u001b[39m kwds[\u001b[38;5;124m\"\u001b[39m\u001b[38;5;124mhas_index_names\u001b[39m\u001b[38;5;124m\"\u001b[39m]\n\u001b[0;32m   1619\u001b[0m \u001b[38;5;28mself\u001b[39m\u001b[38;5;241m.\u001b[39mhandles: IOHandles \u001b[38;5;241m|\u001b[39m \u001b[38;5;28;01mNone\u001b[39;00m \u001b[38;5;241m=\u001b[39m \u001b[38;5;28;01mNone\u001b[39;00m\n\u001b[1;32m-> 1620\u001b[0m \u001b[38;5;28mself\u001b[39m\u001b[38;5;241m.\u001b[39m_engine \u001b[38;5;241m=\u001b[39m \u001b[38;5;28;43mself\u001b[39;49m\u001b[38;5;241;43m.\u001b[39;49m\u001b[43m_make_engine\u001b[49m\u001b[43m(\u001b[49m\u001b[43mf\u001b[49m\u001b[43m,\u001b[49m\u001b[43m \u001b[49m\u001b[38;5;28;43mself\u001b[39;49m\u001b[38;5;241;43m.\u001b[39;49m\u001b[43mengine\u001b[49m\u001b[43m)\u001b[49m\n",
      "File \u001b[1;32m~\\anaconda3\\envs\\env\\lib\\site-packages\\pandas\\io\\parsers\\readers.py:1880\u001b[0m, in \u001b[0;36mTextFileReader._make_engine\u001b[1;34m(self, f, engine)\u001b[0m\n\u001b[0;32m   1878\u001b[0m     \u001b[38;5;28;01mif\u001b[39;00m \u001b[38;5;124m\"\u001b[39m\u001b[38;5;124mb\u001b[39m\u001b[38;5;124m\"\u001b[39m \u001b[38;5;129;01mnot\u001b[39;00m \u001b[38;5;129;01min\u001b[39;00m mode:\n\u001b[0;32m   1879\u001b[0m         mode \u001b[38;5;241m+\u001b[39m\u001b[38;5;241m=\u001b[39m \u001b[38;5;124m\"\u001b[39m\u001b[38;5;124mb\u001b[39m\u001b[38;5;124m\"\u001b[39m\n\u001b[1;32m-> 1880\u001b[0m \u001b[38;5;28mself\u001b[39m\u001b[38;5;241m.\u001b[39mhandles \u001b[38;5;241m=\u001b[39m \u001b[43mget_handle\u001b[49m\u001b[43m(\u001b[49m\n\u001b[0;32m   1881\u001b[0m \u001b[43m    \u001b[49m\u001b[43mf\u001b[49m\u001b[43m,\u001b[49m\n\u001b[0;32m   1882\u001b[0m \u001b[43m    \u001b[49m\u001b[43mmode\u001b[49m\u001b[43m,\u001b[49m\n\u001b[0;32m   1883\u001b[0m \u001b[43m    \u001b[49m\u001b[43mencoding\u001b[49m\u001b[38;5;241;43m=\u001b[39;49m\u001b[38;5;28;43mself\u001b[39;49m\u001b[38;5;241;43m.\u001b[39;49m\u001b[43moptions\u001b[49m\u001b[38;5;241;43m.\u001b[39;49m\u001b[43mget\u001b[49m\u001b[43m(\u001b[49m\u001b[38;5;124;43m\"\u001b[39;49m\u001b[38;5;124;43mencoding\u001b[39;49m\u001b[38;5;124;43m\"\u001b[39;49m\u001b[43m,\u001b[49m\u001b[43m \u001b[49m\u001b[38;5;28;43;01mNone\u001b[39;49;00m\u001b[43m)\u001b[49m\u001b[43m,\u001b[49m\n\u001b[0;32m   1884\u001b[0m \u001b[43m    \u001b[49m\u001b[43mcompression\u001b[49m\u001b[38;5;241;43m=\u001b[39;49m\u001b[38;5;28;43mself\u001b[39;49m\u001b[38;5;241;43m.\u001b[39;49m\u001b[43moptions\u001b[49m\u001b[38;5;241;43m.\u001b[39;49m\u001b[43mget\u001b[49m\u001b[43m(\u001b[49m\u001b[38;5;124;43m\"\u001b[39;49m\u001b[38;5;124;43mcompression\u001b[39;49m\u001b[38;5;124;43m\"\u001b[39;49m\u001b[43m,\u001b[49m\u001b[43m \u001b[49m\u001b[38;5;28;43;01mNone\u001b[39;49;00m\u001b[43m)\u001b[49m\u001b[43m,\u001b[49m\n\u001b[0;32m   1885\u001b[0m \u001b[43m    \u001b[49m\u001b[43mmemory_map\u001b[49m\u001b[38;5;241;43m=\u001b[39;49m\u001b[38;5;28;43mself\u001b[39;49m\u001b[38;5;241;43m.\u001b[39;49m\u001b[43moptions\u001b[49m\u001b[38;5;241;43m.\u001b[39;49m\u001b[43mget\u001b[49m\u001b[43m(\u001b[49m\u001b[38;5;124;43m\"\u001b[39;49m\u001b[38;5;124;43mmemory_map\u001b[39;49m\u001b[38;5;124;43m\"\u001b[39;49m\u001b[43m,\u001b[49m\u001b[43m \u001b[49m\u001b[38;5;28;43;01mFalse\u001b[39;49;00m\u001b[43m)\u001b[49m\u001b[43m,\u001b[49m\n\u001b[0;32m   1886\u001b[0m \u001b[43m    \u001b[49m\u001b[43mis_text\u001b[49m\u001b[38;5;241;43m=\u001b[39;49m\u001b[43mis_text\u001b[49m\u001b[43m,\u001b[49m\n\u001b[0;32m   1887\u001b[0m \u001b[43m    \u001b[49m\u001b[43merrors\u001b[49m\u001b[38;5;241;43m=\u001b[39;49m\u001b[38;5;28;43mself\u001b[39;49m\u001b[38;5;241;43m.\u001b[39;49m\u001b[43moptions\u001b[49m\u001b[38;5;241;43m.\u001b[39;49m\u001b[43mget\u001b[49m\u001b[43m(\u001b[49m\u001b[38;5;124;43m\"\u001b[39;49m\u001b[38;5;124;43mencoding_errors\u001b[39;49m\u001b[38;5;124;43m\"\u001b[39;49m\u001b[43m,\u001b[49m\u001b[43m \u001b[49m\u001b[38;5;124;43m\"\u001b[39;49m\u001b[38;5;124;43mstrict\u001b[39;49m\u001b[38;5;124;43m\"\u001b[39;49m\u001b[43m)\u001b[49m\u001b[43m,\u001b[49m\n\u001b[0;32m   1888\u001b[0m \u001b[43m    \u001b[49m\u001b[43mstorage_options\u001b[49m\u001b[38;5;241;43m=\u001b[39;49m\u001b[38;5;28;43mself\u001b[39;49m\u001b[38;5;241;43m.\u001b[39;49m\u001b[43moptions\u001b[49m\u001b[38;5;241;43m.\u001b[39;49m\u001b[43mget\u001b[49m\u001b[43m(\u001b[49m\u001b[38;5;124;43m\"\u001b[39;49m\u001b[38;5;124;43mstorage_options\u001b[39;49m\u001b[38;5;124;43m\"\u001b[39;49m\u001b[43m,\u001b[49m\u001b[43m \u001b[49m\u001b[38;5;28;43;01mNone\u001b[39;49;00m\u001b[43m)\u001b[49m\u001b[43m,\u001b[49m\n\u001b[0;32m   1889\u001b[0m \u001b[43m\u001b[49m\u001b[43m)\u001b[49m\n\u001b[0;32m   1890\u001b[0m \u001b[38;5;28;01massert\u001b[39;00m \u001b[38;5;28mself\u001b[39m\u001b[38;5;241m.\u001b[39mhandles \u001b[38;5;129;01mis\u001b[39;00m \u001b[38;5;129;01mnot\u001b[39;00m \u001b[38;5;28;01mNone\u001b[39;00m\n\u001b[0;32m   1891\u001b[0m f \u001b[38;5;241m=\u001b[39m \u001b[38;5;28mself\u001b[39m\u001b[38;5;241m.\u001b[39mhandles\u001b[38;5;241m.\u001b[39mhandle\n",
      "File \u001b[1;32m~\\anaconda3\\envs\\env\\lib\\site-packages\\pandas\\io\\common.py:873\u001b[0m, in \u001b[0;36mget_handle\u001b[1;34m(path_or_buf, mode, encoding, compression, memory_map, is_text, errors, storage_options)\u001b[0m\n\u001b[0;32m    868\u001b[0m \u001b[38;5;28;01melif\u001b[39;00m \u001b[38;5;28misinstance\u001b[39m(handle, \u001b[38;5;28mstr\u001b[39m):\n\u001b[0;32m    869\u001b[0m     \u001b[38;5;66;03m# Check whether the filename is to be opened in binary mode.\u001b[39;00m\n\u001b[0;32m    870\u001b[0m     \u001b[38;5;66;03m# Binary mode does not support 'encoding' and 'newline'.\u001b[39;00m\n\u001b[0;32m    871\u001b[0m     \u001b[38;5;28;01mif\u001b[39;00m ioargs\u001b[38;5;241m.\u001b[39mencoding \u001b[38;5;129;01mand\u001b[39;00m \u001b[38;5;124m\"\u001b[39m\u001b[38;5;124mb\u001b[39m\u001b[38;5;124m\"\u001b[39m \u001b[38;5;129;01mnot\u001b[39;00m \u001b[38;5;129;01min\u001b[39;00m ioargs\u001b[38;5;241m.\u001b[39mmode:\n\u001b[0;32m    872\u001b[0m         \u001b[38;5;66;03m# Encoding\u001b[39;00m\n\u001b[1;32m--> 873\u001b[0m         handle \u001b[38;5;241m=\u001b[39m \u001b[38;5;28;43mopen\u001b[39;49m\u001b[43m(\u001b[49m\n\u001b[0;32m    874\u001b[0m \u001b[43m            \u001b[49m\u001b[43mhandle\u001b[49m\u001b[43m,\u001b[49m\n\u001b[0;32m    875\u001b[0m \u001b[43m            \u001b[49m\u001b[43mioargs\u001b[49m\u001b[38;5;241;43m.\u001b[39;49m\u001b[43mmode\u001b[49m\u001b[43m,\u001b[49m\n\u001b[0;32m    876\u001b[0m \u001b[43m            \u001b[49m\u001b[43mencoding\u001b[49m\u001b[38;5;241;43m=\u001b[39;49m\u001b[43mioargs\u001b[49m\u001b[38;5;241;43m.\u001b[39;49m\u001b[43mencoding\u001b[49m\u001b[43m,\u001b[49m\n\u001b[0;32m    877\u001b[0m \u001b[43m            \u001b[49m\u001b[43merrors\u001b[49m\u001b[38;5;241;43m=\u001b[39;49m\u001b[43merrors\u001b[49m\u001b[43m,\u001b[49m\n\u001b[0;32m    878\u001b[0m \u001b[43m            \u001b[49m\u001b[43mnewline\u001b[49m\u001b[38;5;241;43m=\u001b[39;49m\u001b[38;5;124;43m\"\u001b[39;49m\u001b[38;5;124;43m\"\u001b[39;49m\u001b[43m,\u001b[49m\n\u001b[0;32m    879\u001b[0m \u001b[43m        \u001b[49m\u001b[43m)\u001b[49m\n\u001b[0;32m    880\u001b[0m     \u001b[38;5;28;01melse\u001b[39;00m:\n\u001b[0;32m    881\u001b[0m         \u001b[38;5;66;03m# Binary mode\u001b[39;00m\n\u001b[0;32m    882\u001b[0m         handle \u001b[38;5;241m=\u001b[39m \u001b[38;5;28mopen\u001b[39m(handle, ioargs\u001b[38;5;241m.\u001b[39mmode)\n",
      "\u001b[1;31mFileNotFoundError\u001b[0m: [Errno 2] No such file or directory: '1976_Sep2016_USPTOgrants_smiles.rsmi'"
     ]
    }
   ],
   "source": [
    "# read the data and turn it into a dataframe\n",
    "#imports\"\n",
    "from pathlib import Path\n",
    "from rdkit import Chem\n",
    "from rdkit.Chem import Draw\n",
    "from rdkit.Chem import PandasTools\n",
    "import pandas as pd\n",
    "import os\n",
    "\n",
    "# Create a Path object for the current directory\n",
    "current_directory = Path.cwd()\n",
    "print(\"Current Directory:\", current_directory.resolve())\n",
    "\n",
    "# Creating a Path object for an example file that does not yet exist\n",
    "example_file_path = current_directory / \"1976_Sep2016_USPTOgrants_smiles.rsmi\"\n",
    "\n",
    "# Reading the contents of the file to test if we have well acess to our data\n",
    "if example_file_path.exists():\n",
    "    with example_file_path.open(\"r\") as file:\n",
    "        first_line = file.readline()\n",
    "        print(first_line)\n",
    "else:\n",
    "    print(\"The file does not exist.\")\n",
    "\n",
    "dataFrame= pd.read_csv(\"1976_Sep2016_USPTOgrants_smiles.rsmi\", delimiter='\\t',low_memory=False)\n",
    "#Delete columns that are not the reactions or the yield\n",
    "columns_to_delete = [\"PatentNumber\", \"ParagraphNum\", \"Year\", \"TextMinedYield\"]\n",
    "dataFrame.drop(columns=columns_to_delete, inplace=True)\n",
    "#Separate the Reactants from the Products\n",
    "new_columns = dataFrame['ReactionSmiles'].str.split('>', expand=True)\n",
    "new_columns = new_columns.rename(columns={0: 'Reactant 1', 2 : \"Product 1\"})\n",
    "dataFrame = pd.concat([new_columns, dataFrame.iloc[:, 1:]], axis=1)\n",
    "dataFrame.drop(columns=1, inplace=True)\n",
    "#Separate the reactants from each other\n",
    "reactants_split = dataFrame['Reactant 1'].str.split(\"\\.\", expand = True)\n",
    "reactants_split.columns = [f'Reactant {i+1}' for i in range(reactants_split.shape[1])]\n",
    "dataFrame = pd.concat([reactants_split, dataFrame.iloc[:, 1:]], axis=1)\n",
    "#Separate the Products from each other\n",
    "products_split = dataFrame['Product 1'].str.split(\"\\.\", expand = True)\n",
    "products_split.columns = [f'Product {i+1}' for i in range(products_split.shape[1])]\n",
    "dataFrame = pd.concat([products_split, dataFrame.iloc[:, 1:]], axis=1)\n",
    "dataFrame = dataFrame.loc[:, ~dataFrame.columns.duplicated(keep='first')]\n",
    "dataFrame.head()\n"
   ]
  },
  {
   "cell_type": "code",
   "execution_count": null,
   "id": "f4495a67-b86d-4f99-b6bc-8508ac815cea",
   "metadata": {},
   "outputs": [],
   "source": [
    "\"\"\"\n",
    "This Cell groups the functions used to clean the dataframe to be able to use it later\n",
    "\"\"\"\n",
    "# Remove atome mapping numbers from smiles\n",
    "import re\n",
    "\n",
    "def remove_atom_mapping(smiles):\n",
    "    \"\"\"\n",
    "    Remove atom mapping numbers from a SMILES-like notation.\n",
    "    Args:\n",
    "    - smiles (str): The SMILES-like notation with atom mapping numbers.\n",
    "    Returns:\n",
    "    - smiles_without_mapping (str): The SMILES notation without atom mapping numbers.\n",
    "    \"\"\"\n",
    "    # Define a regular expression pattern to match atom mapping numbers\n",
    "    pattern = r':\\d+'\n",
    "    smiles_without_mapping = re.sub(pattern, '', smiles)\n",
    "    return smiles_without_mapping\n",
    "\n",
    "dataFrame = dataFrame.astype(str)\n",
    "columns_to_process = dataFrame.columns[:-1]\n",
    "for column in columns_to_process:\n",
    "    dataFrame[column] = dataFrame[column].apply(remove_atom_mapping)\n",
    "    \n",
    "#Remove the percentage symbol\n",
    "def remove_percent_symbol(value):\n",
    "    \"\"\"\n",
    "    Remove the '%' symbol from a percentage value.\n",
    "    Args:\n",
    "    - value (str): The percentage value with the '%' symbol.\n",
    "    Returns:\n",
    "    - value_without_percent (str): The percentage value without the '%' symbol.\n",
    "    \"\"\"\n",
    "    return value.replace('%', '')\n",
    "\n",
    "# Apply the remove_percent_symbol function to the \"PercentageColumn\" column\n",
    "dataFrame['CalculatedYield'] = dataFrame['CalculatedYield'].apply(remove_percent_symbol)\n",
    "\n",
    "# Isomers Data Frame\n",
    "Isomers_dataFrame= split_dataFrame.copy()\n",
    "\n",
    "# Function to remove brackets, parentheses, and plus/minus signs\n",
    "def clean_string(s):\n",
    "    return re.sub(r'[\\[\\]\\(\\)\\+\\-\\#]', '', s)\n",
    "\n",
    "# Apply the function to the Reactant 1 and Reactant 2 columns\n",
    "Isomers_dataFrame = dataFrame.apply(clean_string)\n",
    "\n",
    "print (Isomers_dataFrame)"
   ]
  },
  {
   "cell_type": "code",
   "execution_count": null,
   "id": "9d7d36a6-f4c6-4197-a55f-1995458048b0",
   "metadata": {},
   "outputs": [],
   "source": [
    "pd.set_option('display.max_colwidth', None)\n",
    "def main():\n",
    "    \n",
    "    while True:\n",
    "        choice=input(\"Press Enter to get random products or type 'exit' to quit: \")\n",
    "        if choice == \"exit\":\n",
    "            print(\"Exiting.\")\n",
    "            break\n",
    "        else: \n",
    "            filtered_columns = [pd.Series(dataFrame.iloc[:, i].dropna().unique()) for i in range(128)]\n",
    "            selected_columns = pd.concat(filtered_columns, axis=0)\n",
    "            random_products = selected_columns.sample(n=1)\n",
    "            print(random_products)\n",
    "\n",
    "        \n",
    "        choice = input(\"Do you want to continue? (yes/no): \").strip().lower()\n",
    "        if choice == \"no\":\n",
    "            print(\"Exiting.\")\n",
    "            break\n",
    "            \n",
    "if __name__ == \"__main__\":\n",
    "    main()"
   ]
  },
  {
   "cell_type": "code",
   "execution_count": null,
   "id": "79448839-05ae-4005-b1f7-63ac1ba3e782",
   "metadata": {},
   "outputs": [],
   "source": [
    "# Prompt the user to enter the molecule that he wants to form\n",
    "print (\"you can enter the name of the molecule or its SMILES, the racemic configuration is available. Only halogen molecules are taken in account in the data base\")\n",
    "string_input_mol = input(\"Enter the molecule that you want to form: \")"
   ]
  },
  {
   "cell_type": "code",
   "execution_count": 6,
   "id": "81dafb2d-c250-4feb-bfd1-2aabd39e0a0e",
   "metadata": {},
   "outputs": [
    {
     "ename": "NameError",
     "evalue": "name 'string_input_mol' is not defined",
     "output_type": "error",
     "traceback": [
      "\u001b[1;31m---------------------------------------------------------------------------\u001b[0m",
      "\u001b[1;31mNameError\u001b[0m                                 Traceback (most recent call last)",
      "Cell \u001b[1;32mIn[6], line 20\u001b[0m\n\u001b[0;32m     17\u001b[0m         \u001b[38;5;28;01mreturn\u001b[39;00m \u001b[38;5;28;01mTrue\u001b[39;00m\n\u001b[0;32m     19\u001b[0m \u001b[38;5;66;03m# Check if the entered string is a valid SMILES notation\u001b[39;00m\n\u001b[1;32m---> 20\u001b[0m \u001b[38;5;28;01mif\u001b[39;00m is_smiles(\u001b[43mstring_input_mol\u001b[49m):\n\u001b[0;32m     21\u001b[0m     \u001b[38;5;28mprint\u001b[39m(\u001b[38;5;124mf\u001b[39m\u001b[38;5;124m\"\u001b[39m\u001b[38;5;124m'\u001b[39m\u001b[38;5;132;01m{\u001b[39;00mstring_input_mol\u001b[38;5;132;01m}\u001b[39;00m\u001b[38;5;124m'\u001b[39m\u001b[38;5;124m is a valid SMILES notation.\u001b[39m\u001b[38;5;124m\"\u001b[39m)\n\u001b[0;32m     22\u001b[0m \u001b[38;5;28;01melse\u001b[39;00m:\n",
      "\u001b[1;31mNameError\u001b[0m: name 'string_input_mol' is not defined"
     ]
    }
   ],
   "source": [
    "\"\"\"\n",
    "Function to determine if the user enters the SMILES notation or the usual name of the molecule.\n",
    "\"\"\"\n",
    "from rdkit import Chem\n",
    "\n",
    "def is_smiles(smiles):\n",
    "    \"\"\"\n",
    "    Check if a string represents a valid SMILES notation.\n",
    "    Args:\n",
    "    - smiles (str): The string to check.\n",
    "    Returns:\n",
    "    - is_valid (bool): True if the string is a valid SMILES notation, False otherwise.\n",
    "    \"\"\"\n",
    "    if Chem.MolFromSmiles(smiles)== None:\n",
    "        return False\n",
    "    else:\n",
    "        return True\n",
    "\n",
    "# Check if the entered string is a valid SMILES notation\n",
    "if is_smiles(string_input_mol):\n",
    "    print(f\"'{string_input_mol}' is a valid SMILES notation.\")\n",
    "else:\n",
    "    print(f\"'{string_input_mol}' is not a valid SMILES notation.\")"
   ]
  },
  {
   "cell_type": "code",
   "execution_count": 18,
   "id": "7738401b-dea7-4423-93af-b50e380210c3",
   "metadata": {},
   "outputs": [
    {
     "name": "stdout",
     "output_type": "stream",
     "text": [
      "Requirement already satisfied: pubchempy in /Users/Travail/anaconda3/envs/project/lib/python3.10/site-packages (1.0.4)\n"
     ]
    }
   ],
   "source": [
    "!pip install pubchempy"
   ]
  },
  {
   "cell_type": "code",
   "execution_count": 5,
   "id": "f3740d73-44f9-4449-a996-745577fa4f1f",
   "metadata": {},
   "outputs": [
    {
     "ename": "NameError",
     "evalue": "name 'is_smiles' is not defined",
     "output_type": "error",
     "traceback": [
      "\u001b[1;31m---------------------------------------------------------------------------\u001b[0m",
      "\u001b[1;31mNameError\u001b[0m                                 Traceback (most recent call last)",
      "Cell \u001b[1;32mIn[5], line 26\u001b[0m\n\u001b[0;32m     23\u001b[0m         \u001b[38;5;28;01mreturn\u001b[39;00m \u001b[38;5;28;01mNone\u001b[39;00m\n\u001b[0;32m     25\u001b[0m \u001b[38;5;66;03m# Call the function to convert the molecule name to SMILES notation\u001b[39;00m\n\u001b[1;32m---> 26\u001b[0m \u001b[38;5;28;01mif\u001b[39;00m \u001b[43mis_smiles\u001b[49m(string_input_mol)\u001b[38;5;241m==\u001b[39m \u001b[38;5;28;01mFalse\u001b[39;00m:\n\u001b[0;32m     27\u001b[0m     string_input_mol \u001b[38;5;241m=\u001b[39m name_to_smiles(string_input_mol)\n\u001b[0;32m     28\u001b[0m     \u001b[38;5;28;01mif\u001b[39;00m string_input_mol:\n",
      "\u001b[1;31mNameError\u001b[0m: name 'is_smiles' is not defined"
     ]
    }
   ],
   "source": [
    "\"\"\"\n",
    "Function to convert name into SMILES if the input isn't in this form.\n",
    "\"\"\"\n",
    "import pubchempy as pcp\n",
    "\n",
    "def name_to_smiles(molecule_name):\n",
    "    \"\"\"\n",
    "    Convert a molecule name to a SMILES notation using PubChemPy's PubChem database.\n",
    "    Args:\n",
    "    - molecule_name (str): The name of the molecule.\n",
    "    Returns:\n",
    "    - smiles (str): The SMILES notation of the molecule, or None if retrieval fails.\n",
    "    \"\"\"\n",
    "    try:\n",
    "        compound = pcp.get_compounds(molecule_name, 'name')\n",
    "        if compound:\n",
    "            return compound[0].canonical_smiles\n",
    "        else:\n",
    "            print(\"Error: Unable to retrieve molecule information. Please try with the SMILE of the molecule\")\n",
    "            return None\n",
    "    except:\n",
    "        print(\"Error: Unable to retrieve molecule information. Please try again\")\n",
    "        return None\n",
    "\n",
    "# Call the function to convert the molecule name to SMILES notation\n",
    "if is_smiles(string_input_mol)== False:\n",
    "    string_input_mol = name_to_smiles(string_input_mol)\n",
    "    if string_input_mol:\n",
    "        print(f\"SMILES notation for {string_input_mol}: {string_input_mol}\")\n",
    "else:\n",
    "    print (string_input_mol)"
   ]
  },
  {
   "cell_type": "code",
   "execution_count": 2,
   "id": "8e84cabe-1edc-4dd3-91c5-aceb1d301a98",
   "metadata": {},
   "outputs": [
    {
     "ename": "NameError",
     "evalue": "name 'remove_atom_mapping' is not defined",
     "output_type": "error",
     "traceback": [
      "\u001b[1;31m---------------------------------------------------------------------------\u001b[0m",
      "\u001b[1;31mNameError\u001b[0m                                 Traceback (most recent call last)",
      "Cell \u001b[1;32mIn[2], line 5\u001b[0m\n\u001b[0;32m      1\u001b[0m \u001b[38;5;124;03m\"\"\"\u001b[39;00m\n\u001b[0;32m      2\u001b[0m \u001b[38;5;124;03mThis code finds the molecule searched in the database and returns the rows of the database where we can find it.\u001b[39;00m\n\u001b[0;32m      3\u001b[0m \u001b[38;5;124;03m\"\"\"\u001b[39;00m\n\u001b[1;32m----> 5\u001b[0m \u001b[43mremove_atom_mapping\u001b[49m(string_input_mol)\n\u001b[0;32m      6\u001b[0m \u001b[38;5;66;03m# Function that returns the row of the elements formation reaction\u001b[39;00m\n\u001b[0;32m      7\u001b[0m \u001b[38;5;28;01mdef\u001b[39;00m \u001b[38;5;21mcompare_molecule_with_data\u001b[39m(element):\n",
      "\u001b[1;31mNameError\u001b[0m: name 'remove_atom_mapping' is not defined"
     ]
    }
   ],
   "source": [
    "\"\"\"\n",
    "This code finds the molecule searched in the database and returns the rows of the database where we can find it.\n",
    "\"\"\"\n",
    "\n",
    "remove_atom_mapping(string_input_mol)\n",
    "# Function that returns the row of the elements formation reaction\n",
    "def compare_molecule_with_data(element):\n",
    "    return ''.join(element.split()).lower() == ''.join(string_input_mol.split()).lower()\n",
    "\n",
    "# Initialize a variable to store the row number\n",
    "found_row_number = None\n",
    "rows=[]\n",
    "# Iterate over the last three columns of the DataFrame\n",
    "for column_name in dataFrame.columns[0 : 128]:\n",
    "    column = dataFrame[column_name]\n",
    "    # Check if any element in the column matches the input molecule\n",
    "    for index, value in column.items():\n",
    "        if compare_molecule_with_data(value):\n",
    "            # Store the row number where the molecule is found\n",
    "            found_row_number = index\n",
    "            rows.append(found_row_number)\n",
    "    else:\n",
    "        continue  # Continue to the next column if molecule not found in current column\n",
    "\n",
    "# Check if the molecule was found and return the row number\n",
    "if found_row_number is not None:\n",
    "   print(rows)\n",
    "else:\n",
    "    print(\"The product is not in the database\")\n"
   ]
  },
  {
   "cell_type": "code",
   "execution_count": 3,
   "id": "6c948574-d1f9-43d3-ad69-51bdb18db70c",
   "metadata": {},
   "outputs": [
    {
     "ename": "NameError",
     "evalue": "name 'found_row_number' is not defined",
     "output_type": "error",
     "traceback": [
      "\u001b[1;31m---------------------------------------------------------------------------\u001b[0m",
      "\u001b[1;31mNameError\u001b[0m                                 Traceback (most recent call last)",
      "Cell \u001b[1;32mIn[3], line 5\u001b[0m\n\u001b[0;32m      1\u001b[0m \u001b[38;5;124;03m\"\"\"\u001b[39;00m\n\u001b[0;32m      2\u001b[0m \u001b[38;5;124;03mThis code finds the isomers (if there is ones) if the product searched isn't in the database.\u001b[39;00m\n\u001b[0;32m      3\u001b[0m \u001b[38;5;124;03m\"\"\"\u001b[39;00m\n\u001b[1;32m----> 5\u001b[0m \u001b[38;5;28;01mif\u001b[39;00m \u001b[43mfound_row_number\u001b[49m \u001b[38;5;129;01mis\u001b[39;00m \u001b[38;5;28;01mNone\u001b[39;00m:\n\u001b[0;32m      6\u001b[0m         choice\u001b[38;5;241m=\u001b[39m\u001b[38;5;28minput\u001b[39m(\u001b[38;5;124m\"\u001b[39m\u001b[38;5;124mYour product isn\u001b[39m\u001b[38;5;124m'\u001b[39m\u001b[38;5;124mt in the database do-you want to look for an isomer molecule? (enter yes/no) \u001b[39m\u001b[38;5;124m\"\u001b[39m)\n\u001b[0;32m      7\u001b[0m         \u001b[38;5;28;01mif\u001b[39;00m choice \u001b[38;5;241m==\u001b[39m \u001b[38;5;124m\"\u001b[39m\u001b[38;5;124mno\u001b[39m\u001b[38;5;124m\"\u001b[39m:\n",
      "\u001b[1;31mNameError\u001b[0m: name 'found_row_number' is not defined"
     ]
    }
   ],
   "source": [
    "\"\"\"\n",
    "This code finds the isomers (if there is ones) if the product searched isn't in the database.\n",
    "\"\"\"\n",
    "\n",
    "if found_row_number is None:\n",
    "        choice=input(\"Your product isn't in the database do-you want to look for an isomer molecule? (enter yes/no) \")\n",
    "        if choice == \"no\":\n",
    "            print(\"Exiting.\")\n",
    "        else:\n",
    "            clean_string(string_input_mol)\n",
    "            # Initialize a variable to store the row number\n",
    "            found_row_number = None\n",
    "            rows=[]\n",
    "            # Iterate over the last three columns of the DataFrame\n",
    "            for column_name in Isomers_dataFrame.columns[0 : 128]:\n",
    "                column = Isomers_dataFrame[column_name]\n",
    "            # Check if any element in the column matches the input molecule\n",
    "            for index, value in column.items():\n",
    "                if compare_molecule_with_data(value):\n",
    "                    # Store the row number where the molecule is found\n",
    "                    found_row_number = index\n",
    "                    rows.append(found_row_number)\n",
    "                else:\n",
    "                    continue  # Continue to the next column if molecule not found in current column\n",
    "\n",
    "        # Check if the molecule was found and return the row number\n",
    "        if found_row_number is not None:\n",
    "           print(rows)\n",
    "        else:\n",
    "           print(\"The product is not in the database, please try with an other molecule\")\n"
   ]
  },
  {
   "cell_type": "code",
   "execution_count": 22,
   "id": "92baa181-28da-4d4e-b32b-0711f8a1af28",
   "metadata": {},
   "outputs": [
    {
     "name": "stdout",
     "output_type": "stream",
     "text": [
      "Row with the highest yield:\n",
      "Product 1          [Cl][C]1[C]([NH][C]2[NH][N]=[C]([CH3])[CH]=2)=[N][C]([NH][C]2[CH]=[CH][C]3[CH2][CH2][N]([CH2][CH2][O][CH3])[CH2][CH2][C]=3[CH]=2)=[N][CH]=1\n",
      "Product 2                                                                                                                                                 None\n",
      "Product 3                                                                                                                                                 None\n",
      "Product 4                                                                                                                                                 None\n",
      "Product 5                                                                                                                                                 None\n",
      "                                                                                      ...                                                                     \n",
      "Reactant 58                                                                                                                                               None\n",
      "Reactant 59                                                                                                                                               None\n",
      "Reactant 60                                                                                                                                               None\n",
      "Reactant 61                                                                                                                                               None\n",
      "CalculatedYield                                                                                                                                            NaN\n",
      "Name: 1173160, Length: 189, dtype: object\n"
     ]
    }
   ],
   "source": [
    "\"\"\"\n",
    "This code prints the yield and shows the image of the reaction corresponding\n",
    "\"\"\"\n",
    "import numpy as np\n",
    "# Convert the 'Yield' column to float\n",
    "dataFrame['CalculatedYield'] = dataFrame['CalculatedYield'].astype(float)\n",
    "# Subset the DataFrame to include only the specified rows\n",
    "subset_df = dataFrame.iloc[rows]\n",
    "if subset_df['CalculatedYield'].isnull().all():\n",
    "    # If all values are NaN, randomly select a row as the maximum yield row\n",
    "    max_yield_row_index = np.random.choice(subset_df.index)\n",
    "else:\n",
    "    # Find the index of the row with the highest yield\n",
    "    max_yield_row_index = subset_df['CalculatedYield'].idxmax()\n",
    "# Retrieve the row with the highest yield\n",
    "max_yield_row = dataFrame.loc[max_yield_row_index]\n",
    "print(\"Row with the highest yield:\")\n",
    "print(max_yield_row)\n",
    "\n",
    "# print the reaction\n",
    "from rdkit import Chem\n",
    "from rdkit.Chem import Draw\n",
    "from rdkit.Chem import AllChem\n",
    "#Create a Dataframe where the reaction is in one column\n",
    "dataFrameImage= pd.read_csv(\"1976_Sep2016_USPTOgrants_smiles.rsmi\", delimiter='\\t',low_memory=False)\n",
    "columns_to_delete = [\"PatentNumber\", \"ParagraphNum\", \"Year\", \"TextMinedYield\"]\n",
    "dataFrameImage.drop(columns=columns_to_delete, inplace=True)\n",
    "dataFrameImage[\"ReactionSmiles\"] = dataFrameImage[\"ReactionSmiles\"].apply(remove_atom_mapping)\n",
    "# Create a reaction SMILES string\n",
    "reaction_smiles = dataFrameImage.iloc[max_yield_row_index, 0]\n",
    "# Parse the reaction SMILES string\n",
    "reaction = Chem.AllChem.ReactionFromSmarts(reaction_smiles)\n",
    "# Draw the reaction\n",
    "reaction_image = Draw.ReactionToImage(reaction)\n",
    "\n",
    "# Save or display the image\n",
    "reaction_image.show()"
   ]
  },
  {
   "cell_type": "code",
   "execution_count": 8,
   "id": "a3ba952c-0b16-405e-9935-ec6c3191a89d",
   "metadata": {},
   "outputs": [
    {
     "ename": "NameError",
     "evalue": "name 'string_input_mol' is not defined",
     "output_type": "error",
     "traceback": [
      "\u001b[1;31m---------------------------------------------------------------------------\u001b[0m",
      "\u001b[1;31mNameError\u001b[0m                                 Traceback (most recent call last)",
      "Cell \u001b[1;32mIn[8], line 22\u001b[0m\n\u001b[0;32m     19\u001b[0m     \u001b[38;5;28;01melse\u001b[39;00m:\n\u001b[0;32m     20\u001b[0m         \u001b[38;5;28;01mreturn\u001b[39;00m \u001b[38;5;124m\"\u001b[39m\u001b[38;5;124mUnable to retrieve molecule name.\u001b[39m\u001b[38;5;124m\"\u001b[39m\n\u001b[1;32m---> 22\u001b[0m \u001b[38;5;28mprint\u001b[39m (get_molecule_name(\u001b[43mstring_input_mol\u001b[49m))\n\u001b[0;32m     24\u001b[0m \u001b[38;5;66;03m#3D representation of the molecule\u001b[39;00m\n\u001b[0;32m     26\u001b[0m \u001b[38;5;28;01mfrom\u001b[39;00m \u001b[38;5;21;01mrdkit\u001b[39;00m \u001b[38;5;28;01mimport\u001b[39;00m Chem\n",
      "\u001b[1;31mNameError\u001b[0m: name 'string_input_mol' is not defined"
     ]
    }
   ],
   "source": [
    "\"Informations about the product that we want to form\"\n",
    "\n",
    "#name of the molecule\n",
    "\n",
    "from chemspipy import ChemSpider\n",
    "\n",
    "def get_molecule_name(smiles):\n",
    "    \"\"\"\n",
    "    Get the common name of a molecule from its SMILES representation using ChemSpider.\n",
    "    Args:\n",
    "    - smiles (str): SMILES representation of the molecule.\n",
    "    Returns:\n",
    "    - name (str): Common name of the molecule.\n",
    "    \"\"\"\n",
    "    cs = ChemSpider('your_api_key_here')  # Replace 'your_api_key_here' with your ChemSpider API key\n",
    "    results = cs.simple_search(smiles)\n",
    "    if results:\n",
    "        return results[0].common_name\n",
    "    else:\n",
    "        return \"Unable to retrieve molecule name.\"\n",
    "\n",
    "print (get_molecule_name(string_input_mol))\n",
    "\n",
    "#3D representation of the molecule\n",
    "\n",
    "from rdkit import Chem\n",
    "from rdkit.Chem import AllChem\n",
    "import numpy as np\n",
    "import matplotlib.pyplot as plt\n",
    "from mpl_toolkits.mplot3d import Axes3D\n",
    "\n",
    "def plot_molecule_3D(smiles):\n",
    "    \"\"\"\n",
    "    Plot a molecule in 3D with different colors for different types of atoms and bonds between atoms.\n",
    "    Args:\n",
    "    - smiles (str): SMILES representation of the molecule.\n",
    "    \"\"\"\n",
    "    # Generate RDKit molecule from SMILES\n",
    "    mol = Chem.MolFromSmiles(smiles)\n",
    "    if mol is None:\n",
    "        print(\"Error: Unable to generate molecule from SMILES.\")\n",
    "        return\n",
    "    \n",
    "    # Generate 3D coordinates\n",
    "    AllChem.EmbedMolecule(mol)\n",
    "    AllChem.UFFOptimizeMolecule(mol)\n"
   ]
  },
  {
   "cell_type": "code",
   "execution_count": null,
   "id": "61984190-2bec-47d1-9944-055b1e3c57ea",
   "metadata": {},
   "outputs": [],
   "source": []
  }
 ],
 "metadata": {
  "kernelspec": {
   "display_name": "Python 3 (ipykernel)",
   "language": "python",
   "name": "python3"
  },
  "language_info": {
   "codemirror_mode": {
    "name": "ipython",
    "version": 3
   },
   "file_extension": ".py",
   "mimetype": "text/x-python",
   "name": "python",
   "nbconvert_exporter": "python",
   "pygments_lexer": "ipython3",
   "version": "3.9.18"
  }
 },
 "nbformat": 4,
 "nbformat_minor": 5
}
