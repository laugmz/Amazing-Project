{
 "cells": [
  {
   "cell_type": "markdown",
   "id": "1c4e052c-a5c0-4252-a039-4019803a560d",
   "metadata": {},
   "source": [
    "# Finding Your reaction\n",
    "\n",
    "## Authors: Laura GOMEZ, Eva GULEAC, Lilou BUFFET\n",
    "## Date: 24/05/2024\n",
    "\n",
    "---\n",
    "\n",
    "## Table of Contents\n",
    "1. [Introduction](##introduction)\n",
    "2. [Objectives](##objectives)\n",
    "3. [Uses_of_the_package](##Uses-of-the-package)\n",
    "4. [Functionalities](##Functionalities)\n",
    "5. [Demonstration and Results](##Demonstration-and-Results)\n",
    "6. [Discussion](##discussion)\n",
    "7. [Conclusion](##conclusion)\n",
    "8. [References](##references)\n",
    "9. [Appendices](##appendices)\n"
   ]
  },
  {
   "cell_type": "markdown",
   "id": "20dd905b-c8a9-4610-9c96-e55beabd5162",
   "metadata": {},
   "source": [
    "## Introduction:\n"
   ]
  },
  {
   "cell_type": "markdown",
   "id": "84c87d55-66a1-40ba-91e8-6ef29e53b67b",
   "metadata": {},
   "source": [
    "## Objectives:\n",
    "\n",
    "We wated to make a code that would output the reaction of formation of a product input by the user within the limits of our database.<br>\n",
    "If the product can be formed by various reactions, the one with the highest yield is returned.<br>\n",
    "If the given product is not in the database, the program offers the possibility to find an isomer present in the database and to return its formation reaction, as to not leave the user empty handed.<br>\n",
    "In addition, the reaction is displayed in a 2-dimensional image, and the product is plotted in a 3-dimensional graph.<br>\n",
    "In case one needs help finding a product, the package offers random products to try from the database.<br>"
   ]
  },
  {
   "cell_type": "markdown",
   "id": "993d3fc1-455b-4138-b5ad-c5f44d5b4a37",
   "metadata": {},
   "source": [
    "## Demonstration and Results:\n",
    "For example, if we enter "
   ]
  },
  {
   "cell_type": "markdown",
   "id": "9e5edf89-9bd0-4554-ac36-54fa41700314",
   "metadata": {
    "jp-MarkdownHeadingCollapsed": true
   },
   "source": [
    "## Uses of the package"
   ]
  },
  {
   "cell_type": "markdown",
   "id": "5c53d268-c342-4296-b557-06c3399a7ae9",
   "metadata": {},
   "source": [
    "## Fonctionalities\n",
    "\n",
    "In this part the multiple functions of this code will be described as well as there arguments and returns."
   ]
  },
  {
   "cell_type": "markdown",
   "id": "09239c34-0eca-4982-890d-6768f81aeb3e",
   "metadata": {},
   "source": [
    "The function `remove_atom_mapping` as been created to remove the atom mapping from a given smile notation, to then apply it to our data base.\n",
    ">The arguments taken by the function are smiles (str), the SMILES-like notation with atom mapping numbers.<br>\n",
    ">The returns are smiles_without_mapping (str): The SMILES notation without atom mapping numbers.\n",
    "Please find a exemple of it use below."
   ]
  },
  {
   "cell_type": "code",
   "execution_count": null,
   "id": "6ee12257-541b-4812-806c-27739eb95f2c",
   "metadata": {},
   "outputs": [],
   "source": [
    "from finding_your_reaction import remove_atom_mapping\n",
    "print(remove_atom_mapping(\"C[CH2:1][OH:2]\"))"
   ]
  },
  {
   "cell_type": "markdown",
   "id": "ed1c8767-7e19-493f-8e9a-ecbe4b6fb857",
   "metadata": {},
   "source": [
    "The function `remove_percent_symbol` to remove the percentage symbol from the yield column has been created to compare the yields in our data base.\n",
    ">The arguments are a value (str): The percentage value with the '%' symbol.<br>\n",
    ">It returns a value_without_percent (str): The percentage value without the '%' symbol.<br>\n",
    "\n",
    "This function has been made in order to be able to compare the different yields of our reactions"
   ]
  },
  {
   "cell_type": "code",
   "execution_count": null,
   "id": "92e89b33-1654-419d-a163-097ae0354880",
   "metadata": {},
   "outputs": [],
   "source": [
    "from finding_your_reaction import remove_percent_symbol\n",
    "remove_percent_symbol(\"15%\")"
   ]
  },
  {
   "cell_type": "markdown",
   "id": "b10d3121-7309-4478-a3fa-f83581bc6969",
   "metadata": {},
   "source": [
    "To find constitution isomers, a function `clean_string` has been created to delete all the brakets, parenthesis, =, + or -. \n",
    "This function is applied to the data base to form the isomere data base and later on, on the molecule smiles if the user wants to.\n",
    ">**Arguments:**\n",
    "    value (str), This string is potentially contain special characters that need to be removed.<br>\n",
    ">**Returns:**\n",
    "    value_without_caracter (str), The characters removed are [, ], (, ), +, -, and #."
   ]
  },
  {
   "cell_type": "code",
   "execution_count": null,
   "id": "454ce871-bf9f-4172-87ea-d22671720ee9",
   "metadata": {},
   "outputs": [],
   "source": [
    "from finding_your_reaction import clean_string\n",
    "clean_string (\"CN1C=NC2=C1C(=O)N(C(=O)N2C)C\")"
   ]
  },
  {
   "cell_type": "markdown",
   "id": "537607c7-fc6d-4a42-8f70-789cd0113dbc",
   "metadata": {},
   "source": [
    "To generate a random product in the data base a function `main()` as been created.\n",
    ">**Usage**:<br>\n",
    "    - Press Enter: To get a random product from the DataFrame.<br>\n",
    "    - Type 'exit': To quit the program.<br>\n",
    "    - After displaying a random product, type 'yes' to continue or 'no' to exit.<br>"
   ]
  },
  {
   "cell_type": "code",
   "execution_count": null,
   "id": "aa612bb8-7116-4bf5-af0e-edfd4416ef81",
   "metadata": {},
   "outputs": [],
   "source": [
    "from finding_your_reaction import main\n",
    "main()"
   ]
  },
  {
   "cell_type": "markdown",
   "id": "e0a377d4-ecf0-48f4-85a5-9a5b3c01863c",
   "metadata": {},
   "source": [
    "To check if an input is in smiles notation or not, the is_smile function has been created.\n",
    ">**Arguments** of the function smiles (str): The string to check.<br>\n",
    ">**Returns**: is_valid (bool), True if the string is a valid SMILES notation, False otherwise"
   ]
  },
  {
   "cell_type": "code",
   "execution_count": null,
   "id": "153332b2-61ea-4892-9447-3db9cfee4569",
   "metadata": {},
   "outputs": [],
   "source": [
    "from finding_your_reaction import is_smiles\n",
    "is_smiles(\"2-Acetoxybenzoic acid\")\n",
    "is_smile (\"CC(=O)OC1=CC=CC=C1C(=O)O\")"
   ]
  },
  {
   "cell_type": "markdown",
   "id": "8875aa53-5fb8-4515-848b-2c595bd41c9f",
   "metadata": {},
   "source": [
    "The name_function_to_smile function has been used to convert a UPAC name into a smile in order to be able to search the molecule in the data base. The PubChemPy's PubChem database has been used.\n",
    " > **Arguments:** molecule_name (str), the name of the molecule.<br>\n",
    "   **Returns:** smiles (str), the SMILES notation of the molecule, or None if retrieval fails.\n",
    "\n",
    "This function can fail if the molecule is'nt in the PubChem database"
   ]
  },
  {
   "cell_type": "code",
   "execution_count": null,
   "id": "c56f6971-8cb1-47e9-886a-5c3d04a82ba3",
   "metadata": {},
   "outputs": [],
   "source": [
    "from finding_your_reaction import name_to_smiles\n",
    "name_to_smiles(\"1,3,7-Trimethylxanthine\")"
   ]
  },
  {
   "cell_type": "markdown",
   "id": "f392b171-f367-4612-91b1-7ebfbaf6eb58",
   "metadata": {},
   "source": [
    "To find the rows in the data base where there is the required product we have been used the find_molecule_rows function.\n",
    "> **Arguments:** <br>\n",
    "            >> -dataFrame (pd.DataFrame): The DataFrame to search.<br>\n",
    "            > -string_input_mol (str): The molecule to search for.<br>\n",
    "            > -start_col (int): The starting column index for the search.<br>\n",
    "            end_col (int)*: The ending column index for the search. If None, searches until the last column.<br>\n",
    "\n",
    ">**Returns:** <br>\n",
    "            >>-List[int]: A list of row indices where the molecule is found."
   ]
  },
  {
   "cell_type": "code",
   "execution_count": null,
   "id": "4b39171d-b086-4e9b-8f48-4122bc2d69cc",
   "metadata": {},
   "outputs": [],
   "source": [
    "from finding_your_reaction import find_molecule_rows\n",
    "find_molecule_rows(\"[Br-]\")"
   ]
  },
  {
   "cell_type": "markdown",
   "id": "19fa142f-8c0e-44b1-9ee9-e48bdce95c3a",
   "metadata": {},
   "source": [
    "To find all the isomere possible for a molecule we've been genereate a list with all the permutations possible using the `generate_permutations function`.\n",
    ">**Arguments:**\n",
    "    - input_string (str): The input string for which permutations are to be generated.\n",
    "**Returns:**\n",
    "    - list of str: A list containing all possible permutations of the characters in the input string.\n"
   ]
  },
  {
   "cell_type": "code",
   "execution_count": null,
   "id": "a0deb1cd-07a8-442d-bb73-52814dd62c8c",
   "metadata": {},
   "outputs": [],
   "source": [
    "from finding_your_reaction import generate_permutations\n",
    "generate_permutations(\"CCO\")"
   ]
  },
  {
   "cell_type": "markdown",
   "id": "b66e46f0-d096-4c2e-8e70-3b040a802c16",
   "metadata": {},
   "source": [
    "This list has been then passed into the is_smile function to only keept the existing configurations."
   ]
  },
  {
   "cell_type": "markdown",
   "id": "6f5a5118-771d-4f7a-b28c-0ec5a08f7179",
   "metadata": {},
   "source": [
    "To have more informations about the molecule that we want to form, the `get_molecule_function` converts the Smiles of the user into the UPAC name. \n",
    "> **Arguments:** smiles (str), SMILES representation of the molecule.<br>\n",
    "  **Returns:** name (str), Common name of the molecule."
   ]
  },
  {
   "cell_type": "code",
   "execution_count": null,
   "id": "6fedf421-5efe-41ab-a85e-34a84fe0e16a",
   "metadata": {},
   "outputs": [],
   "source": [
    "from finding_your_reaction import get_molecule_name\n",
    "get_molecule_name(\"C1=CC=CC=C1\")"
   ]
  },
  {
   "cell_type": "markdown",
   "id": "40258e77-49b0-487f-ae6a-e657e32f3e7f",
   "metadata": {},
   "source": [
    "There is a function to give the molecular weight, `get_molecular_weight`, from the molecule that the user has entered\n",
    ">**Arguments:** smiles (str): SMILES string of the molecule.<br>\n",
    " **Returns:** float, Molecular weight of the molecule."
   ]
  },
  {
   "cell_type": "code",
   "execution_count": null,
   "id": "63632ea1-8934-4cb9-a673-e8504aa4ad0f",
   "metadata": {},
   "outputs": [],
   "source": [
    "from finding_your_reaction import get_molecular_weight\n",
    "get_moleular_weight (\"C1=CC=C(C=C1)C(=O)O\")"
   ]
  },
  {
   "cell_type": "markdown",
   "id": "1fc495a3-5ed8-4e19-8d21-d5c7bf36753f",
   "metadata": {},
   "source": [
    "To have a 3D-visualisation of the molecule, there is the function `plot_molecule_3D`\n",
    "> **Arguments:**\n",
    "     smiles (str), SMILES representation of the molecule.<br>\n",
    "   **Returns:** 3D plot image"
   ]
  },
  {
   "cell_type": "code",
   "execution_count": null,
   "id": "bc7eafa6-b213-4947-ab36-61ed2d2de543",
   "metadata": {},
   "outputs": [],
   "source": [
    "from finding_your_reaction import plot_molecule_3D\n",
    "plot_molecule_3D(\"C=C\")"
   ]
  },
  {
   "cell_type": "code",
   "execution_count": null,
   "id": "e8dba08a-ae81-4bec-b158-1aa7737c2db6",
   "metadata": {},
   "outputs": [],
   "source": []
  },
  {
   "cell_type": "markdown",
   "id": "eaecc036-d300-42b4-a51b-246f51a93e68",
   "metadata": {},
   "source": [
    "# Discussion:\n",
    "\n",
    "## Advantages: \n",
    "\n",
    "-With slight modifications, the package could be used with **various databases**. Our conversion in smiles without mapping can be applied easily.<br>\n",
    "\n",
    "-The **time spent searching** for the formation reaction of the needed molecule is, if contained in our database, drastically reduced and far less tedious than than if one needed to look anywhere.<br>\n",
    "\n",
    "-The database used in the project covers all reactions patented in the **USA between 1996 and 2016**. Therefore it searches, after some selection, through more than **700 000 reactions**.<br>\n",
    "\n",
    "-The code is interactive and can be **used by everyone** as we have various entrees such as the common name or the smiles notation of the molecule.<br>\n",
    "\n",
    "-The input doesn't need to be in SMILES. Common molecule names are converted by the package as chemists use that langage only in programming.<br>                                                             \n",
    "-If the molecule isn’t in the data base, the user still has the option to search for a possible **isomer formation reaction** instead of the initial molecule.<br>\n",
    "\n",
    "-To test the code or if the user doesn’t know which molecule to form, they have the possibility to ask for a **random molecule’s smiles** in the database.<br>\n",
    "\n",
    "-**Visualizations of the reaction and the product** that make the informations more digestible and readable than only the SMILES line codes.<br>\n",
    "\n",
    "\n",
    "## Limitations and possible improvement\n",
    "\n",
    "-The library used in the `name_to_smiles` function is the pubchempy one. Therefore, if the **input** that needs to be converted in SMILES **isn't in the library**, the code won't work, even if a reaction exist in our database.<br>\n",
    "\n",
    "-The initial data has over 1 million reactions, but because the choice to remove all reactions that didn t display their yields was made, a serious amount of **information is lost**. However, more than a hundred thousands reactions remain.<br>\n",
    "\n",
    "-The code has a pretty **long running time** as the database is large.\n",
    "\n",
    "-The 3D plot could be interactive.\n",
    "\n",
    "## Challenges faced:\n",
    "\n",
    "A challenge was rooted in the size of the databse. Indeed, some functions took a few minutes to run each and some had their kernels die before completing the task. This made each creation of function dedious. <br>\n",
    "To tackle this problem, and because the size of the data could not be reduced, some functions had to be seriously optimized as for everything to run smoothly.<br>\n",
    "To search the isomers, it has been a difficult take to inculde all the possible permutations for the molecule.\n"
   ]
  },
  {
   "cell_type": "markdown",
   "id": "1b3d5807-7bf3-460f-a675-bd0d111882a2",
   "metadata": {},
   "source": [
    "## Conclusion"
   ]
  },
  {
   "cell_type": "code",
   "execution_count": null,
   "id": "431e2961-15b2-427c-b93e-c2dfdc1d2357",
   "metadata": {},
   "outputs": [],
   "source": []
  }
 ],
 "metadata": {
  "kernelspec": {
   "display_name": "Python 3 (ipykernel)",
   "language": "python",
   "name": "python3"
  },
  "language_info": {
   "codemirror_mode": {
    "name": "ipython",
    "version": 3
   },
   "file_extension": ".py",
   "mimetype": "text/x-python",
   "name": "python",
   "nbconvert_exporter": "python",
   "pygments_lexer": "ipython3",
   "version": "3.11.5"
  }
 },
 "nbformat": 4,
 "nbformat_minor": 5
}
