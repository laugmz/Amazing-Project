{
 "cells": [
  {
   "cell_type": "code",
   "execution_count": null,
   "id": "530f7a79-3046-417e-b0fc-35281eecc97b",
   "metadata": {},
   "outputs": [],
   "source": [
    "# AMAZING PROJECT\n",
    "\n",
    "# Purpose of our project:\n",
    "We wanted to make a code that would output the reaction of the highest yield for a given product. The user inputs a product, and the program outputs the reaction which leads to its formation with the highest yield. If the given product is not in the database, the program outputs the formation reaction with the highest yield of its closest isomer. In addition to that, the reaction given is displayed in two dimensions, and the given product is plotted in three dimensions. \n",
    "\n",
    "# Demonstration and result:\n",
    "For example, if we enter \n",
    "\n",
    "# Advantages:\n",
    "-It can work with various databases. Our conversion in smiles is relatively global, there are many functions to fit to the smile’s notation.\n",
    "-It reduces the research time if one needs the reaction formation of a molecule and, moreover, gives the one with the highest yield.\n",
    "-The code is interactive and can be used by everyone as we have various entrees such as the common name or the smiles notation of the molecule.\n",
    "-If the molecule isn’t in the data base, the user still has the option to search for a possible isomer formation reaction instead of the initial molecule.\n",
    "-To test the code or if the user doesn’t know which molecule to form, they have the possibility to ask for a random molecule’s smiles in the database.\n",
    "-In this code, there is some visualization, the code returns the 3D image of the molecule that will be formed and its formation reaction \n",
    "\n",
    "# Limitations and possible improvements:\n",
    "-With the conversion in SMILES, we lose some of the information of the initial database. The conversion can fail for some molecules as we simplify it. That point could be optimized.\n",
    "-If the user enters a molecule name and it is not in the “pubchempy”, the function name_to_smiles will not work.\n",
    "-The size of the data is limited. \n",
    "\n",
    "# Challenges faced:\n",
    "The most difficult part of our project was to transform the data base into one without atom mapping and in a correct smiles notation to fit the input of the user.\n",
    "\n",
    "\n"
   ]
  }
 ],
 "metadata": {
  "kernelspec": {
   "display_name": "Python 3 (ipykernel)",
   "language": "python",
   "name": "python3"
  },
  "language_info": {
   "codemirror_mode": {
    "name": "ipython",
    "version": 3
   },
   "file_extension": ".py",
   "mimetype": "text/x-python",
   "name": "python",
   "nbconvert_exporter": "python",
   "pygments_lexer": "ipython3",
   "version": "3.11.5"
  }
 },
 "nbformat": 4,
 "nbformat_minor": 5
}
