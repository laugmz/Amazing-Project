{
 "cells": [
  {
   "cell_type": "code",
   "execution_count": null,
   "id": "530f7a79-3046-417e-b0fc-35281eecc97b",
   "metadata": {},
   "outputs": [],
   "source": [
    "#\"Finding Your Reaction\" Project"
   ]
  },
  {
   "cell_type": "code",
   "execution_count": null,
   "id": "b2d113d9-9744-4d20-95d1-eba170a78460",
   "metadata": {},
   "outputs": [],
   "source": [
    "# Purpose of our project:\n",
    "\n",
    "To make a code that would output the reaction of formation of a product input by the user within the limits of our database.\n",
    "If the product can be formed by various reactions, the one with the highest yield is returned.\n",
    "If the given product is not in the database, the program offers the possibility to find an isomer present in the database and to return its formation reaction, as to not leave the user empty handed.\n",
    "In addition, the reaction is displayed in a 2-dimensional image, and the product is plotted in a 3-dimensional graph. \n",
    "In case one needs help finding a product, the package offers random products to try from the database."
   ]
  },
  {
   "cell_type": "code",
   "execution_count": null,
   "id": "d0edc077-3151-485e-af75-832c979c544a",
   "metadata": {},
   "outputs": [],
   "source": [
    "# Demonstration and result:\n",
    "For example, if we enter "
   ]
  },
  {
   "cell_type": "code",
   "execution_count": null,
   "id": "14c96b5a-2ad3-4c2f-a0f7-2686335a4e61",
   "metadata": {},
   "outputs": [],
   "source": [
    "# How to use it and how apply it for an other data base"
   ]
  },
  {
   "cell_type": "code",
   "execution_count": null,
   "id": "49f89b04-ccd1-45ca-b74c-db348ef7ccc6",
   "metadata": {},
   "outputs": [],
   "source": [
    "# Fonctionnalities"
   ]
  },
  {
   "cell_type": "code",
   "execution_count": null,
   "id": "471b3af0-cff4-4ef6-bb7e-a305b2967579",
   "metadata": {},
   "outputs": [],
   "source": [
    "\"A function as been created to remove the atom mapping from a given smile notation, to then apply it to our data base.\""
   ]
  },
  {
   "cell_type": "code",
   "execution_count": 2,
   "id": "c9e8c037-0c27-46df-bf5e-958206e4198b",
   "metadata": {},
   "outputs": [
    {
     "name": "stdout",
     "output_type": "stream",
     "text": [
      "Current Directory: C:\\Users\\33783\\Documents\\EPFL\\Etudes\\BA4\\Amazing-Project\n",
      "The file does not exist.\n"
     ]
    },
    {
     "ename": "FileNotFoundError",
     "evalue": "[Errno 2] No such file or directory: '1976_Sep2016_USPTOgrants_smiles.rsmi'",
     "output_type": "error",
     "traceback": [
      "\u001b[1;31m---------------------------------------------------------------------------\u001b[0m",
      "\u001b[1;31mFileNotFoundError\u001b[0m                         Traceback (most recent call last)",
      "Cell \u001b[1;32mIn[2], line 1\u001b[0m\n\u001b[1;32m----> 1\u001b[0m \u001b[38;5;28;01mfrom\u001b[39;00m \u001b[38;5;21;01mfinding_your_reaction\u001b[39;00m \u001b[38;5;28;01mimport\u001b[39;00m remove_atom_mapping\n\u001b[0;32m      2\u001b[0m \u001b[38;5;28mprint\u001b[39m(remove_atom_mapping(\u001b[38;5;124m\"\u001b[39m\u001b[38;5;124mC[CH2:1][OH:2]\u001b[39m\u001b[38;5;124m\"\u001b[39m))\n",
      "File \u001b[1;32m~\\Documents\\EPFL\\Etudes\\BA4\\Amazing-Project\\finding_your_reaction.py:32\u001b[0m\n\u001b[0;32m     29\u001b[0m \u001b[38;5;28;01melse\u001b[39;00m:\n\u001b[0;32m     30\u001b[0m     \u001b[38;5;28mprint\u001b[39m(\u001b[38;5;124m\"\u001b[39m\u001b[38;5;124mThe file does not exist.\u001b[39m\u001b[38;5;124m\"\u001b[39m)\n\u001b[1;32m---> 32\u001b[0m dataFrame\u001b[38;5;241m=\u001b[39m pd\u001b[38;5;241m.\u001b[39mread_csv(\u001b[38;5;124m\"\u001b[39m\u001b[38;5;124m1976_Sep2016_USPTOgrants_smiles.rsmi\u001b[39m\u001b[38;5;124m\"\u001b[39m, delimiter\u001b[38;5;241m=\u001b[39m\u001b[38;5;124m'\u001b[39m\u001b[38;5;130;01m\\t\u001b[39;00m\u001b[38;5;124m'\u001b[39m,low_memory\u001b[38;5;241m=\u001b[39m\u001b[38;5;28;01mFalse\u001b[39;00m)\n\u001b[0;32m     33\u001b[0m dataFrame \u001b[38;5;241m=\u001b[39m dataFrame\u001b[38;5;241m.\u001b[39mastype(\u001b[38;5;28mstr\u001b[39m)\n\u001b[0;32m     34\u001b[0m dataFrame[\u001b[38;5;124m\"\u001b[39m\u001b[38;5;124mReactionSmiles\u001b[39m\u001b[38;5;124m\"\u001b[39m] \u001b[38;5;241m=\u001b[39m dataFrame[\u001b[38;5;124m\"\u001b[39m\u001b[38;5;124mReactionSmiles\u001b[39m\u001b[38;5;124m\"\u001b[39m]\u001b[38;5;241m.\u001b[39mapply(\u001b[38;5;28;01mlambda\u001b[39;00m x: clean_text(x))\n",
      "File \u001b[1;32m~\\anaconda3\\Lib\\site-packages\\pandas\\io\\parsers\\readers.py:948\u001b[0m, in \u001b[0;36mread_csv\u001b[1;34m(filepath_or_buffer, sep, delimiter, header, names, index_col, usecols, dtype, engine, converters, true_values, false_values, skipinitialspace, skiprows, skipfooter, nrows, na_values, keep_default_na, na_filter, verbose, skip_blank_lines, parse_dates, infer_datetime_format, keep_date_col, date_parser, date_format, dayfirst, cache_dates, iterator, chunksize, compression, thousands, decimal, lineterminator, quotechar, quoting, doublequote, escapechar, comment, encoding, encoding_errors, dialect, on_bad_lines, delim_whitespace, low_memory, memory_map, float_precision, storage_options, dtype_backend)\u001b[0m\n\u001b[0;32m    935\u001b[0m kwds_defaults \u001b[38;5;241m=\u001b[39m _refine_defaults_read(\n\u001b[0;32m    936\u001b[0m     dialect,\n\u001b[0;32m    937\u001b[0m     delimiter,\n\u001b[1;32m   (...)\u001b[0m\n\u001b[0;32m    944\u001b[0m     dtype_backend\u001b[38;5;241m=\u001b[39mdtype_backend,\n\u001b[0;32m    945\u001b[0m )\n\u001b[0;32m    946\u001b[0m kwds\u001b[38;5;241m.\u001b[39mupdate(kwds_defaults)\n\u001b[1;32m--> 948\u001b[0m \u001b[38;5;28;01mreturn\u001b[39;00m _read(filepath_or_buffer, kwds)\n",
      "File \u001b[1;32m~\\anaconda3\\Lib\\site-packages\\pandas\\io\\parsers\\readers.py:611\u001b[0m, in \u001b[0;36m_read\u001b[1;34m(filepath_or_buffer, kwds)\u001b[0m\n\u001b[0;32m    608\u001b[0m _validate_names(kwds\u001b[38;5;241m.\u001b[39mget(\u001b[38;5;124m\"\u001b[39m\u001b[38;5;124mnames\u001b[39m\u001b[38;5;124m\"\u001b[39m, \u001b[38;5;28;01mNone\u001b[39;00m))\n\u001b[0;32m    610\u001b[0m \u001b[38;5;66;03m# Create the parser.\u001b[39;00m\n\u001b[1;32m--> 611\u001b[0m parser \u001b[38;5;241m=\u001b[39m TextFileReader(filepath_or_buffer, \u001b[38;5;241m*\u001b[39m\u001b[38;5;241m*\u001b[39mkwds)\n\u001b[0;32m    613\u001b[0m \u001b[38;5;28;01mif\u001b[39;00m chunksize \u001b[38;5;129;01mor\u001b[39;00m iterator:\n\u001b[0;32m    614\u001b[0m     \u001b[38;5;28;01mreturn\u001b[39;00m parser\n",
      "File \u001b[1;32m~\\anaconda3\\Lib\\site-packages\\pandas\\io\\parsers\\readers.py:1448\u001b[0m, in \u001b[0;36mTextFileReader.__init__\u001b[1;34m(self, f, engine, **kwds)\u001b[0m\n\u001b[0;32m   1445\u001b[0m     \u001b[38;5;28mself\u001b[39m\u001b[38;5;241m.\u001b[39moptions[\u001b[38;5;124m\"\u001b[39m\u001b[38;5;124mhas_index_names\u001b[39m\u001b[38;5;124m\"\u001b[39m] \u001b[38;5;241m=\u001b[39m kwds[\u001b[38;5;124m\"\u001b[39m\u001b[38;5;124mhas_index_names\u001b[39m\u001b[38;5;124m\"\u001b[39m]\n\u001b[0;32m   1447\u001b[0m \u001b[38;5;28mself\u001b[39m\u001b[38;5;241m.\u001b[39mhandles: IOHandles \u001b[38;5;241m|\u001b[39m \u001b[38;5;28;01mNone\u001b[39;00m \u001b[38;5;241m=\u001b[39m \u001b[38;5;28;01mNone\u001b[39;00m\n\u001b[1;32m-> 1448\u001b[0m \u001b[38;5;28mself\u001b[39m\u001b[38;5;241m.\u001b[39m_engine \u001b[38;5;241m=\u001b[39m \u001b[38;5;28mself\u001b[39m\u001b[38;5;241m.\u001b[39m_make_engine(f, \u001b[38;5;28mself\u001b[39m\u001b[38;5;241m.\u001b[39mengine)\n",
      "File \u001b[1;32m~\\anaconda3\\Lib\\site-packages\\pandas\\io\\parsers\\readers.py:1705\u001b[0m, in \u001b[0;36mTextFileReader._make_engine\u001b[1;34m(self, f, engine)\u001b[0m\n\u001b[0;32m   1703\u001b[0m     \u001b[38;5;28;01mif\u001b[39;00m \u001b[38;5;124m\"\u001b[39m\u001b[38;5;124mb\u001b[39m\u001b[38;5;124m\"\u001b[39m \u001b[38;5;129;01mnot\u001b[39;00m \u001b[38;5;129;01min\u001b[39;00m mode:\n\u001b[0;32m   1704\u001b[0m         mode \u001b[38;5;241m+\u001b[39m\u001b[38;5;241m=\u001b[39m \u001b[38;5;124m\"\u001b[39m\u001b[38;5;124mb\u001b[39m\u001b[38;5;124m\"\u001b[39m\n\u001b[1;32m-> 1705\u001b[0m \u001b[38;5;28mself\u001b[39m\u001b[38;5;241m.\u001b[39mhandles \u001b[38;5;241m=\u001b[39m get_handle(\n\u001b[0;32m   1706\u001b[0m     f,\n\u001b[0;32m   1707\u001b[0m     mode,\n\u001b[0;32m   1708\u001b[0m     encoding\u001b[38;5;241m=\u001b[39m\u001b[38;5;28mself\u001b[39m\u001b[38;5;241m.\u001b[39moptions\u001b[38;5;241m.\u001b[39mget(\u001b[38;5;124m\"\u001b[39m\u001b[38;5;124mencoding\u001b[39m\u001b[38;5;124m\"\u001b[39m, \u001b[38;5;28;01mNone\u001b[39;00m),\n\u001b[0;32m   1709\u001b[0m     compression\u001b[38;5;241m=\u001b[39m\u001b[38;5;28mself\u001b[39m\u001b[38;5;241m.\u001b[39moptions\u001b[38;5;241m.\u001b[39mget(\u001b[38;5;124m\"\u001b[39m\u001b[38;5;124mcompression\u001b[39m\u001b[38;5;124m\"\u001b[39m, \u001b[38;5;28;01mNone\u001b[39;00m),\n\u001b[0;32m   1710\u001b[0m     memory_map\u001b[38;5;241m=\u001b[39m\u001b[38;5;28mself\u001b[39m\u001b[38;5;241m.\u001b[39moptions\u001b[38;5;241m.\u001b[39mget(\u001b[38;5;124m\"\u001b[39m\u001b[38;5;124mmemory_map\u001b[39m\u001b[38;5;124m\"\u001b[39m, \u001b[38;5;28;01mFalse\u001b[39;00m),\n\u001b[0;32m   1711\u001b[0m     is_text\u001b[38;5;241m=\u001b[39mis_text,\n\u001b[0;32m   1712\u001b[0m     errors\u001b[38;5;241m=\u001b[39m\u001b[38;5;28mself\u001b[39m\u001b[38;5;241m.\u001b[39moptions\u001b[38;5;241m.\u001b[39mget(\u001b[38;5;124m\"\u001b[39m\u001b[38;5;124mencoding_errors\u001b[39m\u001b[38;5;124m\"\u001b[39m, \u001b[38;5;124m\"\u001b[39m\u001b[38;5;124mstrict\u001b[39m\u001b[38;5;124m\"\u001b[39m),\n\u001b[0;32m   1713\u001b[0m     storage_options\u001b[38;5;241m=\u001b[39m\u001b[38;5;28mself\u001b[39m\u001b[38;5;241m.\u001b[39moptions\u001b[38;5;241m.\u001b[39mget(\u001b[38;5;124m\"\u001b[39m\u001b[38;5;124mstorage_options\u001b[39m\u001b[38;5;124m\"\u001b[39m, \u001b[38;5;28;01mNone\u001b[39;00m),\n\u001b[0;32m   1714\u001b[0m )\n\u001b[0;32m   1715\u001b[0m \u001b[38;5;28;01massert\u001b[39;00m \u001b[38;5;28mself\u001b[39m\u001b[38;5;241m.\u001b[39mhandles \u001b[38;5;129;01mis\u001b[39;00m \u001b[38;5;129;01mnot\u001b[39;00m \u001b[38;5;28;01mNone\u001b[39;00m\n\u001b[0;32m   1716\u001b[0m f \u001b[38;5;241m=\u001b[39m \u001b[38;5;28mself\u001b[39m\u001b[38;5;241m.\u001b[39mhandles\u001b[38;5;241m.\u001b[39mhandle\n",
      "File \u001b[1;32m~\\anaconda3\\Lib\\site-packages\\pandas\\io\\common.py:863\u001b[0m, in \u001b[0;36mget_handle\u001b[1;34m(path_or_buf, mode, encoding, compression, memory_map, is_text, errors, storage_options)\u001b[0m\n\u001b[0;32m    858\u001b[0m \u001b[38;5;28;01melif\u001b[39;00m \u001b[38;5;28misinstance\u001b[39m(handle, \u001b[38;5;28mstr\u001b[39m):\n\u001b[0;32m    859\u001b[0m     \u001b[38;5;66;03m# Check whether the filename is to be opened in binary mode.\u001b[39;00m\n\u001b[0;32m    860\u001b[0m     \u001b[38;5;66;03m# Binary mode does not support 'encoding' and 'newline'.\u001b[39;00m\n\u001b[0;32m    861\u001b[0m     \u001b[38;5;28;01mif\u001b[39;00m ioargs\u001b[38;5;241m.\u001b[39mencoding \u001b[38;5;129;01mand\u001b[39;00m \u001b[38;5;124m\"\u001b[39m\u001b[38;5;124mb\u001b[39m\u001b[38;5;124m\"\u001b[39m \u001b[38;5;129;01mnot\u001b[39;00m \u001b[38;5;129;01min\u001b[39;00m ioargs\u001b[38;5;241m.\u001b[39mmode:\n\u001b[0;32m    862\u001b[0m         \u001b[38;5;66;03m# Encoding\u001b[39;00m\n\u001b[1;32m--> 863\u001b[0m         handle \u001b[38;5;241m=\u001b[39m \u001b[38;5;28mopen\u001b[39m(\n\u001b[0;32m    864\u001b[0m             handle,\n\u001b[0;32m    865\u001b[0m             ioargs\u001b[38;5;241m.\u001b[39mmode,\n\u001b[0;32m    866\u001b[0m             encoding\u001b[38;5;241m=\u001b[39mioargs\u001b[38;5;241m.\u001b[39mencoding,\n\u001b[0;32m    867\u001b[0m             errors\u001b[38;5;241m=\u001b[39merrors,\n\u001b[0;32m    868\u001b[0m             newline\u001b[38;5;241m=\u001b[39m\u001b[38;5;124m\"\u001b[39m\u001b[38;5;124m\"\u001b[39m,\n\u001b[0;32m    869\u001b[0m         )\n\u001b[0;32m    870\u001b[0m     \u001b[38;5;28;01melse\u001b[39;00m:\n\u001b[0;32m    871\u001b[0m         \u001b[38;5;66;03m# Binary mode\u001b[39;00m\n\u001b[0;32m    872\u001b[0m         handle \u001b[38;5;241m=\u001b[39m \u001b[38;5;28mopen\u001b[39m(handle, ioargs\u001b[38;5;241m.\u001b[39mmode)\n",
      "\u001b[1;31mFileNotFoundError\u001b[0m: [Errno 2] No such file or directory: '1976_Sep2016_USPTOgrants_smiles.rsmi'"
     ]
    }
   ],
   "source": [
    "from finding_your_reaction import remove_atom_mapping\n",
    "print(remove_atom_mapping((\"C[CH2:1][OH:2]\"))"
   ]
  },
  {
   "cell_type": "code",
   "execution_count": null,
   "id": "9472879b-a2b9-4c5e-9086-42bf02402386",
   "metadata": {},
   "outputs": [],
   "source": [
    "\"A function to remove the percentage symbol from the yield column has been created to compare the yields in our data base"
   ]
  },
  {
   "cell_type": "code",
   "execution_count": null,
   "id": "92e89b33-1654-419d-a163-097ae0354880",
   "metadata": {},
   "outputs": [],
   "source": [
    "from finding_your_reaction import remove_percent_symbol\n",
    "remove_percent_symbol(\"15%\")"
   ]
  },
  {
   "cell_type": "code",
   "execution_count": null,
   "id": "d36fe41a-d07c-41e3-bfd2-77d4c3b04974",
   "metadata": {},
   "outputs": [],
   "source": [
    "\"To find constitution isomers, a function clean_string has been created to delete all the brakets, parenthesis, =, + or -. \n",
    "\"This function is applied to the data base to form the isomere data base and later on, on the molecule smiles if the user wants to."
   ]
  },
  {
   "cell_type": "code",
   "execution_count": null,
   "id": "454ce871-bf9f-4172-87ea-d22671720ee9",
   "metadata": {},
   "outputs": [],
   "source": [
    "from finding_your_reaction import clean_string\n",
    "clean_string (\"CN1C=NC2=C1C(=O)N(C(=O)N2C)C\")"
   ]
  },
  {
   "cell_type": "code",
   "execution_count": null,
   "id": "378eb8c4-e9d0-496f-8900-6fbf15e29d88",
   "metadata": {},
   "outputs": [],
   "source": [
    "\"To generate a random product in the data base a function main() as been created."
   ]
  },
  {
   "cell_type": "code",
   "execution_count": null,
   "id": "aa612bb8-7116-4bf5-af0e-edfd4416ef81",
   "metadata": {},
   "outputs": [],
   "source": [
    "from finding_your_reaction import main\n",
    "main()"
   ]
  },
  {
   "cell_type": "code",
   "execution_count": null,
   "id": "2a7c98b5-8487-4803-826a-61560ed22667",
   "metadata": {},
   "outputs": [],
   "source": [
    "\"To check if an input is in smiles notation or not, the following function has been created"
   ]
  },
  {
   "cell_type": "code",
   "execution_count": null,
   "id": "153332b2-61ea-4892-9447-3db9cfee4569",
   "metadata": {},
   "outputs": [],
   "source": [
    "from finding_your_reaction import is_smiles\n",
    "is_smiles(\"2-Acetoxybenzoic acid\")\n",
    "is_smile (\"CC(=O)OC1=CC=CC=C1C(=O)O\")"
   ]
  },
  {
   "cell_type": "code",
   "execution_count": null,
   "id": "b7bf143c-41ca-43b8-996d-8b364b3c2972",
   "metadata": {},
   "outputs": [],
   "source": [
    "\"The following function has been used to convert a UPAC name into a smile in order to be able to search the molecule in the data base"
   ]
  },
  {
   "cell_type": "code",
   "execution_count": null,
   "id": "c56f6971-8cb1-47e9-886a-5c3d04a82ba3",
   "metadata": {},
   "outputs": [],
   "source": [
    "from finding_your_reaction import name_to_smiles\n",
    "name_to_smiles(\"1,3,7-Trimethylxanthine\")"
   ]
  },
  {
   "cell_type": "code",
   "execution_count": null,
   "id": "0b5d8173-93a4-4483-8282-0891b38f927b",
   "metadata": {},
   "outputs": [],
   "source": [
    "\"To find the rows in the data base where there is the required product we have been used the following function"
   ]
  },
  {
   "cell_type": "code",
   "execution_count": null,
   "id": "4b39171d-b086-4e9b-8f48-4122bc2d69cc",
   "metadata": {},
   "outputs": [],
   "source": [
    "from finding_your_reaction import find_molecule_rows\n",
    "find_molecule_rows(\"[Br-]\")"
   ]
  },
  {
   "cell_type": "code",
   "execution_count": null,
   "id": "a768af98-1650-4b45-bb4d-77c86c09cfaa",
   "metadata": {},
   "outputs": [],
   "source": [
    "\"To find all the isomere possible for a molecule we've been genereate a list with all the permutations possible "
   ]
  },
  {
   "cell_type": "code",
   "execution_count": null,
   "id": "a0deb1cd-07a8-442d-bb73-52814dd62c8c",
   "metadata": {},
   "outputs": [],
   "source": [
    "from finding_your_reaction import generate_permutations\n",
    "generate_permutations(\"CCO\")"
   ]
  },
  {
   "cell_type": "code",
   "execution_count": null,
   "id": "3e04d290-32b9-49fb-8eee-d75f1e04646c",
   "metadata": {},
   "outputs": [],
   "source": [
    "\"this list has been then passed into the is_smile function to only keept the existing configurations"
   ]
  },
  {
   "cell_type": "code",
   "execution_count": null,
   "id": "c4472fee-2682-48fb-a7e9-9c4f4aa4363a",
   "metadata": {},
   "outputs": [],
   "source": [
    "\"To have more informations about the molecule that we want to form, there is a function that convert the smile of the user into the UPAC name. "
   ]
  },
  {
   "cell_type": "code",
   "execution_count": null,
   "id": "6fedf421-5efe-41ab-a85e-34a84fe0e16a",
   "metadata": {},
   "outputs": [],
   "source": [
    "from finding_your_reaction import get_molecule_name\n",
    "get_molecule_name(\"C1=CC=CC=C1\")"
   ]
  },
  {
   "cell_type": "code",
   "execution_count": null,
   "id": "11b8d68d-1b35-4516-941d-68ec26d709c8",
   "metadata": {},
   "outputs": [],
   "source": [
    "\"There is a function to give the molecular weight"
   ]
  },
  {
   "cell_type": "code",
   "execution_count": null,
   "id": "63632ea1-8934-4cb9-a673-e8504aa4ad0f",
   "metadata": {},
   "outputs": [],
   "source": [
    "from finding_your_reaction import get_molecular_weight\n",
    "get_moleular_weight (\"C1=CC=C(C=C1)C(=O)O\")"
   ]
  },
  {
   "cell_type": "code",
   "execution_count": null,
   "id": "c518ed63-0401-437d-bdf7-6cd65a4c17fe",
   "metadata": {},
   "outputs": [],
   "source": [
    "\"To have a 3D-visualisation of the molecule, there is the function plot_molecule_3D"
   ]
  },
  {
   "cell_type": "code",
   "execution_count": null,
   "id": "bc7eafa6-b213-4947-ab36-61ed2d2de543",
   "metadata": {},
   "outputs": [],
   "source": [
    "from finding_your_reaction import plot_molecule_3D\n",
    "plot_molecule_3D(\"C=C\")"
   ]
  },
  {
   "cell_type": "code",
   "execution_count": null,
   "id": "e520c5f4-3886-4ce6-a363-e601b131ead4",
   "metadata": {},
   "outputs": [],
   "source": [
    "# Advantages:\n",
    "-With slight modifications, the package could be used with various databases. Our conversion in smiles without mapping can be applied easily.\n",
    "-The time spent searching for the formation reaction of the needed molecule is, if contained in our database, drastically reduced and far less tedious than than if one needed to look anywhere.\n",
    "-The database used in the project covers all reactions patented in the USA between 1996 and 2016. Therefore it searches, after some selection, through more than 700 000 reactions.\n",
    "-The code is interactive and can be used by everyone as we have various entrees such as the common name or the smiles notation of the molecule.\n",
    "-The input doesn't need to be in SMILES. Common molecule names are converted by the package as chemists use that langage only in programming.                                                                          \n",
    "-If the molecule isn’t in the data base, the user still has the option to search for a possible isomer formation reaction instead of the initial molecule.\n",
    "-To test the code or if the user doesn’t know which molecule to form, they have the possibility to ask for a random molecule’s smiles in the database.\n",
    "-Visualizations of the reaction and the product that make the informations more digestible and readable than only the SMILES line codes."
   ]
  },
  {
   "cell_type": "code",
   "execution_count": null,
   "id": "50b2f7f7-9c2a-441a-b16f-f02d487fdf30",
   "metadata": {},
   "outputs": [],
   "source": [
    "# Limitations and possible improvements: \n",
    "-With the conversion in SMILES, we lose some of the information of the initial database. The conversion can fail for some molecules as we simplify it. That point could be optimized.\n",
    "-The library used in the name_to_smiles function is the pubchempy one. Therefore, if the input that needs to be converted in SMILES isn t in the library, the code won t work, even if a reaction exist in our database.\n",
    "-The initial data has over 1 million reactions, but because the choice to remove all reactions that didn t display their yields was made, a serious amount of information is lost. However, more than a hundred thousands reactions remain.\n"
   ]
  },
  {
   "cell_type": "code",
   "execution_count": null,
   "id": "f8d14ad7-0afa-4fbe-aa04-000199f22365",
   "metadata": {},
   "outputs": [],
   "source": [
    "# Challenges faced:\n",
    "The most difficult part of our project was to transform the data base into one without atom mapping and in a correct smiles notation to fit the input of the user.\n",
    "Another challenge was rooted in the size of the databse. Indeed, some functions took a few minutes to run each and some had their kernels die before completing the task. \n",
    "To tackle this problem, and because the size of the data could not be reduced, some functions had to be seriously optimized as for everything to run smoothly.\n"
   ]
  }
 ],
 "metadata": {
  "kernelspec": {
   "display_name": "Python 3 (ipykernel)",
   "language": "python",
   "name": "python3"
  },
  "language_info": {
   "codemirror_mode": {
    "name": "ipython",
    "version": 3
   },
   "file_extension": ".py",
   "mimetype": "text/x-python",
   "name": "python",
   "nbconvert_exporter": "python",
   "pygments_lexer": "ipython3",
   "version": "3.11.5"
  }
 },
 "nbformat": 4,
 "nbformat_minor": 5
}
