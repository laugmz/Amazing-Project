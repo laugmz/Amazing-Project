{
 "cells": [
  {
   "cell_type": "code",
   "execution_count": null,
   "id": "530f7a79-3046-417e-b0fc-35281eecc97b",
   "metadata": {},
   "outputs": [],
   "source": [
    "#\"Finding Your Reaction\" Project\n",
    "\n",
    "# Purpose of our project:\n",
    "\n",
    "To make a code that would output the reaction of formation of a product input by the user within the limits of our database.\n",
    "If the product can be formed by various reactions, the one with the highest yield is returned.\n",
    "If the given product is not in the database, the program offers the possibility to find an isomer present in the database and to return its formation reaction, as to not leave the user empty handed.\n",
    "In addition, the reaction is displayed in a 2-dimensional image, and the product is plotted in a 3-dimensional graph. \n",
    "In case one needs help finding a product, the package offers random products to try from the database.\n",
    "\n",
    "\n",
    "# Demonstration and result:\n",
    "For example, if we enter \n",
    "\n",
    "# Advantages:\n",
    "-With slight modifications, the package could be used with various databases. Our conversion in smiles is relatively global, there are many functions to fit to the smile’s notation.\n",
    "-The time spent searching for the formation reaction of the needed molecule is, if contained in our database, drastically reduced and far less tedious than than if one needed to look anywhere.\n",
    "-The database used in the project covers all reactions patented in the USA between 1996 and 2016. Therefore it searches, after some selection, through more than 700 000 reactions.\n",
    "-The code is interactive and can be used by everyone as we have various entrees such as the common name or the smiles notation of the molecule.\n",
    "-The input doesn't need to be in SMILES. Common molecule names are converted by the package as chemists use that langage only in programming.                                                                          \n",
    "-If the molecule isn’t in the data base, the user still has the option to search for a possible isomer formation reaction instead of the initial molecule.\n",
    "-To test the code or if the user doesn’t know which molecule to form, they have the possibility to ask for a random molecule’s smiles in the database.\n",
    "-Visualizations of the reaction and the product that make the informations more digestible and readable than only the SMILES line codes.\n",
    "\n",
    "# Limitations and possible improvements: \n",
    "-With the conversion in SMILES, we lose some of the information of the initial database. The conversion can fail for some molecules as we simplify it. That point could be optimized.\n",
    "-The library used in the name_to_smiles function is the pubchempy one. Therefore, if the input that needs to be converted in SMILES isn't in the library, the code won't work, even if a reaction exist in our database.\n",
    "-The initial data has over 1 million reactions, but because the choice to remove all reactions that didn't display their yields was made, a serious amount of information is lost. However, more than a hundred thousands reactions remain.\n",
    "\n",
    "# Challenges faced:\n",
    "The most difficult part of our project was to transform the data base into one without atom mapping and in a correct smiles notation to fit the input of the user.\n",
    "Another challenge was rooted in the size of the databse. Indeed, some functions took a few minutes to run each and some had their kernels die before completing the task. \n",
    "To tackle this problem, and because the size of the data could not be reduced, some functions had to be seriously optimized as for everything to run smoothly.\n",
    "\n",
    "\n",
    "\n"
   ]
  }
 ],
 "metadata": {
  "kernelspec": {
   "display_name": "Python 3 (ipykernel)",
   "language": "python",
   "name": "python3"
  },
  "language_info": {
   "codemirror_mode": {
    "name": "ipython",
    "version": 3
   },
   "file_extension": ".py",
   "mimetype": "text/x-python",
   "name": "python",
   "nbconvert_exporter": "python",
   "pygments_lexer": "ipython3",
   "version": "3.10.12"
  }
 },
 "nbformat": 4,
 "nbformat_minor": 5
}
