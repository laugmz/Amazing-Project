{
 "cells": [
  {
   "cell_type": "code",
   "execution_count": null,
   "id": "f2d874eb-e9f2-4cf7-a9dd-5113474a3381",
   "metadata": {
    "tags": []
   },
   "outputs": [
    {
     "name": "stdin",
     "output_type": "stream",
     "text": [
      "Press Enter to get random products or type 'exit' to quit:  \n"
     ]
    },
    {
     "name": "stdout",
     "output_type": "stream",
     "text": [
      "Randomly selected products: [F:1][C@:5]([C:4]([H:3])([C:31]#[N:32])[H:41])([N+:11]([O-:12])[O:13])[C:21]([H:22])([H:23])[H:24]    10.330447\n",
      "dtype: object\n"
     ]
    }
   ],
   "source": [
    "import random\n",
    "import pandas as pd\n",
    "\n",
    "\n",
    "# Main function\n",
    "def main():\n",
    "    \n",
    "    # Read data from database.csv\n",
    "    column_names =[\"Reactant 1\", \"Reactant 2\", \"Product 1\", \"Product 2\", \"Product 3\", \"Yield\"]\n",
    "    dataFrame = pd.read_csv(\"database.csv\", names = column_names, delimiter =\";\", skiprows = 1)\n",
    "    \n",
    "    while True:\n",
    "        input(\"Press Enter to get random products or type 'exit' to quit: \")\n",
    "        filtered_columns = [dataFrame[col].dropna() for col in [\"Product 1\", \"Product 2\", \"Product 3\"]]\n",
    "        selected_columns = pd.concat(filtered_columns, axis=0)\n",
    "        products = selected_columns.sample(n=1)\n",
    "        print(\"Randomly selected products:\", products)\n",
    "        \n",
    "        choice = input(\"Do you want to continue? (yes/no): \").strip().lower()\n",
    "        if choice == \"no\":\n",
    "            print(\"Exiting...\")\n",
    "            break\n",
    "            \n",
    "if __name__ == \"__main__\":\n",
    "    main()\n",
    "\n",
    "\n"
   ]
  },
  {
   "cell_type": "code",
   "execution_count": null,
   "id": "01e9046f-55b9-4eba-9acc-da265aeceeec",
   "metadata": {},
   "outputs": [],
   "source": []
  }
 ],
 "metadata": {
  "kernelspec": {
   "display_name": "Python 3 (ipykernel)",
   "language": "python",
   "name": "python3"
  },
  "language_info": {
   "codemirror_mode": {
    "name": "ipython",
    "version": 3
   },
   "file_extension": ".py",
   "mimetype": "text/x-python",
   "name": "python",
   "nbconvert_exporter": "python",
   "pygments_lexer": "ipython3",
   "version": "3.11.5"
  }
 },
 "nbformat": 4,
 "nbformat_minor": 5
}
