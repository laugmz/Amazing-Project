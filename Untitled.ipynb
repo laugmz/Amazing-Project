{
 "cells": [
  {
   "cell_type": "code",
   "execution_count": 4,
   "id": "f69968fb-77a7-40f0-a5e4-d2cc0200d848",
   "metadata": {},
   "outputs": [],
   "source": [
    "import pubchempy as pcp\n",
    "\n",
    "def name_to_smiles(molecule_name):\n",
    "    \"\"\"\n",
    "    Convert a molecule name to a SMILES notation using PubChemPy's PubChem database.\n",
    "    Args:\n",
    "    - molecule_name (str): The name of the molecule.\n",
    "    Returns:\n",
    "    - smiles (str): The SMILES notation of the molecule, or None if retrieval fails.\n",
    "    \"\"\"\n",
    "    try:\n",
    "        compound = pcp.get_compounds(molecule_name, 'name')\n",
    "        if compound:\n",
    "            return compound[0].canonical_smiles\n",
    "        else:\n",
    "            print(\"Error: Unable to retrieve molecule information.\")\n",
    "            return None\n",
    "    except:\n",
    "        print(\"Error: Unable to retrieve molecule information.\")\n",
    "        return None\n"
   ]
  },
  {
   "cell_type": "code",
   "execution_count": 2,
   "id": "e51e2a2e-9d53-4772-a304-e66b26e8e321",
   "metadata": {},
   "outputs": [
    {
     "name": "stdin",
     "output_type": "stream",
     "text": [
      "Enter a string:  aspirin\n"
     ]
    }
   ],
   "source": [
    "# Prompt the user to enter a string\n",
    "string_input = input(\"Enter a string: \")"
   ]
  },
  {
   "cell_type": "code",
   "execution_count": 8,
   "id": "1bf003c8-e549-4c32-9ad3-15250c465368",
   "metadata": {},
   "outputs": [
    {
     "name": "stdout",
     "output_type": "stream",
     "text": [
      "SMILES notation for aspirin: CC(=O)OC1=CC=CC=C1C(=O)O\n"
     ]
    }
   ],
   "source": [
    "smiles = name_to_smiles(string_input)\n",
    "if smiles:\n",
    "    print(f\"SMILES notation for {string_input}: {smiles}\")"
   ]
  },
  {
   "cell_type": "code",
   "execution_count": null,
   "id": "e92d96eb-46ab-4303-994b-e8359265b619",
   "metadata": {},
   "outputs": [],
   "source": [
    "if is_smiles(string_input)== False:\n",
    "    smiles = name_to_smiles(string_input)\n",
    "    if smiles:\n",
    "        print(f\"SMILES notation for {string_input}: {smiles}\")\n",
    "else:\n",
    "    print (string_input)"
   ]
  },
  {
   "cell_type": "code",
   "execution_count": 4,
   "id": "5813914e-0eea-4790-b48b-827516aa96fd",
   "metadata": {},
   "outputs": [
    {
     "name": "stdout",
     "output_type": "stream",
     "text": [
      "SMILES without atom mapping numbers: [Br-].[Br][C]([C]([H])([C]#[N])[C]#[N])([H])[H]\n"
     ]
    }
   ],
   "source": [
    "import re\n",
    "\n",
    "def remove_atom_mapping(smiles):\n",
    "    \"\"\"\n",
    "    Remove atom mapping numbers from a SMILES-like notation.\n",
    "\n",
    "    Args:\n",
    "    - smiles (str): The SMILES-like notation with atom mapping numbers.\n",
    "\n",
    "    Returns:\n",
    "    - smiles_without_mapping (str): The SMILES notation without atom mapping numbers.\n",
    "    \"\"\"\n",
    "    # Define a regular expression pattern to match atom mapping numbers\n",
    "    pattern = r':\\d+'\n",
    "\n",
    "    # Replace atom mapping numbers with an empty string\n",
    "    smiles_without_mapping = re.sub(pattern, '', smiles)\n",
    "\n",
    "    return smiles_without_mapping\n",
    "\n",
    "# Example usage:\n",
    "smiles_with_mapping = \"[Br-:1].[Br:2][C:5]([C:4]([H:3])([C:31]#[N:32])[C:41]#[N:42])([H:11])[H:21]\"\n",
    "clean_smiles = remove_atom_mapping(smiles_with_mapping)\n",
    "print(\"SMILES without atom mapping numbers:\", clean_smiles)\n"
   ]
  },
  {
   "cell_type": "code",
   "execution_count": 8,
   "id": "25997240-7678-405e-9dac-8cca7faa8686",
   "metadata": {},
   "outputs": [
    {
     "name": "stdout",
     "output_type": "stream",
     "text": [
      "SMILES without atom mapping numbers: Br-.BrC(C()(C#N)C#N)()\n"
     ]
    }
   ],
   "source": [
    "import re\n",
    "\n",
    "def Smiles(smiles):\n",
    "    \"\"\"\n",
    "    Remove atom mapping numbers, brackets, and 'H' characters from a SMILES-like notation.\n",
    "    Args:\n",
    "    - smiles (str): The SMILES-like notation with atom mapping numbers, brackets, and 'H' characters.\n",
    "    Returns:\n",
    "    - smiles_without_mapping (str): The SMILES notation without atom mapping numbers, brackets, and 'H' characters.\n",
    "    \"\"\"\n",
    "    # Define a regular expression pattern to match atom mapping numbers, brackets, and 'H' characters\n",
    "    pattern = r'[:\\[\\]H]'\n",
    "    smiles_without_mapping = re.sub(pattern, '', smiles)\n",
    "    return smiles_without_mapping\n",
    "    # Example usage:\n",
    "smiles_with_mapping = \"[Br-:1].[Br:2][C:5]([C:4]([H:3])([C:31]#[N:32])[C:41]#[N:42])([H:11])[H:21]\"\n",
    "clean_smiles = Smiles(remove_atom_mapping(smiles_with_mapping))\n",
    "print(\"SMILES without atom mapping numbers:\", clean_smiles)"
   ]
  },
  {
   "cell_type": "code",
   "execution_count": 12,
   "id": "59b5a8d8-d311-4f72-94e1-293022f7e322",
   "metadata": {},
   "outputs": [
    {
     "name": "stdout",
     "output_type": "stream",
     "text": [
      "SMILES without atom mapping numbers: Br-.BrC(C(C#N)C#N)\n"
     ]
    }
   ],
   "source": [
    "def Smiles(smiles):\n",
    "    \"\"\"\n",
    "    Remove atom mapping numbers, brackets, 'H' characters, and empty parentheses from a SMILES-like notation.\n",
    "    Args:\n",
    "    - smiles (str): The SMILES-like notation with atom mapping numbers, brackets, 'H' characters, and empty parentheses.\n",
    "    Returns:\n",
    "    - smiles_cleaned (str): The cleaned SMILES notation.\n",
    "    \"\"\"\n",
    "    # Define a regular expression pattern to match atom mapping numbers, brackets, 'H' characters, and empty parentheses\n",
    "    pattern = r'[:\\[\\]\\ H]'\n",
    "    # Use re.sub() to remove the specified characters\n",
    "    smiles_cleaned = re.sub(pattern, '', smiles)\n",
    "    # Remove empty parentheses only\n",
    "    smiles_cleaned = re.sub(r'\\(\\)', '', smiles_cleaned)\n",
    "    return smiles_cleaned\n",
    "\n",
    "# Example usage:\n",
    "smiles_with_mapping = \"[Br-:1].[Br:2][C:5]([C:4]([H:3])([C:31]#[N:32])[C:41]#[N:42])([H:11])[H:21]\"\n",
    "clean_smiles = Smiles(remove_atom_mapping(smiles_with_mapping))\n",
    "print(\"SMILES without atom mapping numbers:\", clean_smiles)"
   ]
  },
  {
   "cell_type": "code",
   "execution_count": 19,
   "id": "9bd88161-2c2d-4a5d-9d35-7b5cb42279ef",
   "metadata": {},
   "outputs": [
    {
     "name": "stdout",
     "output_type": "stream",
     "text": [
      "Cleaned SMILES:  Br-.BrCCC#NC#N\n"
     ]
    }
   ],
   "source": [
    "import re\n",
    "\n",
    "def Smiles(smiles):\n",
    "    \"\"\"\n",
    "    Convert \"X-\" elements where X can be \"Br\", \"Cl\", or \"F\" into \"[X-]\" in a SMILES-like notation.\n",
    "    Args:\n",
    "    - smiles (str): The SMILES-like notation.\n",
    "    Returns:\n",
    "    - smiles_cleaned (str): The cleaned SMILES notation.\n",
    "    \"\"\"\n",
    "    # Define a regular expression pattern to match \"X-\" elements\n",
    "    pattern = r'(Br|Cl|F)-'\n",
    "    # Use re.sub() to replace \"X-\" elements with \"[X-]\"\n",
    "    smiles_cleaned = re.sub(pattern, r'[\\1]-', smiles)\n",
    "    # Remove atom mapping numbers, brackets, 'H' characters, and empty parentheses\n",
    "    smiles_cleaned = re.sub(r'[:\\[\\]\\(\\)H]', '', smiles_cleaned)\n",
    "    # Remove empty parentheses only\n",
    "    smiles_cleaned = re.sub(r'\\(\\)', '', smiles_cleaned)\n",
    "    return smiles_cleaned\n",
    "\n",
    "# Example usage:\n",
    "smiles_with_mapping = \" Br-.BrCCC#NC#N\"\n",
    "clean_smiles = Smiles(smiles_with_mapping)\n",
    "print(\"Cleaned SMILES:\", clean_smiles)"
   ]
  },
  {
   "cell_type": "code",
   "execution_count": 21,
   "id": "3d8bd0f1-ffbc-4b4b-a77c-86164a41359b",
   "metadata": {},
   "outputs": [
    {
     "name": "stdout",
     "output_type": "stream",
     "text": [
      "Cleaned SMILES: [Br-].BrCCC#NC#N\n"
     ]
    }
   ],
   "source": [
    "def convert_X(smiles):\n",
    "    \"\"\"\n",
    "    Convert \"X-\" elements where X can be \"Br\", \"Cl\", or \"F\" into \"[X-]\" in a SMILES-like notation.\n",
    "    Args:\n",
    "    - smiles (str): The SMILES-like notation.\n",
    "    Returns:\n",
    "    - cleaned_smiles (str): The cleaned SMILES notation.\n",
    "    \"\"\"\n",
    "    # Define the elements you want to convert\n",
    "    elements = ['Br', 'Cl', 'F']\n",
    "    # Iterate over each element\n",
    "    for element in elements:\n",
    "        # Replace \"X-\" with \"[X-]\"\n",
    "        smiles = smiles.replace(element + '-', '[' + element + '-]')\n",
    "    return smiles\n",
    "\n",
    "# Example usage:\n",
    "cleaned_smiles = \"Br-.BrCCC#NC#N\"\n",
    "result = convert_X(cleaned_smiles)\n",
    "print(\"Cleaned SMILES:\", result)\n",
    "\n",
    "\n"
   ]
  },
  {
   "cell_type": "code",
   "execution_count": 3,
   "id": "df080a35-4710-4a65-bed0-bb89d823fa97",
   "metadata": {},
   "outputs": [
    {
     "ename": "ValueError",
     "evalue": "ChemicalReactionParserException: a reaction requires at least two > characters",
     "output_type": "error",
     "traceback": [
      "\u001b[1;31m---------------------------------------------------------------------------\u001b[0m",
      "\u001b[1;31mValueError\u001b[0m                                Traceback (most recent call last)",
      "Cell \u001b[1;32mIn[3], line 18\u001b[0m\n\u001b[0;32m     15\u001b[0m product2 \u001b[38;5;241m=\u001b[39m Chem\u001b[38;5;241m.\u001b[39mMolFromSmiles(product2_smiles)\n\u001b[0;32m     17\u001b[0m \u001b[38;5;66;03m# Create the reaction\u001b[39;00m\n\u001b[1;32m---> 18\u001b[0m reaction \u001b[38;5;241m=\u001b[39m \u001b[43mAllChem\u001b[49m\u001b[38;5;241;43m.\u001b[39;49m\u001b[43mReactionFromSmarts\u001b[49m\u001b[43m(\u001b[49m\u001b[38;5;124;43m'\u001b[39;49m\u001b[38;5;132;43;01m{}\u001b[39;49;00m\u001b[38;5;124;43m + \u001b[39;49m\u001b[38;5;132;43;01m{}\u001b[39;49;00m\u001b[38;5;124;43m >> \u001b[39;49m\u001b[38;5;132;43;01m{}\u001b[39;49;00m\u001b[38;5;124;43m + \u001b[39;49m\u001b[38;5;132;43;01m{}\u001b[39;49;00m\u001b[38;5;124;43m'\u001b[39;49m\u001b[38;5;241;43m.\u001b[39;49m\u001b[43mformat\u001b[49m\u001b[43m(\u001b[49m\u001b[43mreactant1_smiles\u001b[49m\u001b[43m,\u001b[49m\u001b[43m \u001b[49m\u001b[43mreactant2_smiles\u001b[49m\u001b[43m,\u001b[49m\u001b[43m \u001b[49m\u001b[43mproduct1_smiles\u001b[49m\u001b[43m,\u001b[49m\u001b[43m \u001b[49m\u001b[43mproduct2_smiles\u001b[49m\u001b[43m)\u001b[49m\u001b[43m)\u001b[49m\n\u001b[0;32m     20\u001b[0m \u001b[38;5;66;03m# Draw the reaction\u001b[39;00m\n\u001b[0;32m     21\u001b[0m reaction_image \u001b[38;5;241m=\u001b[39m Draw\u001b[38;5;241m.\u001b[39mReactionToImage(reaction)\n",
      "\u001b[1;31mValueError\u001b[0m: ChemicalReactionParserException: a reaction requires at least two > characters"
     ]
    }
   ],
   "source": [
    "from rdkit import Chem\n",
    "from rdkit.Chem import Draw\n",
    "from rdkit.Chem import AllChem\n",
    "\n",
    "# Define the reactants and products\n",
    "reactant1_smiles = '[Br-]'\n",
    "reactant2_smiles = 'ClC(C(C#N)C#N)'\n",
    "product1_smiles = 'BrC(C(C#N)C#N)'\n",
    "product2_smiles = '[Cl-]'\n",
    "\n",
    "# Convert SMILES strings to RDKit molecules\n",
    "reactant1 = Chem.MolFromSmiles(reactant1_smiles)\n",
    "reactant2 = Chem.MolFromSmiles(reactant2_smiles)\n",
    "product1 = Chem.MolFromSmiles(product1_smiles)\n",
    "product2 = Chem.MolFromSmiles(product2_smiles)\n",
    "\n",
    "# Create the reaction\n",
    "reaction = AllChem.ReactionFromSmarts('{} + {} >> {} + {}'.format(reactant1_smiles, reactant2_smiles, product1_smiles, product2_smiles))\n",
    "\n",
    "# Draw the reaction\n",
    "reaction_image = Draw.ReactionToImage(reaction)\n",
    "\n",
    "# Save or display the image\n",
    "reaction_image.show()"
   ]
  },
  {
   "cell_type": "code",
   "execution_count": 8,
   "id": "ce8e856b-34ad-4cf8-8dd1-2fc87fe3b2cb",
   "metadata": {},
   "outputs": [
    {
     "name": "stderr",
     "output_type": "stream",
     "text": [
      "[15:46:34] SMILES Parse Error: syntax error while parsing: Br-\n",
      "[15:46:34] SMILES Parse Error: Failed parsing SMILES 'Br-' for input: 'Br-'\n",
      "[15:46:34] SMILES Parse Error: syntax error while parsing: Cl-\n",
      "[15:46:34] SMILES Parse Error: Failed parsing SMILES 'Cl-' for input: 'Cl-'\n"
     ]
    }
   ],
   "source": [
    "from rdkit import Chem\n",
    "from rdkit.Chem import Draw\n",
    "from rdkit.Chem import AllChem\n",
    "\n",
    "# Define the reactants and products as SMILES strings\n",
    "reactant1_smiles = 'Br-'\n",
    "reactant2_smiles = 'ClC(C(C#N)C#N)'\n",
    "product1_smiles = 'BrC(C(C#N)C#N)'\n",
    "product2_smiles = 'Cl-'\n",
    "\n",
    "# Convert SMILES strings to RDKit molecules\n",
    "reactant1 = Chem.MolFromSmiles(reactant1_smiles)\n",
    "reactant2 = Chem.MolFromSmiles(reactant2_smiles)\n",
    "product2 = Chem.MolFromSmiles(product2_smiles)\n",
    "\n",
    "# Create a reaction SMARTS string\n",
    "reaction_smarts = '[{}]>>[*-].[{}]'.format(reactant1_smiles, product2_smiles)\n",
    "\n",
    "# Parse the reaction SMARTS string\n",
    "reaction = AllChem.ReactionFromSmarts(reaction_smarts)\n",
    "\n",
    "# Draw the reaction\n",
    "reaction_image = Draw.ReactionToImage(reaction)\n",
    "\n",
    "# Save or display the image\n",
    "reaction_image.show()\n"
   ]
  },
  {
   "cell_type": "code",
   "execution_count": 14,
   "id": "dcc14733-1701-43b0-a5a5-148f5c8a6785",
   "metadata": {},
   "outputs": [],
   "source": [
    "from rdkit import Chem\n",
    "from rdkit.Chem import Draw\n",
    "from rdkit.Chem import AllChem\n",
    "\n",
    "# Create a reaction SMARTS string\n",
    "reaction_smarts = \"[Br-:2].[Br:1][C:5]([C:4]([H:3])([C:31]#[N:32])[C:41]#[N:42])([H:11])[H:21]>>[Br-:1].[Br:2][C:5]([C:4]([H:3])([C:31]#[N:32])[C:41]#[N:42])([H:11])[H:21]\"\n",
    "\n",
    "# Parse the reaction SMARTS string\n",
    "reaction = AllChem.ReactionFromSmarts(reaction_smarts)\n",
    "\n",
    "# Draw the reaction\n",
    "reaction_image = Draw.ReactionToImage(reaction)\n",
    "\n",
    "# Save or display the image\n",
    "reaction_image.show()\n",
    "\n",
    "\n"
   ]
  },
  {
   "cell_type": "code",
   "execution_count": null,
   "id": "d8fc90fd-f959-4964-96c9-93e75fce0391",
   "metadata": {},
   "outputs": [],
   "source": []
  }
 ],
 "metadata": {
  "kernelspec": {
   "display_name": "Python 3 (ipykernel)",
   "language": "python",
   "name": "python3"
  },
  "language_info": {
   "codemirror_mode": {
    "name": "ipython",
    "version": 3
   },
   "file_extension": ".py",
   "mimetype": "text/x-python",
   "name": "python",
   "nbconvert_exporter": "python",
   "pygments_lexer": "ipython3",
   "version": "3.9.18"
  }
 },
 "nbformat": 4,
 "nbformat_minor": 5
}
