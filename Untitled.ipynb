{
 "cells": [
  {
   "cell_type": "code",
   "execution_count": 10,
   "id": "d657f290-751f-48f1-bf5f-9ce2ae3a41ab",
   "metadata": {},
   "outputs": [
    {
     "name": "stdout",
     "output_type": "stream",
     "text": [
      "True\n"
     ]
    }
   ],
   "source": [
    "from rdkit import Chem\n",
    "from rdkit.Chem import AllChem\n",
    "\n",
    "def get_canonical_smiles(smiles):\n",
    "    mol = Chem.MolFromSmiles(smiles)\n",
    "    if mol is None:\n",
    "        return None\n",
    "    Chem.SanitizeMol(mol)\n",
    "    return Chem.MolToSmiles(mol, isomericSmiles=True)\n",
    "\n",
    "def find_isomer(df, input_smiles):\n",
    "    input_canonical_smiles = get_canonical_smiles(input_smiles)\n",
    "    if input_canonical_smiles is None:\n",
    "        return \"Invalid input SMILES\"\n",
    "\n",
    "    for idx, row in df.iterrows():\n",
    "        df_canonical_smiles = get_canonical_smiles(row['SMILES'])\n",
    "        if df_canonical_smiles is None:\n",
    "            continue\n",
    "        if input_canonical_smiles == df_canonical_smiles:\n",
    "            return True  # Found an isomer\n",
    "    return False  # No isomer found\n",
    "\n",
    "# Example usage\n",
    "import pandas as pd\n",
    "\n",
    "# Assuming df is your dataframe with a 'SMILES' column\n",
    "# Example dataframe\n",
    "data = {'SMILES': ['CCO', 'COC', 'CCC']}\n",
    "df = pd.DataFrame(data)\n",
    "\n",
    "input_smiles = 'COC'  # Example input SMILES\n",
    "\n",
    "result = find_isomer(df, input_smiles)\n",
    "print(result)  # Output: True"
   ]
  },
  {
   "cell_type": "code",
   "execution_count": null,
   "id": "e70440d9-877f-4bc9-97d2-036bad938ae8",
   "metadata": {},
   "outputs": [],
   "source": []
  }
 ],
 "metadata": {
  "kernelspec": {
   "display_name": "Python 3 (ipykernel)",
   "language": "python",
   "name": "python3"
  },
  "language_info": {
   "codemirror_mode": {
    "name": "ipython",
    "version": 3
   },
   "file_extension": ".py",
   "mimetype": "text/x-python",
   "name": "python",
   "nbconvert_exporter": "python",
   "pygments_lexer": "ipython3",
   "version": "3.10.12"
  }
 },
 "nbformat": 4,
 "nbformat_minor": 5
}
