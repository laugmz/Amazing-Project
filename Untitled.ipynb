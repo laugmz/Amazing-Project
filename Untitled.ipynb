{
 "cells": [
  {
   "cell_type": "code",
   "execution_count": 4,
   "id": "f69968fb-77a7-40f0-a5e4-d2cc0200d848",
   "metadata": {},
   "outputs": [],
   "source": [
    "import pubchempy as pcp\n",
    "\n",
    "def name_to_smiles(molecule_name):\n",
    "    \"\"\"\n",
    "    Convert a molecule name to a SMILES notation using PubChemPy's PubChem database.\n",
    "    Args:\n",
    "    - molecule_name (str): The name of the molecule.\n",
    "    Returns:\n",
    "    - smiles (str): The SMILES notation of the molecule, or None if retrieval fails.\n",
    "    \"\"\"\n",
    "    try:\n",
    "        compound = pcp.get_compounds(molecule_name, 'name')\n",
    "        if compound:\n",
    "            return compound[0].canonical_smiles\n",
    "        else:\n",
    "            print(\"Error: Unable to retrieve molecule information.\")\n",
    "            return None\n",
    "    except:\n",
    "        print(\"Error: Unable to retrieve molecule information.\")\n",
    "        return None\n"
   ]
  },
  {
   "cell_type": "code",
   "execution_count": 2,
   "id": "e51e2a2e-9d53-4772-a304-e66b26e8e321",
   "metadata": {},
   "outputs": [
    {
     "name": "stdin",
     "output_type": "stream",
     "text": [
      "Enter a string:  aspirin\n"
     ]
    }
   ],
   "source": [
    "# Prompt the user to enter a string\n",
    "string_input = input(\"Enter a string: \")"
   ]
  },
  {
   "cell_type": "code",
   "execution_count": 8,
   "id": "1bf003c8-e549-4c32-9ad3-15250c465368",
   "metadata": {},
   "outputs": [
    {
     "name": "stdout",
     "output_type": "stream",
     "text": [
      "SMILES notation for aspirin: CC(=O)OC1=CC=CC=C1C(=O)O\n"
     ]
    }
   ],
   "source": [
    "smiles = name_to_smiles(string_input)\n",
    "if smiles:\n",
    "    print(f\"SMILES notation for {string_input}: {smiles}\")"
   ]
  },
  {
   "cell_type": "code",
   "execution_count": null,
   "id": "e92d96eb-46ab-4303-994b-e8359265b619",
   "metadata": {},
   "outputs": [],
   "source": [
    "if is_smiles(string_input)== False:\n",
    "    smiles = name_to_smiles(string_input)\n",
    "    if smiles:\n",
    "        print(f\"SMILES notation for {string_input}: {smiles}\")\n",
    "else:\n",
    "    print (string_input)"
   ]
  },
  {
   "cell_type": "code",
   "execution_count": 4,
   "id": "5813914e-0eea-4790-b48b-827516aa96fd",
   "metadata": {},
   "outputs": [
    {
     "name": "stdout",
     "output_type": "stream",
     "text": [
      "SMILES without atom mapping numbers: [Br-].[Br][C]([C]([H])([C]#[N])[C]#[N])([H])[H]\n"
     ]
    }
   ],
   "source": [
    "import re\n",
    "\n",
    "def remove_atom_mapping(smiles):\n",
    "    \"\"\"\n",
    "    Remove atom mapping numbers from a SMILES-like notation.\n",
    "\n",
    "    Args:\n",
    "    - smiles (str): The SMILES-like notation with atom mapping numbers.\n",
    "\n",
    "    Returns:\n",
    "    - smiles_without_mapping (str): The SMILES notation without atom mapping numbers.\n",
    "    \"\"\"\n",
    "    # Define a regular expression pattern to match atom mapping numbers\n",
    "    pattern = r':\\d+'\n",
    "\n",
    "    # Replace atom mapping numbers with an empty string\n",
    "    smiles_without_mapping = re.sub(pattern, '', smiles)\n",
    "\n",
    "    return smiles_without_mapping\n",
    "\n",
    "# Example usage:\n",
    "smiles_with_mapping = \"[Br-:1].[Br:2][C:5]([C:4]([H:3])([C:31]#[N:32])[C:41]#[N:42])([H:11])[H:21]\"\n",
    "clean_smiles = remove_atom_mapping(smiles_with_mapping)\n",
    "print(\"SMILES without atom mapping numbers:\", clean_smiles)\n"
   ]
  },
  {
   "cell_type": "code",
   "execution_count": 8,
   "id": "25997240-7678-405e-9dac-8cca7faa8686",
   "metadata": {},
   "outputs": [
    {
     "name": "stdout",
     "output_type": "stream",
     "text": [
      "SMILES without atom mapping numbers: Br-.BrC(C()(C#N)C#N)()\n"
     ]
    }
   ],
   "source": [
    "import re\n",
    "\n",
    "def Smiles(smiles):\n",
    "    \"\"\"\n",
    "    Remove atom mapping numbers, brackets, and 'H' characters from a SMILES-like notation.\n",
    "    Args:\n",
    "    - smiles (str): The SMILES-like notation with atom mapping numbers, brackets, and 'H' characters.\n",
    "    Returns:\n",
    "    - smiles_without_mapping (str): The SMILES notation without atom mapping numbers, brackets, and 'H' characters.\n",
    "    \"\"\"\n",
    "    # Define a regular expression pattern to match atom mapping numbers, brackets, and 'H' characters\n",
    "    pattern = r'[:\\[\\]H]'\n",
    "    smiles_without_mapping = re.sub(pattern, '', smiles)\n",
    "    return smiles_without_mapping\n",
    "    # Example usage:\n",
    "smiles_with_mapping = \"[Br-:1].[Br:2][C:5]([C:4]([H:3])([C:31]#[N:32])[C:41]#[N:42])([H:11])[H:21]\"\n",
    "clean_smiles = Smiles(remove_atom_mapping(smiles_with_mapping))\n",
    "print(\"SMILES without atom mapping numbers:\", clean_smiles)"
   ]
  },
  {
   "cell_type": "code",
   "execution_count": 12,
   "id": "59b5a8d8-d311-4f72-94e1-293022f7e322",
   "metadata": {},
   "outputs": [
    {
     "name": "stdout",
     "output_type": "stream",
     "text": [
      "SMILES without atom mapping numbers: Br-.BrC(C(C#N)C#N)\n"
     ]
    }
   ],
   "source": [
    "def Smiles(smiles):\n",
    "    \"\"\"\n",
    "    Remove atom mapping numbers, brackets, 'H' characters, and empty parentheses from a SMILES-like notation.\n",
    "    Args:\n",
    "    - smiles (str): The SMILES-like notation with atom mapping numbers, brackets, 'H' characters, and empty parentheses.\n",
    "    Returns:\n",
    "    - smiles_cleaned (str): The cleaned SMILES notation.\n",
    "    \"\"\"\n",
    "    # Define a regular expression pattern to match atom mapping numbers, brackets, 'H' characters, and empty parentheses\n",
    "    pattern = r'[:\\[\\]\\ H]'\n",
    "    # Use re.sub() to remove the specified characters\n",
    "    smiles_cleaned = re.sub(pattern, '', smiles)\n",
    "    # Remove empty parentheses only\n",
    "    smiles_cleaned = re.sub(r'\\(\\)', '', smiles_cleaned)\n",
    "    return smiles_cleaned\n",
    "\n",
    "# Example usage:\n",
    "smiles_with_mapping = \"[Br-:1].[Br:2][C:5]([C:4]([H:3])([C:31]#[N:32])[C:41]#[N:42])([H:11])[H:21]\"\n",
    "clean_smiles = Smiles(remove_atom_mapping(smiles_with_mapping))\n",
    "print(\"SMILES without atom mapping numbers:\", clean_smiles)"
   ]
  },
  {
   "cell_type": "code",
   "execution_count": 19,
   "id": "9bd88161-2c2d-4a5d-9d35-7b5cb42279ef",
   "metadata": {},
   "outputs": [
    {
     "name": "stdout",
     "output_type": "stream",
     "text": [
      "Cleaned SMILES:  Br-.BrCCC#NC#N\n"
     ]
    }
   ],
   "source": [
    "import re\n",
    "\n",
    "def Smiles(smiles):\n",
    "    \"\"\"\n",
    "    Convert \"X-\" elements where X can be \"Br\", \"Cl\", or \"F\" into \"[X-]\" in a SMILES-like notation.\n",
    "    Args:\n",
    "    - smiles (str): The SMILES-like notation.\n",
    "    Returns:\n",
    "    - smiles_cleaned (str): The cleaned SMILES notation.\n",
    "    \"\"\"\n",
    "    # Define a regular expression pattern to match \"X-\" elements\n",
    "    pattern = r'(Br|Cl|F)-'\n",
    "    # Use re.sub() to replace \"X-\" elements with \"[X-]\"\n",
    "    smiles_cleaned = re.sub(pattern, r'[\\1]-', smiles)\n",
    "    # Remove atom mapping numbers, brackets, 'H' characters, and empty parentheses\n",
    "    smiles_cleaned = re.sub(r'[:\\[\\]\\(\\)H]', '', smiles_cleaned)\n",
    "    # Remove empty parentheses only\n",
    "    smiles_cleaned = re.sub(r'\\(\\)', '', smiles_cleaned)\n",
    "    return smiles_cleaned\n",
    "\n",
    "# Example usage:\n",
    "smiles_with_mapping = \" Br-.BrCCC#NC#N\"\n",
    "clean_smiles = Smiles(smiles_with_mapping)\n",
    "print(\"Cleaned SMILES:\", clean_smiles)"
   ]
  },
  {
   "cell_type": "code",
   "execution_count": 21,
   "id": "3d8bd0f1-ffbc-4b4b-a77c-86164a41359b",
   "metadata": {},
   "outputs": [
    {
     "name": "stdout",
     "output_type": "stream",
     "text": [
      "Cleaned SMILES: [Br-].BrCCC#NC#N\n"
     ]
    }
   ],
   "source": [
    "def convert_X(smiles):\n",
    "    \"\"\"\n",
    "    Convert \"X-\" elements where X can be \"Br\", \"Cl\", or \"F\" into \"[X-]\" in a SMILES-like notation.\n",
    "    Args:\n",
    "    - smiles (str): The SMILES-like notation.\n",
    "    Returns:\n",
    "    - cleaned_smiles (str): The cleaned SMILES notation.\n",
    "    \"\"\"\n",
    "    # Define the elements you want to convert\n",
    "    elements = ['Br', 'Cl', 'F']\n",
    "    # Iterate over each element\n",
    "    for element in elements:\n",
    "        # Replace \"X-\" with \"[X-]\"\n",
    "        smiles = smiles.replace(element + '-', '[' + element + '-]')\n",
    "    return smiles\n",
    "\n",
    "# Example usage:\n",
    "cleaned_smiles = \"Br-.BrCCC#NC#N\"\n",
    "result = convert_X(cleaned_smiles)\n",
    "print(\"Cleaned SMILES:\", result)\n",
    "\n",
    "\n"
   ]
  },
  {
   "cell_type": "code",
   "execution_count": 3,
   "id": "df080a35-4710-4a65-bed0-bb89d823fa97",
   "metadata": {},
   "outputs": [
    {
     "ename": "ValueError",
     "evalue": "ChemicalReactionParserException: a reaction requires at least two > characters",
     "output_type": "error",
     "traceback": [
      "\u001b[1;31m---------------------------------------------------------------------------\u001b[0m",
      "\u001b[1;31mValueError\u001b[0m                                Traceback (most recent call last)",
      "Cell \u001b[1;32mIn[3], line 18\u001b[0m\n\u001b[0;32m     15\u001b[0m product2 \u001b[38;5;241m=\u001b[39m Chem\u001b[38;5;241m.\u001b[39mMolFromSmiles(product2_smiles)\n\u001b[0;32m     17\u001b[0m \u001b[38;5;66;03m# Create the reaction\u001b[39;00m\n\u001b[1;32m---> 18\u001b[0m reaction \u001b[38;5;241m=\u001b[39m \u001b[43mAllChem\u001b[49m\u001b[38;5;241;43m.\u001b[39;49m\u001b[43mReactionFromSmarts\u001b[49m\u001b[43m(\u001b[49m\u001b[38;5;124;43m'\u001b[39;49m\u001b[38;5;132;43;01m{}\u001b[39;49;00m\u001b[38;5;124;43m + \u001b[39;49m\u001b[38;5;132;43;01m{}\u001b[39;49;00m\u001b[38;5;124;43m >> \u001b[39;49m\u001b[38;5;132;43;01m{}\u001b[39;49;00m\u001b[38;5;124;43m + \u001b[39;49m\u001b[38;5;132;43;01m{}\u001b[39;49;00m\u001b[38;5;124;43m'\u001b[39;49m\u001b[38;5;241;43m.\u001b[39;49m\u001b[43mformat\u001b[49m\u001b[43m(\u001b[49m\u001b[43mreactant1_smiles\u001b[49m\u001b[43m,\u001b[49m\u001b[43m \u001b[49m\u001b[43mreactant2_smiles\u001b[49m\u001b[43m,\u001b[49m\u001b[43m \u001b[49m\u001b[43mproduct1_smiles\u001b[49m\u001b[43m,\u001b[49m\u001b[43m \u001b[49m\u001b[43mproduct2_smiles\u001b[49m\u001b[43m)\u001b[49m\u001b[43m)\u001b[49m\n\u001b[0;32m     20\u001b[0m \u001b[38;5;66;03m# Draw the reaction\u001b[39;00m\n\u001b[0;32m     21\u001b[0m reaction_image \u001b[38;5;241m=\u001b[39m Draw\u001b[38;5;241m.\u001b[39mReactionToImage(reaction)\n",
      "\u001b[1;31mValueError\u001b[0m: ChemicalReactionParserException: a reaction requires at least two > characters"
     ]
    }
   ],
   "source": [
    "from rdkit import Chem\n",
    "from rdkit.Chem import Draw\n",
    "from rdkit.Chem import AllChem\n",
    "\n",
    "# Define the reactants and products\n",
    "reactant1_smiles = '[Br-]'\n",
    "reactant2_smiles = 'ClC(C(C#N)C#N)'\n",
    "product1_smiles = 'BrC(C(C#N)C#N)'\n",
    "product2_smiles = '[Cl-]'\n",
    "\n",
    "# Convert SMILES strings to RDKit molecules\n",
    "reactant1 = Chem.MolFromSmiles(reactant1_smiles)\n",
    "reactant2 = Chem.MolFromSmiles(reactant2_smiles)\n",
    "product1 = Chem.MolFromSmiles(product1_smiles)\n",
    "product2 = Chem.MolFromSmiles(product2_smiles)\n",
    "\n",
    "# Create the reaction\n",
    "reaction = AllChem.ReactionFromSmarts('{} + {} >> {} + {}'.format(reactant1_smiles, reactant2_smiles, product1_smiles, product2_smiles))\n",
    "\n",
    "# Draw the reaction\n",
    "reaction_image = Draw.ReactionToImage(reaction)\n",
    "\n",
    "# Save or display the image\n",
    "reaction_image.show()"
   ]
  },
  {
   "cell_type": "code",
   "execution_count": 8,
   "id": "ce8e856b-34ad-4cf8-8dd1-2fc87fe3b2cb",
   "metadata": {},
   "outputs": [
    {
     "name": "stderr",
     "output_type": "stream",
     "text": [
      "[15:46:34] SMILES Parse Error: syntax error while parsing: Br-\n",
      "[15:46:34] SMILES Parse Error: Failed parsing SMILES 'Br-' for input: 'Br-'\n",
      "[15:46:34] SMILES Parse Error: syntax error while parsing: Cl-\n",
      "[15:46:34] SMILES Parse Error: Failed parsing SMILES 'Cl-' for input: 'Cl-'\n"
     ]
    }
   ],
   "source": [
    "from rdkit import Chem\n",
    "from rdkit.Chem import Draw\n",
    "from rdkit.Chem import AllChem\n",
    "\n",
    "# Define the reactants and products as SMILES strings\n",
    "reactant1_smiles = 'Br-'\n",
    "reactant2_smiles = 'ClC(C(C#N)C#N)'\n",
    "product1_smiles = 'BrC(C(C#N)C#N)'\n",
    "product2_smiles = 'Cl-'\n",
    "\n",
    "# Convert SMILES strings to RDKit molecules\n",
    "reactant1 = Chem.MolFromSmiles(reactant1_smiles)\n",
    "reactant2 = Chem.MolFromSmiles(reactant2_smiles)\n",
    "product2 = Chem.MolFromSmiles(product2_smiles)\n",
    "\n",
    "# Create a reaction SMARTS string\n",
    "reaction_smarts = '[{}]>>[*-].[{}]'.format(reactant1_smiles, product2_smiles)\n",
    "\n",
    "# Parse the reaction SMARTS string\n",
    "reaction = AllChem.ReactionFromSmarts(reaction_smarts)\n",
    "\n",
    "# Draw the reaction\n",
    "reaction_image = Draw.ReactionToImage(reaction)\n",
    "\n",
    "# Save or display the image\n",
    "reaction_image.show()\n"
   ]
  },
  {
   "cell_type": "code",
   "execution_count": 14,
   "id": "dcc14733-1701-43b0-a5a5-148f5c8a6785",
   "metadata": {},
   "outputs": [],
   "source": [
    "from rdkit import Chem\n",
    "from rdkit.Chem import Draw\n",
    "from rdkit.Chem import AllChem\n",
    "\n",
    "# Create a reaction SMARTS string\n",
    "reaction_smarts = \"[Br-:2].[Br:1][C:5]([C:4]([H:3])([C:31]#[N:32])[C:41]#[N:42])([H:11])[H:21]>>[Br-:1].[Br:2][C:5]([C:4]([H:3])([C:31]#[N:32])[C:41]#[N:42])([H:11])[H:21]\"\n",
    "\n",
    "# Parse the reaction SMARTS string\n",
    "reaction = AllChem.ReactionFromSmarts(reaction_smarts)\n",
    "\n",
    "# Draw the reaction\n",
    "reaction_image = Draw.ReactionToImage(reaction)\n",
    "\n",
    "# Save or display the image\n",
    "reaction_image.show()\n",
    "\n",
    "\n"
   ]
  },
  {
   "cell_type": "code",
   "execution_count": 16,
   "id": "d8fc90fd-f959-4964-96c9-93e75fce0391",
   "metadata": {},
   "outputs": [],
   "source": [
    "from rdkit import Chem\n",
    "from rdkit.Chem import Draw\n",
    "\n",
    "# SMILES string of the molecule\n",
    "smiles = 'C(=CN)N'\n",
    "\n",
    "# Convert SMILES string to RDKit molecule object\n",
    "mol = Chem.MolFromSmiles(smiles)\n",
    "\n",
    "# Check if molecule object was successfully created\n",
    "if mol is not None:\n",
    "    # Draw and display the molecule\n",
    "    Draw.MolToImage(mol).show()\n",
    "else:\n",
    "    print(\"Failed to create molecule object from SMILES string.\")\n"
   ]
  },
  {
   "cell_type": "code",
   "execution_count": 18,
   "id": "738df0f6-446c-4b45-823a-37c76620cfd5",
   "metadata": {},
   "outputs": [
    {
     "name": "stdout",
     "output_type": "stream",
     "text": [
      "      col1\n",
      "0  C(=CN)N\n",
      "1        F\n",
      "2       Cl\n",
      "3  C(=CN)N\n"
     ]
    }
   ],
   "source": [
    "import pandas as pd\n",
    "\n",
    "def remove_forward_slash(s):\n",
    "    \"\"\"\n",
    "    Remove forward slash '/' from a string.\n",
    "    Args:\n",
    "    - s (str): The input string.\n",
    "    Returns:\n",
    "    - cleaned_str (str): The string with forward slash removed.\n",
    "    \"\"\"\n",
    "    return s.replace('(/)', '')\n",
    "\n",
    "# Example DataFrame\n",
    "df = pd.DataFrame({'col1': ['C(=C(/)N)N', 'F', 'Cl', 'C(=CN)N']})\n",
    "\n",
    "# Apply the function to the column containing strings with forward slashes\n",
    "df['col1'] = df['col1'].apply(remove_forward_slash)\n",
    "\n",
    "# Display the updated DataFrame\n",
    "print(df)\n"
   ]
  },
  {
   "cell_type": "code",
   "execution_count": 32,
   "id": "54ebbed1-e465-4917-9915-2537a2b72784",
   "metadata": {},
   "outputs": [],
   "source": [
    "import re\n",
    "\n",
    "def transform_string(input_string):\n",
    "    \"\"\"\n",
    "    Transform the input string by replacing '(N+(O-)O)' with 'NO'.\n",
    "    Args:\n",
    "    - input_string (str): The input string to be transformed.\n",
    "    Returns:\n",
    "    - transformed_string (str): The transformed string.\n",
    "    \"\"\"\n",
    "    transformed_string = re.sub(r'N\\+\\(O-\\)O', '(NO)', input_string)\n",
    "    return transformed_string\n"
   ]
  },
  {
   "cell_type": "code",
   "execution_count": 33,
   "id": "211f1922-6c92-4ca1-939f-6a2ee768c0aa",
   "metadata": {},
   "outputs": [
    {
     "name": "stdout",
     "output_type": "stream",
     "text": [
      "FC(C(N)(NO))N;-;[F-];C(C(N)(NO))N\n"
     ]
    }
   ],
   "source": [
    "result = transform_string('FC(C(N)N+(O-)O)N;-;[F-];C(C(N)N+(O-)O)N')\n",
    "print(result)"
   ]
  },
  {
   "cell_type": "code",
   "execution_count": 36,
   "id": "31f332e1-6ac6-4eb1-847b-da74f8e7c8a1",
   "metadata": {},
   "outputs": [
    {
     "name": "stdout",
     "output_type": "stream",
     "text": [
      "FC(C(N)(NO))N>>[F-].C(C(N)(NO))N\n"
     ]
    }
   ],
   "source": [
    "# print the reaction\n",
    "from rdkit import Chem\n",
    "from rdkit.Chem import Draw\n",
    "from rdkit.Chem import AllChem\n",
    "\n",
    "# Create a reaction SMARTS string\n",
    "reaction_smarts = 'FC(C(N)(NO))N>>[F-].C(C(N)(NO))N'\n",
    "print (reaction_smarts)\n",
    "# Parse the reaction SMARTS string\n",
    "reaction = AllChem.ReactionFromSmarts(reaction_smarts)\n",
    "\n",
    "# Draw the reaction\n",
    "reaction_image = Draw.ReactionToImage(reaction)\n",
    "\n",
    "# Save or display the image\n",
    "reaction_image.show()\n",
    "\n"
   ]
  },
  {
   "cell_type": "code",
   "execution_count": 37,
   "id": "69e7f7fd-25bd-474c-9634-cf6413298e29",
   "metadata": {},
   "outputs": [
    {
     "name": "stdout",
     "output_type": "stream",
     "text": [
      "2023.09.5\n"
     ]
    }
   ],
   "source": [
    "import rdkit\n",
    "print(rdkit.__version__)"
   ]
  },
  {
   "cell_type": "code",
   "execution_count": 38,
   "id": "e0cc7360-3230-4255-aec5-8c2081c364bd",
   "metadata": {},
   "outputs": [],
   "source": [
    "import pandas as pd\n",
    "import random\n",
    "\n",
    "def random_product(df):\n",
    "    \"\"\"\n",
    "    Select a random element from the columns 'product 1', 'product 2', and 'product 3' of a DataFrame.\n",
    "    Args:\n",
    "    - df (pandas.DataFrame): The DataFrame containing the columns.\n",
    "    Returns:\n",
    "    - random_element (str or None): A random element from the specified columns.\n",
    "                                    Returns None if all columns are empty.\n",
    "    \"\"\"\n",
    "    # Concatenate all three columns\n",
    "    all_products = pd.concat([df['product 1'], df['product 2'], df['product 3']])\n",
    "    \n",
    "    # Remove missing values\n",
    "    all_products = all_products.dropna()\n",
    "    \n",
    "    if len(all_products) == 0:\n",
    "        return None\n",
    "    \n",
    "    # Select a random element\n",
    "    random_element = random.choice(all_products)\n",
    "    \n",
    "    return random_element\n"
   ]
  },
  {
   "cell_type": "code",
   "execution_count": 39,
   "id": "aaa221fd-3a49-4f4d-a9d1-6c9ca4381edf",
   "metadata": {},
   "outputs": [
    {
     "ename": "KeyError",
     "evalue": "6",
     "output_type": "error",
     "traceback": [
      "\u001b[1;31m---------------------------------------------------------------------------\u001b[0m",
      "\u001b[1;31mKeyError\u001b[0m                                  Traceback (most recent call last)",
      "File \u001b[1;32m~\\anaconda3\\envs\\env\\lib\\site-packages\\pandas\\core\\indexes\\base.py:3805\u001b[0m, in \u001b[0;36mIndex.get_loc\u001b[1;34m(self, key)\u001b[0m\n\u001b[0;32m   3804\u001b[0m \u001b[38;5;28;01mtry\u001b[39;00m:\n\u001b[1;32m-> 3805\u001b[0m     \u001b[38;5;28;01mreturn\u001b[39;00m \u001b[38;5;28;43mself\u001b[39;49m\u001b[38;5;241;43m.\u001b[39;49m\u001b[43m_engine\u001b[49m\u001b[38;5;241;43m.\u001b[39;49m\u001b[43mget_loc\u001b[49m\u001b[43m(\u001b[49m\u001b[43mcasted_key\u001b[49m\u001b[43m)\u001b[49m\n\u001b[0;32m   3806\u001b[0m \u001b[38;5;28;01mexcept\u001b[39;00m \u001b[38;5;167;01mKeyError\u001b[39;00m \u001b[38;5;28;01mas\u001b[39;00m err:\n",
      "File \u001b[1;32mindex.pyx:167\u001b[0m, in \u001b[0;36mpandas._libs.index.IndexEngine.get_loc\u001b[1;34m()\u001b[0m\n",
      "File \u001b[1;32mindex.pyx:191\u001b[0m, in \u001b[0;36mpandas._libs.index.IndexEngine.get_loc\u001b[1;34m()\u001b[0m\n",
      "File \u001b[1;32mindex.pyx:234\u001b[0m, in \u001b[0;36mpandas._libs.index.IndexEngine._get_loc_duplicates\u001b[1;34m()\u001b[0m\n",
      "File \u001b[1;32mindex.pyx:242\u001b[0m, in \u001b[0;36mpandas._libs.index.IndexEngine._maybe_get_bool_indexer\u001b[1;34m()\u001b[0m\n",
      "File \u001b[1;32mindex.pyx:134\u001b[0m, in \u001b[0;36mpandas._libs.index._unpack_bool_indexer\u001b[1;34m()\u001b[0m\n",
      "\u001b[1;31mKeyError\u001b[0m: 6",
      "\nThe above exception was the direct cause of the following exception:\n",
      "\u001b[1;31mKeyError\u001b[0m                                  Traceback (most recent call last)",
      "Cell \u001b[1;32mIn[39], line 7\u001b[0m\n\u001b[0;32m      4\u001b[0m df \u001b[38;5;241m=\u001b[39m pd\u001b[38;5;241m.\u001b[39mDataFrame(data)\n\u001b[0;32m      6\u001b[0m \u001b[38;5;66;03m# Get a random element\u001b[39;00m\n\u001b[1;32m----> 7\u001b[0m random_element \u001b[38;5;241m=\u001b[39m \u001b[43mrandom_product\u001b[49m\u001b[43m(\u001b[49m\u001b[43mdf\u001b[49m\u001b[43m)\u001b[49m\n\u001b[0;32m      8\u001b[0m \u001b[38;5;28mprint\u001b[39m(\u001b[38;5;124m\"\u001b[39m\u001b[38;5;124mRandom element:\u001b[39m\u001b[38;5;124m\"\u001b[39m, random_element)\n",
      "Cell \u001b[1;32mIn[38], line 23\u001b[0m, in \u001b[0;36mrandom_product\u001b[1;34m(df)\u001b[0m\n\u001b[0;32m     20\u001b[0m     \u001b[38;5;28;01mreturn\u001b[39;00m \u001b[38;5;28;01mNone\u001b[39;00m\n\u001b[0;32m     22\u001b[0m \u001b[38;5;66;03m# Select a random element\u001b[39;00m\n\u001b[1;32m---> 23\u001b[0m random_element \u001b[38;5;241m=\u001b[39m \u001b[43mrandom\u001b[49m\u001b[38;5;241;43m.\u001b[39;49m\u001b[43mchoice\u001b[49m\u001b[43m(\u001b[49m\u001b[43mall_products\u001b[49m\u001b[43m)\u001b[49m\n\u001b[0;32m     25\u001b[0m \u001b[38;5;28;01mreturn\u001b[39;00m random_element\n",
      "File \u001b[1;32m~\\anaconda3\\envs\\env\\lib\\random.py:346\u001b[0m, in \u001b[0;36mRandom.choice\u001b[1;34m(self, seq)\u001b[0m\n\u001b[0;32m    344\u001b[0m \u001b[38;5;250m\u001b[39m\u001b[38;5;124;03m\"\"\"Choose a random element from a non-empty sequence.\"\"\"\u001b[39;00m\n\u001b[0;32m    345\u001b[0m \u001b[38;5;66;03m# raises IndexError if seq is empty\u001b[39;00m\n\u001b[1;32m--> 346\u001b[0m \u001b[38;5;28;01mreturn\u001b[39;00m \u001b[43mseq\u001b[49m\u001b[43m[\u001b[49m\u001b[38;5;28;43mself\u001b[39;49m\u001b[38;5;241;43m.\u001b[39;49m\u001b[43m_randbelow\u001b[49m\u001b[43m(\u001b[49m\u001b[38;5;28;43mlen\u001b[39;49m\u001b[43m(\u001b[49m\u001b[43mseq\u001b[49m\u001b[43m)\u001b[49m\u001b[43m)\u001b[49m\u001b[43m]\u001b[49m\n",
      "File \u001b[1;32m~\\anaconda3\\envs\\env\\lib\\site-packages\\pandas\\core\\series.py:1121\u001b[0m, in \u001b[0;36mSeries.__getitem__\u001b[1;34m(self, key)\u001b[0m\n\u001b[0;32m   1118\u001b[0m     \u001b[38;5;28;01mreturn\u001b[39;00m \u001b[38;5;28mself\u001b[39m\u001b[38;5;241m.\u001b[39m_values[key]\n\u001b[0;32m   1120\u001b[0m \u001b[38;5;28;01melif\u001b[39;00m key_is_scalar:\n\u001b[1;32m-> 1121\u001b[0m     \u001b[38;5;28;01mreturn\u001b[39;00m \u001b[38;5;28;43mself\u001b[39;49m\u001b[38;5;241;43m.\u001b[39;49m\u001b[43m_get_value\u001b[49m\u001b[43m(\u001b[49m\u001b[43mkey\u001b[49m\u001b[43m)\u001b[49m\n\u001b[0;32m   1123\u001b[0m \u001b[38;5;66;03m# Convert generator to list before going through hashable part\u001b[39;00m\n\u001b[0;32m   1124\u001b[0m \u001b[38;5;66;03m# (We will iterate through the generator there to check for slices)\u001b[39;00m\n\u001b[0;32m   1125\u001b[0m \u001b[38;5;28;01mif\u001b[39;00m is_iterator(key):\n",
      "File \u001b[1;32m~\\anaconda3\\envs\\env\\lib\\site-packages\\pandas\\core\\series.py:1237\u001b[0m, in \u001b[0;36mSeries._get_value\u001b[1;34m(self, label, takeable)\u001b[0m\n\u001b[0;32m   1234\u001b[0m     \u001b[38;5;28;01mreturn\u001b[39;00m \u001b[38;5;28mself\u001b[39m\u001b[38;5;241m.\u001b[39m_values[label]\n\u001b[0;32m   1236\u001b[0m \u001b[38;5;66;03m# Similar to Index.get_value, but we do not fall back to positional\u001b[39;00m\n\u001b[1;32m-> 1237\u001b[0m loc \u001b[38;5;241m=\u001b[39m \u001b[38;5;28;43mself\u001b[39;49m\u001b[38;5;241;43m.\u001b[39;49m\u001b[43mindex\u001b[49m\u001b[38;5;241;43m.\u001b[39;49m\u001b[43mget_loc\u001b[49m\u001b[43m(\u001b[49m\u001b[43mlabel\u001b[49m\u001b[43m)\u001b[49m\n\u001b[0;32m   1239\u001b[0m \u001b[38;5;28;01mif\u001b[39;00m is_integer(loc):\n\u001b[0;32m   1240\u001b[0m     \u001b[38;5;28;01mreturn\u001b[39;00m \u001b[38;5;28mself\u001b[39m\u001b[38;5;241m.\u001b[39m_values[loc]\n",
      "File \u001b[1;32m~\\anaconda3\\envs\\env\\lib\\site-packages\\pandas\\core\\indexes\\base.py:3812\u001b[0m, in \u001b[0;36mIndex.get_loc\u001b[1;34m(self, key)\u001b[0m\n\u001b[0;32m   3807\u001b[0m     \u001b[38;5;28;01mif\u001b[39;00m \u001b[38;5;28misinstance\u001b[39m(casted_key, \u001b[38;5;28mslice\u001b[39m) \u001b[38;5;129;01mor\u001b[39;00m (\n\u001b[0;32m   3808\u001b[0m         \u001b[38;5;28misinstance\u001b[39m(casted_key, abc\u001b[38;5;241m.\u001b[39mIterable)\n\u001b[0;32m   3809\u001b[0m         \u001b[38;5;129;01mand\u001b[39;00m \u001b[38;5;28many\u001b[39m(\u001b[38;5;28misinstance\u001b[39m(x, \u001b[38;5;28mslice\u001b[39m) \u001b[38;5;28;01mfor\u001b[39;00m x \u001b[38;5;129;01min\u001b[39;00m casted_key)\n\u001b[0;32m   3810\u001b[0m     ):\n\u001b[0;32m   3811\u001b[0m         \u001b[38;5;28;01mraise\u001b[39;00m InvalidIndexError(key)\n\u001b[1;32m-> 3812\u001b[0m     \u001b[38;5;28;01mraise\u001b[39;00m \u001b[38;5;167;01mKeyError\u001b[39;00m(key) \u001b[38;5;28;01mfrom\u001b[39;00m \u001b[38;5;21;01merr\u001b[39;00m\n\u001b[0;32m   3813\u001b[0m \u001b[38;5;28;01mexcept\u001b[39;00m \u001b[38;5;167;01mTypeError\u001b[39;00m:\n\u001b[0;32m   3814\u001b[0m     \u001b[38;5;66;03m# If we have a listlike key, _check_indexing_error will raise\u001b[39;00m\n\u001b[0;32m   3815\u001b[0m     \u001b[38;5;66;03m#  InvalidIndexError. Otherwise we fall through and re-raise\u001b[39;00m\n\u001b[0;32m   3816\u001b[0m     \u001b[38;5;66;03m#  the TypeError.\u001b[39;00m\n\u001b[0;32m   3817\u001b[0m     \u001b[38;5;28mself\u001b[39m\u001b[38;5;241m.\u001b[39m_check_indexing_error(key)\n",
      "\u001b[1;31mKeyError\u001b[0m: 6"
     ]
    }
   ],
   "source": [
    "data = {'product 1': ['A', 'B', 'C', None],\n",
    "        'product 2': [None, 'D', 'E', 'F'],\n",
    "        'product 3': ['G', None, 'H', 'I']}\n",
    "df = pd.DataFrame(data)\n",
    "\n",
    "# Get a random element\n",
    "random_element = random_product(df)\n",
    "print(\"Random element:\", random_element)"
   ]
  },
  {
   "cell_type": "code",
   "execution_count": null,
   "id": "18ae558b-7e67-4bca-926e-31cbe7dd51c6",
   "metadata": {},
   "outputs": [],
   "source": []
  }
 ],
 "metadata": {
  "kernelspec": {
   "display_name": "Python 3 (ipykernel)",
   "language": "python",
   "name": "python3"
  },
  "language_info": {
   "codemirror_mode": {
    "name": "ipython",
    "version": 3
   },
   "file_extension": ".py",
   "mimetype": "text/x-python",
   "name": "python",
   "nbconvert_exporter": "python",
   "pygments_lexer": "ipython3",
   "version": "3.9.18"
  }
 },
 "nbformat": 4,
 "nbformat_minor": 5
}
