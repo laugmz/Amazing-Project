{
 "cells": [
  {
   "cell_type": "code",
   "execution_count": 8,
   "id": "ed89a308-3c9e-4e66-9a2d-58d48dd802bb",
   "metadata": {},
   "outputs": [
    {
     "name": "stdout",
     "output_type": "stream",
     "text": [
      "ClC1CH=CHCH=CNHSCH3=O=OC=1N1CH2CH2NCH2CH2CH2N2C3CH2CH2NSNH2=O=OCH2C=3CC3CH=CHCCFFF=CHCH=3=N2CH2CH21 \n"
     ]
    }
   ],
   "source": [
    "def clean_string(s):\n",
    "    return re.sub(r'[\\[\\]\\(\\)\\+\\-\\#]', '', s)\n",
    "\n",
    "print(clean_string(\"[Cl][C]1[CH]=[CH][CH]=[C]([NH][S]([CH3])(=[O])=[O])[C]=1[N]1[CH2][CH2][N]([CH2][CH2][CH2][N]2[C]3[CH2][CH2][N]([S]([NH2])(=[O])=[O])[CH2][C]=3[C]([C]3[CH]=[CH][C]([C]([F])([F])[F])=[CH][CH]=3)=[N]2)[CH2][CH2]1 \"))\n"
   ]
  },
  {
   "cell_type": "code",
   "execution_count": null,
   "id": "1f840531-7e84-4ce4-af6e-16b051da501d",
   "metadata": {},
   "outputs": [],
   "source": []
  }
 ],
 "metadata": {
  "kernelspec": {
   "display_name": "Python 3 (ipykernel)",
   "language": "python",
   "name": "python3"
  },
  "language_info": {
   "codemirror_mode": {
    "name": "ipython",
    "version": 3
   },
   "file_extension": ".py",
   "mimetype": "text/x-python",
   "name": "python",
   "nbconvert_exporter": "python",
   "pygments_lexer": "ipython3",
   "version": "3.10.12"
  }
 },
 "nbformat": 4,
 "nbformat_minor": 5
}
