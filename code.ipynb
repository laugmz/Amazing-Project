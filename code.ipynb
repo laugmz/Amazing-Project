{
 "cells": [
  {
   "cell_type": "code",
   "execution_count": 36,
   "id": "5db5e168-0828-4867-87c5-585aaa3b3e7e",
   "metadata": {},
   "outputs": [
    {
     "name": "stdout",
     "output_type": "stream",
     "text": [
      "Current Directory: C:\\Users\\33783\\Documents\\EPFL\\Etudes\\BA4\\Amazing-Project\n",
      "AAM,ea\n",
      "\n"
     ]
    }
   ],
   "source": [
    "# read the data\n",
    "#imports\"\n",
    "from pathlib import Path\n",
    "from rdkit import Chem\n",
    "from rdkit.Chem import Draw\n",
    "\n",
    "# Create a Path object for the current directory\n",
    "current_directory = Path.cwd()\n",
    "print(\"Current Directory:\", current_directory.resolve())\n",
    "\n",
    "# Creating a Path object for an example file that does not yet exist\n",
    "example_file_path = current_directory / \"database.csv\"\n",
    "\n",
    "# Reading the contents of the file to test if we have well acess to our data\n",
    "if example_file_path.exists():\n",
    "    with example_file_path.open(\"r\") as file:\n",
    "        first_line = file.readline()\n",
    "        print(first_line)\n",
    "else:\n",
    "    print(\"The file does not exist.\")"
   ]
  },
  {
   "cell_type": "code",
   "execution_count": 53,
   "id": "fa88a4f9-a7c6-4550-882d-3d201122dbd0",
   "metadata": {
    "scrolled": true
   },
   "outputs": [
    {
     "name": "stdout",
     "output_type": "stream",
     "text": [
      "Requirement already satisfied: pubchempy in c:\\users\\33783\\anaconda3\\envs\\env\\lib\\site-packages (1.0.4)\n"
     ]
    }
   ],
   "source": [
    "# function to convert name \n",
    "!pip install pubchempy\n",
    "\n",
    "import pubchempy as pcp\n",
    "\n",
    "def name_to_smiles(molecule_name):\n",
    "    \"\"\"\n",
    "    Convert a molecule name to a SMILES notation using PubChemPy's PubChem database.\n",
    "    Args:\n",
    "    - molecule_name (str): The name of the molecule.\n",
    "    Returns:\n",
    "    - smiles (str): The SMILES notation of the molecule, or None if retrieval fails.\n",
    "    \"\"\"\n",
    "    try:\n",
    "        compound = pcp.get_compounds(molecule_name, 'name')\n",
    "        if compound:\n",
    "            return compound[0].canonical_smiles\n",
    "        else:\n",
    "            print(\"Error: Unable to retrieve molecule information.\")\n",
    "            return None\n",
    "    except:\n",
    "        print(\"Error: Unable to retrieve molecule information.\")\n",
    "        return None\n"
   ]
  },
  {
   "cell_type": "code",
   "execution_count": 54,
   "id": "c179f85d-362a-45b1-b270-e3276a83ccb9",
   "metadata": {},
   "outputs": [
    {
     "name": "stdin",
     "output_type": "stream",
     "text": [
      "Enter a string (or 'exit' to quit):  exit\n"
     ]
    },
    {
     "name": "stdout",
     "output_type": "stream",
     "text": [
      "Exiting the program.\n"
     ]
    }
   ],
   "source": [
    "from rdkit import Chem\n",
    "\n",
    "def is_smiles(smiles):\n",
    "    \"\"\"\n",
    "    Check if a string represents a valid SMILES notation.\n",
    "    Args:\n",
    "    - smiles (str): The string to check.\n",
    "    Returns:\n",
    "    - is_valid (bool): True if the string is a valid SMILES notation, False otherwise.\n",
    "    \"\"\"\n",
    "    try:\n",
    "        Chem.MolFromSmiles(smiles)\n",
    "        return True\n",
    "    except:\n",
    "        return False\n",
    "\n",
    "# Loop to continuously prompt the user for input\n",
    "while True:\n",
    "    # Prompt the user to enter a string\n",
    "    string_input = input(\"Enter a string (or 'exit' to quit): \")\n",
    "\n",
    "    # Check if the user wants to exit\n",
    "    if string_input.lower() == 'exit':\n",
    "        print(\"Exiting the program.\")\n",
    "        break\n",
    "\n",
    "    # Check if the entered string is a valid SMILES notation\n",
    "    if is_smiles(string_input):\n",
    "        print(f\"'{string_input}' is a valid SMILES notation.\")\n",
    "        break\n",
    "    else:\n",
    "        print(f\"'{string_input}' is not a valid SMILES notation. Please try again.\")"
   ]
  },
  {
   "cell_type": "code",
   "execution_count": 55,
   "id": "ee7188fe-e6ae-4778-bcc1-289bab220e98",
   "metadata": {},
   "outputs": [
    {
     "name": "stdin",
     "output_type": "stream",
     "text": [
      "Enter a string:  aspirin\n"
     ]
    }
   ],
   "source": [
    "# Prompt the user to enter a string\n",
    "string_input = input(\"Enter a string: \")"
   ]
  },
  {
   "cell_type": "code",
   "execution_count": 59,
   "id": "441622d1-90e2-4ecf-a4cf-90d451c81572",
   "metadata": {},
   "outputs": [
    {
     "name": "stdout",
     "output_type": "stream",
     "text": [
      "aspirin\n"
     ]
    },
    {
     "name": "stderr",
     "output_type": "stream",
     "text": [
      "[17:01:24] SMILES Parse Error: syntax error while parsing: aspirin\n",
      "[17:01:24] SMILES Parse Error: Failed parsing SMILES 'aspirin' for input: 'aspirin'\n"
     ]
    }
   ],
   "source": [
    "# Call the function to convert the molecule name to SMILES notation\n",
    "\n",
    "if is_smiles(string_input)==0:\n",
    "    smiles = name_to_smiles(string_input)\n",
    "    if smiles:\n",
    "        print(f\"SMILES notation for {string_input}: {smiles}\")\n",
    "else:\n",
    "    print (string_input)"
   ]
  },
  {
   "cell_type": "code",
   "execution_count": null,
   "id": "71e8e8d1-719e-4c05-82c3-cb4ff7ef0c21",
   "metadata": {},
   "outputs": [],
   "source": [
    "# print the yield"
   ]
  },
  {
   "cell_type": "code",
   "execution_count": 41,
   "id": "ada2a887-3ce7-40b3-90a6-b4306965f381",
   "metadata": {},
   "outputs": [],
   "source": [
    "# print the molecule\n",
    "original_smiles=\"[Br-:1].[Br:2][C:5]([C:4]([H:3])([C:31]#[N:32])[C:41]#[N:42])([H:11])[H:21]\"\n",
    "# Parse the original SMILES notation\n",
    "mol = Chem.MolFromSmiles(original_smiles)\n",
    "\n",
    "# Convert the parsed molecule back to SMILES without atom mapping numbers\n",
    "smiles_without_numbers = Chem.MolToSmiles(mol, allBondsExplicit=True, isomericSmiles=True)\n",
    "\n",
    "\n",
    "# Create a molecule object from the SMILES notation\n",
    "mol = Chem.MolFromSmiles(smiles_without_numbers)\n",
    "\n",
    "# Draw and display the molecule\n",
    "img = Draw.MolToImage(mol)\n",
    "\n",
    "# Display the image\n",
    "img.show()"
   ]
  },
  {
   "cell_type": "code",
   "execution_count": null,
   "id": "a708fcaf-3f00-431a-b489-4dd5e19d27d6",
   "metadata": {},
   "outputs": [],
   "source": []
  }
 ],
 "metadata": {
  "kernelspec": {
   "display_name": "Python 3 (ipykernel)",
   "language": "python",
   "name": "python3"
  },
  "language_info": {
   "codemirror_mode": {
    "name": "ipython",
    "version": 3
   },
   "file_extension": ".py",
   "mimetype": "text/x-python",
   "name": "python",
   "nbconvert_exporter": "python",
   "pygments_lexer": "ipython3",
   "version": "3.9.18"
  }
 },
 "nbformat": 4,
 "nbformat_minor": 5
}
