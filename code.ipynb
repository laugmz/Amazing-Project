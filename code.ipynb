{
 "cells": [
  {
   "cell_type": "code",
   "execution_count": 25,
   "id": "5db5e168-0828-4867-87c5-585aaa3b3e7e",
   "metadata": {},
   "outputs": [],
   "source": [
    "from rdkit import Chem\n",
    "from rdkit.Chem import Draw\n",
    "\n",
    "original_smiles=\"[Br-:1].[Br:2][C:5]([C:4]([H:3])([C:31]#[N:32])[C:41]#[N:42])([H:11])[H:21]\"\n",
    "# Parse the original SMILES notation\n",
    "mol = Chem.MolFromSmiles(original_smiles)\n",
    "\n",
    "# Convert the parsed molecule back to SMILES without atom mapping numbers\n",
    "smiles_without_numbers = Chem.MolToSmiles(mol, allBondsExplicit=True, isomericSmiles=True)\n",
    "\n",
    "\n",
    "# Create a molecule object from the SMILES notation\n",
    "mol = Chem.MolFromSmiles(smiles_without_numbers)\n",
    "\n",
    "# Draw and display the molecule\n",
    "img = Draw.MolToImage(mol)\n",
    "\n",
    "# Display the image\n",
    "img.show()\n"
   ]
  },
  {
   "cell_type": "code",
   "execution_count": null,
   "id": "71e8e8d1-719e-4c05-82c3-cb4ff7ef0c21",
   "metadata": {},
   "outputs": [],
   "source": []
  },
  {
   "cell_type": "code",
   "execution_count": null,
   "id": "ada2a887-3ce7-40b3-90a6-b4306965f381",
   "metadata": {},
   "outputs": [],
   "source": []
  }
 ],
 "metadata": {
  "kernelspec": {
   "display_name": "Python 3 (ipykernel)",
   "language": "python",
   "name": "python3"
  },
  "language_info": {
   "codemirror_mode": {
    "name": "ipython",
    "version": 3
   },
   "file_extension": ".py",
   "mimetype": "text/x-python",
   "name": "python",
   "nbconvert_exporter": "python",
   "pygments_lexer": "ipython3",
   "version": "3.9.18"
  }
 },
 "nbformat": 4,
 "nbformat_minor": 5
}
