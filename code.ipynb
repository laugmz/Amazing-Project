{
 "cells": [
  {
   "cell_type": "code",
   "execution_count": 145,
   "id": "5dae1f88-ca2b-45b9-8462-70b66e934d87",
   "metadata": {},
   "outputs": [
    {
     "name": "stdout",
     "output_type": "stream",
     "text": [
      "Current Directory: C:\\Users\\33783\\Documents\\EPFL\\Etudes\\BA4\\Amazing-Project\n",
      "Reactant 1;Reactant 2;Product 1;Product 2;Product 3;yield;reaction_smarts\n",
      "\n"
     ]
    }
   ],
   "source": [
    "# read the data\n",
    "#imports\"\n",
    "from pathlib import Path\n",
    "from rdkit import Chem\n",
    "from rdkit.Chem import Draw\n",
    "\n",
    "# Create a Path object for the current directory\n",
    "current_directory = Path.cwd()\n",
    "print(\"Current Directory:\", current_directory.resolve())\n",
    "\n",
    "# Creating a Path object for an example file that does not yet exist\n",
    "example_file_path = current_directory / \"database.csv\"\n",
    "\n",
    "# Reading the contents of the file to test if we have well acess to our data\n",
    "if example_file_path.exists():\n",
    "    with example_file_path.open(\"r\") as file:\n",
    "        first_line = file.readline()\n",
    "        print(first_line)\n",
    "else:\n",
    "    print(\"The file does not exist.\")"
   ]
  },
  {
   "cell_type": "code",
   "execution_count": 146,
   "id": "4a41e2c1-9822-4f1c-b1f9-dc653e3626ed",
   "metadata": {},
   "outputs": [
    {
     "name": "stdout",
     "output_type": "stream",
     "text": [
      "     Reactant 1;Reactant 2;Product 1;Product 2;Product 3;yield;reaction_smarts\n",
      "0     [Br-:2];[Br:1][C:5]([C:4]([H:3])([C:31]#[N:32]...                       \n",
      "1     [Br-:2];[Br:1][C:5]([C:4]([H:3])([C:31]#[N:32]...                       \n",
      "2     [Br-:2];[Br:1][C:5]([C:4]([H:3])([H:31])[C:41]...                       \n",
      "3     [Br-:2];[Br:1][C:5]([C:4]([H:3])([H:31])[H:41]...                       \n",
      "4     [Br-:2];[Br:1][C:5]([C:4]([H:3])([H:31])[H:41]...                       \n",
      "...                                                 ...                       \n",
      "3620  [F:1][C@:5]([C@:4]([H:3])([N:31]([H:32])[H:33]...                       \n",
      "3621  [F:1][C@:5]([C@:4]([H:3])([N:31]([H:32])[H:33]...                       \n",
      "3622  [F:1][C@:5]([C@:4]([H:3])([N:31]([H:32])[H:33]...                       \n",
      "3623  [F:1][C@:5]([C@:4]([H:3])([N:31]([H:32])[H:33]...                       \n",
      "3624  [F:1][C@:5]([C@:4]([H:3])([N:31]([H:32])[H:33]...                       \n",
      "\n",
      "[3625 rows x 1 columns]\n"
     ]
    }
   ],
   "source": [
    "# Create the Data Frame\n",
    "from rdkit import Chem\n",
    "from rdkit.Chem import PandasTools\n",
    "import pandas as pd\n",
    "from pathlib import Path\n",
    "import os\n",
    "\n",
    "dataFrame= pd.read_csv(\"database.csv\")\n",
    "print (dataFrame)"
   ]
  },
  {
   "cell_type": "code",
   "execution_count": 147,
   "id": "0e5e58c9-8e37-49b7-868f-979132b10509",
   "metadata": {},
   "outputs": [],
   "source": [
    "# fonction to remove atome mapping numbers from smiles\n",
    "import re\n",
    "\n",
    "def remove_atom_mapping(smiles):\n",
    "    \"\"\"\n",
    "    Remove atom mapping numbers from a SMILES-like notation.\n",
    "    Args:\n",
    "    - smiles (str): The SMILES-like notation with atom mapping numbers.\n",
    "    Returns:\n",
    "    - smiles_without_mapping (str): The SMILES notation without atom mapping numbers.\n",
    "    \"\"\"\n",
    "    # Define a regular expression pattern to match atom mapping numbers\n",
    "    pattern = r':\\d+'\n",
    "    smiles_without_mapping = re.sub(pattern, '', smiles)\n",
    "    return smiles_without_mapping"
   ]
  },
  {
   "cell_type": "code",
   "execution_count": 173,
   "id": "3eda2fe8-a8eb-4b05-90de-89167ec90034",
   "metadata": {},
   "outputs": [],
   "source": [
    "# give smiles\n",
    "\n",
    "import re\n",
    "\n",
    "def Smiles(smiles):\n",
    "    \"\"\"\n",
    "    Remove atom mapping numbers, brackets, 'H' characters, and empty parentheses from a SMILES-like notation.\n",
    "    Args:\n",
    "    - smiles (str): The SMILES-like notation with atom mapping numbers, brackets, 'H' characters, and empty parentheses.\n",
    "    Returns:\n",
    "    - smiles_cleaned (str): The cleaned SMILES notation.\n",
    "    \"\"\"\n",
    "    # Define a regular expression pattern to match atom mapping numbers, brackets, 'H' characters, and empty parentheses\n",
    "    pattern = r'[:\\[\\]\\ H@\\/]'\n",
    "    # Use re.sub() to remove the specified characters\n",
    "    smiles_cleaned = re.sub(pattern, '', smiles)\n",
    "    # Remove empty parentheses only\n",
    "    smiles_cleaned = re.sub(r'\\(\\)', '', smiles_cleaned)\n",
    "    return smiles_cleaned\n",
    "\n",
    "def remove_forward_slash(smiles):\n",
    "    \"\"\"\n",
    "    Remove forward slash '(\\)' from a string.\n",
    "    Args:\n",
    "    - smiles (str): The input string.\n",
    "    Returns:\n",
    "    - cleaned_str (str): The string with forward slash removed.\n",
    "    \"\"\"\n",
    "    return smiles.replace('(\\)', '')\n",
    "\n",
    "\n",
    "def convert_X(smiles):\n",
    "    \"\"\"\n",
    "    Convert \"X-\" elements where X can be \"Br\", \"Cl\", or \"F\" into \"[X-]\" in a SMILES-like notation.\n",
    "    Args:\n",
    "    - smiles (str): The SMILES-like notation.\n",
    "    Returns:\n",
    "    - cleaned_smiles (str): The cleaned SMILES notation.\n",
    "    \"\"\"\n",
    "    # Define the elements you want to convert\n",
    "    elements = ['Br', 'Cl', 'F']\n",
    "    # Iterate over each element\n",
    "    for element in elements:\n",
    "        # Replace \"X-\" with \"[X-]\"\n",
    "        smiles = smiles.replace(element + '-', '[' + element + '-]')\n",
    "    return smiles\n",
    "\n",
    "def transform_anions(smiles):\n",
    "    \"\"\"\n",
    "    Transform the input string by replacing '(N+(O-)O)' with 'NO'.\n",
    "    Args:\n",
    "    - input_string (str): The input string to be transformed.\n",
    "    Returns:\n",
    "    - transformed_string (str): The transformed string.\n",
    "    \"\"\"\n",
    "    transformed_string = re.sub(r'N\\+\\(O-\\)O', 'NO', smiles)\n",
    "    return transformed_string\n"
   ]
  },
  {
   "cell_type": "code",
   "execution_count": 174,
   "id": "c2b94140-30bb-4787-b0c3-31d2db2eafc7",
   "metadata": {},
   "outputs": [
    {
     "name": "stdout",
     "output_type": "stream",
     "text": [
      "     Reactant 1;Reactant 2;Product 1;Product 2;Product 3;yield;reaction_smarts\n",
      "0     [Br-];BrC(C(C#N)C#N);[Br-];BrC(C(C#N)C#N);;28....                       \n",
      "1     [Br-];BrC(C(C#N))(C)C;[Br-];BrC(C(C#N))(C)C;;3...                       \n",
      "2     [Br-];BrC(CC#N)(C)C;[Br-];BrC(CC#N)(C)C;;37.64...                       \n",
      "3     [Br-];BrC(C)(C);[Br-];BrC(C)(C);;24.2066422218...                       \n",
      "4     [Br-];BrC(C)C;[Br-];BrC(C)C;;18.45075294694804...                       \n",
      "...                                                 ...                       \n",
      "3620  FC(C(N)(NO))N;-;[F-];C(C(N)(NO))N;;26.84488831...                       \n",
      "3621  FC(C(N)(NO))((NO))C;-;C(=C((NO))C)(\\N)(NO);[F-...                       \n",
      "3622  FC(C(N)(NO))((NO));-;[F-];C(C(N)(NO))((NO));;1...                       \n",
      "3623  FC(C(N)(NO))(N)C#N;-;[F-];C(C(N)(NO))(N)C#N;;1...                       \n",
      "3624  FC(C(N)(NO))(N);-;[F-];C(C(N)(NO))(N);;30.1531...                       \n",
      "\n",
      "[3625 rows x 1 columns]\n"
     ]
    }
   ],
   "source": [
    "# remove mapping from the Data Frame\n",
    "for column in dataFrame.columns:\n",
    "    # Apply the remove_atom_mapping function to each column\n",
    "    dataFrame[column] = dataFrame[column].apply(remove_atom_mapping)\n",
    "    dataFrame[column] = dataFrame[column].apply(remove_forward_slash)\n",
    "    dataFrame[column] = dataFrame[column].apply(Smiles)\n",
    "    dataFrame[column] = dataFrame[column].apply(convert_X)\n",
    "    dataFrame[column] = dataFrame[column].apply(transform_anions)\n",
    "print(dataFrame)"
   ]
  },
  {
   "cell_type": "code",
   "execution_count": 96,
   "id": "8f5332aa-d053-467b-b239-d4c04c709bfb",
   "metadata": {},
   "outputs": [
    {
     "name": "stdout",
     "output_type": "stream",
     "text": [
      "                     Reactant 1       Reactant 2                   Product 1  \\\n",
      "0                         [Br-]   BrC(C(C#N)C#N)                       [Br-]   \n",
      "1                         [Br-]  BrC(C(C#N))(C)C                       [Br-]   \n",
      "2                         [Br-]    BrC(CC#N)(C)C                       [Br-]   \n",
      "3                         [Br-]        BrC(C)(C)                       [Br-]   \n",
      "4                         [Br-]          BrC(C)C                       [Br-]   \n",
      "...                         ...              ...                         ...   \n",
      "3620           FC(C(N)N+(O-)O)N                -                        [F-]   \n",
      "3621  FC(C(N)N+(O-)O)(N+(O-)O)C                -  C(=C(N+(O-)O)C)(\\N)N+(O-)O   \n",
      "3622   FC(C(N)N+(O-)O)(N+(O-)O)                -                        [F-]   \n",
      "3623      FC(C(N)N+(O-)O)(N)C#N                -                        [F-]   \n",
      "3624         FC(C(N)N+(O-)O)(N)                -                        [F-]   \n",
      "\n",
      "                    Product 2 Product 3               yield  \\\n",
      "0              BrC(C(C#N)C#N)             28.81200403800853   \n",
      "1             BrC(C(C#N))(C)C            33.410337794832714   \n",
      "2               BrC(CC#N)(C)C             37.64569798608316   \n",
      "3                   BrC(C)(C)             24.20664222186525   \n",
      "4                     BrC(C)C            18.450752946948047   \n",
      "...                       ...       ...                 ...   \n",
      "3620          C(C(N)N+(O-)O)N             26.84488831926287   \n",
      "3621                     [F-]             2.283999477538191   \n",
      "3622  C(C(N)N+(O-)O)(N+(O-)O)            18.142052222155485   \n",
      "3623     C(C(N)N+(O-)O)(N)C#N             18.12725496195325   \n",
      "3624        C(C(N)N+(O-)O)(N)            30.153134421367486   \n",
      "\n",
      "                                        reaction_smarts  \n",
      "0            [Br-].BrC(C(C#N)C#N)>>[Br-].BrC(C(C#N)C#N)  \n",
      "1          [Br-].BrC(C(C#N))(C)C>>[Br-].BrC(C(C#N))(C)C  \n",
      "2              [Br-].BrC(CC#N)(C)C>>[Br-].BrC(CC#N)(C)C  \n",
      "3                      [Br-].BrC(C)(C)>>[Br-].BrC(C)(C)  \n",
      "4                          [Br-].BrC(C)C>>[Br-].BrC(C)C  \n",
      "...                                                 ...  \n",
      "3620           FC(C(N)N+(O-)O)N.->>[F-].C(C(N)N+(O-)O)N  \n",
      "3621  FC(C(N)N+(O-)O)(N+(O-)O)C.->>C(=C(N+(O-)O)C)(\\...  \n",
      "3622  FC(C(N)N+(O-)O)(N+(O-)O).->>[F-].C(C(N)N+(O-)O...  \n",
      "3623  FC(C(N)N+(O-)O)(N)C#N.->>[F-].C(C(N)N+(O-)O)(N...  \n",
      "3624       FC(C(N)N+(O-)O)(N).->>[F-].C(C(N)N+(O-)O)(N)  \n",
      "\n",
      "[3625 rows x 7 columns]\n"
     ]
    }
   ],
   "source": [
    "# Split the column values at each \";\" and expand them into separate columns\n",
    "split_dataFrame = dataFrame['Reactant 1;Reactant 2;Product 1;Product 2;Product 3;yield;reaction_smarts'].str.split(';', expand=True)\n",
    "\n",
    "# Rename the columns\n",
    "split_dataFrame.columns = ['Reactant 1', 'Reactant 2', 'Product 1', 'Product 2', 'Product 3', 'yield', \"reaction_smarts\"]\n",
    "\n",
    "# Display the resulting DataFrame\n",
    "print(split_dataFrame)"
   ]
  },
  {
   "cell_type": "code",
   "execution_count": 97,
   "id": "9d474126-24be-442b-be8d-c03040c775d2",
   "metadata": {},
   "outputs": [
    {
     "name": "stdout",
     "output_type": "stream",
     "text": [
      "First element of the third column: [Br-]\n",
      "Type of the element: <class 'str'>\n"
     ]
    }
   ],
   "source": [
    "# Assuming your DataFrame is named dataFrame\n",
    "# Access the third column and get its first element\n",
    "element = split_dataFrame.iloc[0, 2]\n",
    "\n",
    "# Print the element and its type\n",
    "print(\"First element of the third column:\", element)\n",
    "print(\"Type of the element:\", type(element))"
   ]
  },
  {
   "cell_type": "code",
   "execution_count": 163,
   "id": "9187d1ec-3cec-4ef3-a03c-eb9423cd44e8",
   "metadata": {},
   "outputs": [
    {
     "name": "stdout",
     "output_type": "stream",
     "text": [
      "you can enter the name of the molecule or its SMILES, the racemic configuration is available. Only halogen molecules are taken in account in the data base\n"
     ]
    },
    {
     "name": "stdin",
     "output_type": "stream",
     "text": [
      "Enter the molecule that you want to form:  C(C(N)(NO))N\n"
     ]
    }
   ],
   "source": [
    "# Prompt the user to enter the molecule that he wants to form\n",
    "print (\"you can enter the name of the molecule or its SMILES, the racemic configuration is available. Only halogen molecules are taken in account in the data base\")\n",
    "string_input_mol = input(\"Enter the molecule that you want to form: \")"
   ]
  },
  {
   "cell_type": "code",
   "execution_count": 164,
   "id": "b1e2a5c4-8b5d-40c6-bef2-96078e961f3b",
   "metadata": {},
   "outputs": [
    {
     "name": "stdout",
     "output_type": "stream",
     "text": [
      "'C(C(N)(NO))N' is a valid SMILES notation.\n"
     ]
    }
   ],
   "source": [
    "# function to determine if the user enters the SMILES notation or the usual name of the molecule\n",
    "from rdkit import Chem\n",
    "\n",
    "def is_smiles(smiles):\n",
    "    \"\"\"\n",
    "    Check if a string represents a valid SMILES notation.\n",
    "    Args:\n",
    "    - smiles (str): The string to check.\n",
    "    Returns:\n",
    "    - is_valid (bool): True if the string is a valid SMILES notation, False otherwise.\n",
    "    \"\"\"\n",
    "    if Chem.MolFromSmiles(smiles)== None:\n",
    "        return False\n",
    "    else:\n",
    "        return True\n",
    "\n",
    "# Check if the entered string is a valid SMILES notation\n",
    "if is_smiles(string_input_mol):\n",
    "    print(f\"'{string_input_mol}' is a valid SMILES notation.\")\n",
    "else:\n",
    "    print(f\"'{string_input_mol}' is not a valid SMILES notation.\")"
   ]
  },
  {
   "cell_type": "code",
   "execution_count": 165,
   "id": "2392592a-14be-44a4-9233-c4219810f3b9",
   "metadata": {},
   "outputs": [
    {
     "name": "stdout",
     "output_type": "stream",
     "text": [
      "Requirement already satisfied: pubchempy in c:\\users\\33783\\anaconda3\\envs\\env\\lib\\site-packages (1.0.4)\n"
     ]
    }
   ],
   "source": [
    "!pip install pubchempy"
   ]
  },
  {
   "cell_type": "code",
   "execution_count": 166,
   "id": "c84b7ab4-fe4b-4b2a-a0af-aae25abebcbc",
   "metadata": {},
   "outputs": [],
   "source": [
    "# function to convert name into SMILES\n",
    "\n",
    "import pubchempy as pcp\n",
    "\n",
    "def name_to_smiles(molecule_name):\n",
    "    \"\"\"\n",
    "    Convert a molecule name to a SMILES notation using PubChemPy's PubChem database.\n",
    "    Args:\n",
    "    - molecule_name (str): The name of the molecule.\n",
    "    Returns:\n",
    "    - smiles (str): The SMILES notation of the molecule, or None if retrieval fails.\n",
    "    \"\"\"\n",
    "    try:\n",
    "        compound = pcp.get_compounds(molecule_name, 'name')\n",
    "        if compound:\n",
    "            return compound[0].canonical_smiles\n",
    "        else:\n",
    "            print(\"Error: Unable to retrieve molecule information. Please try with the SMILE of the molecule\")\n",
    "            return None\n",
    "    except:\n",
    "        print(\"Error: Unable to retrieve molecule information. Please try again\")\n",
    "        return None"
   ]
  },
  {
   "cell_type": "code",
   "execution_count": 167,
   "id": "1e35f02c-45ad-47f9-8f1d-f9a2eb5aa6ac",
   "metadata": {},
   "outputs": [
    {
     "name": "stdout",
     "output_type": "stream",
     "text": [
      "C(C(N)(NO))N\n"
     ]
    }
   ],
   "source": [
    "# Call the function to convert the molecule name to SMILES notation\n",
    "if is_smiles(string_input_mol)== False:\n",
    "    string_input_mol = name_to_smiles(string_input_mol)\n",
    "    if string_input_mol:\n",
    "        print(f\"SMILES notation for {string_input_mol}: {string_input_mol}\")\n",
    "else:\n",
    "    print (string_input_mol)"
   ]
  },
  {
   "cell_type": "code",
   "execution_count": 168,
   "id": "4e394b69-8549-43b7-9223-59860199fde4",
   "metadata": {},
   "outputs": [
    {
     "name": "stdout",
     "output_type": "stream",
     "text": [
      "The product is not in the database\n"
     ]
    }
   ],
   "source": [
    "# function to find the required molecule in the data Frame\n",
    "\n",
    "def compare_molecule_with_data(element):\n",
    "    return element == string_input_mol\n",
    "\n",
    "# Iterate over the last three columns of the DataFrame\n",
    "for column_name in split_dataFrame.columns[-4:-1]:\n",
    "    column = split_dataFrame[column_name]\n",
    "    # Check if any element in the column matches the input molecule\n",
    "    if any(column.apply(compare_molecule_with_data)):\n",
    "        print(\"Input molecule found in the DataFrame:\")\n",
    "        print(split_dataFrame[column.apply(compare_molecule_with_data)])\n",
    "        print(\"Row number:\", index)\n",
    "        break\n",
    "else:\n",
    "    print(\"The product is not in the database\")"
   ]
  },
  {
   "cell_type": "code",
   "execution_count": 169,
   "id": "4311d40e-e62f-4efe-9588-44b279348ca0",
   "metadata": {},
   "outputs": [
    {
     "name": "stdout",
     "output_type": "stream",
     "text": [
      "The product is not in the database\n"
     ]
    }
   ],
   "source": [
    "# Function that returns the row of the elements formation reaction\n",
    "def compare_molecule_with_data(element):\n",
    "    return element == string_input_mol\n",
    "\n",
    "# Initialize a variable to store the row number\n",
    "found_row_number = None\n",
    "rows=[]\n",
    "# Iterate over the last three columns of the DataFrame\n",
    "for column_name in split_dataFrame.columns[-5:-1]:\n",
    "    column = split_dataFrame[column_name]\n",
    "    # Check if any element in the column matches the input molecule\n",
    "    for index, value in column.items():\n",
    "        if compare_molecule_with_data(value):\n",
    "            # Store the row number where the molecule is found\n",
    "            found_row_number = index\n",
    "            rows.append(found_row_number)\n",
    "    else:\n",
    "        continue  # Continue to the next column if molecule not found in current column\n",
    "\n",
    "# Check if the molecule was found and return the row number\n",
    "if found_row_number is not None:\n",
    "   print(rows)\n",
    "else:\n",
    "    print(\"The product is not in the database\")\n"
   ]
  },
  {
   "cell_type": "code",
   "execution_count": 170,
   "id": "0eee2125-1ec9-4df7-8462-3d2f91ae3309",
   "metadata": {},
   "outputs": [
    {
     "name": "stdout",
     "output_type": "stream",
     "text": [
      "Empty DataFrame\n",
      "Columns: [Reactant 1, Reactant 2, Product 1, Product 2, Product 3, yield, reaction_smarts]\n",
      "Index: []\n"
     ]
    },
    {
     "ename": "ValueError",
     "evalue": "attempt to get argmax of an empty sequence",
     "output_type": "error",
     "traceback": [
      "\u001b[1;31m---------------------------------------------------------------------------\u001b[0m",
      "\u001b[1;31mValueError\u001b[0m                                Traceback (most recent call last)",
      "Cell \u001b[1;32mIn[170], line 12\u001b[0m\n\u001b[0;32m      9\u001b[0m \u001b[38;5;28mprint\u001b[39m(subset_df)\n\u001b[0;32m     11\u001b[0m \u001b[38;5;66;03m# Find the index of the row with the highest yield\u001b[39;00m\n\u001b[1;32m---> 12\u001b[0m max_yield_row_index \u001b[38;5;241m=\u001b[39m \u001b[43msubset_df\u001b[49m\u001b[43m[\u001b[49m\u001b[38;5;124;43m'\u001b[39;49m\u001b[38;5;124;43myield\u001b[39;49m\u001b[38;5;124;43m'\u001b[39;49m\u001b[43m]\u001b[49m\u001b[38;5;241;43m.\u001b[39;49m\u001b[43midxmax\u001b[49m\u001b[43m(\u001b[49m\u001b[43m)\u001b[49m\n\u001b[0;32m     14\u001b[0m \u001b[38;5;66;03m# Retrieve the row with the highest yield\u001b[39;00m\n\u001b[0;32m     15\u001b[0m max_yield_row \u001b[38;5;241m=\u001b[39m split_dataFrame\u001b[38;5;241m.\u001b[39mloc[max_yield_row_index]\n",
      "File \u001b[1;32m~\\anaconda3\\envs\\env\\lib\\site-packages\\pandas\\core\\series.py:2761\u001b[0m, in \u001b[0;36mSeries.idxmax\u001b[1;34m(self, axis, skipna, *args, **kwargs)\u001b[0m\n\u001b[0;32m   2756\u001b[0m \u001b[38;5;28;01mwith\u001b[39;00m warnings\u001b[38;5;241m.\u001b[39mcatch_warnings():\n\u001b[0;32m   2757\u001b[0m     \u001b[38;5;66;03m# TODO(3.0): this catching/filtering can be removed\u001b[39;00m\n\u001b[0;32m   2758\u001b[0m     \u001b[38;5;66;03m# ignore warning produced by argmax since we will issue a different\u001b[39;00m\n\u001b[0;32m   2759\u001b[0m     \u001b[38;5;66;03m#  warning for argmax\u001b[39;00m\n\u001b[0;32m   2760\u001b[0m     warnings\u001b[38;5;241m.\u001b[39msimplefilter(\u001b[38;5;124m\"\u001b[39m\u001b[38;5;124mignore\u001b[39m\u001b[38;5;124m\"\u001b[39m)\n\u001b[1;32m-> 2761\u001b[0m     i \u001b[38;5;241m=\u001b[39m \u001b[38;5;28mself\u001b[39m\u001b[38;5;241m.\u001b[39margmax(axis, skipna, \u001b[38;5;241m*\u001b[39margs, \u001b[38;5;241m*\u001b[39m\u001b[38;5;241m*\u001b[39mkwargs)\n\u001b[0;32m   2763\u001b[0m \u001b[38;5;28;01mif\u001b[39;00m i \u001b[38;5;241m==\u001b[39m \u001b[38;5;241m-\u001b[39m\u001b[38;5;241m1\u001b[39m:\n\u001b[0;32m   2764\u001b[0m     \u001b[38;5;66;03m# GH#43587 give correct NA value for Index.\u001b[39;00m\n\u001b[0;32m   2765\u001b[0m     warnings\u001b[38;5;241m.\u001b[39mwarn(\n\u001b[0;32m   2766\u001b[0m         \u001b[38;5;124mf\u001b[39m\u001b[38;5;124m\"\u001b[39m\u001b[38;5;124mThe behavior of \u001b[39m\u001b[38;5;132;01m{\u001b[39;00m\u001b[38;5;28mtype\u001b[39m(\u001b[38;5;28mself\u001b[39m)\u001b[38;5;241m.\u001b[39m\u001b[38;5;18m__name__\u001b[39m\u001b[38;5;132;01m}\u001b[39;00m\u001b[38;5;124m.idxmax with all-NA \u001b[39m\u001b[38;5;124m\"\u001b[39m\n\u001b[0;32m   2767\u001b[0m         \u001b[38;5;124m\"\u001b[39m\u001b[38;5;124mvalues, or any-NA and skipna=False, is deprecated. In a future \u001b[39m\u001b[38;5;124m\"\u001b[39m\n\u001b[1;32m   (...)\u001b[0m\n\u001b[0;32m   2770\u001b[0m         stacklevel\u001b[38;5;241m=\u001b[39mfind_stack_level(),\n\u001b[0;32m   2771\u001b[0m     )\n",
      "File \u001b[1;32m~\\anaconda3\\envs\\env\\lib\\site-packages\\pandas\\core\\base.py:751\u001b[0m, in \u001b[0;36mIndexOpsMixin.argmax\u001b[1;34m(self, axis, skipna, *args, **kwargs)\u001b[0m\n\u001b[0;32m    749\u001b[0m         \u001b[38;5;28;01mreturn\u001b[39;00m delegate\u001b[38;5;241m.\u001b[39margmax()\n\u001b[0;32m    750\u001b[0m \u001b[38;5;28;01melse\u001b[39;00m:\n\u001b[1;32m--> 751\u001b[0m     result \u001b[38;5;241m=\u001b[39m \u001b[43mnanops\u001b[49m\u001b[38;5;241;43m.\u001b[39;49m\u001b[43mnanargmax\u001b[49m\u001b[43m(\u001b[49m\u001b[43mdelegate\u001b[49m\u001b[43m,\u001b[49m\u001b[43m \u001b[49m\u001b[43mskipna\u001b[49m\u001b[38;5;241;43m=\u001b[39;49m\u001b[43mskipna\u001b[49m\u001b[43m)\u001b[49m\n\u001b[0;32m    752\u001b[0m     \u001b[38;5;28;01mif\u001b[39;00m result \u001b[38;5;241m==\u001b[39m \u001b[38;5;241m-\u001b[39m\u001b[38;5;241m1\u001b[39m:\n\u001b[0;32m    753\u001b[0m         warnings\u001b[38;5;241m.\u001b[39mwarn(\n\u001b[0;32m    754\u001b[0m             \u001b[38;5;124mf\u001b[39m\u001b[38;5;124m\"\u001b[39m\u001b[38;5;124mThe behavior of \u001b[39m\u001b[38;5;132;01m{\u001b[39;00m\u001b[38;5;28mtype\u001b[39m(\u001b[38;5;28mself\u001b[39m)\u001b[38;5;241m.\u001b[39m\u001b[38;5;18m__name__\u001b[39m\u001b[38;5;132;01m}\u001b[39;00m\u001b[38;5;124m.argmax/argmin \u001b[39m\u001b[38;5;124m\"\u001b[39m\n\u001b[0;32m    755\u001b[0m             \u001b[38;5;124m\"\u001b[39m\u001b[38;5;124mwith skipna=False and NAs, or with all-NAs is deprecated. \u001b[39m\u001b[38;5;124m\"\u001b[39m\n\u001b[1;32m   (...)\u001b[0m\n\u001b[0;32m    758\u001b[0m             stacklevel\u001b[38;5;241m=\u001b[39mfind_stack_level(),\n\u001b[0;32m    759\u001b[0m         )\n",
      "File \u001b[1;32m~\\anaconda3\\envs\\env\\lib\\site-packages\\pandas\\core\\nanops.py:1148\u001b[0m, in \u001b[0;36mnanargmax\u001b[1;34m(values, axis, skipna, mask)\u001b[0m\n\u001b[0;32m   1116\u001b[0m \u001b[38;5;250m\u001b[39m\u001b[38;5;124;03m\"\"\"\u001b[39;00m\n\u001b[0;32m   1117\u001b[0m \u001b[38;5;124;03mParameters\u001b[39;00m\n\u001b[0;32m   1118\u001b[0m \u001b[38;5;124;03m----------\u001b[39;00m\n\u001b[1;32m   (...)\u001b[0m\n\u001b[0;32m   1145\u001b[0m \u001b[38;5;124;03marray([2, 2, 1, 1])\u001b[39;00m\n\u001b[0;32m   1146\u001b[0m \u001b[38;5;124;03m\"\"\"\u001b[39;00m\n\u001b[0;32m   1147\u001b[0m values, mask \u001b[38;5;241m=\u001b[39m _get_values(values, \u001b[38;5;28;01mTrue\u001b[39;00m, fill_value_typ\u001b[38;5;241m=\u001b[39m\u001b[38;5;124m\"\u001b[39m\u001b[38;5;124m-inf\u001b[39m\u001b[38;5;124m\"\u001b[39m, mask\u001b[38;5;241m=\u001b[39mmask)\n\u001b[1;32m-> 1148\u001b[0m result \u001b[38;5;241m=\u001b[39m \u001b[43mvalues\u001b[49m\u001b[38;5;241;43m.\u001b[39;49m\u001b[43margmax\u001b[49m\u001b[43m(\u001b[49m\u001b[43maxis\u001b[49m\u001b[43m)\u001b[49m\n\u001b[0;32m   1149\u001b[0m \u001b[38;5;66;03m# error: Argument 1 to \"_maybe_arg_null_out\" has incompatible type \"Any |\u001b[39;00m\n\u001b[0;32m   1150\u001b[0m \u001b[38;5;66;03m# signedinteger[Any]\"; expected \"ndarray[Any, Any]\"\u001b[39;00m\n\u001b[0;32m   1151\u001b[0m result \u001b[38;5;241m=\u001b[39m _maybe_arg_null_out(result, axis, mask, skipna)  \u001b[38;5;66;03m# type: ignore[arg-type]\u001b[39;00m\n",
      "\u001b[1;31mValueError\u001b[0m: attempt to get argmax of an empty sequence"
     ]
    }
   ],
   "source": [
    "# print the yield\n",
    "# Convert the 'Yield' column to float\n",
    "split_dataFrame['yield'] = split_dataFrame['yield'].astype(float)\n",
    "\n",
    "# Assuming 'rows_to_compare' is a list containing the row numbers to compare\n",
    "\n",
    "# Subset the DataFrame to include only the specified rows\n",
    "subset_df = split_dataFrame.iloc[rows]\n",
    "print(subset_df)\n",
    "\n",
    "# Find the index of the row with the highest yield\n",
    "max_yield_row_index = subset_df['yield'].idxmax()\n",
    "\n",
    "# Retrieve the row with the highest yield\n",
    "max_yield_row = split_dataFrame.loc[max_yield_row_index]\n",
    "\n",
    "print(\"Row with the highest yield:\")\n",
    "print(max_yield_row)\n"
   ]
  },
  {
   "cell_type": "code",
   "execution_count": null,
   "id": "dd481fce-d374-4398-99a0-0f815248b802",
   "metadata": {},
   "outputs": [],
   "source": [
    "\n",
    "\n",
    "\n"
   ]
  },
  {
   "cell_type": "code",
   "execution_count": 115,
   "id": "5290ab77-1f8d-49ce-bb50-02f51001625a",
   "metadata": {},
   "outputs": [],
   "source": [
    "# print the reaction\n",
    "from rdkit import Chem\n",
    "from rdkit.Chem import Draw\n",
    "from rdkit.Chem import AllChem\n",
    "\n",
    "# Create a reaction SMARTS string\n",
    "reaction_smarts = split_dataFrame.iloc[max_yield_row_index, 6]\n",
    "# Parse the reaction SMARTS string\n",
    "reaction = AllChem.ReactionFromSmarts(reaction_smarts)\n",
    "\n",
    "# Draw the reaction\n",
    "reaction_image = Draw.ReactionToImage(reaction)\n",
    "\n",
    "# Save or display the image\n",
    "reaction_image.show()"
   ]
  },
  {
   "cell_type": "code",
   "execution_count": 162,
   "id": "c45375bd-04ac-4818-822c-b56e384b9cc9",
   "metadata": {},
   "outputs": [],
   "source": [
    "from rdkit import Chem\n",
    "from rdkit.Chem import Draw\n",
    "\n",
    "# SMILES representation of the molecule\n",
    "smiles = \"FC(C(N)(NO))N\"\n",
    "\n",
    "# Create a molecule object from the SMILES string\n",
    "mol = Chem.MolFromSmiles(smiles)\n",
    "\n",
    "# Check if the molecule object is not None (i.e., if the SMILES string is valid)\n",
    "if mol is not None:\n",
    "    # Draw and display the molecule\n",
    "    img = Draw.MolToImage(mol)\n",
    "    img.show()\n",
    "else:\n",
    "    print(\"Invalid SMILES string\")"
   ]
  },
  {
   "cell_type": "code",
   "execution_count": null,
   "id": "3b285088-b671-4889-ae9e-8d33cbc153d7",
   "metadata": {},
   "outputs": [],
   "source": [
    "\n"
   ]
  },
  {
   "cell_type": "code",
   "execution_count": 26,
   "id": "978f26b3-65d8-4eec-b20e-ec64aab57216",
   "metadata": {},
   "outputs": [],
   "source": []
  },
  {
   "cell_type": "code",
   "execution_count": null,
   "id": "c7eda5fe-04f9-484d-9353-11524dea25be",
   "metadata": {},
   "outputs": [],
   "source": []
  }
 ],
 "metadata": {
  "kernelspec": {
   "display_name": "Python 3 (ipykernel)",
   "language": "python",
   "name": "python3"
  },
  "language_info": {
   "codemirror_mode": {
    "name": "ipython",
    "version": 3
   },
   "file_extension": ".py",
   "mimetype": "text/x-python",
   "name": "python",
   "nbconvert_exporter": "python",
   "pygments_lexer": "ipython3",
   "version": "3.9.18"
  }
 },
 "nbformat": 4,
 "nbformat_minor": 5
}
