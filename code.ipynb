{
 "cells": [
  {
   "cell_type": "code",
   "execution_count": 225,
   "id": "5dae1f88-ca2b-45b9-8462-70b66e934d87",
   "metadata": {},
   "outputs": [
    {
     "name": "stdout",
     "output_type": "stream",
     "text": [
      "Current Directory: C:\\Users\\33783\\Documents\\EPFL\\Etudes\\BA4\\Amazing-Project\n",
      "Reactant 1;Reactant 2;Product 1;Product 2;Product 3;yield;reaction_smarts\n",
      "\n"
     ]
    }
   ],
   "source": [
    "# read the data\n",
    "#imports\"\n",
    "from pathlib import Path\n",
    "from rdkit import Chem\n",
    "from rdkit.Chem import Draw\n",
    "\n",
    "# Create a Path object for the current directory\n",
    "current_directory = Path.cwd()\n",
    "print(\"Current Directory:\", current_directory.resolve())\n",
    "\n",
    "# Creating a Path object for an example file that does not yet exist\n",
    "example_file_path = current_directory / \"database.csv\"\n",
    "\n",
    "# Reading the contents of the file to test if we have well acess to our data\n",
    "if example_file_path.exists():\n",
    "    with example_file_path.open(\"r\") as file:\n",
    "        first_line = file.readline()\n",
    "        print(first_line)\n",
    "else:\n",
    "    print(\"The file does not exist.\")"
   ]
  },
  {
   "cell_type": "code",
   "execution_count": 226,
   "id": "4a41e2c1-9822-4f1c-b1f9-dc653e3626ed",
   "metadata": {},
   "outputs": [
    {
     "name": "stdout",
     "output_type": "stream",
     "text": [
      "     Reactant 1;Reactant 2;Product 1;Product 2;Product 3;yield;reaction_smarts\n",
      "0     [Br-:2];[Br:1][C:5]([C:4]([H:3])([C:31]#[N:32]...                       \n",
      "1     [Br-:2];[Br:1][C:5]([C:4]([H:3])([C:31]#[N:32]...                       \n",
      "2     [Br-:2];[Br:1][C:5]([C:4]([H:3])([H:31])[C:41]...                       \n",
      "3     [Br-:2];[Br:1][C:5]([C:4]([H:3])([H:31])[H:41]...                       \n",
      "4     [Br-:2];[Br:1][C:5]([C:4]([H:3])([H:31])[H:41]...                       \n",
      "...                                                 ...                       \n",
      "3620  [F:1][C@:5]([C@:4]([H:3])([N:31]([H:32])[H:33]...                       \n",
      "3621  [F:1][C@:5]([C@:4]([H:3])([N:31]([H:32])[H:33]...                       \n",
      "3622  [F:1][C@:5]([C@:4]([H:3])([N:31]([H:32])[H:33]...                       \n",
      "3623  [F:1][C@:5]([C@:4]([H:3])([N:31]([H:32])[H:33]...                       \n",
      "3624  [F:1][C@:5]([C@:4]([H:3])([N:31]([H:32])[H:33]...                       \n",
      "\n",
      "[3625 rows x 1 columns]\n"
     ]
    }
   ],
   "source": [
    "# Create the Data Frame\n",
    "from rdkit import Chem\n",
    "from rdkit.Chem import PandasTools\n",
    "import pandas as pd\n",
    "from pathlib import Path\n",
    "import os\n",
    "\n",
    "dataFrame= pd.read_csv(\"database.csv\")\n",
    "print (dataFrame)"
   ]
  },
  {
   "cell_type": "code",
   "execution_count": 227,
   "id": "0e5e58c9-8e37-49b7-868f-979132b10509",
   "metadata": {},
   "outputs": [],
   "source": [
    "# fonction to remove atome mapping numbers from smiles\n",
    "import re\n",
    "\n",
    "def remove_atom_mapping(smiles):\n",
    "    \"\"\"\n",
    "    Remove atom mapping numbers from a SMILES-like notation.\n",
    "    Args:\n",
    "    - smiles (str): The SMILES-like notation with atom mapping numbers.\n",
    "    Returns:\n",
    "    - smiles_without_mapping (str): The SMILES notation without atom mapping numbers.\n",
    "    \"\"\"\n",
    "    # Define a regular expression pattern to match atom mapping numbers\n",
    "    pattern = r':\\d+'\n",
    "    smiles_without_mapping = re.sub(pattern, '', smiles)\n",
    "    return smiles_without_mapping"
   ]
  },
  {
   "cell_type": "code",
   "execution_count": 242,
   "id": "3eda2fe8-a8eb-4b05-90de-89167ec90034",
   "metadata": {},
   "outputs": [],
   "source": [
    "# give smiles\n",
    "\n",
    "import re\n",
    "\n",
    "def Smiles(smiles):\n",
    "    \"\"\"\n",
    "    Remove atom mapping numbers, brackets, 'H' characters, and empty parentheses from a SMILES-like notation.\n",
    "    Args:\n",
    "    - smiles (str): The SMILES-like notation with atom mapping numbers, brackets, 'H' characters, and empty parentheses.\n",
    "    Returns:\n",
    "    - smiles_cleaned (str): The cleaned SMILES notation.\n",
    "    \"\"\"\n",
    "    # Define a regular expression pattern to match atom mapping numbers, brackets, 'H' characters, and empty parentheses\n",
    "    pattern = r'[:\\[\\]\\ H@\\/]'\n",
    "    # Use re.sub() to remove the specified characters\n",
    "    smiles_cleaned = re.sub(pattern, '', smiles)\n",
    "    # Remove empty parentheses only\n",
    "    smiles_cleaned = re.sub(r'\\(\\)', '', smiles_cleaned)\n",
    "    return smiles_cleaned\n",
    "\n",
    "def remove_forward_slash(smiles):\n",
    "    \"\"\"\n",
    "    Remove forward slash '(\\)' from a string.\n",
    "    Args:\n",
    "    - smiles (str): The input string.\n",
    "    Returns:\n",
    "    - cleaned_str (str): The string with forward slash removed.\n",
    "    \"\"\"\n",
    "    return smiles.replace(r'(\\)', '')\n",
    "\n",
    "\n",
    "def convert_X(smiles):\n",
    "    \"\"\"\n",
    "    Convert \"X-\" elements where X can be \"Br\", \"Cl\", or \"F\" into \"[X-]\" in a SMILES-like notation.\n",
    "    Args:\n",
    "    - smiles (str): The SMILES-like notation.\n",
    "    Returns:\n",
    "    - cleaned_smiles (str): The cleaned SMILES notation.\n",
    "    \"\"\"\n",
    "    # Define the elements you want to convert\n",
    "    elements = ['Br', 'Cl', 'F']\n",
    "    # Iterate over each element\n",
    "    for element in elements:\n",
    "        # Replace \"X-\" with \"[X-]\"\n",
    "        smiles = smiles.replace(element + '-', '[' + element + '-]')\n",
    "    return smiles\n",
    "\n",
    "def transform_anions(smiles):\n",
    "    \"\"\"\n",
    "    Transform the input string by replacing '(N+(O-)O)' with 'NO'.\n",
    "    Args:\n",
    "    - input_string (str): The input string to be transformed.\n",
    "    Returns:\n",
    "    - transformed_string (str): The transformed string.\n",
    "    \"\"\"\n",
    "    transformed_string = re.sub(r'N\\+\\(O-\\)O', 'NO', smiles)\n",
    "    return transformed_string\n"
   ]
  },
  {
   "cell_type": "code",
   "execution_count": 243,
   "id": "c2b94140-30bb-4787-b0c3-31d2db2eafc7",
   "metadata": {},
   "outputs": [
    {
     "name": "stdout",
     "output_type": "stream",
     "text": [
      "     Reactant 1;Reactant 2;Product 1;Product 2;Product 3;yield;reaction_smarts\n",
      "0     [Br-];BrC(C(C#N)C#N);[Br-];BrC(C(C#N)C#N);;28....                       \n",
      "1     [Br-];BrC(C(C#N))(C)C;[Br-];BrC(C(C#N))(C)C;;3...                       \n",
      "2     [Br-];BrC(CC#N)(C)C;[Br-];BrC(CC#N)(C)C;;37.64...                       \n",
      "3     [Br-];BrC(C)(C);[Br-];BrC(C)(C);;24.2066422218...                       \n",
      "4     [Br-];BrC(C)C;[Br-];BrC(C)C;;18.45075294694804...                       \n",
      "...                                                 ...                       \n",
      "3620  FC(C(N)NO)N;-;[F-];C(C(N)NO)N;;26.844888319262...                       \n",
      "3621  FC(C(N)NO)(NO)C;-;C(=C(NO)C)(\\N)NO;[F-];;2.283...                       \n",
      "3622  FC(C(N)NO)(NO);-;[F-];C(C(N)NO)(NO);;18.142052...                       \n",
      "3623  FC(C(N)NO)(N)C#N;-;[F-];C(C(N)NO)(N)C#N;;18.12...                       \n",
      "3624  FC(C(N)NO)(N);-;[F-];C(C(N)NO)(N);;30.15313442...                       \n",
      "\n",
      "[3625 rows x 1 columns]\n"
     ]
    }
   ],
   "source": [
    "# remove mapping from the Data Frame\n",
    "for column in dataFrame.columns:\n",
    "    # Apply the remove_atom_mapping function to each column\n",
    "    dataFrame[column] = dataFrame[column].apply(remove_atom_mapping)\n",
    "    dataFrame[column] = dataFrame[column].apply(remove_forward_slash)\n",
    "    dataFrame[column] = dataFrame[column].apply(Smiles)\n",
    "    dataFrame[column] = dataFrame[column].apply(convert_X)\n",
    "    dataFrame[column] = dataFrame[column].apply(transform_anions)\n",
    "print(dataFrame)"
   ]
  },
  {
   "cell_type": "code",
   "execution_count": 244,
   "id": "8f5332aa-d053-467b-b239-d4c04c709bfb",
   "metadata": {},
   "outputs": [
    {
     "name": "stdout",
     "output_type": "stream",
     "text": [
      "            Reactant 1       Reactant 2         Product 1        Product 2  \\\n",
      "0                [Br-]   BrC(C(C#N)C#N)             [Br-]   BrC(C(C#N)C#N)   \n",
      "1                [Br-]  BrC(C(C#N))(C)C             [Br-]  BrC(C(C#N))(C)C   \n",
      "2                [Br-]    BrC(CC#N)(C)C             [Br-]    BrC(CC#N)(C)C   \n",
      "3                [Br-]        BrC(C)(C)             [Br-]        BrC(C)(C)   \n",
      "4                [Br-]          BrC(C)C             [Br-]          BrC(C)C   \n",
      "...                ...              ...               ...              ...   \n",
      "3620       FC(C(N)NO)N                -              [F-]       C(C(N)NO)N   \n",
      "3621   FC(C(N)NO)(NO)C                -  C(=C(NO)C)(\\N)NO             [F-]   \n",
      "3622    FC(C(N)NO)(NO)                -              [F-]    C(C(N)NO)(NO)   \n",
      "3623  FC(C(N)NO)(N)C#N                -              [F-]  C(C(N)NO)(N)C#N   \n",
      "3624     FC(C(N)NO)(N)                -              [F-]     C(C(N)NO)(N)   \n",
      "\n",
      "     Product 3               yield  \\\n",
      "0                28.81200403800853   \n",
      "1               33.410337794832714   \n",
      "2                37.64569798608316   \n",
      "3                24.20664222186525   \n",
      "4               18.450752946948047   \n",
      "...        ...                 ...   \n",
      "3620             26.84488831926287   \n",
      "3621             2.283999477538191   \n",
      "3622            18.142052222155485   \n",
      "3623             18.12725496195325   \n",
      "3624            30.153134421367486   \n",
      "\n",
      "                                   reaction_smarts  \n",
      "0       [Br-].BrC(C(C#N)C#N)>>[Br-].BrC(C(C#N)C#N)  \n",
      "1     [Br-].BrC(C(C#N))(C)C>>[Br-].BrC(C(C#N))(C)C  \n",
      "2         [Br-].BrC(CC#N)(C)C>>[Br-].BrC(CC#N)(C)C  \n",
      "3                 [Br-].BrC(C)(C)>>[Br-].BrC(C)(C)  \n",
      "4                     [Br-].BrC(C)C>>[Br-].BrC(C)C  \n",
      "...                                            ...  \n",
      "3620                FC(C(N)NO)N.->>[F-].C(C(N)NO)N  \n",
      "3621     FC(C(N)NO)(NO)C.->>C(=C(NO)C)(\\N)NO.[F-].  \n",
      "3622          FC(C(N)NO)(NO).->>[F-].C(C(N)NO)(NO)  \n",
      "3623      FC(C(N)NO)(N)C#N.->>[F-].C(C(N)NO)(N)C#N  \n",
      "3624            FC(C(N)NO)(N).->>[F-].C(C(N)NO)(N)  \n",
      "\n",
      "[3625 rows x 7 columns]\n"
     ]
    }
   ],
   "source": [
    "# Split the column values at each \";\" and expand them into separate columns\n",
    "split_dataFrame = dataFrame['Reactant 1;Reactant 2;Product 1;Product 2;Product 3;yield;reaction_smarts'].str.split(';', expand=True)\n",
    "\n",
    "# Rename the columns\n",
    "split_dataFrame.columns = ['Reactant 1', 'Reactant 2', 'Product 1', 'Product 2', 'Product 3', 'yield', \"reaction_smarts\"]\n",
    "\n",
    "# Display the resulting DataFrame\n",
    "print(split_dataFrame)"
   ]
  },
  {
   "cell_type": "code",
   "execution_count": 245,
   "id": "9d474126-24be-442b-be8d-c03040c775d2",
   "metadata": {},
   "outputs": [
    {
     "name": "stdout",
     "output_type": "stream",
     "text": [
      "First element of the third column: [Br-]\n",
      "Type of the element: <class 'str'>\n"
     ]
    }
   ],
   "source": [
    "# Assuming your DataFrame is named dataFrame\n",
    "# Access the third column and get its first element\n",
    "element = split_dataFrame.iloc[0, 2]\n",
    "\n",
    "# Print the element and its type\n",
    "print(\"First element of the third column:\", element)\n",
    "print(\"Type of the element:\", type(element))"
   ]
  },
  {
   "cell_type": "code",
   "execution_count": 232,
   "id": "9187d1ec-3cec-4ef3-a03c-eb9423cd44e8",
   "metadata": {},
   "outputs": [
    {
     "name": "stdout",
     "output_type": "stream",
     "text": [
      "you can enter the name of the molecule or its SMILES, the racemic configuration is available. Only halogen molecules are taken in account in the data base\n"
     ]
    },
    {
     "name": "stdin",
     "output_type": "stream",
     "text": [
      "Enter the molecule that you want to form:  bromide\n"
     ]
    }
   ],
   "source": [
    "# Prompt the user to enter the molecule that he wants to form\n",
    "print (\"you can enter the name of the molecule or its SMILES, the racemic configuration is available. Only halogen molecules are taken in account in the data base\")\n",
    "string_input_mol = input(\"Enter the molecule that you want to form: \")"
   ]
  },
  {
   "cell_type": "code",
   "execution_count": 246,
   "id": "b1e2a5c4-8b5d-40c6-bef2-96078e961f3b",
   "metadata": {},
   "outputs": [
    {
     "name": "stdout",
     "output_type": "stream",
     "text": [
      "'[Br-]' is a valid SMILES notation.\n"
     ]
    }
   ],
   "source": [
    "# function to determine if the user enters the SMILES notation or the usual name of the molecule\n",
    "from rdkit import Chem\n",
    "\n",
    "def is_smiles(smiles):\n",
    "    \"\"\"\n",
    "    Check if a string represents a valid SMILES notation.\n",
    "    Args:\n",
    "    - smiles (str): The string to check.\n",
    "    Returns:\n",
    "    - is_valid (bool): True if the string is a valid SMILES notation, False otherwise.\n",
    "    \"\"\"\n",
    "    if Chem.MolFromSmiles(smiles)== None:\n",
    "        return False\n",
    "    else:\n",
    "        return True\n",
    "\n",
    "# Check if the entered string is a valid SMILES notation\n",
    "if is_smiles(string_input_mol):\n",
    "    print(f\"'{string_input_mol}' is a valid SMILES notation.\")\n",
    "else:\n",
    "    print(f\"'{string_input_mol}' is not a valid SMILES notation.\")"
   ]
  },
  {
   "cell_type": "code",
   "execution_count": 247,
   "id": "2392592a-14be-44a4-9233-c4219810f3b9",
   "metadata": {},
   "outputs": [
    {
     "name": "stdout",
     "output_type": "stream",
     "text": [
      "Requirement already satisfied: pubchempy in c:\\users\\33783\\anaconda3\\envs\\env\\lib\\site-packages (1.0.4)\n"
     ]
    }
   ],
   "source": [
    "!pip install pubchempy"
   ]
  },
  {
   "cell_type": "code",
   "execution_count": 248,
   "id": "c84b7ab4-fe4b-4b2a-a0af-aae25abebcbc",
   "metadata": {},
   "outputs": [],
   "source": [
    "# function to convert name into SMILES\n",
    "\n",
    "import pubchempy as pcp\n",
    "\n",
    "def name_to_smiles(molecule_name):\n",
    "    \"\"\"\n",
    "    Convert a molecule name to a SMILES notation using PubChemPy's PubChem database.\n",
    "    Args:\n",
    "    - molecule_name (str): The name of the molecule.\n",
    "    Returns:\n",
    "    - smiles (str): The SMILES notation of the molecule, or None if retrieval fails.\n",
    "    \"\"\"\n",
    "    try:\n",
    "        compound = pcp.get_compounds(molecule_name, 'name')\n",
    "        if compound:\n",
    "            return compound[0].canonical_smiles\n",
    "        else:\n",
    "            print(\"Error: Unable to retrieve molecule information. Please try with the SMILE of the molecule\")\n",
    "            return None\n",
    "    except:\n",
    "        print(\"Error: Unable to retrieve molecule information. Please try again\")\n",
    "        return None"
   ]
  },
  {
   "cell_type": "code",
   "execution_count": 249,
   "id": "1e35f02c-45ad-47f9-8f1d-f9a2eb5aa6ac",
   "metadata": {},
   "outputs": [
    {
     "name": "stdout",
     "output_type": "stream",
     "text": [
      "[Br-]\n"
     ]
    }
   ],
   "source": [
    "# Call the function to convert the molecule name to SMILES notation\n",
    "if is_smiles(string_input_mol)== False:\n",
    "    string_input_mol = name_to_smiles(string_input_mol)\n",
    "    if string_input_mol:\n",
    "        print(f\"SMILES notation for {string_input_mol}: {string_input_mol}\")\n",
    "else:\n",
    "    print (string_input_mol)"
   ]
  },
  {
   "cell_type": "code",
   "execution_count": 250,
   "id": "4e394b69-8549-43b7-9223-59860199fde4",
   "metadata": {},
   "outputs": [
    {
     "name": "stdout",
     "output_type": "stream",
     "text": [
      "The product is not in the database\n"
     ]
    }
   ],
   "source": [
    "# function to find the required molecule in the data Frame\n",
    "\n",
    "def compare_molecule_with_data(element):\n",
    "    return element == string_input_mol\n",
    "\n",
    "# Iterate over the last three columns of the DataFrame\n",
    "for column_name in split_dataFrame.columns[-4:-1]:\n",
    "    column = split_dataFrame[column_name]\n",
    "    # Check if any element in the column matches the input molecule\n",
    "    if any(column.apply(compare_molecule_with_data)):\n",
    "        print(\"Input molecule found in the DataFrame:\")\n",
    "        print(split_dataFrame[column.apply(compare_molecule_with_data)])\n",
    "        print(\"Row number:\", index)\n",
    "        break\n",
    "else:\n",
    "    print(\"The product is not in the database\")"
   ]
  },
  {
   "cell_type": "code",
   "execution_count": 251,
   "id": "4311d40e-e62f-4efe-9588-44b279348ca0",
   "metadata": {},
   "outputs": [
    {
     "name": "stdout",
     "output_type": "stream",
     "text": [
      "[0, 1, 2, 3, 4, 5, 6, 7, 8, 9, 10, 11, 12, 13, 14, 15, 16, 17, 18, 19, 20, 21, 22, 23, 24, 25, 26, 27, 28, 29, 30, 31, 32, 33, 34, 35, 36, 37, 38, 39, 40, 41, 42, 43, 44, 45, 46, 47, 48, 49, 50, 51, 52, 53, 54, 55, 56, 57, 58, 59, 60, 61, 62, 63, 64, 65, 66, 67, 68, 69, 70, 71, 72, 73, 74, 75, 76, 77, 78, 79, 80, 81, 82, 83, 84, 85, 86, 87, 88, 89, 90, 91, 92, 93, 94, 95, 96, 97, 98, 99, 100, 101, 102, 103, 104, 105, 106, 107, 108, 109, 110, 111, 112, 113, 114, 115, 116, 404, 405, 406, 407, 408, 409, 410, 411, 412, 413, 414, 415, 416, 417, 418, 419, 420, 421, 422, 423, 424, 425, 426, 427, 428, 429, 430, 431, 432, 433, 434, 435, 436, 437, 438, 439, 440, 441, 442, 443, 444, 445, 446, 447, 448, 449, 450, 451, 452, 453, 454, 455, 456, 457, 458, 459, 460, 461, 462, 463, 464, 465, 466, 467, 468, 469, 470, 471, 472, 473, 474, 475, 476, 477, 478, 479, 480, 481, 482, 483, 484, 485, 486, 487, 488, 489, 490, 491, 492, 493, 494, 495, 496, 497, 498, 499, 500, 501, 502, 503, 504, 505, 506, 507, 508, 509, 510, 511, 512, 513, 514, 515, 516, 517, 518, 519, 520, 521, 522, 523, 524, 525, 526, 527, 528, 529, 530, 531, 532, 533, 534, 535, 536, 537, 538, 539, 540, 541, 542, 543, 544, 545, 546, 547, 548, 549, 550, 551, 552, 553, 554, 555, 556, 557, 558, 559, 560, 561, 562, 563, 564, 565, 566, 567, 568, 569, 570, 571, 572, 573, 574, 575, 576, 577, 578, 579, 580, 581, 582, 583, 584, 585, 586, 587, 588, 589, 590, 591, 592, 593, 594, 595, 596, 597, 598, 599, 600, 601, 602, 603, 604, 605, 606, 607, 608, 609, 610, 611, 612, 613, 614, 615, 616, 617, 618, 619, 620, 621, 622, 623, 624, 625, 626, 627, 628, 629, 630, 631, 632, 633, 634, 635, 636, 637, 638, 639, 640, 641, 642, 643, 644, 645, 646, 647, 648, 649, 650, 651, 652, 653, 654, 655, 656, 657, 658, 659, 660, 661, 662, 663, 664, 665, 666, 667, 668, 669, 670, 671, 672, 673, 674, 675, 676, 677, 678, 679, 680, 681, 682, 683, 684, 685, 686, 687, 688, 689, 690, 691, 692, 693, 694, 695, 696, 697, 698, 699, 700, 701, 702, 703, 704, 705, 706, 707, 708, 709, 710, 711, 712, 713, 714, 715, 716, 717, 718, 719, 720, 721, 722, 723, 724, 725, 726, 727, 728, 729, 730, 731, 732, 733, 734, 735, 736, 737, 738, 739, 740, 741, 742, 743, 744, 745, 746, 747, 748, 749, 750, 751, 752, 753, 754, 755, 756, 757, 758, 759, 760, 761, 762, 763, 764, 765, 766, 767, 768, 769, 770, 771, 772, 773, 774, 775, 776, 777, 778, 779, 780, 781, 782, 783, 784, 785, 786, 787, 788, 789, 790, 791, 792, 793, 794, 795, 796, 797, 798, 799, 800, 801, 802, 803, 804, 805, 806, 807, 808, 809, 810, 811, 812, 813, 814, 815, 816, 817, 818, 819, 820, 821, 822, 823, 824, 825, 826, 827, 828, 829, 830, 831, 832, 833, 834, 835, 836, 837, 838, 839, 840, 841, 842, 843, 844, 845, 846, 847, 848, 849, 850, 851, 852, 853, 854, 855, 856, 857, 858, 859, 860, 861, 862, 863, 864, 865, 866, 867, 868, 869, 870, 871, 872, 873, 874, 875, 876, 877, 878, 879, 880, 881, 882, 883, 884, 885, 886, 887, 888, 889, 890, 891, 892, 893, 894, 895, 896, 897, 898, 899, 900, 901, 902, 903, 904, 905, 906, 907, 908, 909, 910, 911, 912, 913, 914, 915, 916, 917, 918, 919, 920, 921, 922, 923, 924, 925, 926, 927, 928, 929, 930, 931, 932, 933, 934, 935, 936, 937, 938, 939, 940, 941, 942, 943, 944, 945, 946, 947, 948, 949, 950, 951, 952, 953, 954, 955, 956, 957, 958, 959, 960, 961, 962, 963, 964, 965, 966, 967, 968, 969, 970, 971, 972, 973, 974, 975, 976, 977, 978, 979, 980, 981, 982, 983, 984, 985, 986, 987, 988, 989, 990, 991, 992, 993, 994, 995, 996, 997, 998, 999, 1000, 1001, 1002, 1003, 1004, 1005, 1006, 1007, 1008, 1009, 1010, 1011, 1012, 1013, 1014, 1015, 1016, 1017, 1018, 1019, 1020, 1021, 1022, 1023, 1024, 1025, 1026, 1027, 1028, 1029, 1030, 1031, 1032, 1033, 1034, 1035, 1036, 1037, 1038, 1039, 1040, 1041, 1042, 1043, 1044, 1045, 1046, 1047, 1048, 1049, 1050, 1051, 1052, 1053, 1054, 1055, 1056, 1057, 1058, 1059, 1060, 1061, 1062, 1063, 1064, 1065, 1066, 1067, 1068, 1069, 1070, 1071, 1072, 1073, 1074, 1075, 1076, 1077, 1078, 1079, 1080, 1081, 1082, 1083, 1084, 1085, 1086, 1087, 1088, 1089, 1090, 1091, 1092, 1093, 1094, 1095, 1096, 1097, 1098, 1099, 1100, 1101, 1102, 1103, 1104, 1105, 1106, 1107, 1108, 1109, 1110, 1111, 1112, 1113, 1114, 1115, 1116, 1117, 1118, 1119, 1120, 1121, 1122, 1123, 1124, 1125, 1126, 1127, 1128, 1129, 1130, 1131, 1132, 1133, 1134, 1135, 1136, 1137, 1138, 1139, 1140, 1141, 1142, 1143, 1144, 1145, 1146, 1147, 1148, 1149, 1150, 1151, 1152, 1153, 1154, 1155, 1156, 1157, 1158, 1159, 1160, 1161, 1162, 1163, 1164, 1165, 1166, 1167, 1168, 1169, 1170, 1171, 1172, 1173, 1174, 1175, 1176, 1177, 1178, 1179, 1180, 1181, 1182, 1183, 1184, 1185, 1186, 1187, 1188, 1189, 1190, 1191, 1192, 1193, 1194, 1195, 1196, 1197, 1198, 1199, 1200, 1201, 1202, 1203, 1204, 1205, 1206, 1207, 1208, 1209, 1210, 1211, 1212, 1213, 1214, 1215, 1216, 1217, 1218, 1219, 1220, 1221, 1222, 1223, 1224, 1225, 1226, 1227, 1228, 1229, 1230, 1231, 1232, 1233, 1234, 1235, 1236, 1237, 1238, 1239, 1240, 1241, 1242, 1243, 1244, 1245, 1246, 1247, 1248, 1249, 1250, 1251, 1252, 1253, 1254, 1255, 1256, 1257, 1258, 1259, 1260, 1261, 1262, 1263, 1264, 1265, 1266, 1267, 1268, 1269, 1270, 1271, 1272, 1273, 1274, 1275, 1276, 1277, 1278, 1279, 1280, 1281, 1282, 1283, 1284, 1285, 1286, 1287, 1288, 1289, 1290, 1291, 1292, 1293, 1294, 1295, 1296, 1297]\n"
     ]
    }
   ],
   "source": [
    "# Function that returns the row of the elements formation reaction\n",
    "def compare_molecule_with_data(element):\n",
    "    return element == string_input_mol\n",
    "\n",
    "# Initialize a variable to store the row number\n",
    "found_row_number = None\n",
    "rows=[]\n",
    "# Iterate over the last three columns of the DataFrame\n",
    "for column_name in split_dataFrame.columns[-5:-1]:\n",
    "    column = split_dataFrame[column_name]\n",
    "    # Check if any element in the column matches the input molecule\n",
    "    for index, value in column.items():\n",
    "        if compare_molecule_with_data(value):\n",
    "            # Store the row number where the molecule is found\n",
    "            found_row_number = index\n",
    "            rows.append(found_row_number)\n",
    "    else:\n",
    "        continue  # Continue to the next column if molecule not found in current column\n",
    "\n",
    "# Check if the molecule was found and return the row number\n",
    "if found_row_number is not None:\n",
    "   print(rows)\n",
    "else:\n",
    "    print(\"The product is not in the database\")\n"
   ]
  },
  {
   "cell_type": "code",
   "execution_count": 252,
   "id": "0eee2125-1ec9-4df7-8462-3d2f91ae3309",
   "metadata": {},
   "outputs": [
    {
     "name": "stdout",
     "output_type": "stream",
     "text": [
      "            Reactant 1       Reactant 2 Product 1        Product 2 Product 3  \\\n",
      "0                [Br-]   BrC(C(C#N)C#N)     [Br-]   BrC(C(C#N)C#N)             \n",
      "1                [Br-]  BrC(C(C#N))(C)C     [Br-]  BrC(C(C#N))(C)C             \n",
      "2                [Br-]    BrC(CC#N)(C)C     [Br-]    BrC(CC#N)(C)C             \n",
      "3                [Br-]        BrC(C)(C)     [Br-]        BrC(C)(C)             \n",
      "4                [Br-]          BrC(C)C     [Br-]          BrC(C)C             \n",
      "...                ...              ...       ...              ...       ...   \n",
      "1293      BrC(C(N)NO)N                -     [Br-]       C(C(N)NO)N             \n",
      "1294   BrC(C(N)NO)(NO)             [F-]     [Br-]  C(=C(NO))(\\N)NO         F   \n",
      "1295   BrC(C(N)NO)(NO)                -     [Br-]  C(=C(NO))(\\N)NO             \n",
      "1296  BrC(C(N)NO)(NO)N             [F-]     [Br-]  FC(C(N)NO)(NO)N             \n",
      "1297   BrC(C(N)NO)(N)C             [F-]     [Br-]  C(=C(N)C)(\\N)NO         F   \n",
      "\n",
      "          yield                                reaction_smarts  \n",
      "0     28.812004     [Br-].BrC(C(C#N)C#N)>>[Br-].BrC(C(C#N)C#N)  \n",
      "1     33.410338   [Br-].BrC(C(C#N))(C)C>>[Br-].BrC(C(C#N))(C)C  \n",
      "2     37.645698       [Br-].BrC(CC#N)(C)C>>[Br-].BrC(CC#N)(C)C  \n",
      "3     24.206642               [Br-].BrC(C)(C)>>[Br-].BrC(C)(C)  \n",
      "4     18.450753                   [Br-].BrC(C)C>>[Br-].BrC(C)C  \n",
      "...         ...                                            ...  \n",
      "1293  13.987055               BrC(C(N)NO)N.->>[Br-].C(C(N)NO)N  \n",
      "1294   0.180265  BrC(C(N)NO)(NO).[F-]>>[Br-].C(=C(NO))(\\N)NO.F  \n",
      "1295   1.578332      BrC(C(N)NO)(NO).->>[Br-].C(=C(NO))(\\N)NO.  \n",
      "1296  17.318768   BrC(C(N)NO)(NO)N.[F-]>>[Br-].FC(C(N)NO)(NO)N  \n",
      "1297   5.733376  BrC(C(N)NO)(N)C.[F-]>>[Br-].C(=C(N)C)(\\N)NO.F  \n",
      "\n",
      "[1011 rows x 7 columns]\n",
      "Row with the highest yield:\n",
      "Reactant 1                               BrC(CN)N\n",
      "Reactant 2                                   [F-]\n",
      "Product 1                                   [Br-]\n",
      "Product 2                                 C(=CN)N\n",
      "Product 3                                       F\n",
      "yield                                   47.191081\n",
      "reaction_smarts    BrC(CN)N.[F-]>>[Br-].C(=CN)N.F\n",
      "Name: 846, dtype: object\n"
     ]
    }
   ],
   "source": [
    "# print the yield\n",
    "# Convert the 'Yield' column to float\n",
    "split_dataFrame['yield'] = split_dataFrame['yield'].astype(float)\n",
    "\n",
    "# Assuming 'rows_to_compare' is a list containing the row numbers to compare\n",
    "\n",
    "# Subset the DataFrame to include only the specified rows\n",
    "subset_df = split_dataFrame.iloc[rows]\n",
    "print(subset_df)\n",
    "\n",
    "# Find the index of the row with the highest yield\n",
    "max_yield_row_index = subset_df['yield'].idxmax()\n",
    "\n",
    "# Retrieve the row with the highest yield\n",
    "max_yield_row = split_dataFrame.loc[max_yield_row_index]\n",
    "\n",
    "print(\"Row with the highest yield:\")\n",
    "print(max_yield_row)\n"
   ]
  },
  {
   "cell_type": "code",
   "execution_count": null,
   "id": "dd481fce-d374-4398-99a0-0f815248b802",
   "metadata": {},
   "outputs": [],
   "source": [
    "\n",
    "\n",
    "\n"
   ]
  },
  {
   "cell_type": "code",
   "execution_count": 253,
   "id": "5290ab77-1f8d-49ce-bb50-02f51001625a",
   "metadata": {},
   "outputs": [
    {
     "name": "stdout",
     "output_type": "stream",
     "text": [
      "BrC(CN)N.[F-]>>[Br-].C(=CN)N.F\n"
     ]
    }
   ],
   "source": [
    "# print the reaction\n",
    "from rdkit import Chem\n",
    "from rdkit.Chem import Draw\n",
    "from rdkit.Chem import AllChem\n",
    "\n",
    "# Create a reaction SMARTS string\n",
    "reaction_smarts = split_dataFrame.iloc[max_yield_row_index, 6]\n",
    "print (reaction_smarts)\n",
    "# Parse the reaction SMARTS string\n",
    "reaction = AllChem.ReactionFromSmarts(reaction_smarts)\n",
    "\n",
    "# Draw the reaction\n",
    "reaction_image = Draw.ReactionToImage(reaction)\n",
    "\n",
    "# Save or display the image\n",
    "reaction_image.show()"
   ]
  },
  {
   "cell_type": "code",
   "execution_count": 162,
   "id": "c45375bd-04ac-4818-822c-b56e384b9cc9",
   "metadata": {},
   "outputs": [],
   "source": [
    "from rdkit import Chem\n",
    "from rdkit.Chem import Draw\n",
    "\n",
    "# SMILES representation of the molecule\n",
    "smiles = \"FC(C(N)(NO))N\"\n",
    "\n",
    "# Create a molecule object from the SMILES string\n",
    "mol = Chem.MolFromSmiles(smiles)\n",
    "\n",
    "# Check if the molecule object is not None (i.e., if the SMILES string is valid)\n",
    "if mol is not None:\n",
    "    # Draw and display the molecule\n",
    "    img = Draw.MolToImage(mol)\n",
    "    img.show()\n",
    "else:\n",
    "    print(\"Invalid SMILES string\")"
   ]
  },
  {
   "cell_type": "code",
   "execution_count": null,
   "id": "3b285088-b671-4889-ae9e-8d33cbc153d7",
   "metadata": {},
   "outputs": [],
   "source": [
    "\n"
   ]
  },
  {
   "cell_type": "code",
   "execution_count": 26,
   "id": "978f26b3-65d8-4eec-b20e-ec64aab57216",
   "metadata": {},
   "outputs": [],
   "source": []
  },
  {
   "cell_type": "code",
   "execution_count": null,
   "id": "c7eda5fe-04f9-484d-9353-11524dea25be",
   "metadata": {},
   "outputs": [],
   "source": []
  }
 ],
 "metadata": {
  "kernelspec": {
   "display_name": "Python 3 (ipykernel)",
   "language": "python",
   "name": "python3"
  },
  "language_info": {
   "codemirror_mode": {
    "name": "ipython",
    "version": 3
   },
   "file_extension": ".py",
   "mimetype": "text/x-python",
   "name": "python",
   "nbconvert_exporter": "python",
   "pygments_lexer": "ipython3",
   "version": "3.9.18"
  }
 },
 "nbformat": 4,
 "nbformat_minor": 5
}
