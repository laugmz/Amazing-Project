{
 "cells": [
  {
   "cell_type": "code",
   "execution_count": null,
   "id": "5dae1f88-ca2b-45b9-8462-70b66e934d87",
   "metadata": {},
   "outputs": [],
   "source": [
    "# read the data\n",
    "#imports\"\n",
    "from pathlib import Path\n",
    "from rdkit import Chem\n",
    "from rdkit.Chem import Draw\n",
    "\n",
    "# Create a Path object for the current directory\n",
    "current_directory = Path.cwd()\n",
    "print(\"Current Directory:\", current_directory.resolve())\n",
    "\n",
    "# Creating a Path object for an example file that does not yet exist\n",
    "example_file_path = current_directory / \"database.csv\"\n",
    "\n",
    "# Reading the contents of the file to test if we have well acess to our data\n",
    "if example_file_path.exists():\n",
    "    with example_file_path.open(\"r\") as file:\n",
    "        first_line = file.readline()\n",
    "        print(first_line)\n",
    "else:\n",
    "    print(\"The file does not exist.\")"
   ]
  },
  {
   "cell_type": "code",
   "execution_count": null,
   "id": "c84b7ab4-fe4b-4b2a-a0af-aae25abebcbc",
   "metadata": {},
   "outputs": [],
   "source": [
    "# function to convert name into SMILES\n",
    "!pip install pubchempy\n",
    "\n",
    "import pubchempy as pcp\n",
    "\n",
    "def name_to_smiles(molecule_name):\n",
    "    \"\"\"\n",
    "    Convert a molecule name to a SMILES notation using PubChemPy's PubChem database.\n",
    "    Args:\n",
    "    - molecule_name (str): The name of the molecule.\n",
    "    Returns:\n",
    "    - smiles (str): The SMILES notation of the molecule, or None if retrieval fails.\n",
    "    \"\"\"\n",
    "    try:\n",
    "        compound = pcp.get_compounds(molecule_name, 'name')\n",
    "        if compound:\n",
    "            return compound[0].canonical_smiles\n",
    "        else:\n",
    "            print(\"Error: Unable to retrieve molecule information. Please try with the SMILE of the molecule\")\n",
    "            return None\n",
    "    except:\n",
    "        print(\"Error: Unable to retrieve molecule information. Please try again\")\n",
    "        return None"
   ]
  },
  {
   "cell_type": "code",
   "execution_count": null,
   "id": "b1e2a5c4-8b5d-40c6-bef2-96078e961f3b",
   "metadata": {},
   "outputs": [],
   "source": [
    "# function to determine if the user enters the SMILES notation or the usual name of the molecule\n",
    "from rdkit import Chem\n",
    "\n",
    "def is_smiles(smiles):\n",
    "    \"\"\"\n",
    "    Check if a string represents a valid SMILES notation.\n",
    "    Args:\n",
    "    - smiles (str): The string to check.\n",
    "    Returns:\n",
    "    - is_valid (bool): True if the string is a valid SMILES notation, False otherwise.\n",
    "    \"\"\"\n",
    "    if Chem.MolFromSmiles(smiles)== None:\n",
    "        return False\n",
    "    else:\n",
    "        return True\n",
    "\n",
    "# Check if the entered string is a valid SMILES notation\n",
    "if is_smiles(string_input):\n",
    "    print(f\"'{string_input}' is a valid SMILES notation.\")\n",
    "else:\n",
    "    print(f\"'{string_input}' is not a valid SMILES notation.\")"
   ]
  },
  {
   "cell_type": "code",
   "execution_count": null,
   "id": "9187d1ec-3cec-4ef3-a03c-eb9423cd44e8",
   "metadata": {},
   "outputs": [],
   "source": [
    "# Prompt the user to enter the molecule that he wants to form\n",
    "string_input = input(\"Enter the name of the molecule: \")"
   ]
  },
  {
   "cell_type": "code",
   "execution_count": null,
   "id": "1e35f02c-45ad-47f9-8f1d-f9a2eb5aa6ac",
   "metadata": {},
   "outputs": [],
   "source": [
    "# Call the function to convert the molecule name to SMILES notation\n",
    "if is_smiles(string_input)== False:\n",
    "    smiles = name_to_smiles(string_input)\n",
    "    if smiles:\n",
    "        print(f\"SMILES notation for {string_input}: {smiles}\")\n",
    "else:\n",
    "    print (string_input)"
   ]
  },
  {
   "cell_type": "code",
   "execution_count": null,
   "id": "0e5e58c9-8e37-49b7-868f-979132b10509",
   "metadata": {},
   "outputs": [],
   "source": [
    "# fonction to remove atome mapping numbers from smiles\n",
    "import re\n",
    "\n",
    "def remove_atom_mapping(smiles):\n",
    "    \"\"\"\n",
    "    Remove atom mapping numbers from a SMILES-like notation.\n",
    "\n",
    "    Args:\n",
    "    - smiles (str): The SMILES-like notation with atom mapping numbers.\n",
    "\n",
    "    Returns:\n",
    "    - smiles_without_mapping (str): The SMILES notation without atom mapping numbers.\n",
    "    \"\"\"\n",
    "    # Define a regular expression pattern to match atom mapping numbers\n",
    "    pattern = r':\\d+'\n",
    "\n",
    "    # Replace atom mapping numbers with an empty string\n",
    "    smiles_without_mapping = re.sub(pattern, '', smiles)\n",
    "\n",
    "    return smiles_without_mapping"
   ]
  },
  {
   "cell_type": "code",
   "execution_count": null,
   "id": "4a41e2c1-9822-4f1c-b1f9-dc653e3626ed",
   "metadata": {},
   "outputs": [],
   "source": [
    "# Create the Data Frame\n",
    "from rdkit import Chem\n",
    "from rdkit.Chem import PandasTools\n",
    "import pandas as pd\n",
    "from pathlib import Path\n",
    "import os\n",
    "\n",
    "dataFrame = pd.read_csv(\"database.csv\")\n"
   ]
  },
  {
   "cell_type": "code",
   "execution_count": null,
   "id": "0eee2125-1ec9-4df7-8462-3d2f91ae3309",
   "metadata": {},
   "outputs": [],
   "source": [
    "# print the yield"
   ]
  },
  {
   "cell_type": "code",
   "execution_count": null,
   "id": "5290ab77-1f8d-49ce-bb50-02f51001625a",
   "metadata": {},
   "outputs": [],
   "source": [
    "# Smiles with mapping to without maping\n",
    "smiles_with_mapping = \"[Br-:1].[Br:2][C:5]([C:4]([H:3])([C:31]#[N:32])[C:41]#[N:42])([H:11])[H:21]\"\n",
    "clean_smiles = remove_atom_mapping(smiles_with_mapping)\n",
    "print(\"SMILES without atom mapping numbers:\", clean_smiles)\n",
    "\n"
   ]
  },
  {
   "cell_type": "code",
   "execution_count": null,
   "id": "dd481fce-d374-4398-99a0-0f815248b802",
   "metadata": {},
   "outputs": [],
   "source": [
    "# print the molecule\n",
    "original_smiles='[Br:1][C:5]([C:4]([H:3])([C:31]#[N:32])[C:41]#[N:42])([H:11])[H:21]'\n",
    "# Parse the original SMILES notation\n",
    "mol = Chem.MolFromSmiles(original_smiles)\n",
    "# Convert the parsed molecule back to SMILES without atom mapping numbers\n",
    "smiles_without_numbers = Chem.MolToSmiles(mol, allBondsExplicit=True, isomericSmiles=True)\n"
   ]
  },
  {
   "cell_type": "code",
   "execution_count": null,
   "id": "c45375bd-04ac-4818-822c-b56e384b9cc9",
   "metadata": {},
   "outputs": [],
   "source": [
    "# Create a molecule object from the SMILES notation\n",
    "mol = Chem.MolFromSmiles(smiles_without_numbers)"
   ]
  },
  {
   "cell_type": "code",
   "execution_count": null,
   "id": "3b285088-b671-4889-ae9e-8d33cbc153d7",
   "metadata": {},
   "outputs": [],
   "source": [
    "# Draw and display the molecule\n",
    "img = Draw.MolToImage(mol)\n"
   ]
  },
  {
   "cell_type": "code",
   "execution_count": null,
   "id": "978f26b3-65d8-4eec-b20e-ec64aab57216",
   "metadata": {},
   "outputs": [],
   "source": [
    "# Display the image\n",
    "img.show()"
   ]
  }
 ],
 "metadata": {
  "kernelspec": {
   "display_name": "Python 3 (ipykernel)",
   "language": "python",
   "name": "python3"
  },
  "language_info": {
   "codemirror_mode": {
    "name": "ipython",
    "version": 3
   },
   "file_extension": ".py",
   "mimetype": "text/x-python",
   "name": "python",
   "nbconvert_exporter": "python",
   "pygments_lexer": "ipython3",
   "version": "3.10.12"
  }
 },
 "nbformat": 4,
 "nbformat_minor": 5
}
