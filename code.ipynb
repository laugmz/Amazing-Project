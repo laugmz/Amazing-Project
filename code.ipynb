{
 "cells": [
  {
   "cell_type": "code",
   "execution_count": 86,
   "id": "5dae1f88-ca2b-45b9-8462-70b66e934d87",
   "metadata": {},
   "outputs": [
    {
     "name": "stdout",
     "output_type": "stream",
     "text": [
      "Current Directory: C:\\Users\\33783\\Documents\\EPFL\\Etudes\\BA4\\Amazing-Project\n",
      "Reactant 1;Reactant 2;Product 1;Product 2;Product 3\n",
      "\n"
     ]
    }
   ],
   "source": [
    "# read the data\n",
    "#imports\"\n",
    "from pathlib import Path\n",
    "from rdkit import Chem\n",
    "from rdkit.Chem import Draw\n",
    "\n",
    "# Create a Path object for the current directory\n",
    "current_directory = Path.cwd()\n",
    "print(\"Current Directory:\", current_directory.resolve())\n",
    "\n",
    "# Creating a Path object for an example file that does not yet exist\n",
    "example_file_path = current_directory / \"database.csv\"\n",
    "\n",
    "# Reading the contents of the file to test if we have well acess to our data\n",
    "if example_file_path.exists():\n",
    "    with example_file_path.open(\"r\") as file:\n",
    "        first_line = file.readline()\n",
    "        print(first_line)\n",
    "else:\n",
    "    print(\"The file does not exist.\")"
   ]
  },
  {
   "cell_type": "code",
   "execution_count": 97,
   "id": "4a41e2c1-9822-4f1c-b1f9-dc653e3626ed",
   "metadata": {},
   "outputs": [
    {
     "name": "stdout",
     "output_type": "stream",
     "text": [
      "     Reactant 1;Reactant 2;Product 1;Product 2;Product 3\n",
      "0     [Br-:2];[Br:1][C:5]([C:4]([H:3])([C:31]#[N:32]... \n",
      "1     [Br-:2];[Br:1][C:5]([C:4]([H:3])([C:31]#[N:32]... \n",
      "2     [Br-:2];[Br:1][C:5]([C:4]([H:3])([H:31])[C:41]... \n",
      "3     [Br-:2];[Br:1][C:5]([C:4]([H:3])([H:31])[H:41]... \n",
      "4     [Br-:2];[Br:1][C:5]([C:4]([H:3])([H:31])[H:41]... \n",
      "...                                                 ... \n",
      "3620  [F:1][C@:5]([C@:4]([H:3])([N:31]([H:32])[H:33]... \n",
      "3621  [F:1][C@:5]([C@:4]([H:3])([N:31]([H:32])[H:33]... \n",
      "3622  [F:1][C@:5]([C@:4]([H:3])([N:31]([H:32])[H:33]... \n",
      "3623  [F:1][C@:5]([C@:4]([H:3])([N:31]([H:32])[H:33]... \n",
      "3624  [F:1][C@:5]([C@:4]([H:3])([N:31]([H:32])[H:33]... \n",
      "\n",
      "[3625 rows x 1 columns]\n"
     ]
    }
   ],
   "source": [
    "# Create the Data Frame\n",
    "from rdkit import Chem\n",
    "from rdkit.Chem import PandasTools\n",
    "import pandas as pd\n",
    "from pathlib import Path\n",
    "import os\n",
    "\n",
    "dataFrame= pd.read_csv(\"database.csv\")\n",
    "print (dataFrame)"
   ]
  },
  {
   "cell_type": "code",
   "execution_count": 88,
   "id": "0e5e58c9-8e37-49b7-868f-979132b10509",
   "metadata": {},
   "outputs": [],
   "source": [
    "# fonction to remove atome mapping numbers from smiles\n",
    "import re\n",
    "\n",
    "def remove_atom_mapping(smiles):\n",
    "    \"\"\"\n",
    "    Remove atom mapping numbers from a SMILES-like notation.\n",
    "    Args:\n",
    "    - smiles (str): The SMILES-like notation with atom mapping numbers.\n",
    "    Returns:\n",
    "    - smiles_without_mapping (str): The SMILES notation without atom mapping numbers.\n",
    "    \"\"\"\n",
    "    # Define a regular expression pattern to match atom mapping numbers\n",
    "    pattern = r':\\d+'\n",
    "    smiles_without_mapping = re.sub(pattern, '', smiles)\n",
    "    return smiles_without_mapping"
   ]
  },
  {
   "cell_type": "code",
   "execution_count": 98,
   "id": "c2b94140-30bb-4787-b0c3-31d2db2eafc7",
   "metadata": {},
   "outputs": [
    {
     "ename": "NameError",
     "evalue": "name 'dataFrameNew' is not defined",
     "output_type": "error",
     "traceback": [
      "\u001b[1;31m---------------------------------------------------------------------------\u001b[0m",
      "\u001b[1;31mNameError\u001b[0m                                 Traceback (most recent call last)",
      "Cell \u001b[1;32mIn[98], line 4\u001b[0m\n\u001b[0;32m      1\u001b[0m \u001b[38;5;66;03m# remove mapping from the Data Frame\u001b[39;00m\n\u001b[0;32m      2\u001b[0m \u001b[38;5;28;01mfor\u001b[39;00m column \u001b[38;5;129;01min\u001b[39;00m dataFrame\u001b[38;5;241m.\u001b[39mcolumns:\n\u001b[0;32m      3\u001b[0m     \u001b[38;5;66;03m# Apply the remove_atom_mapping function to each column\u001b[39;00m\n\u001b[1;32m----> 4\u001b[0m     \u001b[43mdataFrameNew\u001b[49m[column] \u001b[38;5;241m=\u001b[39m dataFrame[column]\u001b[38;5;241m.\u001b[39mapply(remove_atom_mapping)\n\u001b[0;32m      5\u001b[0m \u001b[38;5;28mprint\u001b[39m(dataFrame)\n",
      "\u001b[1;31mNameError\u001b[0m: name 'dataFrameNew' is not defined"
     ]
    }
   ],
   "source": [
    "# remove mapping from the Data Frame\n",
    "for column in dataFrame.columns:\n",
    "    # Apply the remove_atom_mapping function to each column\n",
    "    dataFrame[column] = dataFrame[column].apply(remove_atom_mapping)\n",
    "print(dataFrame)"
   ]
  },
  {
   "cell_type": "code",
   "execution_count": 91,
   "id": "9187d1ec-3cec-4ef3-a03c-eb9423cd44e8",
   "metadata": {},
   "outputs": [
    {
     "name": "stdout",
     "output_type": "stream",
     "text": [
      "you can enter the name of the molecule or its SMILES, the racemic configuration is available. Only halogen molecules are taken in account in the data base\n"
     ]
    },
    {
     "name": "stdin",
     "output_type": "stream",
     "text": [
      "Enter the molecule that you want to form:  [Br-]\n"
     ]
    }
   ],
   "source": [
    "# Prompt the user to enter the molecule that he wants to form\n",
    "print (\"you can enter the name of the molecule or its SMILES, the racemic configuration is available. Only halogen molecules are taken in account in the data base\")\n",
    "string_input_mol = input(\"Enter the molecule that you want to form: \")"
   ]
  },
  {
   "cell_type": "code",
   "execution_count": 92,
   "id": "b1e2a5c4-8b5d-40c6-bef2-96078e961f3b",
   "metadata": {},
   "outputs": [
    {
     "name": "stdout",
     "output_type": "stream",
     "text": [
      "'[Br-]' is not a valid SMILES notation.\n"
     ]
    },
    {
     "name": "stderr",
     "output_type": "stream",
     "text": [
      "[20:12:44] SMILES Parse Error: syntax error while parsing: aspartate\n",
      "[20:12:44] SMILES Parse Error: Failed parsing SMILES 'aspartate' for input: 'aspartate'\n"
     ]
    }
   ],
   "source": [
    "# function to determine if the user enters the SMILES notation or the usual name of the molecule\n",
    "from rdkit import Chem\n",
    "\n",
    "def is_smiles(smiles):\n",
    "    \"\"\"\n",
    "    Check if a string represents a valid SMILES notation.\n",
    "    Args:\n",
    "    - smiles (str): The string to check.\n",
    "    Returns:\n",
    "    - is_valid (bool): True if the string is a valid SMILES notation, False otherwise.\n",
    "    \"\"\"\n",
    "    if Chem.MolFromSmiles(smiles)== None:\n",
    "        return False\n",
    "    else:\n",
    "        return True\n",
    "\n",
    "# Check if the entered string is a valid SMILES notation\n",
    "if is_smiles(string_input):\n",
    "    print(f\"'{string_input_mol}' is a valid SMILES notation.\")\n",
    "else:\n",
    "    print(f\"'{string_input_mol}' is not a valid SMILES notation.\")"
   ]
  },
  {
   "cell_type": "code",
   "execution_count": 93,
   "id": "c84b7ab4-fe4b-4b2a-a0af-aae25abebcbc",
   "metadata": {},
   "outputs": [
    {
     "name": "stdout",
     "output_type": "stream",
     "text": [
      "Requirement already satisfied: pubchempy in c:\\users\\33783\\anaconda3\\envs\\env\\lib\\site-packages (1.0.4)\n"
     ]
    }
   ],
   "source": [
    "# function to convert name into SMILES\n",
    "!pip install pubchempy\n",
    "\n",
    "import pubchempy as pcp\n",
    "\n",
    "def name_to_smiles(molecule_name):\n",
    "    \"\"\"\n",
    "    Convert a molecule name to a SMILES notation using PubChemPy's PubChem database.\n",
    "    Args:\n",
    "    - molecule_name (str): The name of the molecule.\n",
    "    Returns:\n",
    "    - smiles (str): The SMILES notation of the molecule, or None if retrieval fails.\n",
    "    \"\"\"\n",
    "    try:\n",
    "        compound = pcp.get_compounds(molecule_name, 'name')\n",
    "        if compound:\n",
    "            return compound[0].canonical_smiles\n",
    "        else:\n",
    "            print(\"Error: Unable to retrieve molecule information. Please try with the SMILE of the molecule\")\n",
    "            return None\n",
    "    except:\n",
    "        print(\"Error: Unable to retrieve molecule information. Please try again\")\n",
    "        return None"
   ]
  },
  {
   "cell_type": "code",
   "execution_count": 94,
   "id": "1e35f02c-45ad-47f9-8f1d-f9a2eb5aa6ac",
   "metadata": {},
   "outputs": [
    {
     "name": "stdout",
     "output_type": "stream",
     "text": [
      "[Br-]\n"
     ]
    }
   ],
   "source": [
    "# Call the function to convert the molecule name to SMILES notation\n",
    "if is_smiles(string_input_mol)== False:\n",
    "    string_input_mol = name_to_smiles(string_input_mol)\n",
    "    if smiles:\n",
    "        print(f\"SMILES notation for {string_input_mol}: {smiles}\")\n",
    "else:\n",
    "    print (string_input_mol)"
   ]
  },
  {
   "cell_type": "code",
   "execution_count": 100,
   "id": "4e394b69-8549-43b7-9223-59860199fde4",
   "metadata": {},
   "outputs": [
    {
     "name": "stdout",
     "output_type": "stream",
     "text": [
      "The product is not in the database\n"
     ]
    }
   ],
   "source": [
    "def compare_molecule_with_data(element):\n",
    "    return element == string_input_mol\n",
    "\n",
    "# Iterate over the last three columns of the DataFrame\n",
    "for column_name in dataFrame.columns[-3:]:\n",
    "    column = dataFrame[column_name]\n",
    "    # Check if any element in the column matches the input molecule\n",
    "    if any(column.apply(compare_molecule_with_data)):\n",
    "        print(\"Input molecule found in the DataFrame:\")\n",
    "        print(dataFrame[column.apply(compare_molecule_with_data)])\n",
    "        break\n",
    "else:\n",
    "    print(\"The product is not in the database\")"
   ]
  },
  {
   "cell_type": "code",
   "execution_count": null,
   "id": "0eee2125-1ec9-4df7-8462-3d2f91ae3309",
   "metadata": {},
   "outputs": [],
   "source": [
    "# print the yield"
   ]
  },
  {
   "cell_type": "code",
   "execution_count": null,
   "id": "5290ab77-1f8d-49ce-bb50-02f51001625a",
   "metadata": {},
   "outputs": [],
   "source": [
    "# Smiles with mapping to without maping\n",
    "smiles_with_mapping = \"[Br-:1].[Br:2][C:5]([C:4]([H:3])([C:31]#[N:32])[C:41]#[N:42])([H:11])[H:21]\"\n",
    "clean_smiles = remove_atom_mapping(smiles_with_mapping)\n",
    "print(\"SMILES without atom mapping numbers:\", clean_smiles)\n",
    "\n"
   ]
  },
  {
   "cell_type": "code",
   "execution_count": null,
   "id": "dd481fce-d374-4398-99a0-0f815248b802",
   "metadata": {},
   "outputs": [],
   "source": [
    "# print the molecule\n",
    "original_smiles='[Br][C]([C@]([H])([C]#[N])[N]([H])[H])([C]([H])([H])[H])[C]([H])([H])[H]'\n",
    "# Parse the original SMILES notation\n",
    "mol = Chem.MolFromSmiles(original_smiles)\n",
    "# Convert the parsed molecule back to SMILES without atom mapping numbers\n",
    "smiles_without_numbers = Chem.MolToSmiles(mol, allBondsExplicit=True, isomericSmiles=True)\n"
   ]
  },
  {
   "cell_type": "code",
   "execution_count": null,
   "id": "c45375bd-04ac-4818-822c-b56e384b9cc9",
   "metadata": {},
   "outputs": [],
   "source": [
    "# Create a molecule object from the SMILES notation\n",
    "mol = Chem.MolFromSmiles(smiles_without_numbers)"
   ]
  },
  {
   "cell_type": "code",
   "execution_count": null,
   "id": "3b285088-b671-4889-ae9e-8d33cbc153d7",
   "metadata": {},
   "outputs": [],
   "source": [
    "# Draw and display the molecule\n",
    "img = Draw.MolToImage(mol)\n"
   ]
  },
  {
   "cell_type": "code",
   "execution_count": null,
   "id": "978f26b3-65d8-4eec-b20e-ec64aab57216",
   "metadata": {},
   "outputs": [],
   "source": [
    "# Display the image\n",
    "img.show()"
   ]
  },
  {
   "cell_type": "code",
   "execution_count": null,
   "id": "c7eda5fe-04f9-484d-9353-11524dea25be",
   "metadata": {},
   "outputs": [],
   "source": []
  }
 ],
 "metadata": {
  "kernelspec": {
   "display_name": "Python 3 (ipykernel)",
   "language": "python",
   "name": "python3"
  },
  "language_info": {
   "codemirror_mode": {
    "name": "ipython",
    "version": 3
   },
   "file_extension": ".py",
   "mimetype": "text/x-python",
   "name": "python",
   "nbconvert_exporter": "python",
   "pygments_lexer": "ipython3",
   "version": "3.9.18"
  }
 },
 "nbformat": 4,
 "nbformat_minor": 5
}
