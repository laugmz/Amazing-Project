{
 "cells": [
  {
   "cell_type": "code",

   "execution_count": null,
   "id": "5bd76238-09b8-4a34-b7e6-25d92b4ba18a",
   "metadata": {},
   "outputs": [],
   "source": [
    "import random\n",
    "import pandas as pd\n",
    "\n",
    "\n",
    "# Main function\n",
    "def main():\n",
    "    \n",
    "    # Read data from database.csv\n",
    "    column_names =[\"Reactant 1\", \"Reactant 2\", \"Product 1\", \"Product 2\", \"Product 3\", \"Yield\"]\n",
    "    dataFrame = pd.read_csv(\"database.csv\", names = column_names, delimiter =\";\", skiprows = 1)\n",
    "    \n",
    "    while True:\n",
    "        input(\"Press Enter to get random products or type 'exit' to quit: \")\n",
    "        filtered_columns = [dataFrame[col].dropna() for col in [\"Product 1\", \"Product 2\", \"Product 3\"]]\n",
    "        selected_columns = pd.concat(filtered_columns, axis=0)\n",
    "        products = selected_columns.sample(n=1)\n",
    "        print(\"Randomly selected products:\", products)\n",
    "        \n",
    "        choice = input(\"Do you want to continue? (yes/no): \").strip().lower()\n",
    "        if choice == \"no\":\n",
    "            print(\"Exiting...\")\n",
    "            break\n",
    "            \n",
    "if __name__ == \"__main__\":\n",
    "    main()"
   ]
  },
  {
   "cell_type": "code",
   "execution_count": 415,

   "id": "5dae1f88-ca2b-45b9-8462-70b66e934d87",
   "metadata": {},
   "outputs": [
    {
     "name": "stdout",
     "output_type": "stream",
     "text": [
      "Current Directory: /Users/Travail/git/Amazing-Project\n",
      "Reactant 1;Reactant 2;Product 1;Product 2;Product 3;yield;reaction_smarts\n",
      "\n"
     ]
    }
   ],
   "source": [
    "# read the data\n",
    "#imports\"\n",
    "from pathlib import Path\n",
    "from rdkit import Chem\n",
    "from rdkit.Chem import Draw\n",
    "\n",
    "# Create a Path object for the current directory\n",
    "current_directory = Path.cwd()\n",
    "print(\"Current Directory:\", current_directory.resolve())\n",
    "\n",
    "# Creating a Path object for an example file that does not yet exist\n",
    "example_file_path = current_directory / \"database.csv\"\n",
    "\n",
    "# Reading the contents of the file to test if we have well acess to our data\n",
    "if example_file_path.exists():\n",
    "    with example_file_path.open(\"r\") as file:\n",
    "        first_line = file.readline()\n",
    "        print(first_line)\n",
    "else:\n",
    "    print(\"The file does not exist.\")"
   ]
  },
  {
   "cell_type": "code",
   "execution_count": 416,
   "id": "4a41e2c1-9822-4f1c-b1f9-dc653e3626ed",
   "metadata": {},
   "outputs": [
    {
     "name": "stdout",
     "output_type": "stream",
     "text": [
      "     Reactant 1;Reactant 2;Product 1;Product 2;Product 3;yield;reaction_smarts\n",
      "0     [Br-:2];[Br:1][C:5]([C:4]([H:3])([C:31]#[N:32]...                       \n",
      "1     [Br-:2];[Br:1][C:5]([C:4]([H:3])([C:31]#[N:32]...                       \n",
      "2     [Br-:2];[Br:1][C:5]([C:4]([H:3])([H:31])[C:41]...                       \n",
      "3     [Br-:2];[Br:1][C:5]([C:4]([H:3])([H:31])[H:41]...                       \n",
      "4     [Br-:2];[Br:1][C:5]([C:4]([H:3])([H:31])[H:41]...                       \n",
      "...                                                 ...                       \n",
      "3620  [F:1][C@:5]([C@:4]([H:3])([N:31]([H:32])[H:33]...                       \n",
      "3621  [F:1][C@:5]([C@:4]([H:3])([N:31]([H:32])[H:33]...                       \n",
      "3622  [F:1][C@:5]([C@:4]([H:3])([N:31]([H:32])[H:33]...                       \n",
      "3623  [F:1][C@:5]([C@:4]([H:3])([N:31]([H:32])[H:33]...                       \n",
      "3624  [F:1][C@:5]([C@:4]([H:3])([N:31]([H:32])[H:33]...                       \n",
      "\n",
      "[3625 rows x 1 columns]\n"
     ]
    }
   ],
   "source": [
    "# Create the Data Frame\n",
    "from rdkit import Chem\n",
    "from rdkit.Chem import PandasTools\n",
    "import pandas as pd\n",
    "from pathlib import Path\n",
    "import os\n",
    "\n",
    "dataFrame= pd.read_csv(\"database.csv\")\n",
    "print (dataFrame)"
   ]
  },
  {
   "cell_type": "code",
   "execution_count": 417,
   "id": "0e5e58c9-8e37-49b7-868f-979132b10509",
   "metadata": {},
   "outputs": [],
   "source": [
    "# fonction to remove atome mapping numbers from smiles\n",
    "import re\n",
    "\n",
    "def remove_atom_mapping(smiles):\n",
    "    \"\"\"\n",
    "    Remove atom mapping numbers from a SMILES-like notation.\n",
    "    Args:\n",
    "    - smiles (str): The SMILES-like notation with atom mapping numbers.\n",
    "    Returns:\n",
    "    - smiles_without_mapping (str): The SMILES notation without atom mapping numbers.\n",
    "    \"\"\"\n",
    "    # Define a regular expression pattern to match atom mapping numbers\n",
    "    pattern = r':\\d+'\n",
    "    smiles_without_mapping = re.sub(pattern, '', smiles)\n",
    "    return smiles_without_mapping"
   ]
  },
  {
   "cell_type": "code",
   "execution_count": 418,
   "id": "3eda2fe8-a8eb-4b05-90de-89167ec90034",
   "metadata": {},
   "outputs": [],
   "source": [
    "# give smiles\n",
    "\n",
    "import re\n",
    "\n",
    "def Smiles(smiles):\n",
    "    \"\"\"\n",
    "    Remove atom mapping numbers, brackets, 'H' characters, and empty parentheses from a SMILES-like notation.\n",
    "    Args:\n",
    "    - smiles (str): The SMILES-like notation with atom mapping numbers, brackets, 'H' characters, and empty parentheses.\n",
    "    Returns:\n",
    "    - smiles_cleaned (str): The cleaned SMILES notation.\n",
    "    \"\"\"\n",
    "    # Define a regular expression pattern to match atom mapping numbers, brackets, 'H' characters, and empty parentheses\n",
    "    pattern = r'[:\\[\\]\\ H@\\/]'\n",
    "    # Use re.sub() to remove the specified characters\n",
    "    smiles_cleaned = re.sub(pattern, '', smiles)\n",
    "    # Remove empty parentheses only\n",
    "    smiles_cleaned = re.sub(r'\\(\\)', '', smiles_cleaned)\n",
    "    return smiles_cleaned\n",
    "\n",
    "def remove_forward_slash(smiles):\n",
    "    \"\"\"\n",
    "    Remove forward slash '(\\)' from a string.\n",
    "    Args:\n",
    "    - smiles (str): The input string.\n",
    "    Returns:\n",
    "    - cleaned_str (str): The string with forward slash removed.\n",
    "    \"\"\"\n",
    "    return smiles.replace(r'(\\)', '').replace(r'.-','')\n",
    "\n",
    "\n",
    "def convert_X(smiles):\n",
    "    \"\"\"\n",
    "    Convert \"X-\" elements where X can be \"Br\", \"Cl\", or \"F\" into \"[X-]\" in a SMILES-like notation.\n",
    "    Args:\n",
    "    - smiles (str): The SMILES-like notation.\n",
    "    Returns:\n",
    "    - cleaned_smiles (str): The cleaned SMILES notation.\n",
    "    \"\"\"\n",
    "    # Define the elements you want to convert\n",
    "    elements = ['Br', 'Cl', 'F']\n",
    "    # Iterate over each element\n",
    "    for element in elements:\n",
    "        # Replace \"X-\" with \"[X-]\"\n",
    "        smiles = smiles.replace(element + '-', '[' + element + '-]')\n",
    "    return smiles\n",
    "\n",
    "def transform_ions(smiles):\n",
    "    \"\"\"\n",
    "    Transform the input string by replacing '(N+(O-)O)' with 'NO'.\n",
    "    Args:\n",
    "    - input_string (str): The input string to be transformed.\n",
    "    Returns:\n",
    "    - transformed_string (str): The transformed string.\n",
    "    \"\"\"\n",
    "    transformed_string = re.sub(r'N\\+\\(O-\\)', r'[N+]([O-])', smiles)\n",
    "    return transformed_string\n"
   ]
  },
  {
   "cell_type": "code",

   "execution_count": 419,
   "id": "c2b94140-30bb-4787-b0c3-31d2db2eafc7",
   "metadata": {},
   "outputs": [
    {
     "name": "stdout",
     "output_type": "stream",
     "text": [
      "     Reactant 1;Reactant 2;Product 1;Product 2;Product 3;yield;reaction_smarts\n",
      "0     [Br-];BrC(C(C#N)C#N);[Br-];BrC(C(C#N)C#N);;28....                       \n",
      "1     [Br-];BrC(C(C#N))(C)C;[Br-];BrC(C(C#N))(C)C;;3...                       \n",
      "2     [Br-];BrC(CC#N)(C)C;[Br-];BrC(CC#N)(C)C;;37.64...                       \n",
      "3     [Br-];BrC(C)(C);[Br-];BrC(C)(C);;24.2066422218...                       \n",
      "4     [Br-];BrC(C)C;[Br-];BrC(C)C;;18.45075294694804...                       \n",
      "...                                                 ...                       \n",
      "3620  FC(C(N)[N+]([O-])O)N;-;[F-];C(C(N)[N+]([O-])O)...                       \n",
      "3621  FC(C(N)[N+]([O-])O)([N+]([O-])O)C;-;C(=C([N+](...                       \n",
      "3622  FC(C(N)[N+]([O-])O)([N+]([O-])O);-;[F-];C(C(N)...                       \n",
      "3623  FC(C(N)[N+]([O-])O)(N)C#N;-;[F-];C(C(N)[N+]([O...                       \n",
      "3624  FC(C(N)[N+]([O-])O)(N);-;[F-];C(C(N)[N+]([O-])...                       \n",
      "\n",
      "[3625 rows x 1 columns]\n"
     ]
    }
   ],
   "source": [
    "# remove mapping from the Data Frame\n",
    "for column in dataFrame.columns:\n",
    "    # Apply the remove_atom_mapping function to each column\n",
    "    dataFrame[column] = dataFrame[column].apply(remove_atom_mapping)\n",
    "    dataFrame[column] = dataFrame[column].apply(remove_forward_slash)\n",
    "    dataFrame[column] = dataFrame[column].apply(Smiles)\n",
    "    dataFrame[column] = dataFrame[column].apply(convert_X)\n",
    "    dataFrame[column] = dataFrame[column].apply(transform_ions)\n",
    "print(dataFrame)"
   ]
  },
  {
   "cell_type": "code",
   "execution_count": 394,
   "id": "8f5332aa-d053-467b-b239-d4c04c709bfb",
   "metadata": {},
   "outputs": [
    {
     "name": "stdout",
     "output_type": "stream",
     "text": [
      "                     Reactant 1       Reactant 2                   Product 1  \\\n",
      "0                         [Br-]   BrC(C(C#N)C#N)                       [Br-]   \n",
      "1                         [Br-]  BrC(C(C#N))(C)C                       [Br-]   \n",
      "2                         [Br-]    BrC(CC#N)(C)C                       [Br-]   \n",
      "3                         [Br-]        BrC(C)(C)                       [Br-]   \n",
      "4                         [Br-]          BrC(C)C                       [Br-]   \n",
      "...                         ...              ...                         ...   \n",
      "3620           FC(C(N)N+(O-)O)N                -                        [F-]   \n",
      "3621  FC(C(N)N+(O-)O)(N+(O-)O)C                -  C(=C(N+(O-)O)C)(\\N)N+(O-)O   \n",
      "3622   FC(C(N)N+(O-)O)(N+(O-)O)                -                        [F-]   \n",
      "3623      FC(C(N)N+(O-)O)(N)C#N                -                        [F-]   \n",
      "3624         FC(C(N)N+(O-)O)(N)                -                        [F-]   \n",
      "\n",
      "                    Product 2 Product 3               yield  \\\n",
      "0              BrC(C(C#N)C#N)             28.81200403800853   \n",
      "1             BrC(C(C#N))(C)C            33.410337794832714   \n",
      "2               BrC(CC#N)(C)C             37.64569798608316   \n",
      "3                   BrC(C)(C)             24.20664222186525   \n",
      "4                     BrC(C)C            18.450752946948047   \n",
      "...                       ...       ...                 ...   \n",
      "3620          C(C(N)N+(O-)O)N             26.84488831926287   \n",
      "3621                     [F-]             2.283999477538191   \n",
      "3622  C(C(N)N+(O-)O)(N+(O-)O)            18.142052222155485   \n",
      "3623     C(C(N)N+(O-)O)(N)C#N             18.12725496195325   \n",
      "3624        C(C(N)N+(O-)O)(N)            30.153134421367486   \n",
      "\n",
      "                                        reaction_smarts  \n",
      "0            [Br-].BrC(C(C#N)C#N)>>[Br-].BrC(C(C#N)C#N)  \n",
      "1          [Br-].BrC(C(C#N))(C)C>>[Br-].BrC(C(C#N))(C)C  \n",
      "2              [Br-].BrC(CC#N)(C)C>>[Br-].BrC(CC#N)(C)C  \n",
      "3                      [Br-].BrC(C)(C)>>[Br-].BrC(C)(C)  \n",
      "4                          [Br-].BrC(C)C>>[Br-].BrC(C)C  \n",
      "...                                                 ...  \n",
      "3620             FC(C(N)N+(O-)O)N>>[F-].C(C(N)N+(O-)O)N  \n",
      "3621  FC(C(N)N+(O-)O)(N+(O-)O)C>>C(=C(N+(O-)O)C)(\\N)...  \n",
      "3622  FC(C(N)N+(O-)O)(N+(O-)O)>>[F-].C(C(N)N+(O-)O)(...  \n",
      "3623   FC(C(N)N+(O-)O)(N)C#N>>[F-].C(C(N)N+(O-)O)(N)C#N  \n",
      "3624         FC(C(N)N+(O-)O)(N)>>[F-].C(C(N)N+(O-)O)(N)  \n",
      "\n",
      "[3625 rows x 7 columns]\n"
     ]
    }
   ],
   "source": [
    "# Split the column values at each \";\" and expand them into separate columns\n",
    "split_dataFrame = dataFrame['Reactant 1;Reactant 2;Product 1;Product 2;Product 3;yield;reaction_smarts'].str.split(';', expand=True)\n",
    "\n",
    "# Rename the columns\n",
    "split_dataFrame.columns = ['Reactant 1', 'Reactant 2', 'Product 1', 'Product 2', 'Product 3', 'yield', \"reaction_smarts\"]\n",
    "\n",
    "# Display the resulting DataFrame\n",
    "print(split_dataFrame)"
   ]
  },
  {
   "cell_type": "code",
   "execution_count": 291,
   "id": "9d474126-24be-442b-be8d-c03040c775d2",
   "metadata": {},
   "outputs": [
    {
     "name": "stdout",
     "output_type": "stream",
     "text": [
      "First element of the third column: [Br-]\n",
      "Type of the element: <class 'str'>\n"
     ]
    }
   ],
   "source": [
    "# Assuming your DataFrame is named dataFrame\n",
    "# Access the third column and get its first element\n",
    "element = split_dataFrame.iloc[0, 2]\n",
    "\n",
    "# Print the element and its type\n",
    "print(\"First element of the third column:\", element)\n",
    "print(\"Type of the element:\", type(element))"
   ]
  },
  {
   "cell_type": "code",
   "execution_count": 421,
   "id": "9187d1ec-3cec-4ef3-a03c-eb9423cd44e8",
   "metadata": {},
   "outputs": [
    {
     "name": "stdout",
     "output_type": "stream",
     "text": [
      "you can enter the name of the molecule or its SMILES, the racemic configuration is available. Only halogen molecules are taken in account in the data base\n"
     ]
    },
    {
     "name": "stdin",
     "output_type": "stream",
     "text": [

      "Enter the molecule that you want to form:  FC(C(N)[N+]([O-])O)N\n"
     ]
    }
   ],
   "source": [
    "# Prompt the user to enter the molecule that he wants to form\n",
    "print (\"you can enter the name of the molecule or its SMILES, the racemic configuration is available. Only halogen molecules are taken in account in the data base\")\n",
    "string_input_mol = input(\"Enter the molecule that you want to form: \")"
   ]
  },
  {
   "cell_type": "code",

   "execution_count": 422,
   "id": "b1e2a5c4-8b5d-40c6-bef2-96078e961f3b",
   "metadata": {},
   "outputs": [
    {
     "name": "stdout",
     "output_type": "stream",
     "text": [
      "'fluoride' is not a valid SMILES notation.\n"
     ]
    },
    {
     "name": "stderr",
     "output_type": "stream",
     "text": [
      "[15:54:17] SMILES Parse Error: syntax error while parsing: fluoride\n",
      "[15:54:17] SMILES Parse Error: Failed parsing SMILES 'fluoride' for input: 'fluoride'\n"

      "'FC(C(N)[N+]([O-])O)N' is a valid SMILES notation.\n"

     ]
    }
   ],
   "source": [
    "# function to determine if the user enters the SMILES notation or the usual name of the molecule\n",
    "from rdkit import Chem\n",
    "\n",
    "def is_smiles(smiles):\n",
    "    \"\"\"\n",
    "    Check if a string represents a valid SMILES notation.\n",
    "    Args:\n",
    "    - smiles (str): The string to check.\n",
    "    Returns:\n",
    "    - is_valid (bool): True if the string is a valid SMILES notation, False otherwise.\n",
    "    \"\"\"\n",
    "    if Chem.MolFromSmiles(smiles)== None:\n",
    "        return False\n",
    "    else:\n",
    "        return True\n",
    "\n",
    "# Check if the entered string is a valid SMILES notation\n",
    "if is_smiles(string_input_mol):\n",
    "    print(f\"'{string_input_mol}' is a valid SMILES notation.\")\n",
    "else:\n",
    "    print(f\"'{string_input_mol}' is not a valid SMILES notation.\")"
   ]
  },
  {
   "cell_type": "code",
   "execution_count": 423,
   "id": "2392592a-14be-44a4-9233-c4219810f3b9",
   "metadata": {},
   "outputs": [
    {
     "name": "stdout",
     "output_type": "stream",
     "text": [
      "Requirement already satisfied: pubchempy in /Users/Travail/anaconda3/envs/project/lib/python3.10/site-packages (1.0.4)\n"
     ]
    }
   ],
   "source": [
    "!pip install pubchempy"
   ]
  },
  {
   "cell_type": "code",
   "execution_count": 424,
   "id": "c84b7ab4-fe4b-4b2a-a0af-aae25abebcbc",
   "metadata": {},
   "outputs": [],
   "source": [
    "# function to convert name into SMILES\n",
    "\n",
    "import pubchempy as pcp\n",
    "\n",
    "def name_to_smiles(molecule_name):\n",
    "    \"\"\"\n",
    "    Convert a molecule name to a SMILES notation using PubChemPy's PubChem database.\n",
    "    Args:\n",
    "    - molecule_name (str): The name of the molecule.\n",
    "    Returns:\n",
    "    - smiles (str): The SMILES notation of the molecule, or None if retrieval fails.\n",
    "    \"\"\"\n",
    "    try:\n",
    "        compound = pcp.get_compounds(molecule_name, 'name')\n",
    "        if compound:\n",
    "            return compound[0].canonical_smiles\n",
    "        else:\n",
    "            print(\"Error: Unable to retrieve molecule information. Please try with the SMILE of the molecule\")\n",
    "            return None\n",
    "    except:\n",
    "        print(\"Error: Unable to retrieve molecule information. Please try again\")\n",
    "        return None"
   ]
  },
  {
   "cell_type": "code",
   "execution_count": 425,
   "id": "1e35f02c-45ad-47f9-8f1d-f9a2eb5aa6ac",
   "metadata": {},
   "outputs": [
    {
     "name": "stderr",
     "output_type": "stream",
     "text": [
      "[15:54:21] SMILES Parse Error: syntax error while parsing: fluoride\n",
      "[15:54:21] SMILES Parse Error: Failed parsing SMILES 'fluoride' for input: 'fluoride'\n"
     ]
    },
    {
     "name": "stdout",
     "output_type": "stream",
     "text": [
      "SMILES notation for [F-]: [F-]\n"

      "FC(C(N)[N+]([O-])O)N\n"
     ]
    }
   ],
   "source": [
    "# Call the function to convert the molecule name to SMILES notation\n",
    "if is_smiles(string_input_mol)== False:\n",
    "    string_input_mol = name_to_smiles(string_input_mol)\n",
    "    if string_input_mol:\n",
    "        print(f\"SMILES notation for {string_input_mol}: {string_input_mol}\")\n",
    "else:\n",
    "    print (string_input_mol)"
   ]
  },
  {
   "cell_type": "code",
   "execution_count": 426,
   "id": "4e394b69-8549-43b7-9223-59860199fde4",
   "metadata": {},
   "outputs": [
    {
     "name": "stdout",
     "output_type": "stream",
     "text": [
      "Input molecule found in the DataFrame:\n",
      "           Reactant 1     Reactant 2         Product 1 Product 2 Product 3  \\\n",
      "301             [Br-]     FC(C(C#N))       BrC(C(C#N))      [F-]             \n",
      "302             [Br-]  FC(C(C)C)(C)C    BrC(C(C)C)(C)C      [F-]             \n",
      "303             [Br-]      FC(C(C)C)        BrC(C(C)C)      [F-]             \n",
      "304             [Br-]   FC(C(C))(C)C     BrC(C(C))(C)C      [F-]             \n",
      "305             [Br-]    FC(C)(C)C#N      BrC(C)(C)C#N      [F-]             \n",
      "...               ...            ...               ...       ...       ...   \n",
      "3609    FC(C(N)C)(N)C              -    C(=C(N)C)(\\N)C      [F-]             \n",
      "3610     FC(C(N)C)(N)              -     C(=C(N))(\\N)C      [F-]             \n",
      "3612   FC(C(N)C)(N)NO              -   C(=C(N)NO)(\\N)C      [F-]             \n",
      "3616   FC(C(N)NO)(C)N              -   C(=C(C)N)(\\N)NO      [F-]             \n",
      "3621  FC(C(N)NO)(NO)C              -  C(=C(NO)C)(\\N)NO      [F-]             \n",
      "\n",
      "                   yield                            reaction_smarts  \n",
      "301    45.22002914388165         [Br-].FC(C(C#N))>>BrC(C(C#N)).[F-]  \n",
      "302    56.02696517885049   [Br-].FC(C(C)C)(C)C>>BrC(C(C)C)(C)C.[F-]  \n",
      "303    47.41608849908899           [Br-].FC(C(C)C)>>BrC(C(C)C).[F-]  \n",
      "304   52.817494355876455     [Br-].FC(C(C))(C)C>>BrC(C(C))(C)C.[F-]  \n",
      "305    43.10691559090925       [Br-].FC(C)(C)C#N>>BrC(C)(C)C#N.[F-]  \n",
      "...                  ...                                        ...  \n",
      "3609    20.8991793499391      FC(C(N)C)(N)C.->>C(=C(N)C)(\\N)C.[F-].  \n",
      "3610   22.44850482284233        FC(C(N)C)(N).->>C(=C(N))(\\N)C.[F-].  \n",
      "3612   19.49623482092052    FC(C(N)C)(N)NO.->>C(=C(N)NO)(\\N)C.[F-].  \n",
      "3616  2.0473102018179814    FC(C(N)NO)(C)N.->>C(=C(C)N)(\\N)NO.[F-].  \n",
      "3621   2.283999477538191  FC(C(N)NO)(NO)C.->>C(=C(NO)C)(\\N)NO.[F-].  \n",
      "\n",
      "[564 rows x 7 columns]\n",
      "Row number: 3624\n"
     ]
    }
   ],
   "source": [
    "# function to find the required molecule in the data Frame\n",
    "\n",
    "def compare_molecule_with_data(element):\n",
    "    return element == string_input_mol\n",
    "\n",
    "# Iterate over the last three columns of the DataFrame\n",
    "for column_name in split_dataFrame.columns[-4:-1]:\n",
    "    column = split_dataFrame[column_name]\n",
    "    # Check if any element in the column matches the input molecule\n",
    "    if any(column.apply(compare_molecule_with_data)):\n",
    "        print(\"Input molecule found in the DataFrame:\")\n",
    "        print(split_dataFrame[column.apply(compare_molecule_with_data)])\n",
    "        print(\"Row number:\", index)\n",
    "        break\n",
    "else:\n",
    "    print(\"The product is not in the database\")"
   ]
  },
  {
   "cell_type": "code",

   "execution_count": 427,
   "id": "4311d40e-e62f-4efe-9588-44b279348ca0",
   "metadata": {},
   "outputs": [
    {
     "name": "stdout",
     "output_type": "stream",
     "text": [
      "[2764, 2765, 2766, 2767, 2768, 2769, 2770, 2771, 2772, 2773, 2775, 2776, 2777, 2778, 2779, 2780, 2781, 2783, 2785, 2786, 2788, 2789, 2790, 2791, 2792, 2794, 2795, 2796, 2797, 2798, 2799, 2800, 2801, 2803, 2804, 2805, 2806, 2807, 2808, 2809, 2810, 2811, 2812, 2813, 2814, 2815, 2816, 2817, 2818, 2819, 2820, 2821, 2822, 2823, 2824, 2825, 2826, 2827, 2828, 2829, 2830, 2831, 2832, 2833, 2834, 2835, 2837, 2838, 2839, 2840, 2841, 2842, 2843, 2844, 2845, 2846, 2847, 2848, 2849, 2851, 2852, 2853, 2854, 2855, 2856, 2857, 2858, 2859, 2860, 2861, 2862, 2864, 2865, 2866, 2867, 2868, 2869, 2870, 2871, 2872, 2873, 2874, 2875, 2876, 2877, 2878, 2879, 2880, 2881, 2882, 2883, 2884, 2885, 2886, 2887, 2888, 2889, 2890, 2892, 2893, 2895, 2896, 2898, 2900, 2901, 2902, 2903, 2904, 2905, 2907, 2908, 2910, 2911, 2912, 2914, 2915, 2916, 2917, 2918, 2919, 2920, 2921, 2922, 2923, 2924, 2925, 2926, 2927, 2928, 2929, 2930, 2931, 2932, 2933, 2934, 2935, 2936, 2937, 2938, 2939, 2940, 2941, 2942, 2943, 2944, 2945, 2946, 2947, 2948, 2949, 2950, 2951, 2952, 2953, 2954, 2955, 2956, 2957, 2958, 2959, 2960, 2961, 2962, 2963, 2964, 2965, 2966, 2967, 2968, 2969, 2970, 2971, 2972, 2973, 2974, 2975, 2976, 2977, 2978, 2979, 2980, 2981, 2982, 2983, 2984, 2985, 2986, 2987, 2988, 2989, 2990, 2991, 2992, 2993, 2994, 2995, 2996, 2997, 2998, 2999, 3000, 3001, 3002, 3003, 3004, 3005, 3006, 3007, 3008, 3009, 3010, 3011, 3012, 3013, 3014, 3015, 3016, 3017, 3018, 3019, 3020, 3021, 3022, 3023, 3024, 3025, 3026, 3027, 3028, 3029, 3030, 3031, 3032, 3033, 3034, 3035, 3036, 3037, 3038, 3039, 3040, 3041, 3042, 3043, 3044, 3045, 3046, 3047, 3048, 3049, 3050, 3051, 3052, 3053, 3054, 3055, 3056, 3057, 3058, 3059, 3060, 3061, 3062, 3063, 3064, 3066, 3067, 3068, 3069, 3070, 3071, 3072, 3073, 3074, 3075, 3076, 3077, 3078, 3079, 3080, 3081, 3082, 3083, 3084, 3085, 3086, 3087, 3088, 3089, 3090, 3091, 3092, 3093, 3094, 3095, 3096, 3097, 3098, 3099, 3100, 3101, 3102, 3103, 3105, 3106, 3107, 3108, 3109, 3110, 3111, 3112, 3113, 3114, 3115, 3116, 3117, 3118, 3119, 3120, 3121, 3122, 3124, 3126, 3128, 3131, 3134, 3136, 3137, 3139, 3141, 3144, 3146, 3148, 3150, 3151, 3155, 3157, 3159, 3162, 3163, 3164, 3165, 3166, 3169, 3171, 3173, 3176, 3177, 3179, 3182, 3184, 3185, 3186, 3187, 3189, 3190, 3192, 3194, 3197, 3198, 3200, 3201, 3202, 3205, 3207, 3212, 3213, 3214, 3215, 3216, 3217, 3218, 3219, 3220, 3222, 3223, 3225, 3226, 3228, 3229, 3231, 3235, 3236, 3238, 3241, 3243, 3245, 3247, 3251, 3253, 3254, 3256, 3259, 3261, 3263, 3267, 3268, 3270, 3272, 3274, 3275, 3277, 3279, 3280, 3282, 3284, 3285, 3287, 3289, 3293, 3296, 3299, 3302, 3303, 3305, 3307, 3309, 3311, 3315, 3317, 3321, 3322, 3323, 3324, 3325, 3326, 3327, 3329, 3330, 3332, 3333, 3334, 3335, 3338, 3340, 3343, 3346, 3349, 3351, 3352, 3354, 3358, 3360, 3361, 3362, 3363, 3364, 3365, 3366, 3367, 3368, 3369, 3370, 3371, 3373, 3374, 3375, 3376, 3378, 3382, 3384, 3386, 3389, 3390, 3392, 3394, 3396, 3397, 3399, 3402, 3403, 3405, 3407, 3409, 3411, 3413, 3415, 3417, 3419, 3420, 3422, 3424, 3426, 3428, 3430, 3432, 3433, 3434, 3436, 3437, 3439, 3440, 3442, 3443, 3444, 3445, 3447, 3449, 3451, 3452, 3453, 3454, 3455, 3456, 3457, 3458, 3459, 3461, 3462, 3464, 3465, 3467, 3468, 3469, 3470, 3473, 3474, 3475, 3476, 3477, 3479, 3481, 3482, 3483, 3485, 3486, 3488, 3490, 3492, 3493, 3495, 3496, 3497, 3499, 3500, 3502, 3504, 3506, 3509, 3511, 3513, 3515, 3517, 3519, 3520, 3521, 3522, 3524, 3527, 3530, 3532, 3533, 3534, 3535, 3536, 3537, 3538, 3539, 3540, 3541, 3542, 3543, 3544, 3545, 3546, 3547, 3548, 3549, 3550, 3551, 3552, 3553, 3554, 3556, 3558, 3560, 3562, 3563, 3564, 3566, 3567, 3570, 3571, 3573, 3575, 3576, 3577, 3579, 3581, 3583, 3584, 3586, 3588, 3590, 3592, 3593, 3596, 3597, 3599, 3600, 3602, 3604, 3606, 3608, 3611, 3613, 3614, 3615, 3617, 3618, 3619, 3620, 3622, 3623, 3624, 301, 302, 303, 304, 305, 306, 307, 309, 310, 311, 313, 314, 315, 316, 317, 318, 319, 320, 321, 322, 323, 324, 325, 326, 327, 328, 329, 330, 331, 332, 333, 334, 335, 336, 337, 338, 339, 340, 341, 342, 343, 344, 345, 346, 347, 348, 349, 350, 351, 352, 353, 354, 355, 356, 357, 358, 360, 361, 362, 363, 364, 365, 366, 367, 368, 369, 370, 371, 372, 373, 374, 375, 376, 377, 378, 379, 380, 381, 382, 383, 384, 385, 386, 387, 388, 389, 390, 391, 392, 393, 394, 395, 396, 397, 398, 399, 400, 401, 402, 403, 1615, 1616, 1617, 1618, 1619, 1620, 1621, 1622, 1623, 1624, 1625, 1626, 1627, 1628, 1629, 1630, 1631, 1632, 1633, 1634, 1635, 1636, 1637, 1638, 1639, 1640, 1641, 1642, 1643, 1644, 1645, 1646, 1647, 1648, 1649, 1650, 1651, 1652, 1653, 1654, 1655, 1656, 1657, 1658, 1659, 1660, 1661, 1662, 1663, 1664, 1665, 1666, 1667, 1668, 1669, 1670, 1671, 1672, 1673, 1674, 1675, 1676, 1677, 1678, 1679, 1680, 1681, 1682, 1683, 1684, 1685, 1686, 1687, 1688, 1689, 1690, 1691, 1692, 1693, 1694, 1695, 1696, 1697, 1698, 1699, 1700, 1701, 1702, 1703, 1704, 1705, 1706, 1707, 1708, 1710, 1711, 1712, 1714, 1715, 1716, 1717, 1718, 1719, 1720, 1721, 1722, 1723, 1724, 1725, 1726, 1727, 1728, 1729, 1730, 1731, 1732, 1733, 1734, 1735, 1736, 1737, 1738, 1739, 1740, 1741, 1742, 1743, 1744, 1745, 1746, 1747, 1748, 1749, 1750, 1751, 1752, 1753, 1754, 1755, 1756, 1757, 1758, 1759, 1760, 1761, 1762, 1763, 1764, 1765, 1766, 1767, 1768, 1769, 1770, 1771, 1772, 1773, 1774, 1775, 1776, 1777, 1778, 1779, 1780, 1781, 1782, 1783, 1784, 1785, 1786, 1787, 1788, 1789, 1790, 1791, 1792, 1793, 1794, 1795, 1796, 1797, 1798, 1799, 1800, 1801, 1802, 1803, 1804, 1805, 1806, 1807, 1808, 1809, 1810, 1811, 1812, 1813, 1814, 1815, 1816, 1817, 1818, 1819, 1820, 1821, 1822, 1823, 1824, 1825, 1826, 1827, 1828, 1829, 1830, 1831, 1832, 1833, 1834, 1835, 1836, 1837, 1838, 1839, 1840, 1841, 1842, 1843, 1844, 1845, 1846, 1847, 1848, 1849, 1850, 1851, 1852, 1853, 1854, 2774, 2782, 2784, 2787, 2793, 2802, 2836, 2850, 2863, 2891, 2894, 2897, 2899, 2906, 2909, 2913, 3065, 3104, 3123, 3125, 3127, 3129, 3130, 3132, 3133, 3135, 3138, 3140, 3142, 3143, 3145, 3147, 3149, 3152, 3153, 3154, 3156, 3158, 3160, 3161, 3167, 3168, 3170, 3172, 3174, 3175, 3178, 3180, 3181, 3183, 3188, 3191, 3193, 3195, 3196, 3199, 3203, 3204, 3206, 3208, 3209, 3210, 3211, 3221, 3224, 3227, 3230, 3232, 3233, 3234, 3237, 3239, 3240, 3242, 3244, 3246, 3248, 3249, 3250, 3252, 3255, 3257, 3258, 3260, 3262, 3264, 3265, 3266, 3269, 3271, 3273, 3276, 3278, 3281, 3283, 3286, 3288, 3290, 3291, 3292, 3294, 3295, 3297, 3298, 3300, 3301, 3304, 3306, 3308, 3310, 3312, 3313, 3314, 3316, 3318, 3319, 3320, 3328, 3331, 3336, 3337, 3339, 3341, 3342, 3344, 3345, 3347, 3348, 3350, 3353, 3355, 3356, 3357, 3359, 3372, 3377, 3379, 3380, 3381, 3383, 3385, 3387, 3388, 3391, 3393, 3395, 3398, 3400, 3401, 3404, 3406, 3408, 3410, 3412, 3414, 3416, 3418, 3421, 3423, 3425, 3427, 3429, 3431, 3435, 3438, 3441, 3446, 3448, 3450, 3460, 3463, 3466, 3471, 3472, 3478, 3480, 3484, 3487, 3489, 3491, 3494, 3498, 3501, 3503, 3505, 3507, 3508, 3510, 3512, 3514, 3516, 3518, 3523, 3525, 3526, 3528, 3529, 3531, 3555, 3557, 3559, 3561, 3565, 3568, 3569, 3572, 3574, 3578, 3580, 3582, 3585, 3587, 3589, 3591, 3594, 3595, 3598, 3601, 3603, 3605, 3607, 3609, 3610, 3612, 3616, 3621, 308, 312, 359, 1709, 1713]\n"

      "The product is not in the database\n"
     ]
    }
   ],
   "source": [
    "# Function that returns the row of the elements formation reaction\n",
    "def compare_molecule_with_data(element):\n",
    "    return element == string_input_mol\n",
    "\n",
    "# Initialize a variable to store the row number\n",
    "found_row_number = None\n",
    "rows=[]\n",
    "# Iterate over the last three columns of the DataFrame\n",
    "for column_name in split_dataFrame.columns[-5:-1]:\n",
    "    column = split_dataFrame[column_name]\n",
    "    # Check if any element in the column matches the input molecule\n",
    "    for index, value in column.items():\n",
    "        if compare_molecule_with_data(value):\n",
    "            # Store the row number where the molecule is found\n",
    "            found_row_number = index\n",
    "            rows.append(found_row_number)\n",
    "    else:\n",
    "        continue  # Continue to the next column if molecule not found in current column\n",
    "\n",
    "# Check if the molecule was found and return the row number\n",
    "if found_row_number is not None:\n",
    "   print(rows)\n",
    "else:\n",
    "    print(\"The product is not in the database\")\n"
   ]
  },
  {
   "cell_type": "code",
   "execution_count": 430,
   "id": "0eee2125-1ec9-4df7-8462-3d2f91ae3309",
   "metadata": {},
   "outputs": [
    {
     "name": "stdout",
     "output_type": "stream",
     "text": [
      "     Reactant 1          Reactant 2    Product 1           Product 2  \\\n",
      "2764       [F-]   FC(C(C#N)C#N)(C)C         [F-]   FC(C(C#N)C#N)(C)C   \n",
      "2765       [F-]       FC(C(C#N)C#N)         [F-]       FC(C(C#N)C#N)   \n",
      "2766       [F-]   FC(C(C#N)C#N)(N)N         [F-]   FC(C(C#N)C#N)(N)N   \n",
      "2767       [F-]  FC(C(C#N))(C#N)C#N         [F-]  FC(C(C#N))(C#N)C#N   \n",
      "2768       [F-]          FC(C(C#N))         [F-]          FC(C(C#N))   \n",
      "...         ...                 ...          ...                 ...   \n",
      "308       [Br-]              FC(CN)           Br              C(=C)N   \n",
      "312       [Br-]           FC(C(N)N)           Br           C(=C)(N)N   \n",
      "359       [Br-]          FC(CN)(NO)           Br       C(=C(NO))(\\)N   \n",
      "1709      [Cl-]         FC(C)(C#N)N  C(=C(C#N)N)                  Cl   \n",
      "1713      [Cl-]           FC(C)(NO)    C(=C(NO))                  Cl   \n",
      "\n",
      "     Product 3      yield                                   reaction_smarts  \n",
      "2764            37.309819    [F-].FC(C(C#N)C#N)(C)C>>[F-].FC(C(C#N)C#N)(C)C  \n",
      "2765            14.256267            [F-].FC(C(C#N)C#N)>>[F-].FC(C(C#N)C#N)  \n",
      "2766            40.571604    [F-].FC(C(C#N)C#N)(N)N>>[F-].FC(C(C#N)C#N)(N)N  \n",
      "2767            12.953715  [F-].FC(C(C#N))(C#N)C#N>>[F-].FC(C(C#N))(C#N)C#N  \n",
      "2768            18.772734                  [F-].FC(C(C#N))>>[F-].FC(C(C#N))  \n",
      "...        ...        ...                                               ...  \n",
      "308       [F-]  60.193770                      [Br-].FC(CN)>>Br.C(=C)N.[F-]  \n",
      "312       [F-]  44.861513                [Br-].FC(C(N)N)>>Br.C(=C)(N)N.[F-]  \n",
      "359       [F-]  56.669046           [Br-].FC(CN)(NO)>>Br.C(=C(NO))(\\)N.[F-]  \n",
      "1709      [F-]  40.517981            [Cl-].FC(C)(C#N)N>>C(=C(C#N)N).Cl.[F-]  \n",
      "1713      [F-]  62.183395                [Cl-].FC(C)(NO)>>C(=C(NO)).Cl.[F-]  \n",
      "\n",
      "[1204 rows x 7 columns]\n",
      "Row with the highest yield:\n",
      "Reactant 1                                                  [Br-]\n",
      "Reactant 2                                       FC(C(NO)C#N)(N)N\n",
      "Product 1                                       BrC(C(NO)C#N)(N)N\n",
      "Product 2                                                    [F-]\n",
      "Product 3                                                        \n",
      "yield                                                   65.467572\n",
      "reaction_smarts    [Br-].FC(C(NO)C#N)(N)N>>BrC(C(NO)C#N)(N)N.[F-]\n",
      "Name: 317, dtype: object\n"

      "Subset DataFrame is empty. No rows to compare.\n"
     ]
    }
   ],
   "source": [
    "# print the yield\n",
    "# Convert the 'Yield' column to float\n",
    "split_dataFrame['yield'] = split_dataFrame['yield'].astype(float)\n",
    "\n",
    "# Assuming 'rows_to_compare' is a list containing the row numbers to compare\n",
    "\n",
    "# Subset the DataFrame to include only the specified rows\n",
    "subset_df = split_dataFrame.iloc[rows]\n",
    "\n",
    "# Check if the subset DataFrame is empty\n",
    "if subset_df.empty:\n",
    "    print(\"Subset DataFrame is empty. No rows to compare.\")\n",
    "else:\n",
    "    # Print the subset DataFrame\n",
    "    print(subset_df)\n",
    "\n",

    "    # Find the index of the row with the highest yield\n",
    "    max_yield_row_index = subset_df['yield'].idxmax()\n",
    "\n",
    "    # Retrieve the row with the highest yield\n",
    "    max_yield_row = split_dataFrame.loc[max_yield_row_index]\n",
    "\n",
    "    print(\"Row with the highest yield:\")\n",
    "    print(max_yield_row)\n",
    "\n"


   "id": "5290ab77-1f8d-49ce-bb50-02f51001625a",
   "metadata": {},
   "outputs": [],
   "source": [
    "# print the reaction\n",
    "from rdkit import Chem\n",
    "from rdkit.Chem import Draw\n",
    "from rdkit.Chem import AllChem\n",
    "\n",
    "# Create a reaction SMARTS string\n",
    "reaction_smarts = split_dataFrame.iloc[max_yield_row_index, 6]\n",
    "# Parse the reaction SMARTS string\n",
    "\n",
    "reaction = AllChem.ReactionFromSmarts(reaction_smarts)\n",
    "\n",
    "# Draw the reaction\n",
    "reaction_image = Draw.ReactionToImage(reaction)\n",
    "\n",
    "# Save or display the image\n",
    "reaction_image.show()"
   ]
  },
  {
   "cell_type": "code",

   "execution_count": 429,
   "id": "c45375bd-04ac-4818-822c-b56e384b9cc9",
   "metadata": {},
   "outputs": [],
   "source": [
    "from rdkit import Chem\n",
    "from rdkit.Chem import Draw\n",
    "\n",
    "# SMILES representation of the molecule\n",
    "smiles = \"FC(C(N)[N+]([O-])O)([N+]([O-])O)\"\n",
    "\n",
    "# Create a molecule object from the SMILES string\n",
    "mol = Chem.MolFromSmiles(smiles)\n",
    "\n",
    "# Check if the molecule object is not None (i.e., if the SMILES string is valid)\n",
    "if mol is not None:\n",
    "    # Draw and display the molecule\n",
    "    img = Draw.MolToImage(mol)\n",
    "    img.show()\n",
    "else:\n",
    "    print(\"Invalid SMILES string\")\n",
    "\n",
    "#[Br][C]([C]([H])([C]#[N])[H])([C]([H])([H])[H])[C]([H])([H])[H]"
   ]
  },
  {
   "cell_type": "code",
   "execution_count": 431,
   "id": "3b285088-b671-4889-ae9e-8d33cbc153d7",
   "metadata": {},
   "outputs": [
    {
     "ename": "KeyError",
     "evalue": "'Product 1'",
     "output_type": "error",
     "traceback": [
      "\u001b[1;31m---------------------------------------------------------------------------\u001b[0m",
      "\u001b[1;31mKeyError\u001b[0m                                  Traceback (most recent call last)",
      "Cell \u001b[1;32mIn[431], line 27\u001b[0m\n\u001b[0;32m     23\u001b[0m     random_element \u001b[38;5;241m=\u001b[39m random\u001b[38;5;241m.\u001b[39mchoice(all_products)\n\u001b[0;32m     25\u001b[0m     \u001b[38;5;28;01mreturn\u001b[39;00m random_element\n\u001b[1;32m---> 27\u001b[0m \u001b[38;5;28mprint\u001b[39m(\u001b[43msplit_dataFrame\u001b[49m\u001b[38;5;241;43m.\u001b[39;49m\u001b[43mapply\u001b[49m\u001b[43m(\u001b[49m\u001b[43mrandom_product\u001b[49m\u001b[43m)\u001b[49m)\n",
      "File \u001b[1;32m~\\anaconda3\\envs\\env\\lib\\site-packages\\pandas\\core\\frame.py:10374\u001b[0m, in \u001b[0;36mDataFrame.apply\u001b[1;34m(self, func, axis, raw, result_type, args, by_row, engine, engine_kwargs, **kwargs)\u001b[0m\n\u001b[0;32m  10360\u001b[0m \u001b[38;5;28;01mfrom\u001b[39;00m \u001b[38;5;21;01mpandas\u001b[39;00m\u001b[38;5;21;01m.\u001b[39;00m\u001b[38;5;21;01mcore\u001b[39;00m\u001b[38;5;21;01m.\u001b[39;00m\u001b[38;5;21;01mapply\u001b[39;00m \u001b[38;5;28;01mimport\u001b[39;00m frame_apply\n\u001b[0;32m  10362\u001b[0m op \u001b[38;5;241m=\u001b[39m frame_apply(\n\u001b[0;32m  10363\u001b[0m     \u001b[38;5;28mself\u001b[39m,\n\u001b[0;32m  10364\u001b[0m     func\u001b[38;5;241m=\u001b[39mfunc,\n\u001b[1;32m   (...)\u001b[0m\n\u001b[0;32m  10372\u001b[0m     kwargs\u001b[38;5;241m=\u001b[39mkwargs,\n\u001b[0;32m  10373\u001b[0m )\n\u001b[1;32m> 10374\u001b[0m \u001b[38;5;28;01mreturn\u001b[39;00m \u001b[43mop\u001b[49m\u001b[38;5;241;43m.\u001b[39;49m\u001b[43mapply\u001b[49m\u001b[43m(\u001b[49m\u001b[43m)\u001b[49m\u001b[38;5;241m.\u001b[39m__finalize__(\u001b[38;5;28mself\u001b[39m, method\u001b[38;5;241m=\u001b[39m\u001b[38;5;124m\"\u001b[39m\u001b[38;5;124mapply\u001b[39m\u001b[38;5;124m\"\u001b[39m)\n",
      "File \u001b[1;32m~\\anaconda3\\envs\\env\\lib\\site-packages\\pandas\\core\\apply.py:916\u001b[0m, in \u001b[0;36mFrameApply.apply\u001b[1;34m(self)\u001b[0m\n\u001b[0;32m    913\u001b[0m \u001b[38;5;28;01melif\u001b[39;00m \u001b[38;5;28mself\u001b[39m\u001b[38;5;241m.\u001b[39mraw:\n\u001b[0;32m    914\u001b[0m     \u001b[38;5;28;01mreturn\u001b[39;00m \u001b[38;5;28mself\u001b[39m\u001b[38;5;241m.\u001b[39mapply_raw(engine\u001b[38;5;241m=\u001b[39m\u001b[38;5;28mself\u001b[39m\u001b[38;5;241m.\u001b[39mengine, engine_kwargs\u001b[38;5;241m=\u001b[39m\u001b[38;5;28mself\u001b[39m\u001b[38;5;241m.\u001b[39mengine_kwargs)\n\u001b[1;32m--> 916\u001b[0m \u001b[38;5;28;01mreturn\u001b[39;00m \u001b[38;5;28;43mself\u001b[39;49m\u001b[38;5;241;43m.\u001b[39;49m\u001b[43mapply_standard\u001b[49m\u001b[43m(\u001b[49m\u001b[43m)\u001b[49m\n",
      "File \u001b[1;32m~\\anaconda3\\envs\\env\\lib\\site-packages\\pandas\\core\\apply.py:1063\u001b[0m, in \u001b[0;36mFrameApply.apply_standard\u001b[1;34m(self)\u001b[0m\n\u001b[0;32m   1061\u001b[0m \u001b[38;5;28;01mdef\u001b[39;00m \u001b[38;5;21mapply_standard\u001b[39m(\u001b[38;5;28mself\u001b[39m):\n\u001b[0;32m   1062\u001b[0m     \u001b[38;5;28;01mif\u001b[39;00m \u001b[38;5;28mself\u001b[39m\u001b[38;5;241m.\u001b[39mengine \u001b[38;5;241m==\u001b[39m \u001b[38;5;124m\"\u001b[39m\u001b[38;5;124mpython\u001b[39m\u001b[38;5;124m\"\u001b[39m:\n\u001b[1;32m-> 1063\u001b[0m         results, res_index \u001b[38;5;241m=\u001b[39m \u001b[38;5;28;43mself\u001b[39;49m\u001b[38;5;241;43m.\u001b[39;49m\u001b[43mapply_series_generator\u001b[49m\u001b[43m(\u001b[49m\u001b[43m)\u001b[49m\n\u001b[0;32m   1064\u001b[0m     \u001b[38;5;28;01melse\u001b[39;00m:\n\u001b[0;32m   1065\u001b[0m         results, res_index \u001b[38;5;241m=\u001b[39m \u001b[38;5;28mself\u001b[39m\u001b[38;5;241m.\u001b[39mapply_series_numba()\n",
      "File \u001b[1;32m~\\anaconda3\\envs\\env\\lib\\site-packages\\pandas\\core\\apply.py:1081\u001b[0m, in \u001b[0;36mFrameApply.apply_series_generator\u001b[1;34m(self)\u001b[0m\n\u001b[0;32m   1078\u001b[0m \u001b[38;5;28;01mwith\u001b[39;00m option_context(\u001b[38;5;124m\"\u001b[39m\u001b[38;5;124mmode.chained_assignment\u001b[39m\u001b[38;5;124m\"\u001b[39m, \u001b[38;5;28;01mNone\u001b[39;00m):\n\u001b[0;32m   1079\u001b[0m     \u001b[38;5;28;01mfor\u001b[39;00m i, v \u001b[38;5;129;01min\u001b[39;00m \u001b[38;5;28menumerate\u001b[39m(series_gen):\n\u001b[0;32m   1080\u001b[0m         \u001b[38;5;66;03m# ignore SettingWithCopy here in case the user mutates\u001b[39;00m\n\u001b[1;32m-> 1081\u001b[0m         results[i] \u001b[38;5;241m=\u001b[39m \u001b[38;5;28mself\u001b[39m\u001b[38;5;241m.\u001b[39mfunc(v, \u001b[38;5;241m*\u001b[39m\u001b[38;5;28mself\u001b[39m\u001b[38;5;241m.\u001b[39margs, \u001b[38;5;241m*\u001b[39m\u001b[38;5;241m*\u001b[39m\u001b[38;5;28mself\u001b[39m\u001b[38;5;241m.\u001b[39mkwargs)\n\u001b[0;32m   1082\u001b[0m         \u001b[38;5;28;01mif\u001b[39;00m \u001b[38;5;28misinstance\u001b[39m(results[i], ABCSeries):\n\u001b[0;32m   1083\u001b[0m             \u001b[38;5;66;03m# If we have a view on v, we need to make a copy because\u001b[39;00m\n\u001b[0;32m   1084\u001b[0m             \u001b[38;5;66;03m#  series_generator will swap out the underlying data\u001b[39;00m\n\u001b[0;32m   1085\u001b[0m             results[i] \u001b[38;5;241m=\u001b[39m results[i]\u001b[38;5;241m.\u001b[39mcopy(deep\u001b[38;5;241m=\u001b[39m\u001b[38;5;28;01mFalse\u001b[39;00m)\n",
      "Cell \u001b[1;32mIn[431], line 14\u001b[0m, in \u001b[0;36mrandom_product\u001b[1;34m(df)\u001b[0m\n\u001b[0;32m      5\u001b[0m \u001b[38;5;250m\u001b[39m\u001b[38;5;124;03m\"\"\"\u001b[39;00m\n\u001b[0;32m      6\u001b[0m \u001b[38;5;124;03mSelect a random element from the columns 'product 1', 'product 2', and 'product 3' of a DataFrame.\u001b[39;00m\n\u001b[0;32m      7\u001b[0m \u001b[38;5;124;03mArgs:\u001b[39;00m\n\u001b[1;32m   (...)\u001b[0m\n\u001b[0;32m     11\u001b[0m \u001b[38;5;124;03m                                Returns None if all columns are empty.\u001b[39;00m\n\u001b[0;32m     12\u001b[0m \u001b[38;5;124;03m\"\"\"\u001b[39;00m\n\u001b[0;32m     13\u001b[0m \u001b[38;5;66;03m# Concatenate all three columns\u001b[39;00m\n\u001b[1;32m---> 14\u001b[0m all_products \u001b[38;5;241m=\u001b[39m pd\u001b[38;5;241m.\u001b[39mconcat([\u001b[43mdf\u001b[49m\u001b[43m[\u001b[49m\u001b[38;5;124;43m'\u001b[39;49m\u001b[38;5;124;43mProduct 1\u001b[39;49m\u001b[38;5;124;43m'\u001b[39;49m\u001b[43m]\u001b[49m, df[\u001b[38;5;124m'\u001b[39m\u001b[38;5;124mProduct 2\u001b[39m\u001b[38;5;124m'\u001b[39m], df[\u001b[38;5;124m'\u001b[39m\u001b[38;5;124mProduct 3\u001b[39m\u001b[38;5;124m'\u001b[39m]])\n\u001b[0;32m     15\u001b[0m \u001b[38;5;28mprint\u001b[39m (all_products)\n\u001b[0;32m     16\u001b[0m \u001b[38;5;66;03m# Remove missing values\u001b[39;00m\n",
      "File \u001b[1;32m~\\anaconda3\\envs\\env\\lib\\site-packages\\pandas\\core\\series.py:1121\u001b[0m, in \u001b[0;36mSeries.__getitem__\u001b[1;34m(self, key)\u001b[0m\n\u001b[0;32m   1118\u001b[0m     \u001b[38;5;28;01mreturn\u001b[39;00m \u001b[38;5;28mself\u001b[39m\u001b[38;5;241m.\u001b[39m_values[key]\n\u001b[0;32m   1120\u001b[0m \u001b[38;5;28;01melif\u001b[39;00m key_is_scalar:\n\u001b[1;32m-> 1121\u001b[0m     \u001b[38;5;28;01mreturn\u001b[39;00m \u001b[38;5;28;43mself\u001b[39;49m\u001b[38;5;241;43m.\u001b[39;49m\u001b[43m_get_value\u001b[49m\u001b[43m(\u001b[49m\u001b[43mkey\u001b[49m\u001b[43m)\u001b[49m\n\u001b[0;32m   1123\u001b[0m \u001b[38;5;66;03m# Convert generator to list before going through hashable part\u001b[39;00m\n\u001b[0;32m   1124\u001b[0m \u001b[38;5;66;03m# (We will iterate through the generator there to check for slices)\u001b[39;00m\n\u001b[0;32m   1125\u001b[0m \u001b[38;5;28;01mif\u001b[39;00m is_iterator(key):\n",
      "File \u001b[1;32m~\\anaconda3\\envs\\env\\lib\\site-packages\\pandas\\core\\series.py:1237\u001b[0m, in \u001b[0;36mSeries._get_value\u001b[1;34m(self, label, takeable)\u001b[0m\n\u001b[0;32m   1234\u001b[0m     \u001b[38;5;28;01mreturn\u001b[39;00m \u001b[38;5;28mself\u001b[39m\u001b[38;5;241m.\u001b[39m_values[label]\n\u001b[0;32m   1236\u001b[0m \u001b[38;5;66;03m# Similar to Index.get_value, but we do not fall back to positional\u001b[39;00m\n\u001b[1;32m-> 1237\u001b[0m loc \u001b[38;5;241m=\u001b[39m \u001b[38;5;28;43mself\u001b[39;49m\u001b[38;5;241;43m.\u001b[39;49m\u001b[43mindex\u001b[49m\u001b[38;5;241;43m.\u001b[39;49m\u001b[43mget_loc\u001b[49m\u001b[43m(\u001b[49m\u001b[43mlabel\u001b[49m\u001b[43m)\u001b[49m\n\u001b[0;32m   1239\u001b[0m \u001b[38;5;28;01mif\u001b[39;00m is_integer(loc):\n\u001b[0;32m   1240\u001b[0m     \u001b[38;5;28;01mreturn\u001b[39;00m \u001b[38;5;28mself\u001b[39m\u001b[38;5;241m.\u001b[39m_values[loc]\n",
      "File \u001b[1;32m~\\anaconda3\\envs\\env\\lib\\site-packages\\pandas\\core\\indexes\\range.py:417\u001b[0m, in \u001b[0;36mRangeIndex.get_loc\u001b[1;34m(self, key)\u001b[0m\n\u001b[0;32m    415\u001b[0m         \u001b[38;5;28;01mraise\u001b[39;00m \u001b[38;5;167;01mKeyError\u001b[39;00m(key) \u001b[38;5;28;01mfrom\u001b[39;00m \u001b[38;5;21;01merr\u001b[39;00m\n\u001b[0;32m    416\u001b[0m \u001b[38;5;28;01mif\u001b[39;00m \u001b[38;5;28misinstance\u001b[39m(key, Hashable):\n\u001b[1;32m--> 417\u001b[0m     \u001b[38;5;28;01mraise\u001b[39;00m \u001b[38;5;167;01mKeyError\u001b[39;00m(key)\n\u001b[0;32m    418\u001b[0m \u001b[38;5;28mself\u001b[39m\u001b[38;5;241m.\u001b[39m_check_indexing_error(key)\n\u001b[0;32m    419\u001b[0m \u001b[38;5;28;01mraise\u001b[39;00m \u001b[38;5;167;01mKeyError\u001b[39;00m(key)\n",
      "\u001b[1;31mKeyError\u001b[0m: 'Product 1'"
     ]
    }
   ],
   "source": [
    "import pandas as pd\n",
    "import random\n",
    "\n",
    "def random_product(df):\n",
    "    \"\"\"\n",
    "    Select a random element from the columns 'product 1', 'product 2', and 'product 3' of a DataFrame.\n",
    "    Args:\n",
    "    - df (pandas.DataFrame): The DataFrame containing the columns.\n",
    "    Returns:\n",
    "    - random_element (str or None): A random element from the specified columns.\n",
    "                                    Returns None if all columns are empty.\n",
    "    \"\"\"\n",
    "    # Concatenate all three columns\n",
    "    all_products = pd.concat([df['Product 1'], df['Product 2'], df['Product 3']])\n",
    "    print (all_products)\n",
    "    # Remove missing values\n",
    "    all_products = all_products.dropna()\n",
    "    \n",
    "    if len(all_products) == 0:\n",
    "        return None\n",
    "    \n",
    "    # Select a random element\n",
    "    random_element = random.choice(all_products)\n",
    "    \n",
    "    return random_element\n",
    "\n",
    "print(split_dataFrame.apply(random_product))"
   ]
  },
  {
   "cell_type": "code",
   "execution_count": 26,
   "id": "978f26b3-65d8-4eec-b20e-ec64aab57216",
   "metadata": {},
   "outputs": [],
   "source": []
  },
  {
   "cell_type": "code",
   "execution_count": null,
   "id": "c7eda5fe-04f9-484d-9353-11524dea25be",
   "metadata": {},
   "outputs": [],
   "source": []
  }
 ],
 "metadata": {
  "kernelspec": {
   "display_name": "Python 3 (ipykernel)",
   "language": "python",
   "name": "python3"
  },
  "language_info": {
   "codemirror_mode": {
    "name": "ipython",
    "version": 3
   },
   "file_extension": ".py",
   "mimetype": "text/x-python",
   "name": "python",
   "nbconvert_exporter": "python",
   "pygments_lexer": "ipython3",
   "version": "3.10.12"
  }
 },
 "nbformat": 4,
 "nbformat_minor": 5
}
