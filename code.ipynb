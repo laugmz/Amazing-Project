{
 "cells": [
  {
   "cell_type": "code",
   "execution_count": 29,
   "id": "5db5e168-0828-4867-87c5-585aaa3b3e7e",
   "metadata": {},
   "outputs": [
    {
     "name": "stdout",
     "output_type": "stream",
     "text": [
      "Current Directory: C:\\Users\\33783\\Documents\\EPFL\\Etudes\\BA4\\Amazing-Project\n",
      "AAM,ea\n",
      "\n"
     ]
    }
   ],
   "source": [
    "# read the data\n",
    "from pathlib import Path\n",
    "\n",
    "# Create a Path object for the current directory\n",
    "current_directory = Path.cwd()\n",
    "print(\"Current Directory:\", current_directory.resolve())\n",
    "\n",
    "# Creating a Path object for an example file that does not yet exist\n",
    "example_file_path = current_directory / \"database.csv\"\n",
    "\n",
    "# Reading the contents of the file to test if we have well acess to our data\n",
    "if example_file_path.exists():\n",
    "    with example_file_path.open(\"r\") as file:\n",
    "        first_line = file.readline()\n",
    "        print(first_line)\n",
    "else:\n",
    "    print(\"The file does not exist.\")"
   ]
  },
  {
   "cell_type": "code",
   "execution_count": null,
   "id": "fa88a4f9-a7c6-4550-882d-3d201122dbd0",
   "metadata": {},
   "outputs": [],
   "source": [
    "# Request of the user"
   ]
  },
  {
   "cell_type": "code",
   "execution_count": null,
   "id": "71e8e8d1-719e-4c05-82c3-cb4ff7ef0c21",
   "metadata": {},
   "outputs": [],
   "source": [
    "# print the yield"
   ]
  },
  {
   "cell_type": "code",
   "execution_count": null,
   "id": "ada2a887-3ce7-40b3-90a6-b4306965f381",
   "metadata": {},
   "outputs": [],
   "source": [
    "# print the molecule\n",
    "from rdkit import Chem\n",
    "from rdkit.Chem import Draw\n",
    "\n",
    "original_smiles=\"[Br-:1].[Br:2][C:5]([C:4]([H:3])([C:31]#[N:32])[C:41]#[N:42])([H:11])[H:21]\"\n",
    "# Parse the original SMILES notation\n",
    "mol = Chem.MolFromSmiles(original_smiles)\n",
    "\n",
    "# Convert the parsed molecule back to SMILES without atom mapping numbers\n",
    "smiles_without_numbers = Chem.MolToSmiles(mol, allBondsExplicit=True, isomericSmiles=True)\n",
    "\n",
    "\n",
    "# Create a molecule object from the SMILES notation\n",
    "mol = Chem.MolFromSmiles(smiles_without_numbers)\n",
    "\n",
    "# Draw and display the molecule\n",
    "img = Draw.MolToImage(mol)\n",
    "\n",
    "# Display the image\n",
    "img.show()"
   ]
  }
 ],
 "metadata": {
  "kernelspec": {
   "display_name": "Python 3 (ipykernel)",
   "language": "python",
   "name": "python3"
  },
  "language_info": {
   "codemirror_mode": {
    "name": "ipython",
    "version": 3
   },
   "file_extension": ".py",
   "mimetype": "text/x-python",
   "name": "python",
   "nbconvert_exporter": "python",
   "pygments_lexer": "ipython3",
   "version": "3.9.18"
  }
 },
 "nbformat": 4,
 "nbformat_minor": 5
}
