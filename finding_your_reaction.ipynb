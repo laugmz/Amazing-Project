{
 "cells": [
  {
   "cell_type": "code",
   "execution_count": 1,
   "id": "34412ac1-d401-4dea-8e0d-e50c3b63e5c5",
   "metadata": {
    "scrolled": true
   },
   "outputs": [
    {
     "name": "stderr",
     "output_type": "stream",
     "text": [
      "Failed to find the pandas get_adjustment() function to patch\n",
      "Failed to patch pandas - PandasTools will have limited functionality\n"
     ]
    }
   ],
   "source": [
    "from pathlib import Path\n",
    "from rdkit import Chem\n",
    "from rdkit.Chem import Draw\n",
    "from rdkit.Chem import PandasTools\n",
    "import pandas as pd\n",
    "import os\n",
    "import re\n",
    "from rdkit import RDLogger\n",
    "\n",
    "import warnings\n",
    "\n",
    "# Suppress specific warnings\n",
    "warnings.filterwarnings(\"ignore\", message=\"Failed to find the pandas get_adjustment() function to patch\")\n",
    "warnings.filterwarnings(\"ignore\", message=\"Failed to patch pandas - PandasTools will have limited functionality\")\n",
    "\n",
    "# Your code here\n",
    "\n",
    "\n",
    "def clean_text(text):\n",
    "    return re.sub(r'\\|[^|]*\\|', '', text)\n",
    "\n",
    "# Create a Path object for the current directory\n",
    "current_directory = Path.cwd()\n",
    "\n",
    "# Creating a Path object for an example file that does not yet exist\n",
    "example_file_path = current_directory / \"1976_Sep2016_USPTOgrants_smiles.rsmi\"\n",
    "\n",
    "# Reading the contents of the file to test if we have well acess to our data\n",
    "if example_file_path.exists():\n",
    "    with example_file_path.open(\"r\") as file:\n",
    "        first_line = file.readline()\n",
    "else:\n",
    "    print(\"The file does not exist.\")\n",
    "\n",
    "dataFrame= pd.read_csv(\"1976_Sep2016_USPTOgrants_smiles.rsmi\", delimiter='\\t',low_memory=False)\n",
    "dataFrame = dataFrame.astype(str)\n",
    "dataFrame[\"ReactionSmiles\"] = dataFrame[\"ReactionSmiles\"].apply(lambda x: clean_text(x))\n",
    "#Delete columns that are not the reactions or the yield\n",
    "columns_to_delete = [\"PatentNumber\", \"ParagraphNum\", \"Year\", \"TextMinedYield\"]\n",
    "dataFrame.drop(columns=columns_to_delete, inplace=True)\n",
    "#Separate the Reactants from the Products\n",
    "new_columns = dataFrame['ReactionSmiles'].str.split('>', expand=True)\n",
    "new_columns = new_columns.rename(columns={0: 'Reactant 1', 2 : \"Product 1\"})\n",
    "dataFrame = pd.concat([new_columns, dataFrame.iloc[:, 1:]], axis=1)\n",
    "dataFrame.drop(columns=1, inplace=True)\n",
    "#Separate the reactants from each other\n",
    "reactants_split = dataFrame['Reactant 1'].str.split(\"\\.\", expand = True)\n",
    "reactants_split.columns = [f'Reactant {i+1}' for i in range(reactants_split.shape[1])]\n",
    "dataFrame = pd.concat([reactants_split, dataFrame.iloc[:, 1:]], axis=1)\n",
    "#Separate the Products from each other\n",
    "products_split = dataFrame['Product 1'].str.split(\"\\.\", expand = True)\n",
    "products_split.columns = [f'Product {i+1}' for i in range(products_split.shape[1])]\n",
    "dataFrame = pd.concat([products_split, dataFrame.iloc[:, 1:]], axis=1)\n",
    "dataFrame = dataFrame.loc[:, ~dataFrame.columns.duplicated(keep='first')]\n",
    "\n",
    "dataFrame = dataFrame[dataFrame[\"CalculatedYield\"] != 'nan']"
   ]
  },
  {
   "cell_type": "code",
   "execution_count": 2,
   "id": "f4495a67-b86d-4f99-b6bc-8508ac815cea",
   "metadata": {},
   "outputs": [],
   "source": [
    "\"\"\"\n",
    "This Cell groups the functions used to clean the dataframe to be able to use it later\n",
    "\"\"\"\n",
    "# Remove atome mapping numbers from smiles\n",
    "import re\n",
    "\n",
    "def remove_atom_mapping(smiles):\n",
    "    \"\"\"\n",
    "    Remove atom mapping numbers from a SMILES-like notation.\n",
    "    Arguments:\n",
    "    - smiles (str): The SMILES-like notation with atom mapping numbers.\n",
    "    Returns:\n",
    "    - smiles_without_mapping (str): The SMILES notation without atom mapping numbers.\n",
    "    \"\"\"\n",
    "    pattern = r':\\d+'\n",
    "    smiles_without_mapping = re.sub(pattern, '', smiles)\n",
    "    return smiles_without_mapping\n",
    "\n",
    "dataFrame = dataFrame.astype(str)\n",
    "columns_to_process = dataFrame.columns[:-1]\n",
    "for column in columns_to_process:\n",
    "    dataFrame[column] = dataFrame[column].apply(remove_atom_mapping)\n",
    "    \n",
    "#Remove the percentage symbol\n",
    "def remove_percent_symbol(value):\n",
    "    \"\"\"\n",
    "    Remove the '%' symbol from a percentage value.\n",
    "    Arguments:\n",
    "    - value (str): The percentage value with the '%' symbol.\n",
    "    Returns:\n",
    "    - value_without_percent (str): The percentage value without the '%' symbol.\n",
    "    \"\"\"\n",
    "    return value.replace('%', '')\n",
    "\n",
    "# Apply the remove_percent_symbol function to the \"CalculatedYield\" column\n",
    "dataFrame['CalculatedYield'] = dataFrame['CalculatedYield'].apply(remove_percent_symbol)"
   ]
  },
  {
   "cell_type": "code",
   "execution_count": 23,
   "id": "9d7d36a6-f4c6-4197-a55f-1995458048b0",
   "metadata": {},
   "outputs": [
    {
     "name": "stdin",
     "output_type": "stream",
     "text": [
      "Press Enter to get random products or type 'exit' to quit:  \n"
     ]
    },
    {
     "name": "stdout",
     "output_type": "stream",
     "text": [
      "358242    [C]([O][C]([N]1[CH2][CH]=[CH][CH2][NH][C@H]([CH3])[CH2]1)=[O])([CH3])([CH3])[CH3] \n",
      "dtype: object\n"
     ]
    },
    {
     "name": "stdin",
     "output_type": "stream",
     "text": [
      "Do you want to continue? (yes/no):  no\n"
     ]
    },
    {
     "name": "stdout",
     "output_type": "stream",
     "text": [
      "Exiting.\n"
     ]
    }
   ],
   "source": [
    "pd.set_option('display.max_colwidth', None)\n",
    "def main():\n",
    "    \n",
    "    while True:\n",
    "        choice=input(\"Press Enter to get random products or type 'exit' to quit: \")\n",
    "        if choice == \"exit\":\n",
    "            print(\"Exiting.\")\n",
    "            break\n",
    "        else: \n",
    "            filtered_columns = [pd.Series(dataFrame.iloc[:, i].dropna().unique()) for i in range(53)]\n",
    "            selected_columns = pd.concat(filtered_columns, axis=0)\n",
    "            random_products = selected_columns.sample(n=1)\n",
    "            print(random_products)\n",
    "\n",
    "        \n",
    "        choice = input(\"Do you want to continue? (yes/no): \").strip().lower()\n",
    "        if choice == \"no\":\n",
    "            print(\"Exiting.\")\n",
    "            break\n",
    "            \n",
    "if __name__ == \"__main__\":\n",
    "    main()"
   ]
  },
  {
   "cell_type": "code",
   "execution_count": 24,
   "id": "79448839-05ae-4005-b1f7-63ac1ba3e782",
   "metadata": {},
   "outputs": [
    {
     "name": "stdout",
     "output_type": "stream",
     "text": [
      "you can enter the name of the molecule or its SMILES, the racemic configuration is available.\n"
     ]
    },
    {
     "name": "stdin",
     "output_type": "stream",
     "text": [
      "Enter the molecule that you want to form:  CCSc2cccc3c(CC(=O)O)cc1ccccc1n(C)c23\n"
     ]
    }
   ],
   "source": [
    "# Prompt the user to enter the molecule that he wants to form\n",
    "print (\"you can enter the name of the molecule or its SMILES, the racemic configuration is available.\")\n",
    "string_input_mol = input(\"Enter the molecule that you want to form: \")"
   ]
  },
  {
   "cell_type": "code",
   "execution_count": 25,
   "id": "81dafb2d-c250-4feb-bfd1-2aabd39e0a0e",
   "metadata": {},
   "outputs": [
    {
     "name": "stdout",
     "output_type": "stream",
     "text": [
      "'CCSc2cccc3c(CC(=O)O)cc1ccccc1n(C)c23' is a valid SMILES notation.\n"
     ]
    }
   ],
   "source": [
    "\"\"\"\n",
    "Function to determine if the user enters the SMILES notation or the usual name of the molecule.\n",
    "\"\"\"\n",
    "from rdkit import Chem\n",
    "\n",
    "def is_smiles(smiles):\n",
    "    \"\"\"\n",
    "    Check if a string represents a valid SMILES notation.\n",
    "    Args:\n",
    "    - smiles (str): The string to check.\n",
    "    Returns:\n",
    "    - is_valid (bool): True if the string is a valid SMILES notation, False otherwise.\n",
    "    \"\"\"\n",
    "    if Chem.MolFromSmiles(smiles)== None:\n",
    "        return False\n",
    "    else:\n",
    "        return True\n",
    "\n",
    "# Check if the entered string is a valid SMILES notation\n",
    "string_input_mol = remove_atom_mapping(string_input_mol)\n",
    "if is_smiles(string_input_mol):\n",
    "    print(f\"'{string_input_mol}' is a valid SMILES notation.\")\n",
    "else:\n",
    "    print(f\"'{string_input_mol}' is not a valid SMILES notation.\")"
   ]
  },
  {
   "cell_type": "code",
   "execution_count": 26,
   "id": "f3740d73-44f9-4449-a996-745577fa4f1f",
   "metadata": {},
   "outputs": [
    {
     "name": "stdout",
     "output_type": "stream",
     "text": [
      "CCSc2cccc3c(CC(=O)O)cc1ccccc1n(C)c23\n"
     ]
    }
   ],
   "source": [
    "\"\"\"\n",
    "Function to convert name into SMILES if the input isn't in this form.\n",
    "\"\"\"\n",
    "import pubchempy as pcp\n",
    "\n",
    "def name_to_smiles(molecule_name):\n",
    "    \"\"\"\n",
    "    Convert a molecule name to a SMILES notation using PubChemPy's PubChem database.\n",
    "    Args:\n",
    "    - molecule_name (str): The name of the molecule.\n",
    "    Returns:\n",
    "    - smiles (str): The SMILES notation of the molecule, or None if retrieval fails.\n",
    "    \"\"\"\n",
    "    try:\n",
    "        compound = pcp.get_compounds(molecule_name, 'name')\n",
    "        if compound:\n",
    "            return compound[0].canonical_smiles\n",
    "        else:\n",
    "            print(\"Error: Unable to retrieve molecule information. Please try with the SMILE of the molecule\")\n",
    "            return None\n",
    "    except:\n",
    "        print(\"Error: Unable to retrieve molecule information. Please try again\")\n",
    "        return None\n",
    "\n",
    "# Call the function to convert the molecule name to SMILES notation\n",
    "if is_smiles(string_input_mol)== False:\n",
    "    string_input_mol2 = string_input_mol\n",
    "    string_input_mol = name_to_smiles(string_input_mol)\n",
    "    if string_input_mol:\n",
    "        print(f\"SMILES notation for {string_input_mol2}: {string_input_mol}\")\n",
    "else:\n",
    "    print (string_input_mol)"
   ]
  },
  {
   "cell_type": "code",
   "execution_count": 27,
   "id": "5624df3e-ce79-44e1-ad71-c5b09c787126",
   "metadata": {},
   "outputs": [
    {
     "name": "stdout",
     "output_type": "stream",
     "text": [
      "The product is not in the database\n"
     ]
    }
   ],
   "source": [
    "import pandas as pd\n",
    "import sys\n",
    "\n",
    "def compare_molecule_with_data(element, string_input_mol, start_col=0, end_col=None):\n",
    "    return ''.join(element.split()).lower() == ''.join(string_input_mol.split()).lower()\n",
    "\n",
    "\n",
    "\n",
    "def find_molecule_rows(dataFrame, string_input_mol, start_col=0, end_col=None):\n",
    "    \"\"\"\n",
    "    Search through the specified range of columns in a DataFrame for the input molecule.\n",
    "    \n",
    "    Args:\n",
    "    - dataFrame (pd.DataFrame): The DataFrame to search.\n",
    "    - string_input_mol (str): The molecule to search for.\n",
    "    - start_col (int): The starting column index for the search.\n",
    "    - end_col (int): The ending column index for the search. If None, searches until the last column.\n",
    "\n",
    "    Returns:\n",
    "    - List[int]: A list of row indices where the molecule is found.\n",
    "    \"\"\"\n",
    "    # Initialize a list to store the row numbers\n",
    "    rows = []\n",
    "\n",
    "    # Set end_col to the last column index if not provided\n",
    "    if end_col is None:\n",
    "        end_col = dataFrame.shape[1]\n",
    "\n",
    "    # Total number of elements to check\n",
    "    total_elements = (end_col - start_col) * len(dataFrame)\n",
    "    current_element = 0\n",
    "\n",
    "    # Iterate over the specified range of columns in the DataFrame\n",
    "    for column_name in dataFrame.columns[start_col:end_col]:\n",
    "        column = dataFrame[column_name]\n",
    "        # Check if any element in the column matches the input molecule\n",
    "        for index, value in column.items():\n",
    "            if compare_molecule_with_data(value, string_input_mol):\n",
    "                # Store the row number where the molecule is found\n",
    "                rows.append(index)\n",
    "            current_element += 1\n",
    "            \n",
    "\n",
    "rows = find_molecule_rows(dataFrame, string_input_mol, start_col=0, end_col=53)\n",
    "if rows:\n",
    "    print(\"Rows where the molecule is found:\", rows)\n",
    "else:\n",
    "    print(\"The product is not in the database\")"
   ]
  },
  {
   "cell_type": "code",
   "execution_count": 28,
   "id": "64c8ae31-b197-46da-afd0-2925b676f41d",
   "metadata": {},
   "outputs": [
    {
     "name": "stdin",
     "output_type": "stream",
     "text": [
      "Your product isn't in the database. Do you want to look for an isomer molecule? (enter yes/no)  yes\n"
     ]
    },
    {
     "name": "stdout",
     "output_type": "stream",
     "text": [
      "The isomer found for CCSc2cccc3c(CC(=O)O)cc1ccccc1n(C)c23 is [CH2]([S][C]1[CH]=[CH][C]2[N]([CH3])[C]3[CH]=[CH][CH]=[CH][C]=3[CH]=[C]([CH2][C]([OH])=[O])[C]=2[CH]=1)[CH3] , the program will continue with the latter.\n"
     ]
    }
   ],
   "source": [
    "\"\"\"\n",
    "This code finds the isomers (if there is ones) if the product searched isn't in the database.\n",
    "\"\"\"\n",
    "from rdkit import Chem\n",
    "from rdkit.Chem import Descriptors\n",
    "from rdkit.Chem import rdMolDescriptors\n",
    "\n",
    "def is_isomer(smiles_given):\n",
    "    if smiles_given is None :\n",
    "        return \"Invalid SMILES notation, please check input.\"\n",
    "    else:\n",
    "        mol1 = Chem.MolFromSmiles(smiles_given)\n",
    "        #Give molecular formula\n",
    "        formula1 = rdMolDescriptors.CalcMolFormula(mol1)\n",
    "    \n",
    "    for idx, row in dataFrame.iterrows():\n",
    "        for col in dataFrame.columns:\n",
    "            if \"Product\" in col:\n",
    "                smiles2 = row[col]\n",
    "                if smiles2 == \"None\":\n",
    "                    continue\n",
    "                else:\n",
    "                    mol2 = Chem.MolFromSmiles(smiles2)\n",
    "                    formula2 = rdMolDescriptors.CalcMolFormula(mol2)\n",
    "                    if formula1 == formula2:\n",
    "                        return smiles2, idx, col\n",
    "\n",
    "\n",
    "if not rows :  \n",
    "    choice = input(\"Your product isn't in the database. Do you want to look for an isomer molecule? (enter yes/no) \")\n",
    "    if choice.lower() == \"no\":\n",
    "        print(\"Exiting.\")\n",
    "    else:\n",
    "        string_input_mol3 = string_input_mol\n",
    "        result = is_isomer(string_input_mol)\n",
    "        if result == None:\n",
    "            print (\"No isomer of the input was found in the database, sorry :(.\")\n",
    "        else:\n",
    "            string_input_mol, idx, col = result\n",
    "            rows = [idx]\n",
    "            print(f\"The isomer found for {string_input_mol3} is {string_input_mol}, the program will continue with the latter.\")\n",
    "\n"
   ]
  },
  {
   "cell_type": "code",
   "execution_count": 29,
   "id": "92baa181-28da-4d4e-b32b-0711f8a1af28",
   "metadata": {},
   "outputs": [
    {
     "name": "stdout",
     "output_type": "stream",
     "text": [
      "Row with the highest yield:\n",
      "Product 1          [CH2]([S][C]1[CH]=[CH][C]2[N]([CH3])[C]3[CH]=[CH][CH]=[CH][C]=3[CH]=[C]([CH2][C]([OH])=[O])[C]=2[CH]=1)[CH3] \n",
      "Product 2                                                                                                                   None\n",
      "Product 3                                                                                                                   None\n",
      "Product 4                                                                                                                   None\n",
      "Product 5                                                                                                                   None\n",
      "                                                                       ...                                                      \n",
      "Reactant 58                                                                                                                 None\n",
      "Reactant 59                                                                                                                 None\n",
      "Reactant 60                                                                                                                 None\n",
      "Reactant 61                                                                                                                 None\n",
      "CalculatedYield                                                                                                             78.1\n",
      "Name: 28, Length: 114, dtype: object\n"
     ]
    }
   ],
   "source": [
    "\"\"\"\n",
    "This code prints the yield and shows the image of the reaction corresponding\n",
    "\"\"\"\n",
    "import numpy as np\n",
    "# Convert the 'Yield' column to float\n",
    "dataFrame['CalculatedYield'] = dataFrame['CalculatedYield'].astype(float)\n",
    "# Subset the DataFrame to include only the specified rows\n",
    "subset_df = dataFrame.loc[rows]\n",
    "max_yield_row_index = subset_df['CalculatedYield'].idxmax()\n",
    "# Retrieve the row with the highest yield\n",
    "max_yield_row = dataFrame.loc[max_yield_row_index]\n",
    "print(\"Row with the highest yield:\")\n",
    "print(max_yield_row)\n",
    "\n",
    "# print the reaction\n",
    "from rdkit import Chem\n",
    "from rdkit.Chem import Draw\n",
    "from rdkit.Chem import AllChem\n",
    "#Create a Dataframe where the reaction is in one column\n",
    "dataFrameImage= pd.read_csv(\"1976_Sep2016_USPTOgrants_smiles.rsmi\", delimiter='\\t',low_memory=False)\n",
    "columns_to_delete = [\"PatentNumber\", \"ParagraphNum\", \"Year\", \"TextMinedYield\"]\n",
    "dataFrameImage.drop(columns=columns_to_delete, inplace=True)\n",
    "dataFrameImage[\"ReactionSmiles\"] = dataFrameImage[\"ReactionSmiles\"].apply(remove_atom_mapping)\n",
    "# Create a reaction SMILES string\n",
    "reaction_smiles = dataFrameImage.iloc[max_yield_row_index, 0]\n",
    "# Parse the reaction SMILES string\n",
    "reaction = Chem.AllChem.ReactionFromSmarts(reaction_smiles)\n",
    "# Draw the reaction\n",
    "reaction_image = Draw.ReactionToImage(reaction)\n",
    "\n",
    "# Save or display the image\n",
    "reaction_image.show()"
   ]
  },
  {
   "cell_type": "code",
   "execution_count": 30,
   "id": "a3ba952c-0b16-405e-9935-ec6c3191a89d",
   "metadata": {},
   "outputs": [
    {
     "name": "stdout",
     "output_type": "stream",
     "text": [
      "Unable to retrieve molecule name.\n",
      "The Molecular weight of the product is 325.43300000000005.\n"
     ]
    },
    {
     "data": {
      "image/png": "[encoded data removed]",
      "text/plain": [
       "<Figure size 640x480 with 1 Axes>"
      ]
     },
     "metadata": {},
     "output_type": "display_data"
    }
   ],
   "source": [
    "\"Informations about the product that we want to form\"\n",
    "\n",
    "#name of the molecule\n",
    "\n",
    "from chemspipy import ChemSpider\n",
    "\n",
    "def get_molecule_name(smiles):\n",
    "    \"\"\"\n",
    "    Get the common name of a molecule from its SMILES representation using ChemSpider.\n",
    "    Args:\n",
    "    - smiles (str): SMILES representation of the molecule.\n",
    "    Returns:\n",
    "    - name (str): Common name of the molecule.\n",
    "    \"\"\"\n",
    "    cs = ChemSpider('your_api_key_here') \n",
    "    results = cs.simple_search(smiles)\n",
    "    if results:\n",
    "        return results[0].common_name\n",
    "    else:\n",
    "        return \"Unable to retrieve molecule name.\"\n",
    "\n",
    "print (get_molecule_name(string_input_mol))\n",
    "\n",
    "# To print the molecular weight\n",
    "from rdkit import Chem\n",
    "from rdkit.Chem import Descriptors\n",
    "\n",
    "def get_molecular_weight(smiles):\n",
    "    \"\"\"\n",
    "    Calculate the molecular weight of a molecule given its SMILES string.\n",
    "    \n",
    "    Args:\n",
    "    smiles (str): SMILES string of the molecule.\n",
    "    \n",
    "    Returns:\n",
    "    float: Molecular weight of the molecule.\n",
    "    \"\"\"\n",
    "    # Convert the SMILES string to an RDKit molecule object\n",
    "    molecule = Chem.MolFromSmiles(smiles)\n",
    "    \n",
    "    # Check if the molecule is valid\n",
    "    if molecule is None:\n",
    "        raise ValueError(\"Invalid SMILES string provided\")\n",
    "    \n",
    "    # Calculate the molecular weight\n",
    "    molecular_weight = Descriptors.MolWt(molecule)\n",
    "    \n",
    "    return molecular_weight\n",
    "\n",
    "print (f\"The Molecular weight of the product is {get_molecular_weight(string_input_mol)}.\")\n",
    "\n",
    "#3D representation of the molecule\n",
    "\n",
    "import matplotlib.pyplot as plt\n",
    "from mpl_toolkits.mplot3d import Axes3D\n",
    "from rdkit import Chem\n",
    "from rdkit.Chem import AllChem\n",
    "import numpy as np\n",
    "\n",
    "def plot_molecule_3D(smiles):\n",
    "    \"\"\"\n",
    "    Plot a molecule in 3D with different colors for different types of atoms and bonds between atoms.\n",
    "    Args:\n",
    "    - smiles (str): SMILES representation of the molecule.\n",
    "    \"\"\"\n",
    "    # Generate RDKit molecule from SMILES\n",
    "    mol = Chem.MolFromSmiles(smiles)\n",
    "    if mol is None:\n",
    "        print(\"Error: Unable to generate molecule from SMILES.\")\n",
    "        return\n",
    "    \n",
    "    # Add explicit hydrogens\n",
    "    mol = Chem.AddHs(mol)\n",
    "\n",
    "    # Generate 3D coordinates\n",
    "    AllChem.EmbedMolecule(mol)\n",
    "    AllChem.UFFOptimizeMolecule(mol)\n",
    "\n",
    "    # Extract atom coordinates and symbols\n",
    "    coords = mol.GetConformer().GetPositions()\n",
    "    symbols = [atom.GetSymbol() for atom in mol.GetAtoms()]\n",
    "\n",
    "    # Create 3D plot\n",
    "    fig = plt.figure()\n",
    "    ax = fig.add_subplot(111, projection='3d')\n",
    "\n",
    "    # Define colors for different atom types\n",
    "    atom_colors = {'H': 'gray', 'C': 'black', 'O': 'red', 'N': 'blue', 'F': 'green', 'Br': 'purple', 'Cl': 'yellow'}\n",
    "\n",
    "    # Plot atoms with different colors\n",
    "    for atom_idx, symbol in enumerate(symbols):\n",
    "        x, y, z = coords[atom_idx]\n",
    "        color = atom_colors.get(symbol, 'brown')  # Default to brown for unknown atoms\n",
    "        ax.scatter(x, y, z, c=color, label=symbol, s=100)\n",
    "\n",
    "    # Helper function to plot bonds\n",
    "    def plot_bond(ax, start_pos, end_pos, offset=np.array([0, 0, 0])):\n",
    "        ax.plot([start_pos[0] + offset[0], end_pos[0] + offset[0]], \n",
    "                [start_pos[1] + offset[1], end_pos[1] + offset[1]], \n",
    "                [start_pos[2] + offset[2], end_pos[2] + offset[2]], c='gray')\n",
    "\n",
    "    # Plot bonds between atoms with different styles for single and double bonds\n",
    "    for bond in mol.GetBonds():\n",
    "        start_idx = bond.GetBeginAtomIdx()\n",
    "        end_idx = bond.GetEndAtomIdx()\n",
    "        start_pos = coords[start_idx]\n",
    "        end_pos = coords[end_idx]\n",
    "        bond_type = bond.GetBondType()\n",
    "        \n",
    "        if bond_type == Chem.rdchem.BondType.SINGLE:\n",
    "            plot_bond(ax, start_pos, end_pos)\n",
    "        elif bond_type == Chem.rdchem.BondType.DOUBLE:\n",
    "            # Calculate an offset direction perpendicular to the bond\n",
    "            bond_vector = end_pos - start_pos\n",
    "            normal_vector = np.cross(bond_vector, np.array([1, 0, 0]))\n",
    "            if np.linalg.norm(normal_vector) < 1e-3:\n",
    "                normal_vector = np.cross(bond_vector, np.array([0, 1, 0]))\n",
    "            normal_vector /= np.linalg.norm(normal_vector)  # Normalize the vector\n",
    "            offset = normal_vector * 0.125\n",
    "            plot_bond(ax, start_pos, end_pos, offset)\n",
    "            plot_bond(ax, start_pos, end_pos, -offset)\n",
    "\n",
    "    # Set labels\n",
    "    ax.set_xlabel('X')\n",
    "    ax.set_ylabel('Y')\n",
    "    ax.set_zlabel('Z')\n",
    "    ax.set_title('Molecule in 3D')\n",
    "\n",
    "    # Show legend\n",
    "    handles = [plt.Line2D([0], [0], marker='o', color='w', markersize=10, markerfacecolor=color, label=symbol)\n",
    "               for symbol, color in atom_colors.items()]\n",
    "    ax.legend(handles=handles, title='Atom types', loc='best')\n",
    "\n",
    "    # Show plot\n",
    "    plt.show()\n",
    "\n",
    "plot_molecule_3D(string_input_mol)\n"
   ]
  },
  {
   "cell_type": "code",
   "execution_count": null,
   "id": "684f5177-e20f-4f89-b474-11e716325ae5",
   "metadata": {},
   "outputs": [],
   "source": []
  }
 ],
 "metadata": {
  "kernelspec": {
   "display_name": "Python 3 (ipykernel)",
   "language": "python",
   "name": "python3"
  },
  "language_info": {
   "codemirror_mode": {
    "name": "ipython",
    "version": 3
   },
   "file_extension": ".py",
   "mimetype": "text/x-python",
   "name": "python",
   "nbconvert_exporter": "python",
   "pygments_lexer": "ipython3",
   "version": "3.10.12"
  }
 },
 "nbformat": 4,
 "nbformat_minor": 5
}
