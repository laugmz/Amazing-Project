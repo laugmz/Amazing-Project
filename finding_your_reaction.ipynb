{
 "cells": [
  {
   "cell_type": "code",
   "execution_count": 1,
   "id": "34412ac1-d401-4dea-8e0d-e50c3b63e5c5",
   "metadata": {
    "scrolled": true
   },
   "outputs": [
    {
     "name": "stderr",
     "output_type": "stream",
     "text": [
      "Failed to find the pandas get_adjustment() function to patch\n",
      "Failed to patch pandas - PandasTools will have limited functionality\n"
     ]
    },
    {
     "name": "stdout",
     "output_type": "stream",
     "text": [
      "Current Directory: /Users/Travail/git/Amazing-Project\n"
     ]
    }
   ],
   "source": [
    "# read the data and turn it into a dataframe\n",
    "#imports\"\n",
    "from pathlib import Path\n",
    "from rdkit import Chem\n",
    "from rdkit.Chem import Draw\n",
    "from rdkit.Chem import PandasTools\n",
    "import pandas as pd\n",
    "import os\n",
    "import re\n",
    "\n",
    "def clean_text(text):\n",
    "    return re.sub(r'\\|[^|]*\\|', '', text)\n",
    "\n",
    "# Create a Path object for the current directory\n",
    "current_directory = Path.cwd()\n",
    "print(\"Current Directory:\", current_directory.resolve())\n",
    "\n",
    "# Creating a Path object for an example file that does not yet exist\n",
    "example_file_path = current_directory / \"1976_Sep2016_USPTOgrants_smiles.rsmi\"\n",
    "\n",
    "# Reading the contents of the file to test if we have well acess to our data\n",
    "if example_file_path.exists():\n",
    "    with example_file_path.open(\"r\") as file:\n",
    "        first_line = file.readline()\n",
    "else:\n",
    "    print(\"The file does not exist.\")\n",
    "\n",
    "dataFrame= pd.read_csv(\"1976_Sep2016_USPTOgrants_smiles.rsmi\", delimiter='\\t',low_memory=False)\n",
    "dataFrame = dataFrame.astype(str)\n",
    "dataFrame[\"ReactionSmiles\"] = dataFrame[\"ReactionSmiles\"].apply(lambda x: clean_text(x))\n",
    "#Delete columns that are not the reactions or the yield\n",
    "columns_to_delete = [\"PatentNumber\", \"ParagraphNum\", \"Year\", \"TextMinedYield\"]\n",
    "dataFrame.drop(columns=columns_to_delete, inplace=True)\n",
    "#Separate the Reactants from the Products\n",
    "new_columns = dataFrame['ReactionSmiles'].str.split('>', expand=True)\n",
    "new_columns = new_columns.rename(columns={0: 'Reactant 1', 2 : \"Product 1\"})\n",
    "dataFrame = pd.concat([new_columns, dataFrame.iloc[:, 1:]], axis=1)\n",
    "dataFrame.drop(columns=1, inplace=True)\n",
    "#Separate the reactants from each other\n",
    "reactants_split = dataFrame['Reactant 1'].str.split(\"\\.\", expand = True)\n",
    "reactants_split.columns = [f'Reactant {i+1}' for i in range(reactants_split.shape[1])]\n",
    "dataFrame = pd.concat([reactants_split, dataFrame.iloc[:, 1:]], axis=1)\n",
    "#Separate the Products from each other\n",
    "products_split = dataFrame['Product 1'].str.split(\"\\.\", expand = True)\n",
    "products_split.columns = [f'Product {i+1}' for i in range(products_split.shape[1])]\n",
    "dataFrame = pd.concat([products_split, dataFrame.iloc[:, 1:]], axis=1)\n",
    "dataFrame = dataFrame.loc[:, ~dataFrame.columns.duplicated(keep='first')]\n",
    "\n",
    "dataFrame = dataFrame[dataFrame[\"CalculatedYield\"] != 'nan']"
   ]
  },
  {
   "cell_type": "code",
   "execution_count": 2,
   "id": "f4495a67-b86d-4f99-b6bc-8508ac815cea",
   "metadata": {},
   "outputs": [],
   "source": [
    "\"\"\"\n",
    "This Cell groups the functions used to clean the dataframe to be able to use it later\n",
    "\"\"\"\n",
    "# Remove atome mapping numbers from smiles\n",
    "import re\n",
    "\n",
    "def remove_atom_mapping(smiles):\n",
    "    \"\"\"\n",
    "    Remove atom mapping numbers from a SMILES-like notation.\n",
    "    Arguments:\n",
    "    - smiles (str): The SMILES-like notation with atom mapping numbers.\n",
    "    Returns:\n",
    "    - smiles_without_mapping (str): The SMILES notation without atom mapping numbers.\n",
    "    \"\"\"\n",
    "    pattern = r':\\d+'\n",
    "    smiles_without_mapping = re.sub(pattern, '', smiles)\n",
    "    return smiles_without_mapping\n",
    "\n",
    "dataFrame = dataFrame.astype(str)\n",
    "columns_to_process = dataFrame.columns[:-1]\n",
    "for column in columns_to_process:\n",
    "    dataFrame[column] = dataFrame[column].apply(remove_atom_mapping)\n",
    "    \n",
    "#Remove the percentage symbol\n",
    "def remove_percent_symbol(value):\n",
    "    \"\"\"\n",
    "    Remove the '%' symbol from a percentage value.\n",
    "    Arguments:\n",
    "    - value (str): The percentage value with the '%' symbol.\n",
    "    Returns:\n",
    "    - value_without_percent (str): The percentage value without the '%' symbol.\n",
    "    \"\"\"\n",
    "    return value.replace('%', '')\n",
    "\n",
    "# Apply the remove_percent_symbol function to the \"CalculatedYield\" column\n",
    "dataFrame['CalculatedYield'] = dataFrame['CalculatedYield'].apply(remove_percent_symbol)\n"
   ]
  },
  {
   "cell_type": "code",
   "execution_count": 3,
   "id": "ade93868-f2e1-4a40-9b2f-0d670d72505a",
   "metadata": {
    "scrolled": true
   },
   "outputs": [],
   "source": [
    "# Isomers Data Frame\n",
    "Isomers_dataFrame = dataFrame.copy()\n",
    "\n",
    "# Function to remove brackets, parentheses, and plus/minus signs\n",
    "def clean_string(s):\n",
    "    return re.sub(r'[\\[\\]\\(\\)\\+\\-\\#]', '', s)\n",
    "\n",
    "Isomers_dataFrame = Isomers_dataFrame.astype(str)\n",
    "Isomers_dataFrame = Isomers_dataFrame.apply(lambda x: x.map(clean_string))"
   ]
  },
  {
   "cell_type": "code",
   "execution_count": 4,
   "id": "9d7d36a6-f4c6-4197-a55f-1995458048b0",
   "metadata": {},
   "outputs": [
    {
     "name": "stdin",
     "output_type": "stream",
     "text": [
      "Press Enter to get random products or type 'exit' to quit:  \n"
     ]
    },
    {
     "name": "stdout",
     "output_type": "stream",
     "text": [
      "240140    [C]([O][C]([N]1[CH2][CH2][N]([C]2[CH]=[C]([N]3[CH2][C@H]4[N]([CH2][CH2][CH2]4)[C]4[N]=[C]([NH][CH2][CH3])[N]=[CH][C]=4[C]3=[O])[CH]=[CH][CH]=2)[CH2][CH2]1)=[O])([CH3])([CH3])[CH3]\n",
      "dtype: object\n"
     ]
    },
    {
     "name": "stdin",
     "output_type": "stream",
     "text": [
      "Do you want to continue? (yes/no):  no\n"
     ]
    },
    {
     "name": "stdout",
     "output_type": "stream",
     "text": [
      "Exiting.\n"
     ]
    }
   ],
   "source": [
    "pd.set_option('display.max_colwidth', None)\n",
    "def main():\n",
    "    \n",
    "    while True:\n",
    "        choice=input(\"Press Enter to get random products or type 'exit' to quit: \")\n",
    "        if choice == \"exit\":\n",
    "            print(\"Exiting.\")\n",
    "            break\n",
    "        else: \n",
    "            filtered_columns = [pd.Series(dataFrame.iloc[:, i].dropna().unique()) for i in range(53)]\n",
    "            selected_columns = pd.concat(filtered_columns, axis=0)\n",
    "            random_products = selected_columns.sample(n=1)\n",
    "            print(random_products)\n",
    "\n",
    "        \n",
    "        choice = input(\"Do you want to continue? (yes/no): \").strip().lower()\n",
    "        if choice == \"no\":\n",
    "            print(\"Exiting.\")\n",
    "            break\n",
    "            \n",
    "if __name__ == \"__main__\":\n",
    "    main()"
   ]
  },
  {
   "cell_type": "code",
   "execution_count": 4,
   "id": "79448839-05ae-4005-b1f7-63ac1ba3e782",
   "metadata": {},
   "outputs": [
    {
     "name": "stdout",
     "output_type": "stream",
     "text": [
      "you can enter the name of the molecule or its SMILES, the racemic configuration is available. Only halogen molecules are taken in account in the data base\n"
     ]
    },
    {
     "name": "stdin",
     "output_type": "stream",
     "text": [
      "Enter the molecule that you want to form:  bromide\n"
     ]
    }
   ],
   "source": [
    "# Prompt the user to enter the molecule that he wants to form\n",
    "print (\"you can enter the name of the molecule or its SMILES, the racemic configuration is available. Only halogen molecules are taken in account in the data base\")\n",
    "string_input_mol = input(\"Enter the molecule that you want to form: \")"
   ]
  },
  {
   "cell_type": "code",
   "execution_count": 5,
   "id": "81dafb2d-c250-4feb-bfd1-2aabd39e0a0e",
   "metadata": {},
   "outputs": [
    {
     "name": "stdout",
     "output_type": "stream",
     "text": [
      "'bromide' is not a valid SMILES notation.\n"
     ]
    },
    {
     "name": "stderr",
     "output_type": "stream",
     "text": [
      "[11:59:08] SMILES Parse Error: syntax error while parsing: bromide\n",
      "[11:59:08] SMILES Parse Error: Failed parsing SMILES 'bromide' for input: 'bromide'\n"
     ]
    }
   ],
   "source": [
    "\"\"\"\n",
    "Function to determine if the user enters the SMILES notation or the usual name of the molecule.\n",
    "\"\"\"\n",
    "from rdkit import Chem\n",
    "\n",
    "def is_smiles(smiles):\n",
    "    \"\"\"\n",
    "    Check if a string represents a valid SMILES notation.\n",
    "    Args:\n",
    "    - smiles (str): The string to check.\n",
    "    Returns:\n",
    "    - is_valid (bool): True if the string is a valid SMILES notation, False otherwise.\n",
    "    \"\"\"\n",
    "    if Chem.MolFromSmiles(smiles)== None:\n",
    "        return False\n",
    "    else:\n",
    "        return True\n",
    "\n",
    "# Check if the entered string is a valid SMILES notation\n",
    "if is_smiles(string_input_mol):\n",
    "    print(f\"'{string_input_mol}' is a valid SMILES notation.\")\n",
    "else:\n",
    "    print(f\"'{string_input_mol}' is not a valid SMILES notation.\")"
   ]
  },
  {
   "cell_type": "code",
   "execution_count": 6,
   "id": "7738401b-dea7-4423-93af-b50e380210c3",
   "metadata": {},
   "outputs": [
    {
     "name": "stdout",
     "output_type": "stream",
     "text": [
      "Requirement already satisfied: pubchempy in /Users/Travail/anaconda3/envs/project/lib/python3.10/site-packages (1.0.4)\n"
     ]
    }
   ],
   "source": [
    "!pip install pubchempy"
   ]
  },
  {
   "cell_type": "code",
   "execution_count": 8,
   "id": "f3740d73-44f9-4449-a996-745577fa4f1f",
   "metadata": {},
   "outputs": [
    {
     "name": "stderr",
     "output_type": "stream",
     "text": [
      "[12:00:43] SMILES Parse Error: syntax error while parsing: bromide\n",
      "[12:00:43] SMILES Parse Error: Failed parsing SMILES 'bromide' for input: 'bromide'\n"
     ]
    },
    {
     "name": "stdout",
     "output_type": "stream",
     "text": [
      "SMILES notation for bromide: [Br-]\n"
     ]
    }
   ],
   "source": [
    "\"\"\"\n",
    "Function to convert name into SMILES if the input isn't in this form.\n",
    "\"\"\"\n",
    "import pubchempy as pcp\n",
    "\n",
    "def name_to_smiles(molecule_name):\n",
    "    \"\"\"\n",
    "    Convert a molecule name to a SMILES notation using PubChemPy's PubChem database.\n",
    "    Args:\n",
    "    - molecule_name (str): The name of the molecule.\n",
    "    Returns:\n",
    "    - smiles (str): The SMILES notation of the molecule, or None if retrieval fails.\n",
    "    \"\"\"\n",
    "    try:\n",
    "        compound = pcp.get_compounds(molecule_name, 'name')\n",
    "        if compound:\n",
    "            return compound[0].canonical_smiles\n",
    "        else:\n",
    "            print(\"Error: Unable to retrieve molecule information. Please try with the SMILE of the molecule\")\n",
    "            return None\n",
    "    except:\n",
    "        print(\"Error: Unable to retrieve molecule information. Please try again\")\n",
    "        return None\n",
    "\n",
    "# Call the function to convert the molecule name to SMILES notation\n",
    "if is_smiles(string_input_mol)== False:\n",
    "    string_input_mol2 = string_input_mol\n",
    "    string_input_mol = name_to_smiles(string_input_mol)\n",
    "    if string_input_mol:\n",
    "        print(f\"SMILES notation for {string_input_mol2}: {string_input_mol}\")\n",
    "else:\n",
    "    print (string_input_mol)"
   ]
  },
  {
   "cell_type": "code",
   "execution_count": 9,
   "id": "386ced93-13f2-46f9-b953-a6ee5ea91411",
   "metadata": {},
   "outputs": [
    {
     "name": "stdout",
     "output_type": "stream",
     "text": [
      "Rows where the molecule is found: [1531, 1683, 6376, 6383, 7112, 8049, 10275, 10966, 14901, 15834, 16348, 16349, 16350, 16351, 16352, 16354, 18187, 24556, 24824, 29561, 30788, 31694, 33007, 37516, 37517, 37616, 37826, 37827, 37828, 38696, 38697, 38698, 38699, 40451, 40821, 44800, 44804, 44805, 44806, 44807, 44808, 44810, 45505, 45506, 45507, 45508, 45509, 45511, 46471, 46472, 46473, 48126, 48127, 48128, 48281, 48283, 48285, 48287, 52032, 53234, 55021, 58142, 58143, 58144, 60501, 67896, 69911, 69913, 76518, 76877, 78860, 78861, 83138, 85464, 87565, 90378, 93221, 96280, 97689, 100547, 100760, 103835, 103836, 104541, 104826, 104827, 107243, 109963, 111469, 113898, 115040, 118860, 119098, 121937, 122826, 122827, 122828, 123457, 124075, 127496, 127717, 128438, 130758, 130840, 131165, 132024, 132027, 132030, 133849, 135125, 137276, 137606, 144363, 144554, 147748, 147988, 149995, 149996, 149998, 150000, 150001, 150002, 150003, 150197, 150198, 150199, 150200, 150201, 150202, 150203, 150204, 150205, 150723, 151100, 151546, 153643, 154726, 155266, 156053, 156316, 158088, 158743, 159763, 160805, 162956, 163666, 163667, 163668, 163669, 163670, 163671, 163672, 163673, 163674, 164748, 167869, 168753, 169575, 173392, 173990, 175006, 179968, 180751, 183375, 186123, 187352, 187673, 189057, 191252, 192779, 196071, 196901, 206111, 206506, 206540, 206661, 208077, 209766, 212056, 212057, 212907, 213039, 214790, 220534, 221261, 222262, 222851, 226614, 234126, 235349, 237186, 240568, 241189, 242483, 243223, 243224, 243225, 243232, 243235, 243244, 243246, 243247, 243248, 243249, 243254, 244072, 246351, 246355, 247737, 247743, 250095, 250226, 250928, 254039, 254048, 254060, 254063, 254064, 256064, 258821, 259292, 259298, 259759, 261518, 264713, 264714, 264715, 264716, 267840, 270976, 271858, 272886, 275485, 275491, 275494, 275497, 275509, 275510, 275514, 275515, 275516, 275517, 275521, 276525, 276526, 276527, 276533, 276535, 276543, 276547, 276560, 276562, 276565, 276567, 276568, 276569, 276570, 276577, 276584, 279075, 280657, 281841, 282116, 284880, 291467, 291845, 292386, 296324, 297574, 297775, 299785, 301639, 301697, 301698, 301699, 301705, 301707, 301715, 301718, 301732, 301735, 301737, 301738, 301739, 301740, 301747, 302612, 302613, 302615, 303798, 307348, 309386, 310316, 313167, 315323, 317432, 317433, 317434, 317440, 317442, 317448, 317451, 317455, 317468, 317470, 317473, 317475, 317476, 317477, 317478, 317485, 320416, 320417, 320418, 321058, 321429, 325971, 325975, 326543, 327457, 327458, 327460, 330175, 332081, 332376, 332500, 332501, 332506, 332661, 337600, 338729, 339104, 339518, 343840, 343841, 343878, 348871, 348879, 348880, 348881, 348917, 348918, 350265, 361263, 361270, 361271, 361272, 361309, 361310, 361641, 362675, 365631, 368003, 371136, 371137, 371175, 374576, 379584, 380038, 382055, 382792, 391619, 392084, 393434, 395905, 396572, 397253, 400857, 404641, 405472, 411386, 417771, 418045, 419664, 419665, 420976, 426869, 427598, 435060, 438488, 438500, 438502, 438504, 441258, 450069, 450071, 450073, 451840, 455965, 459229, 459939, 461610, 461670, 461672, 461674, 463403, 463405, 463407, 464448, 464449, 464450, 464530, 464679, 464680, 464685, 469148, 469150, 469152, 472576, 472578, 472580, 473192, 473193, 473194, 475096, 475390, 475914, 476049, 476905, 476906, 476907, 478463, 478870, 478872, 478874, 480595, 487100, 487102, 487104, 490435, 492896, 492898, 492900, 494752, 500491, 500494, 502682, 503845, 504993, 504994, 504995, 504997, 504998, 504999, 505002, 505003, 509025, 510440, 511653, 513520, 514690, 515576, 523384, 523388, 523390, 525727, 527535, 528878, 528879, 529373, 529374, 533501, 536829, 536832, 537688, 537734, 540187, 549542, 549543, 549544, 551900, 558700, 562706, 570798, 570800, 571308, 571310, 571312, 572027, 575236, 583022, 583068, 583530, 583532, 589859, 590383, 593821, 593829, 593960, 593962, 597191, 599892, 601914, 601915, 601916, 601918, 608027, 614643, 614645, 614647, 615610, 615612, 616097, 617523, 617524, 617525, 617526, 617528, 617529, 617530, 617533, 617535, 622508, 624782, 624783, 626059, 627879, 635747, 639913, 646744, 646745, 646746, 646747, 646749, 646750, 646751, 646754, 646756, 646836, 651916, 652621, 653998, 657616, 657617, 657620, 657621, 657623, 657624, 657625, 657627, 657628, 657629, 657630, 657631, 662583, 663571, 663573, 667975, 667979, 668311, 669066, 674153, 674157, 678553, 678555, 684579, 684827, 692141, 692470, 692471, 693864, 700213, 700219, 701928, 716076, 716159, 716160, 716163, 716164, 716167, 716168, 716169, 716171, 716172, 716173, 716174, 716175, 735262, 738393, 738398, 738400, 738403, 738421, 738423, 738431, 739702, 741870, 745184, 747496, 749301, 750527, 750528, 750529, 750530, 750532, 750533, 750534, 750537, 750539, 756314, 757653, 766750, 767479, 769794, 771048, 786936, 788949, 802951, 806900, 811455, 811606, 813553, 816498, 816510, 831888, 832044, 832637, 834796, 837192, 837344, 850786, 859249, 860415, 862969, 879995, 880213, 880214, 880215, 880216, 880217, 880218, 880219, 880220, 880221, 880222, 880223, 880225, 880226, 880227, 880228, 880229, 880230, 880231, 880232, 880233, 880234, 880235, 880236, 880237, 880239, 880240, 880241, 880242, 880243, 880244, 880245, 880246, 880247, 880248, 880249, 880250, 880251, 880252, 880253, 880254, 880255, 880256, 880257, 880258, 880259, 880260, 880262, 880263, 880265, 880266, 880268, 880270, 880272, 880274, 880276, 880278, 880280, 880282, 880284, 880286, 880288, 880290, 880294, 880297, 880300, 880303, 880306, 880309, 880312, 880315, 880318, 880321, 880322, 884215, 884216, 884217, 884218, 884219, 884220, 884221, 884222, 884223, 884224, 884225, 884227, 884228, 884229, 884230, 884231, 884232, 884233, 884234, 884235, 884236, 884237, 884238, 884239, 884241, 884242, 884243, 884244, 884245, 884246, 884247, 884248, 884249, 884250, 884251, 884252, 884253, 884254, 884255, 884256, 884257, 884258, 884259, 884260, 884261, 884262, 884264, 884265, 884267, 884268, 884270, 884272, 884274, 884276, 884278, 884280, 884282, 884284, 884286, 884288, 884290, 884292, 884295, 884298, 884300, 884303, 884305, 884307, 884310, 884313, 884315, 884316, 890147, 890553, 890554, 902504, 902513, 906090, 906091, 906092, 906438, 917481, 917500, 917510, 919014, 921349, 928019, 929058, 929059, 929060, 929061, 929062, 929063, 929064, 929065, 929066, 929069, 938680, 944040, 945249, 951031, 955678, 955679, 955680, 955684, 960591, 970358, 975447, 979201, 979466, 985435, 992189, 997681, 1000339, 1000340, 1000341, 1000342, 1000343, 1000344, 1000345, 1000346, 1000347, 1000348, 1000349, 1000350, 1000353, 1000354, 1000356, 1000357, 1000358, 1000359, 1000360, 1000361, 1000362, 1000363, 1000365, 1000366, 1000367, 1000368, 1000369, 1000370, 1000371, 1000372, 1000373, 1000374, 1000375, 1004122, 1021406, 1029522, 1029556, 1036999, 1046330, 1048715, 1057169, 1063294, 1063296, 1065371, 1065373, 1065431, 1065433, 1069712, 1074308, 1076194, 1076195, 1085680, 1100219, 1101137, 1101140, 1101144, 1101166, 1101179, 1101181, 1119091, 1119092, 1123542, 1133165, 1134294, 1136035, 1138507, 1143350, 1144113, 1148185, 1162248, 1162254, 1162276, 1163235, 1163236, 1163237, 1176538, 1182558, 1192637, 1192638, 1192639, 1192640, 1192641, 1192642, 1192643, 1192644, 1192645, 1192646, 1192647, 1192649, 1192650, 1192651, 1192652, 1192653, 1192654, 1192655, 1192656, 1192657, 1192658, 1192659, 1192660, 1192661, 1192663, 1192664, 1192665, 1192666, 1192667, 1192668, 1192669, 1192670, 1192671, 1192672, 1192673, 1192674, 1192675, 1192676, 1192677, 1192678, 1192679, 1192680, 1192681, 1192682, 1192683, 1192684, 1192686, 1192687, 1192689, 1192690, 1192692, 1192694, 1192696, 1192698, 1192700, 1192702, 1192704, 1192706, 1192708, 1192710, 1192712, 1192714, 1192718, 1192721, 1192724, 1192727, 1192730, 1192733, 1192736, 1192739, 1192742, 1192745, 1192746, 1236315, 1243862, 1248440, 1248441, 1248442, 1248443, 1248444, 1248445, 1248446, 1248447, 1248448, 1248449, 1248450, 1248452, 1248453, 1248454, 1248455, 1248456, 1248457, 1248458, 1248459, 1248460, 1248461, 1248462, 1248463, 1248464, 1248466, 1248467, 1248468, 1248469, 1248470, 1248471, 1248472, 1248473, 1248474, 1248475, 1248476, 1248477, 1248478, 1248479, 1248480, 1248481, 1248482, 1248483, 1248484, 1248485, 1248486, 1248487, 1248489, 1248490, 1248492, 1248493, 1248495, 1248497, 1248499, 1248501, 1248503, 1248505, 1248507, 1248509, 1248511, 1248513, 1248515, 1248517, 1248521, 1248524, 1248527, 1248530, 1248533, 1248536, 1248539, 1248542, 1248545, 1248548, 1248549, 1251989, 1259547, 1259549, 1259557, 1259558, 1259560, 1259562, 1259564, 1259572, 1259574, 1259583, 1259584, 1259590, 1259603, 1259607, 1259610, 1259613, 1259614, 1259615, 1259619, 1259620, 1259622, 1259636, 1259646, 1264990, 1267680, 1269594, 1269603, 1269612, 1269617, 1271072, 1276453, 1276454, 1276455, 1277388, 1279209, 1279210, 1280729, 1282029, 1286931, 1307550, 1311176, 1329150, 1329151, 1329152, 1329157, 1329159, 1329160, 1329164, 1329167, 1334258, 1338204, 1338205, 1338871, 1338872, 1338874, 1338876, 1338877, 1340284, 1342273, 1346014, 1346019, 1346020, 1346021, 1346022, 1346023, 1346024, 1346026, 1346027, 1346028, 1346029, 1346030, 1346031, 1346032, 1354293, 1354625, 1354644, 1359789, 1359790, 1361122, 1361123, 1361124, 1362134, 1383695, 1387093, 1387264, 1387346, 1387348, 1387349, 1387350, 1387351, 1387352, 1387353, 1387354, 1387355, 1387356, 1387358, 1387359, 1387360, 1387361, 1387362, 1387363, 1387365, 1387366, 1387367, 1387368, 1387369, 1387370, 1387372, 1387373, 1387374, 1387375, 1387376, 1387377, 1387378, 1387379, 1387380, 1387381, 1387382, 1387383, 1387384, 1387385, 1387386, 1387387, 1387388, 1387389, 1387390, 1387391, 1387392, 1387393, 1387395, 1387396, 1387398, 1387399, 1387401, 1387403, 1387405, 1387407, 1387409, 1387411, 1387413, 1387415, 1387417, 1387419, 1387421, 1387426, 1387429, 1387432, 1387435, 1387438, 1387445, 1387448, 1387451, 1388521, 1388528, 1388975, 1399806, 1401873, 1401874, 1401875, 1401877, 1401879, 1401888, 1401889, 1401891, 1401892, 1401893, 1401906, 1401907, 1402234, 1402235, 1403277, 1403278, 1403279, 1405256, 1408420, 1409187, 1411848, 1412947, 1412948, 1412949, 1412952, 1412953, 1412955, 1412956, 1412976, 1412992, 1412993, 1412996, 1422040, 1431459, 1435614, 1436147, 1436148, 1436149, 1444443, 1444530, 1449573, 1455511, 1455546, 1455680, 1466638, 1467192, 1467195, 1468225, 1468226, 1468227, 1468228, 1468238, 1468265, 1468281, 1468290, 1479636, 1479640, 1479642, 1479643, 1479646, 1479649, 1479651, 1479653, 1479655, 1479657, 1479659, 1479662, 1479668, 1479674, 1479677, 1479679, 1479682, 1479683, 1479689, 1479691, 1479695, 1479697, 1479699, 1479716, 1479718, 1479720, 1479722, 1484478, 1486518, 1487639, 1489931, 1502932, 1514019, 1514020, 1514021, 1514026, 1514028, 1514029, 1514033, 1514036, 1514513, 1514515, 1520967, 1520989, 1521065, 1521133, 1524887, 1524888, 1524889, 1524890, 1524891, 1524892, 1524893, 1524894, 1524895, 1524897, 1524898, 1524899, 1524900, 1524901, 1524902, 1524903, 1524904, 1524905, 1524906, 1524907, 1524908, 1524909, 1524911, 1524912, 1524913, 1524914, 1524915, 1524916, 1524917, 1524918, 1524919, 1524920, 1524921, 1524922, 1524923, 1524924, 1524925, 1524926, 1524927, 1524928, 1524929, 1524930, 1524931, 1524932, 1524934, 1524935, 1524937, 1524938, 1524940, 1524942, 1524944, 1524946, 1524948, 1524950, 1524952, 1524954, 1524956, 1524958, 1524960, 1524962, 1524966, 1524969, 1524972, 1524977, 1524980, 1524981, 1524984, 1524987, 1524990, 1524991, 1524992, 1524993, 1529707, 1533414, 1544798, 1546124, 1546677, 1549148, 1552949, 1557340, 1559169, 1571964, 1571965, 1571972, 1577662, 1577996, 1591698, 1591699, 1591701, 1591704, 1591705, 1601042, 1607110, 1613297, 1622876, 1622877, 1622878, 1622879, 1622880, 1622881, 1622882, 1622883, 1622884, 1622885, 1622886, 1622888, 1622889, 1622890, 1622891, 1622892, 1622893, 1622894, 1622895, 1622896, 1622897, 1622898, 1622899, 1622900, 1622902, 1622903, 1622904, 1622905, 1622906, 1622907, 1622908, 1622909, 1622910, 1622911, 1622912, 1622913, 1622914, 1622915, 1622916, 1622917, 1622918, 1622919, 1622920, 1622921, 1622922, 1622923, 1622925, 1622926, 1622928, 1622929, 1622931, 1622933, 1622935, 1622937, 1622939, 1622941, 1622943, 1622945, 1622947, 1622949, 1622951, 1622953, 1622957, 1622960, 1622963, 1622967, 1622970, 1622973, 1622975, 1622978, 1622981, 1622982, 1622983, 1624396, 1627056, 1627090, 1631580, 1634159, 1636095, 1637728, 1642909, 1643575, 1643586, 1643595, 1643600, 1650570, 1672398, 1672399, 1672400, 1672401, 1672402, 1672403, 1672404, 1672405, 1672406, 1672407, 1672408, 1672410, 1672411, 1672412, 1672413, 1672414, 1672415, 1672416, 1672417, 1672418, 1672419, 1672420, 1672421, 1672422, 1672424, 1672425, 1672426, 1672427, 1672428, 1672429, 1672430, 1672431, 1672432, 1672433, 1672434, 1672435, 1672436, 1672437, 1672438, 1672439, 1672440, 1672441, 1672442, 1672443, 1672444, 1672445, 1672447, 1672448, 1672450, 1672451, 1672453, 1672455, 1672457, 1672459, 1672461, 1672463, 1672465, 1672467, 1672469, 1672471, 1672473, 1672475, 1672479, 1672485, 1672490, 1672493, 1672496, 1672499, 1672502, 1672503, 1678144, 1678145, 1682704, 1683279, 1683873, 1683875, 1683876, 1693179, 1698633, 1712365, 1719074, 1724590, 1725682, 1725683, 1731338, 1734993, 1740563, 1751517, 1752837, 1755688, 1763813, 1773503, 1776800, 1778280, 1778281, 1778282, 1779485, 1780425, 1787114, 1787115, 1787116, 1788579, 1788580, 1797995, 1800182, 1802594, 1802602, 1802603, 1802605, 1802606, 1802608, 1802609, 119099, 138873, 149519, 149994, 149997, 149999, 179968, 209828, 209830, 246351, 246355, 253493, 253496, 276584, 281503, 338987, 364199, 364201, 504994, 504995, 617524, 617525, 617526, 646745, 646746, 646747, 692141, 738390, 738395, 738397, 738409, 738414, 738419, 750528, 750529, 750530, 1163235, 1163236, 1163237, 1204709, 1332777, 1387264, 1467183, 1585047, 1622021, 1648173, 1802588, 1802591, 1802594, 1802595, 1802599, 1802600, 1724590, 504995, 617526, 646747, 750530, 149994, 149997, 149999]\n"
     ]
    }
   ],
   "source": [
    "import pandas as pd\n",
    "\n",
    "def compare_molecule_with_data(element, string_input_mol,start_col=0, end_col=None):\n",
    "    return ''.join(element.split()).lower() == ''.join(string_input_mol.split()).lower()\n",
    "\n",
    "def find_molecule_rows(dataFrame, string_input_mol, start_col=0, end_col=None):\n",
    "    \"\"\"\n",
    "    Search through the specified range of columns in a DataFrame for the input molecule.\n",
    "    \n",
    "    Args:\n",
    "    - dataFrame (pd.DataFrame): The DataFrame to search.\n",
    "    - string_input_mol (str): The molecule to search for.\n",
    "    - start_col (int): The starting column index for the search.\n",
    "    - end_col (int): The ending column index for the search. If None, searches until the last column.\n",
    "\n",
    "    Returns:\n",
    "    - List[int]: A list of row indices where the molecule is found.\n",
    "    \"\"\"\n",
    "    # Initialize a list to store the row numbers\n",
    "    rows = []\n",
    "    \n",
    "    # Set end_col to the last column index if not provided\n",
    "    if end_col is None:\n",
    "        end_col = dataFrame.shape[1]\n",
    "    \n",
    "    # Iterate over the specified range of columns in the DataFrame\n",
    "    for column_name in dataFrame.columns[start_col:end_col]:\n",
    "        column = dataFrame[column_name]\n",
    "        # Check if any element in the column matches the input molecule\n",
    "        for index, value in column.items():\n",
    "            if compare_molecule_with_data(value, string_input_mol):\n",
    "                # Store the row number where the molecule is found\n",
    "                rows.append(index)\n",
    "    \n",
    "    return rows\n",
    "\n",
    "rows = find_molecule_rows(dataFrame, string_input_mol, start_col=0, end_col=53)\n",
    "if rows:\n",
    "    print(\"Rows where the molecule is found:\", rows)\n",
    "else:\n",
    "    print(\"The product is not in the database\")\n"
   ]
  },
  {
   "cell_type": "code",
   "execution_count": null,
   "id": "6c948574-d1f9-43d3-ad69-51bdb18db70c",
   "metadata": {},
   "outputs": [],
   "source": [
    "\"\"\"\n",
    "This code finds the isomers (if there is ones) if the product searched isn't in the database.\n",
    "\"\"\"\n",
    "\n",
    "import itertools\n",
    "\n",
    "def generate_permutations(input_string):\n",
    "    # Generate all permutations of the input string\n",
    "    permutations = itertools.permutations(input_string)\n",
    "    # Convert each permutation tuple to a string and add to the list\n",
    "    permutation_list = [''.join(p) for p in permutations]\n",
    "    return permutation_list\n",
    "\n",
    "all_isomers=generate_permutations(clean_string(string_input_mol))\n",
    "print (all_isomers)\n",
    "valid_smiles_isomers=[]\n",
    "\n",
    "for i in range(len(all_isomers)):\n",
    "    if is_smiles(all_isomers[i]):\n",
    "        valid_smiles_isomers.append(all_isomers[i])\n",
    "    else:\n",
    "        pass\n",
    "valid_smiles_isomers=list(set(valid_smiles_isomers))\n",
    "print (valid_smiles_isomers)\n",
    "\n",
    "print (string_input_mol)\n",
    "rows = []\n",
    "\n",
    "# Check if the molecule is not found in the valid_smiles_df\n",
    "if find_molecule_rows(valid_smiles_df, string_input_mol, start_col=0, end_col=None) == []:\n",
    "    choice = input(\"Your product isn't in the database. Do you want to look for an isomer molecule? (enter yes/no) \")\n",
    "    if choice.lower() == \"no\":\n",
    "        print(\"Exiting.\")\n",
    "    else:\n",
    "        # Iterate over valid_smiles_isomers and append results to 'result'\n",
    "        for i in range(len(valid_smiles_isomers)):\n",
    "            result = find_molecule_rows(Isomers_dataFrame, valid_smiles_isomers[i], start_col=0, end_col=53)\n",
    "            if result:  # Ensure that only non-empty results are appended\n",
    "                rows.append(result)\n",
    "                \n",
    "        rows = [item for sublist in rows for item in sublist]        \n",
    "        # Check if any rows were found in 'just' and print the results\n",
    "        if rows:\n",
    "            print(rows)\n",
    "        else:\n",
    "            print(\"The product is not in the database, please try with another molecule.\")"
   ]
  },
  {
   "cell_type": "code",
   "execution_count": null,
   "id": "92baa181-28da-4d4e-b32b-0711f8a1af28",
   "metadata": {},
   "outputs": [
    {
     "name": "stdout",
     "output_type": "stream",
     "text": [
      "Row with the highest yield:\n",
      "Product 1                                                      [Br-]\n",
      "Product 2          [O]=[C]([C]1[CH]=[CH][CH]=[CH][CH]=1)[CH2][N+]...\n",
      "Product 3                                                       None\n",
      "Product 4                                                       None\n",
      "Product 5                                                       None\n",
      "                                         ...                        \n",
      "Reactant 58                                                     None\n",
      "Reactant 59                                                     None\n",
      "Reactant 60                                                     None\n",
      "Reactant 61                                                     None\n",
      "CalculatedYield                                              79003.7\n",
      "Name: 1468225, Length: 114, dtype: object\n"
     ]
    }
   ],
   "source": [
    "\"\"\"\n",
    "This code prints the yield and shows the image of the reaction corresponding\n",
    "\"\"\"\n",
    "import numpy as np\n",
    "# Convert the 'Yield' column to float\n",
    "dataFrame['CalculatedYield'] = dataFrame['CalculatedYield'].astype(float)\n",
    "# Subset the DataFrame to include only the specified rows\n",
    "subset_df = dataFrame.loc[rows]\n",
    "if subset_df['CalculatedYield'].isnull().all():\n",
    "    # If all values are NaN, randomly select a row as the maximum yield row\n",
    "    max_yield_row_index = np.random.choice(subset_df.index)\n",
    "else:\n",
    "    # Find the index of the row with the highest yield\n",
    "    max_yield_row_index = subset_df['CalculatedYield'].idxmax()\n",
    "# Retrieve the row with the highest yield\n",
    "max_yield_row = dataFrame.loc[max_yield_row_index]\n",
    "print(\"Row with the highest yield:\")\n",
    "print(max_yield_row)\n",
    "\n",
    "# print the reaction\n",
    "from rdkit import Chem\n",
    "from rdkit.Chem import Draw\n",
    "from rdkit.Chem import AllChem\n",
    "#Create a Dataframe where the reaction is in one column\n",
    "dataFrameImage= pd.read_csv(\"1976_Sep2016_USPTOgrants_smiles.rsmi\", delimiter='\\t',low_memory=False)\n",
    "columns_to_delete = [\"PatentNumber\", \"ParagraphNum\", \"Year\", \"TextMinedYield\"]\n",
    "dataFrameImage.drop(columns=columns_to_delete, inplace=True)\n",
    "dataFrameImage[\"ReactionSmiles\"] = dataFrameImage[\"ReactionSmiles\"].apply(remove_atom_mapping)\n",
    "# Create a reaction SMILES string\n",
    "reaction_smiles = dataFrameImage.iloc[max_yield_row_index, 0]\n",
    "# Parse the reaction SMILES string\n",
    "reaction = Chem.AllChem.ReactionFromSmarts(reaction_smiles)\n",
    "# Draw the reaction\n",
    "reaction_image = Draw.ReactionToImage(reaction)\n",
    "\n",
    "# Save or display the image\n",
    "reaction_image.show()"
   ]
  },
  {
   "cell_type": "code",
   "execution_count": 34,
   "id": "c04c8bd3-4379-4eeb-9226-1668dbe45dea",
   "metadata": {},
   "outputs": [
    {
     "name": "stdout",
     "output_type": "stream",
     "text": [
      "Requirement already satisfied: chemspipy in /Users/Travail/anaconda3/envs/project/lib/python3.10/site-packages (2.0.0)\n",
      "Requirement already satisfied: requests in /Users/Travail/anaconda3/envs/project/lib/python3.10/site-packages (from chemspipy) (2.31.0)\n",
      "Requirement already satisfied: six in /Users/Travail/anaconda3/envs/project/lib/python3.10/site-packages (from chemspipy) (1.16.0)\n",
      "Requirement already satisfied: charset-normalizer<4,>=2 in /Users/Travail/anaconda3/envs/project/lib/python3.10/site-packages (from requests->chemspipy) (3.3.2)\n",
      "Requirement already satisfied: idna<4,>=2.5 in /Users/Travail/anaconda3/envs/project/lib/python3.10/site-packages (from requests->chemspipy) (3.7)\n",
      "Requirement already satisfied: urllib3<3,>=1.21.1 in /Users/Travail/anaconda3/envs/project/lib/python3.10/site-packages (from requests->chemspipy) (2.2.1)\n",
      "Requirement already satisfied: certifi>=2017.4.17 in /Users/Travail/anaconda3/envs/project/lib/python3.10/site-packages (from requests->chemspipy) (2024.2.2)\n",
      "Note: you may need to restart the kernel to use updated packages.\n"
     ]
    }
   ],
   "source": [
    "pip install chemspipy"
   ]
  },
  {
   "cell_type": "code",
   "execution_count": null,
   "id": "a3ba952c-0b16-405e-9935-ec6c3191a89d",
   "metadata": {},
   "outputs": [],
   "source": [
    "\"Informations about the product that we want to form\"\n",
    "\n",
    "#name of the molecule\n",
    "\n",
    "from chemspipy import ChemSpider\n",
    "\n",
    "def get_molecule_name(smiles):\n",
    "    \"\"\"\n",
    "    Get the common name of a molecule from its SMILES representation using ChemSpider.\n",
    "    Args:\n",
    "    - smiles (str): SMILES representation of the molecule.\n",
    "    Returns:\n",
    "    - name (str): Common name of the molecule.\n",
    "    \"\"\"\n",
    "    cs = ChemSpider('your_api_key_here') \n",
    "    results = cs.simple_search(smiles)\n",
    "    if results:\n",
    "        return results[0].common_name\n",
    "    else:\n",
    "        return \"Unable to retrieve molecule name.\"\n",
    "\n",
    "print (get_molecule_name(string_input_mol))\n",
    "\n",
    "#3D representation of the molecule\n",
    "\n",
    "\n",
    "\n",
    "import matplotlib.pyplot as plt\n",
    "from mpl_toolkits.mplot3d import Axes3D\n",
    "from rdkit import Chem\n",
    "from rdkit.Chem import AllChem\n",
    "import numpy as np\n",
    "\n",
    "def plot_molecule_3D(smiles):\n",
    "    \"\"\"\n",
    "    Plot a molecule in 3D with different colors for different types of atoms and bonds between atoms.\n",
    "    Args:\n",
    "    - smiles (str): SMILES representation of the molecule.\n",
    "    \"\"\"\n",
    "    # Generate RDKit molecule from SMILES\n",
    "    mol = Chem.MolFromSmiles(smiles)\n",
    "    if mol is None:\n",
    "        print(\"Error: Unable to generate molecule from SMILES.\")\n",
    "        return\n",
    "    \n",
    "    # Add explicit hydrogens\n",
    "    mol = Chem.AddHs(mol)\n",
    "\n",
    "    # Generate 3D coordinates\n",
    "    AllChem.EmbedMolecule(mol)\n",
    "    AllChem.UFFOptimizeMolecule(mol)\n",
    "\n",
    "    # Extract atom coordinates and symbols\n",
    "    coords = mol.GetConformer().GetPositions()\n",
    "    symbols = [atom.GetSymbol() for atom in mol.GetAtoms()]\n",
    "\n",
    "    # Create 3D plot\n",
    "    fig = plt.figure()\n",
    "    ax = fig.add_subplot(111, projection='3d')\n",
    "\n",
    "    # Define colors for different atom types\n",
    "    atom_colors = {'H': 'gray', 'C': 'black', 'O': 'red', 'N': 'blue', 'F': 'green', 'Br': 'purple', 'Cl': 'yellow'}\n",
    "\n",
    "    # Plot atoms with different colors\n",
    "    for atom_idx, symbol in enumerate(symbols):\n",
    "        x, y, z = coords[atom_idx]\n",
    "        color = atom_colors.get(symbol, 'brown')  # Default to brown for unknown atoms\n",
    "        ax.scatter(x, y, z, c=color, label=symbol, s=100)\n",
    "\n",
    "    # Helper function to plot bonds\n",
    "    def plot_bond(ax, start_pos, end_pos, offset=np.array([0, 0, 0])):\n",
    "        ax.plot([start_pos[0] + offset[0], end_pos[0] + offset[0]], \n",
    "                [start_pos[1] + offset[1], end_pos[1] + offset[1]], \n",
    "                [start_pos[2] + offset[2], end_pos[2] + offset[2]], c='gray')\n",
    "\n",
    "    # Plot bonds between atoms with different styles for single and double bonds\n",
    "    for bond in mol.GetBonds():\n",
    "        start_idx = bond.GetBeginAtomIdx()\n",
    "        end_idx = bond.GetEndAtomIdx()\n",
    "        start_pos = coords[start_idx]\n",
    "        end_pos = coords[end_idx]\n",
    "        bond_type = bond.GetBondType()\n",
    "        \n",
    "        if bond_type == Chem.rdchem.BondType.SINGLE:\n",
    "            plot_bond(ax, start_pos, end_pos)\n",
    "        elif bond_type == Chem.rdchem.BondType.DOUBLE:\n",
    "            # Calculate an offset direction perpendicular to the bond\n",
    "            bond_vector = end_pos - start_pos\n",
    "            normal_vector = np.cross(bond_vector, np.array([1, 0, 0]))\n",
    "            if np.linalg.norm(normal_vector) < 1e-3:\n",
    "                normal_vector = np.cross(bond_vector, np.array([0, 1, 0]))\n",
    "            normal_vector /= np.linalg.norm(normal_vector)  # Normalize the vector\n",
    "            offset = normal_vector * 0.125\n",
    "            plot_bond(ax, start_pos, end_pos, offset)\n",
    "            plot_bond(ax, start_pos, end_pos, -offset)\n",
    "\n",
    "    # Set labels\n",
    "    ax.set_xlabel('X')\n",
    "    ax.set_ylabel('Y')\n",
    "    ax.set_zlabel('Z')\n",
    "    ax.set_title('Molecule in 3D')\n",
    "\n",
    "    # Show legend\n",
    "    handles = [plt.Line2D([0], [0], marker='o', color='w', markersize=10, markerfacecolor=color, label=symbol)\n",
    "               for symbol, color in atom_colors.items()]\n",
    "    ax.legend(handles=handles, title='Atom types', loc='best')\n",
    "\n",
    "    # Show plot\n",
    "    plt.show()\n",
    "\n",
    "plot_molecule_3D(string_input_mol)\n"
   ]
  },
  {
   "cell_type": "code",
   "execution_count": null,
   "id": "3bfa3bea-bfb4-4b41-95e9-d0e277597ed6",
   "metadata": {},
   "outputs": [],
   "source": []
  }
 ],
 "metadata": {
  "kernelspec": {
   "display_name": "Python 3 (ipykernel)",
   "language": "python",
   "name": "python3"
  },
  "language_info": {
   "codemirror_mode": {
    "name": "ipython",
    "version": 3
   },
   "file_extension": ".py",
   "mimetype": "text/x-python",
   "name": "python",
   "nbconvert_exporter": "python",
   "pygments_lexer": "ipython3",
   "version": "3.10.12"
  }
 },
 "nbformat": 4,
 "nbformat_minor": 5
}
