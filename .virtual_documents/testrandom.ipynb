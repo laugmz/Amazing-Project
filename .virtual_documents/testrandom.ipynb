import random
import pandas as pd


# Main function
def main():
    
    # Read data from database.csv
    column_names =["Reactant 1", "Reactant 2", "Product 1", "Product 2", "Product 3", "Yield"]
    dataFrame = pd.read_csv("database.csv", names = column_names, delimiter =";", skiprows = 1)
    
    while True:
        input("Press Enter to get random products or type 'exit' to quit: ")
        filtered_columns = [dataFrame[col].dropna() for col in ["Product 1", "Product 2", "Product 3"]]
        selected_columns = pd.concat(filtered_columns, axis=0)
        products = selected_columns.sample(n=1)
        print("Randomly selected products:", products)
        
        choice = input("Do you want to continue? (yes/no): ").strip().lower()
        if choice == "no":
            print("Exiting...")
            break
            
if __name__ == "__main__":
    main()






