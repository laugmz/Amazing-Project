

















from functions import remove_atom_mapping
print(remove_atom_mapping("C[CH2:1][OH:2]"))





from functions import remove_percent_symbol
remove_percent_symbol("15%")





from functions import clean_string
clean_string ("CN1C=NC2=C1C(=O)N(C(=O)N2C)C")





from functions import main
main()





from functions import is_smiles
is_smiles("2-Acetoxybenzoic acid")
is_smile ("CC(=O)OC1=CC=CC=C1C(=O)O")





from functions import name_to_smiles
name_to_smiles("1,3,7-Trimethylxanthine")





from functions import find_molecule_rows
find_molecule_rows("[Br-]")





from functions import generate_permutations
generate_permutations("CCO")








from functions import get_molecule_name
get_molecule_name("C1=CC=CC=C1")





from functions import get_molecular_weight
get_moleular_weight ("C1=CC=C(C=C1)C(=O)O")





from functions import plot_molecule_3D
plot_molecule_3D("C=C")





#Create a Dataframe where the reaction is in one column
dataFrameImage= pd.read_csv("your file.rmsi", delimiter='\t',low_memory=False)
columns_to_delete = ["PatentNumber", "ParagraphNum", "Year", "TextMinedYield"]# If there is column that you want to delete from your dataframe
dataFrameImage.drop(columns=columns_to_delete, inplace=True)
dataFrameImage["ReactionSmiles"] = dataFrameImage["ReactionSmiles"].apply(remove_atom_mapping)












