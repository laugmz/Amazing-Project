pip install rdkit ipywidgets



import ipywidgets as widgets
from IPython.display import display
from rdkit import Chem
from rdkit.Chem import AllChem
import matplotlib.pyplot as plt
from mpl_toolkits.mplot3d import Axes3D
import numpy as np

def plot_molecule_3D(smiles):
    """
    Plot a molecule in 3D with different colors for different types of atoms and bonds between atoms.
    Args:
    - smiles (str): SMILES representation of the molecule.
    """
    # Generate RDKit molecule from SMILES
    mol = Chem.MolFromSmiles(smiles)
    if mol is None:
        print("Error: Unable to generate molecule from SMILES.")
        return
    
    # Add explicit hydrogens
    mol = Chem.AddHs(mol)

    # Generate 3D coordinates
    AllChem.EmbedMolecule(mol)
    AllChem.UFFOptimizeMolecule(mol)

    # Extract atom coordinates and symbols
    coords = mol.GetConformer().GetPositions()
    symbols = [atom.GetSymbol() for atom in mol.GetAtoms()]

    # Create 3D plot
    fig = plt.figure()
    ax = fig.add_subplot(111, projection='3d')

    # Define colors for different atom types
    atom_colors = {'H': 'gray', 'C': 'black', 'O': 'red', 'N': 'blue', 'F': 'green', 'Br': 'purple', 'Cl': 'yellow'}

    # Plot atoms with different colors
    for atom_idx, symbol in enumerate(symbols):
        x, y, z = coords[atom_idx]
        color = atom_colors.get(symbol, 'brown')  # Default to brown for unknown atoms
        ax.scatter(x, y, z, c=color, label=symbol, s=100)

    # Helper function to plot bonds
    def plot_bond(ax, start_pos, end_pos, offset=np.array([0, 0, 0])):
        ax.plot([start_pos[0] + offset[0], end_pos[0] + offset[0]], 
                [start_pos[1] + offset[1], end_pos[1] + offset[1]], 
                [start_pos[2] + offset[2], end_pos[2] + offset[2]], c='gray')

    # Plot bonds between atoms with different styles for single and double bonds
    for bond in mol.GetBonds():
        start_idx = bond.GetBeginAtomIdx()
        end_idx = bond.GetEndAtomIdx()
        start_pos = coords[start_idx]
        end_pos = coords[end_idx]
        bond_type = bond.GetBondType()
        
        if bond_type == Chem.rdchem.BondType.SINGLE:
            plot_bond(ax, start_pos, end_pos)
        elif bond_type == Chem.rdchem.BondType.DOUBLE:
            # Calculate an offset direction perpendicular to the bond
            bond_vector = end_pos - start_pos
            normal_vector = np.cross(bond_vector, np.array([1, 0, 0]))
            if np.linalg.norm(normal_vector) < 1e-3:
                normal_vector = np.cross(bond_vector, np.array([0, 1, 0]))
            normal_vector /= np.linalg.norm(normal_vector)  # Normalize the vector
            offset = normal_vector * 0.125
            plot_bond(ax, start_pos, end_pos, offset)
            plot_bond(ax, start_pos, end_pos, -offset)

    # Set labels
    ax.set_xlabel('X')
    ax.set_ylabel('Y')
    ax.set_zlabel('Z')
    ax.set_title('Molecule in 3D')

    # Show legend
    handles = [plt.Line2D([0], [0], marker='o', color='w', markersize=10, markerfacecolor=color, label=symbol)
               for symbol, color in atom_colors.items()]
    ax.legend(handles=handles, title='Atom types', loc='best')

    # Show plot
    plt.show()

# Define the interactive widget
smiles_input = widgets.Text(
    value='',
    placeholder='Enter SMILES string',
    description='SMILES:',
    disabled=False
)
display(smiles_input)

# Define a button to trigger the plot
plot_button = widgets.Button(description="Plot Molecule")
display(plot_button)

# Define the function to be called when the button is clicked
def on_plot_button_clicked(b):
    smiles = smiles_input.value
    plot_molecule_3D(smiles)

# Set up the button click event
plot_button.on_click(on_plot_button_clicked)



pip install plotly


import ipywidgets as widgets
from IPython.display import display
from rdkit import Chem
from rdkit.Chem import AllChem
import numpy as np
import plotly.graph_objs as go
import plotly.io as pio

# Ensure Plotly renders within the notebook
pio.renderers.default = 'notebook'

def plot_molecule_3D(smiles):
    """
    Plot a molecule in 3D with different colors for different types of atoms and bonds between atoms.
    Args:
    - smiles (str): SMILES representation of the molecule.
    """
    print(f"Received SMILES: {smiles}")
    
    # Generate RDKit molecule from SMILES
    mol = Chem.MolFromSmiles(smiles)
    if mol is None:
        print("Error: Unable to generate molecule from SMILES.")
        return
    
    # Add explicit hydrogens
    mol = Chem.AddHs(mol)

    # Generate 3D coordinates
    AllChem.EmbedMolecule(mol)
    AllChem.UFFOptimizeMolecule(mol)

    # Extract atom coordinates and symbols
    coords = mol.GetConformer().GetPositions()
    symbols = [atom.GetSymbol() for atom in mol.GetAtoms()]

    # Define colors for different atom types
    atom_colors = {'H': 'gray', 'C': 'black', 'O': 'red', 'N': 'blue', 'F': 'green', 'Br': 'purple', 'Cl': 'yellow'}
    colors = [atom_colors.get(symbol, 'brown') for symbol in symbols]

    # Plot atoms
    trace_atoms = go.Scatter3d(
        x=coords[:, 0],
        y=coords[:, 1],
        z=coords[:, 2],
        mode='markers',
        marker=dict(size=10, color=colors),
        text=symbols,
        hoverinfo='text'
    )

    # Plot bonds
    bond_x = []
    bond_y = []
    bond_z = []
    for bond in mol.GetBonds():
        start_idx = bond.GetBeginAtomIdx()
        end_idx = bond.GetEndAtomIdx()
        bond_x.extend([coords[start_idx, 0], coords[end_idx, 0], None])
        bond_y.extend([coords[start_idx, 1], coords[end_idx, 1], None])
        bond_z.extend([coords[start_idx, 2], coords[end_idx, 2], None])

    trace_bonds = go.Scatter3d(
        x=bond_x,
        y=bond_y,
        z=bond_z,
        mode='lines',
        line=dict(color='gray', width=2)
    )

    # Create layout
    layout = go.Layout(
        title='Molecule in 3D',
        scene=dict(
            xaxis_title='X',
            yaxis_title='Y',
            zaxis_title='Z'
        )
    )

    # Create figure
    fig = go.Figure(data=[trace_atoms, trace_bonds], layout=layout)

    # Show plot
    fig.show()

# Define the interactive widget
smiles_input = widgets.Text(
    value='',
    placeholder='Enter SMILES string',
    description='SMILES:',
    disabled=False
)
display(smiles_input)

# Define a button to trigger the plot
plot_button = widgets.Button(description="Plot Molecule")
display(plot_button)

# Define the function to be called when the button is clicked
def on_plot_button_clicked(b):
    smiles = smiles_input.value
    if smiles:
        print(f"Plotting molecule for SMILES: {smiles}")
        plot_molecule_3D(smiles)
    else:
        print("Please enter a SMILES string.")

# Set up the button click event
plot_button.on_click(on_plot_button_clicked)




pip install --user rdkit-pypi


pip install rdkit-pypi plotly


from rdkit import Chem
from rdkit.Chem import AllChem
import numpy as np
import plotly.graph_objs as go
import plotly.io as pio

# Ensure Plotly renders within the notebook
pio.renderers.default = 'notebook'

def plot_molecule_3D(smiles):
    """
    Plot a molecule in 3D with different colors for different types of atoms and bonds between atoms.
    Args:
    - smiles (str): SMILES representation of the molecule.
    """
    # Generate RDKit molecule from SMILES
    mol = Chem.MolFromSmiles(smiles)
    if mol is None:
        print("Error: Unable to generate molecule from SMILES.")
        return
    
    # Add explicit hydrogens
    mol = Chem.AddHs(mol)

    # Generate 3D coordinates
    AllChem.EmbedMolecule(mol)
    AllChem.UFFOptimizeMolecule(mol)

    # Extract atom coordinates and symbols
    coords = mol.GetConformer().GetPositions()
    symbols = [atom.GetSymbol() for atom in mol.GetAtoms()]

    # Define colors for different atom types
    atom_colors = {'H': 'gray', 'C': 'black', 'O': 'red', 'N': 'blue', 'F': 'green', 'Br': 'purple', 'Cl': 'yellow'}
    colors = [atom_colors.get(symbol, 'brown') for symbol in symbols]

    # Plot atoms
    trace_atoms = go.Scatter3d(
        x=coords[:, 0],
        y=coords[:, 1],
        z=coords[:, 2],
        mode='markers',
        marker=dict(size=10, color=colors),
        text=symbols,
        hoverinfo='text'
    )

    # Plot bonds
    bond_x = []
    bond_y = []
    bond_z = []
    for bond in mol.GetBonds():
        start_idx = bond.GetBeginAtomIdx()
        end_idx = bond.GetEndAtomIdx()
        bond_x.extend([coords[start_idx, 0], coords[end_idx, 0], None])
        bond_y.extend([coords[start_idx, 1], coords[end_idx, 1], None])
        bond_z.extend([coords[start_idx, 2], coords[end_idx, 2], None])

    trace_bonds = go.Scatter3d(
        x=bond_x,
        y=bond_y,
        z=bond_z,
        mode='lines',
        line=dict(color='gray', width=2)
    )

    # Create layout
    layout = go.Layout(
        title='Molecule in 3D',
        scene=dict(
            xaxis_title='X',
            yaxis_title='Y',
            zaxis_title='Z'
        ),
        margin=dict(l=0, r=0, b=0, t=0),
        showlegend=False
    )

    # Create figure
    fig = go.Figure(data=[trace_atoms, trace_bonds], layout=layout)

    # Show plot
    fig.show()

# Example usage
plot_molecule_3D('CO')  # Ethanol



def plot_molecule_3D(smiles):
    """
    Plot a molecule in 3D with different colors for different types of atoms and bonds between atoms.
    Args:
    - smiles (str): SMILES representation of the molecule.
    """
    # Generate RDKit molecule from SMILES
    mol = Chem.MolFromSmiles(smiles)
    if mol is None:
        print("Error: Unable to generate molecule from SMILES.")
        return
    
    # Add explicit hydrogens
    mol = Chem.AddHs(mol)

    # Generate 3D coordinates
    AllChem.EmbedMolecule(mol)
    AllChem.UFFOptimizeMolecule(mol)

    # Extract atom coordinates and symbols
    coords = mol.GetConformer().GetPositions()
    symbols = [atom.GetSymbol() for atom in mol.GetAtoms()]

    print("Coordinates:", coords)
    print("Symbols:", symbols)

    # Define colors for different atom types
    atom_colors = {'H': 'gray', 'C': 'black', 'O': 'red', 'N': 'blue', 'F': 'green', 'Br': 'purple', 'Cl': 'yellow'}
    colors = [atom_colors.get(symbol, 'brown') for symbol in symbols]

    # Plot atoms
    trace_atoms = go.Scatter3d(
        x=coords[:, 0],
        y=coords[:, 1],
        z=coords[:, 2],
        mode='markers',
        marker=dict(size=10, color=colors),
        text=symbols,
        hoverinfo='text'
    )

    # Plot bonds
    bond_x = []
    bond_y = []
    bond_z = []
    for bond in mol.GetBonds():
        start_idx = bond.GetBeginAtomIdx()
        end_idx = bond.GetEndAtomIdx()
        bond_x.extend([coords[start_idx, 0], coords[end_idx, 0], None])
        bond_y.extend([coords[start_idx, 1], coords[end_idx, 1], None])
        bond_z.extend([coords[start_idx, 2], coords[end_idx, 2], None])

    print("Bond X:", bond_x)
    print("Bond Y:", bond_y)
    print("Bond Z:", bond_z)

    trace_bonds = go.Scatter3d(
        x=bond_x,
        y=bond_y,
        z=bond_z,
        mode='lines',
        line=dict(color='gray', width=2)
    )

    # Create layout
    layout = go.Layout(
        title='Molecule in 3D',
        scene=dict(
            xaxis_title='X',
            yaxis_title='Y',
            zaxis_title='Z'
        ),
        margin=dict(l=0, r=0, b=0, t=0),
        showlegend=False
    )

    # Create figure
    fig = go.Figure(data=[trace_atoms, trace_bonds], layout=layout)

    # Show plot
    fig.show()

plot_molecule_3D('CO')  # Ethanol




