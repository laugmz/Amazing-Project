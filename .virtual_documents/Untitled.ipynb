import pubchempy as pcp

def name_to_smiles(molecule_name):
    """
    Convert a molecule name to a SMILES notation using PubChemPy's PubChem database.
    Args:
    - molecule_name (str): The name of the molecule.
    Returns:
    - smiles (str): The SMILES notation of the molecule, or None if retrieval fails.
    """
    try:
        compound = pcp.get_compounds(molecule_name, 'name')
        if compound:
            return compound[0].canonical_smiles
        else:
            print("Error: Unable to retrieve molecule information.")
            return None
    except:
        print("Error: Unable to retrieve molecule information.")
        return None



# Prompt the user to enter a string
string_input = input("Enter a string: ")


smiles = name_to_smiles(string_input)
if smiles:
    print(f"SMILES notation for {string_input}: {smiles}")


if is_smiles(string_input)== False:
    smiles = name_to_smiles(string_input)
    if smiles:
        print(f"SMILES notation for {string_input}: {smiles}")
else:
    print (string_input)


import re

def remove_atom_mapping(smiles):
    """
    Remove atom mapping numbers from a SMILES-like notation.

    Args:
    - smiles (str): The SMILES-like notation with atom mapping numbers.

    Returns:
    - smiles_without_mapping (str): The SMILES notation without atom mapping numbers.
    """
    # Define a regular expression pattern to match atom mapping numbers
    pattern = r':\d+'

    # Replace atom mapping numbers with an empty string
    smiles_without_mapping = re.sub(pattern, '', smiles)

    return smiles_without_mapping

# Example usage:
smiles_with_mapping = "[Br-:1].[Br:2][C:5]([C:4]([H:3])([C:31]#[N:32])[C:41]#[N:42])([H:11])[H:21]"
clean_smiles = remove_atom_mapping(smiles_with_mapping)
print("SMILES without atom mapping numbers:", clean_smiles)



import re

def Smiles(smiles):
    """
    Remove atom mapping numbers, brackets, and 'H' characters from a SMILES-like notation.
    Args:
    - smiles (str): The SMILES-like notation with atom mapping numbers, brackets, and 'H' characters.
    Returns:
    - smiles_without_mapping (str): The SMILES notation without atom mapping numbers, brackets, and 'H' characters.
    """
    # Define a regular expression pattern to match atom mapping numbers, brackets, and 'H' characters
    pattern = r'[:\[\]H]'
    smiles_without_mapping = re.sub(pattern, '', smiles)
    return smiles_without_mapping
    # Example usage:
smiles_with_mapping = "[Br-:1].[Br:2][C:5]([C:4]([H:3])([C:31]#[N:32])[C:41]#[N:42])([H:11])[H:21]"
clean_smiles = Smiles(remove_atom_mapping(smiles_with_mapping))
print("SMILES without atom mapping numbers:", clean_smiles)


def Smiles(smiles):
    """
    Remove atom mapping numbers, brackets, 'H' characters, and empty parentheses from a SMILES-like notation.
    Args:
    - smiles (str): The SMILES-like notation with atom mapping numbers, brackets, 'H' characters, and empty parentheses.
    Returns:
    - smiles_cleaned (str): The cleaned SMILES notation.
    """
    # Define a regular expression pattern to match atom mapping numbers, brackets, 'H' characters, and empty parentheses
    pattern = r'[:\[\]\ H]'
    # Use re.sub() to remove the specified characters
    smiles_cleaned = re.sub(pattern, '', smiles)
    # Remove empty parentheses only
    smiles_cleaned = re.sub(r'\(\)', '', smiles_cleaned)
    return smiles_cleaned

# Example usage:
smiles_with_mapping = "[Br-:1].[Br:2][C:5]([C:4]([H:3])([C:31]#[N:32])[C:41]#[N:42])([H:11])[H:21]"
clean_smiles = Smiles(remove_atom_mapping(smiles_with_mapping))
print("SMILES without atom mapping numbers:", clean_smiles)


import re

def Smiles(smiles):
    """
    Convert "X-" elements where X can be "Br", "Cl", or "F" into "[X-]" in a SMILES-like notation.
    Args:
    - smiles (str): The SMILES-like notation.
    Returns:
    - smiles_cleaned (str): The cleaned SMILES notation.
    """
    # Define a regular expression pattern to match "X-" elements
    pattern = r'(Br|Cl|F)-'
    # Use re.sub() to replace "X-" elements with "[X-]"
    smiles_cleaned = re.sub(pattern, r'[\1]-', smiles)
    # Remove atom mapping numbers, brackets, 'H' characters, and empty parentheses
    smiles_cleaned = re.sub(r'[:\[\]\(\)H]', '', smiles_cleaned)
    # Remove empty parentheses only
    smiles_cleaned = re.sub(r'\(\)', '', smiles_cleaned)
    return smiles_cleaned

# Example usage:
smiles_with_mapping = " Br-.BrCCC#NC#N"
clean_smiles = Smiles(smiles_with_mapping)
print("Cleaned SMILES:", clean_smiles)


def convert_X(smiles):
    """
    Convert "X-" elements where X can be "Br", "Cl", or "F" into "[X-]" in a SMILES-like notation.
    Args:
    - smiles (str): The SMILES-like notation.
    Returns:
    - cleaned_smiles (str): The cleaned SMILES notation.
    """
    # Define the elements you want to convert
    elements = ['Br', 'Cl', 'F']
    # Iterate over each element
    for element in elements:
        # Replace "X-" with "[X-]"
        smiles = smiles.replace(element + '-', '[' + element + '-]')
    return smiles

# Example usage:
cleaned_smiles = "Br-.BrCCC#NC#N"
result = convert_X(cleaned_smiles)
print("Cleaned SMILES:", result)





from rdkit import Chem
from rdkit.Chem import Draw
from rdkit.Chem import AllChem

# Define the reactants and products
reactant1_smiles = '[Br-]'
reactant2_smiles = 'ClC(C(C#N)C#N)'
product1_smiles = 'BrC(C(C#N)C#N)'
product2_smiles = '[Cl-]'

# Convert SMILES strings to RDKit molecules
reactant1 = Chem.MolFromSmiles(reactant1_smiles)
reactant2 = Chem.MolFromSmiles(reactant2_smiles)
product1 = Chem.MolFromSmiles(product1_smiles)
product2 = Chem.MolFromSmiles(product2_smiles)

# Create the reaction
reaction = AllChem.ReactionFromSmarts('{} + {} >> {} + {}'.format(reactant1_smiles, reactant2_smiles, product1_smiles, product2_smiles))

# Draw the reaction
reaction_image = Draw.ReactionToImage(reaction)

# Save or display the image
reaction_image.show()


from rdkit import Chem
from rdkit.Chem import Draw
from rdkit.Chem import AllChem

# Define the reactants and products as SMILES strings
reactant1_smiles = 'Br-'
reactant2_smiles = 'ClC(C(C#N)C#N)'
product1_smiles = 'BrC(C(C#N)C#N)'
product2_smiles = 'Cl-'

# Convert SMILES strings to RDKit molecules
reactant1 = Chem.MolFromSmiles(reactant1_smiles)
reactant2 = Chem.MolFromSmiles(reactant2_smiles)
product2 = Chem.MolFromSmiles(product2_smiles)

# Create a reaction SMARTS string
reaction_smarts = '[{}]>>[*-].[{}]'.format(reactant1_smiles, product2_smiles)

# Parse the reaction SMARTS string
reaction = AllChem.ReactionFromSmarts(reaction_smarts)

# Draw the reaction
reaction_image = Draw.ReactionToImage(reaction)

# Save or display the image
reaction_image.show()



from rdkit import Chem
from rdkit.Chem import Draw
from rdkit.Chem import AllChem

# Create a reaction SMARTS string
reaction_smarts = "[Br-:2].[Br:1][C:5]([C:4]([H:3])([C:31]#[N:32])[C:41]#[N:42])([H:11])[H:21]>>[Br-:1].[Br:2][C:5]([C:4]([H:3])([C:31]#[N:32])[C:41]#[N:42])([H:11])[H:21]"

# Parse the reaction SMARTS string
reaction = AllChem.ReactionFromSmarts(reaction_smarts)

# Draw the reaction
reaction_image = Draw.ReactionToImage(reaction)

# Save or display the image
reaction_image.show()





from rdkit import Chem
from rdkit.Chem import Draw

# SMILES string of the molecule
smiles = 'C(=CN)N'

# Convert SMILES string to RDKit molecule object
mol = Chem.MolFromSmiles(smiles)

# Check if molecule object was successfully created
if mol is not None:
    # Draw and display the molecule
    Draw.MolToImage(mol).show()
else:
    print("Failed to create molecule object from SMILES string.")



import pandas as pd

def remove_forward_slash(s):
    """
    Remove forward slash '/' from a string.
    Args:
    - s (str): The input string.
    Returns:
    - cleaned_str (str): The string with forward slash removed.
    """
    return s.replace('(/)', '')

# Example DataFrame
df = pd.DataFrame({'col1': ['C(=C(/)N)N', 'F', 'Cl', 'C(=CN)N']})

# Apply the function to the column containing strings with forward slashes
df['col1'] = df['col1'].apply(remove_forward_slash)

# Display the updated DataFrame
print(df)



import re

def transform_string(input_string):
    """
    Transform the input string by replacing '(N+(O-)O)' with 'NO'.
    Args:
    - input_string (str): The input string to be transformed.
    Returns:
    - transformed_string (str): The transformed string.
    """
    transformed_string = re.sub(r'N\+\(O-\)O', '(NO)', input_string)
    return transformed_string



result = transform_string('FC(C(N)N+(O-)O)N;-;[F-];C(C(N)N+(O-)O)N')
print(result)


# print the reaction
from rdkit import Chem
from rdkit.Chem import Draw
from rdkit.Chem import AllChem

# Create a reaction SMARTS string
reaction_smarts = 'FC(C(N)(NO))N>>[F-].C(C(N)(NO))N'
print (reaction_smarts)
# Parse the reaction SMARTS string
reaction = AllChem.ReactionFromSmarts(reaction_smarts)

# Draw the reaction
reaction_image = Draw.ReactionToImage(reaction)

# Save or display the image
reaction_image.show()




import rdkit
print(rdkit.__version__)


import pandas as pd
import random

def random_product(df):
    """
    Select a random element from the columns 'product 1', 'product 2', and 'product 3' of a DataFrame.
    Args:
    - df (pandas.DataFrame): The DataFrame containing the columns.
    Returns:
    - random_element (str or None): A random element from the specified columns.
                                    Returns None if all columns are empty.
    """
    # Concatenate all three columns
    all_products = pd.concat([df['product 1'], df['product 2'], df['product 3']])
    
    # Remove missing values
    all_products = all_products.dropna()
    
    if len(all_products) == 0:
        return None
    
    # Select a random element
    random_element = random.choice(all_products)
    
    return random_element



data = {'product 1': ['A', 'B', 'C', None],
        'product 2': [None, 'D', 'E', 'F'],
        'product 3': ['G', None, 'H', 'I']}
df = pd.DataFrame(data)

# Get a random element
random_element = random_product(df)
print("Random element:", random_element)



