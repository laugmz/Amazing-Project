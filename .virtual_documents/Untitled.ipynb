import pubchempy as pcp

def name_to_smiles(molecule_name):
    """
    Convert a molecule name to a SMILES notation using PubChemPy's PubChem database.
    Args:
    - molecule_name (str): The name of the molecule.
    Returns:
    - smiles (str): The SMILES notation of the molecule, or None if retrieval fails.
    """
    try:
        compound = pcp.get_compounds(molecule_name, 'name')
        if compound:
            return compound[0].canonical_smiles
        else:
            print("Error: Unable to retrieve molecule information.")
            return None
    except:
        print("Error: Unable to retrieve molecule information.")
        return None



# Prompt the user to enter a string
string_input = input("Enter a string: ")


smiles = name_to_smiles(string_input)
if smiles:
    print(f"SMILES notation for {string_input}: {smiles}")


if is_smiles(string_input)== False:
    smiles = name_to_smiles(string_input)
    if smiles:
        print(f"SMILES notation for {string_input}: {smiles}")
else:
    print (string_input)


import re

def remove_atom_mapping(smiles):
    """
    Remove atom mapping numbers from a SMILES-like notation.

    Args:
    - smiles (str): The SMILES-like notation with atom mapping numbers.

    Returns:
    - smiles_without_mapping (str): The SMILES notation without atom mapping numbers.
    """
    # Define a regular expression pattern to match atom mapping numbers
    pattern = r':\d+'

    # Replace atom mapping numbers with an empty string
    smiles_without_mapping = re.sub(pattern, '', smiles)

    return smiles_without_mapping

# Example usage:
smiles_with_mapping = "[Br-:1].[Br:2][C:5]([C:4]([H:3])([C:31]#[N:32])[C:41]#[N:42])([H:11])[H:21]"
clean_smiles = remove_atom_mapping(smiles_with_mapping)
print("SMILES without atom mapping numbers:", clean_smiles)



import re

def Smiles(smiles):
    """
    Remove atom mapping numbers, brackets, and 'H' characters from a SMILES-like notation.
    Args:
    - smiles (str): The SMILES-like notation with atom mapping numbers, brackets, and 'H' characters.
    Returns:
    - smiles_without_mapping (str): The SMILES notation without atom mapping numbers, brackets, and 'H' characters.
    """
    # Define a regular expression pattern to match atom mapping numbers, brackets, and 'H' characters
    pattern = r'[:\[\]H]'
    smiles_without_mapping = re.sub(pattern, '', smiles)
    return smiles_without_mapping
    # Example usage:
smiles_with_mapping = "[Br-:1].[Br:2][C:5]([C:4]([H:3])([C:31]#[N:32])[C:41]#[N:42])([H:11])[H:21]"
clean_smiles = Smiles(remove_atom_mapping(smiles_with_mapping))
print("SMILES without atom mapping numbers:", clean_smiles)


def Smiles(smiles):
    """
    Remove atom mapping numbers, brackets, 'H' characters, and empty parentheses from a SMILES-like notation.
    Args:
    - smiles (str): The SMILES-like notation with atom mapping numbers, brackets, 'H' characters, and empty parentheses.
    Returns:
    - smiles_cleaned (str): The cleaned SMILES notation.
    """
    # Define a regular expression pattern to match atom mapping numbers, brackets, 'H' characters, and empty parentheses
    pattern = r'[:\[\]\ H]'
    # Use re.sub() to remove the specified characters
    smiles_cleaned = re.sub(pattern, '', smiles)
    # Remove empty parentheses only
    smiles_cleaned = re.sub(r'\(\)', '', smiles_cleaned)
    return smiles_cleaned

# Example usage:
smiles_with_mapping = "[Br-:1].[Br:2][C:5]([C:4]([H:3])([C:31]#[N:32])[C:41]#[N:42])([H:11])[H:21]"
clean_smiles = Smiles(remove_atom_mapping(smiles_with_mapping))
print("SMILES without atom mapping numbers:", clean_smiles)


import re

def Smiles(smiles):
    """
    Convert "X-" elements where X can be "Br", "Cl", or "F" into "[X-]" in a SMILES-like notation.
    Args:
    - smiles (str): The SMILES-like notation.
    Returns:
    - smiles_cleaned (str): The cleaned SMILES notation.
    """
    # Define a regular expression pattern to match "X-" elements
    pattern = r'(Br|Cl|F)-'
    # Use re.sub() to replace "X-" elements with "[X-]"
    smiles_cleaned = re.sub(pattern, r'[\1]-', smiles)
    # Remove atom mapping numbers, brackets, 'H' characters, and empty parentheses
    smiles_cleaned = re.sub(r'[:\[\]\(\)H]', '', smiles_cleaned)
    # Remove empty parentheses only
    smiles_cleaned = re.sub(r'\(\)', '', smiles_cleaned)
    return smiles_cleaned

# Example usage:
smiles_with_mapping = " Br-.BrCCC#NC#N"
clean_smiles = Smiles(smiles_with_mapping)
print("Cleaned SMILES:", clean_smiles)


def convert_X(smiles):
    """
    Convert "X-" elements where X can be "Br", "Cl", or "F" into "[X-]" in a SMILES-like notation.
    Args:
    - smiles (str): The SMILES-like notation.
    Returns:
    - cleaned_smiles (str): The cleaned SMILES notation.
    """
    # Define the elements you want to convert
    elements = ['Br', 'Cl', 'F']
    # Iterate over each element
    for element in elements:
        # Replace "X-" with "[X-]"
        smiles = smiles.replace(element + '-', '[' + element + '-]')
    return smiles

# Example usage:
cleaned_smiles = "Br-.BrCCC#NC#N"
result = convert_X(cleaned_smiles)
print("Cleaned SMILES:", result)






