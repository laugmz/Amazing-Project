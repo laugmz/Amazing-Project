"""
This code finds the isomers (if there is ones) if the product searched isn't in the database.
"""

import itertools

def generate_permutations(input_string):
    # Generate all permutations of the input string
    permutations = itertools.permutations(input_string)
    # Convert each permutation tuple to a string and add to the list
    permutation_list = [''.join(p) for p in permutations]
    return permutation_list

all_isomers=generate_permutations(clean_string(string_input_mol))
valid_smiles_isomers=[]

for perm in generate_permutations(cleaned_string):
    if is_smiles(perm):
        valid_smiles_isomers.append(perm)

valid_smiles_isomers = list(set(valid_smiles_isomers))

# Check if the molecule is not found in the valid_smiles_df
import tkinter as tk

def ask_yes_no():
    def on_yes():
        nonlocal user_response
        user_response = True
        root.destroy()

    def on_no():
        nonlocal user_response
        user_response = False
        root.destroy()

    user_response = None
    root = tk.Tk()
    root.title("Question")

    label = tk.Label(root, text="Your product isn't in the database. Do you want to look for an isomer molecule?", padx=20, pady=20)
    label.pack()

    yes_button = tk.Button(root, text="Yes", command=on_yes, padx=20, pady=10)
    yes_button.pack(side=tk.LEFT)

    no_button = tk.Button(root, text="No", command=on_no, padx=20, pady=10)
    no_button.pack(side=tk.RIGHT)

    root.mainloop()

    return user_response

# Define the size of each batch
batch_size = 1000  # Adjust this value based on your memory constraints

# Get the total number of rows in the DataFrame
total_rows = len(Isomers_dataFrame)

# Iterate over the DataFrame in batches
for start in range(0, total_rows, batch_size):
    end = min(start + batch_size, total_rows)
    batch_df = Isomers_dataFrame.iloc[start:end]

if not rows:  # Assuming 'rows' is defined somewhere in your context
    choice = input("Your product isn't in the database. Do you want to look for an isomer molecule? (enter yes/no) ")
    if choice.lower() == "no":
        print("Exiting.")
    else:
        rows = []
        for isomer in valid_smiles_isomers:
            result = find_molecule_rows(batch_df, isomer, start_col=0, end_col=53)
            if result:
                rows.extend(result)
        
        # Remove duplicates if any
        rows = list({tuple(row) for row in rows})

        if rows:
            print(rows)
        else:
            print("The product is not in the database, please try with another molecule.")


from rdkit import Chem
from rdkit.Chem import Descriptors

def get_molecular_weight(smiles):
    """
    Calculate the molecular weight of a molecule given its SMILES string.
    
    Args:
    smiles (str): SMILES string of the molecule.
    
    Returns:
    float: Molecular weight of the molecule.
    """
    # Convert the SMILES string to an RDKit molecule object
    molecule = Chem.MolFromSmiles(smiles)
    
    # Check if the molecule is valid
    if molecule is None:
        raise ValueError("Invalid SMILES string provided")
    
    # Calculate the molecular weight
    molecular_weight = Descriptors.MolWt(molecule)
    
    return molecular_weight

# Example usage
smiles = "CCO"  # Ethanol
print(f"Molecular weight of {smiles}: {get_molecular_weight(smiles)} g/mol")




