# AMAZING PROJECT

# Purpose of our project:
We wanted to make a code that would output the reaction of the highest yield for a given product. The user inputs a product, and the program outputs the reaction which leads to its formation with the highest yield. If the given product is not in the database, the program outputs the formation reaction with the highest yield of its closest isomer. In addition to that, the reaction given is displayed in two dimensions, and the given product is plotted in three dimensions. 

# Demonstration and result:
for example, if we enters 

# Advantages:
-It can work with various databases. Our conversion in smiles is relatively global, there are many functions to fit to the smile’s notation.
-It reduces the research time if one needs the reaction formation of a molecule and moreover gives the one with the highest yield.
-The code is interactive and can be used by everyone as we have various entrees as the common name or the smile notation of the molecule.
-If the molecule isn’t in the data base, the user has still the option to search for a possible isomer formation reaction instead of the initial molecule.
-To test the code or if the user doesn’t know which molecule to form, he has the possibility to ask for a random molecule’s smiles in the database.
-In this code there is some visualization, the code returns the 3D image of the molecule that will be formed and its formation reaction 

# Limitations and possible improvements:
-With the conversion in SMILES, we lose some of the information of the initial database. The conversion can fail for some molecules as we simplify it. That point could be optimized.
-If the user enters a molecule name and it’s not in the “pubchempy” the function name_to_smiles will not work.
-The seize of the data is limited 

# Challenges faced:
The most difficult part of our project was to transform the data base into one without atom mapping and in a correct smiles notation to fit with the input of the user.



