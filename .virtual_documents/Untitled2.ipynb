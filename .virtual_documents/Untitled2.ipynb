import pandas as pd
import re

def clean_string(s):
    cleaned = re.sub(r'[\[\]\(\)\+\-#]', '', s.lower())  # Clean and convert to lowercase
    return cleaned

def sort_string(s):
    return ''.join(sorted(s.lower()))  # Sort and convert to lowercase

Isomers_dataFrame = {
    'Column1': ["[Br]", "[Cl]","[F]" ]
}

Isomers_dataFrame = pd.DataFrame(Isomers_dataFrame)

string_input_mol = "[rB]"

string_input_mol2 = clean_string(string_input_mol)

def find_anagram(Isomers_dataFrame, string_input_mol2):
    sorted_input = sort_string(string_input_mol2)
    print("Sorted Input:", sorted_input)
    for col in Isomers_dataFrame['Column1']:
        sorted_col = sort_string(clean_string(col))
        print("Sorted Col:", sorted_col)
        if sorted_col == sorted_input:
            return col
    return None

if string_input_mol2:  
    choice = input("Your product isn't in the database. Do you want to look for an isomer molecule? (enter yes/no) ")
    if choice.lower() == "no":
        print("Exiting.")
    else:
        isomer = find_anagram(Isomers_dataFrame, string_input_mol2)
        print(f"isomer: {isomer}")
        if isomer:
            print(f"An isomer was found for {string_input_mol}: {isomer}.")
        else:
            print(f"No isomer was found for {string_input_mol}.")



import itertools

def generate_anagrams(input_string):
    """
    Generate all unique anagrams of the input string.

    Args:
    - input_string (str): The string for which to generate anagrams.

    Returns:
    - list of str: A list containing all unique anagrams of the input string.
    """
    # Generate all permutations of the input string
    permutations = itertools.permutations(input_string)
    
    # Convert each permutation tuple to a string and use a set to avoid duplicates
    anagram_set = {''.join(p) for p in permutations}
    
    # Convert the set to a list and return it
    return list(anagram_set)

# Example usage
if __name__ == "__main__":
    input_string = "(CCC4C3(CCCC4)O)C)C"
    anagrams = generate_anagrams(input_string)
    print(anagrams)



pip install rdkit
pip install py3Dmol


from rdkit import Chem
from rdkit.Chem import AllChem
from rdkit.Chem.EnumerateStereoisomers import EnumerateStereoisomers, StereoEnumerationOptions

def generate_stereoisomers(smiles):
    """
    Generate all possible stereoisomers of the given molecule.

    Args:
    - smiles (str): The SMILES string of the molecule.

    Returns:
    - list of str: A list containing the SMILES strings of all possible stereoisomers.
    """
    mol = Chem.MolFromSmiles(smiles)
    
    # Generate stereoisomers
    opts = StereoEnumerationOptions(onlyUnassigned=False, unique=True)
    stereoisomers = list(EnumerateStereoisomers(mol, options=opts))
    
    # Convert stereoisomers to SMILES
    isomer_smiles = [Chem.MolToSmiles(isomer, isomericSmiles=True) for isomer in stereoisomers]
    
    return isomer_smiles

# Example usage
if __name__ == "__main__":
    smiles = 'CC(C)CCCC(C)C1CCC2C1(CCC3C2C(CCC4C3(CCCC4)O)C)C'
    isomers = generate_stereoisomers(smiles)
    for i, isomer in enumerate(isomers):
        print(f"Stereoisomer {i + 1}: {isomer}")



pip install openbabel


conda install -c conda-forge openbabel


conda install -c conda-forge openbabel


import openbabel
import pybel

def generate_constitutional_isomers(smiles, max_isomers=10):
    """
    Generate constitutional isomers of a molecule using Open Babel.
    
    Args:
    - smiles (str): SMILES string of the molecule.
    - max_isomers (int): Maximum number of isomers to generate.
    
    Returns:
    - list of str: A list containing the SMILES strings of the generated constitutional isomers.
    """
    obConversion = openbabel.OBConversion()
    obConversion.SetInAndOutFormats("smi", "smi")
    
    # Create an OBMol from the SMILES string
    mol = openbabel.OBMol()
    obConversion.ReadString(mol, smiles)
    
    # Generate constitutional isomers
    mol.AddHydrogens()
    isomer_gen = openbabel.OBIsomerGenerator()
    
    isomers = []
    def isomer_callback(mol):
        smi = obConversion.WriteString(mol).strip()
        isomers.append(smi)
        return len(isomers) < max_isomers
    
    isomer_gen.Generate(mol, isomer_callback)
    
    return isomers

# Example usage
if __name__ == "__main__":
    smiles = 'CC(C)CCCC(C)C1CCC2C1(CCC3C2C(CCC4C3(CCCC4)O)C)C'
    isomers = generate_constitutional_isomers(smiles, max_isomers=10)
    for i, isomer in enumerate(isomers):
        print(f"Constitutional Isomer {i + 1}: {isomer}")



def count_letters(s):
    """
    Count the number of times each letter appears in the string.

    Args:
    - s (str): The input string.

    Returns:
    - dict: A dictionary with letters as keys and their counts as values.
    """
    # Initialize an empty dictionary to store the counts
    letter_counts = {}

    # Iterate over each character in the string
    for char in s:
        # Only consider alphabetic characters
        if char.isalpha():
            # Convert the character to lowercase to ensure case-insensitivity
            char = char.lower()
            # Increment the count for the character in the dictionary
            if char in letter_counts:
                letter_counts[char] += 1
            else:
                letter_counts[char] = 1

    return letter_counts

# Example usage
input_string = "Hello, World!"
letter_count_dict = count_letters(input_string)
print(letter_count_dict)



# Create a sample DataFrame
import pandas as pd
data = {'text': ['Hello, World!', 'Pandas is great', 'Python programming']}
df = pd.DataFrame(data)

# Apply the count_letters function to each row in the 'text' column
df['letter_counts'] = df['text'].apply(count_letters)

# Display the DataFrame with the new column
print(df)


#Compare each dictionary in the DataFrame with the target dictionary
for index, row in df.iterrows():
    if row['letter_counts'] == letter_count_dict:
        print(f"Row {index}: The letter counts match the target dictionary.")
    else:
        print(f"Row {index}: The letter counts do not match the target dictionary.")



