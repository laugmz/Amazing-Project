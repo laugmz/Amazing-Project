




















from finding_your_reaction import remove_atom_mapping
print(remove_atom_mapping("C[CH2:1][OH:2]"))





from finding_your_reaction import remove_percent_symbol
remove_percent_symbol("15%")





from finding_your_reaction import clean_string
clean_string ("CN1C=NC2=C1C(=O)N(C(=O)N2C)C")





from finding_your_reaction import main
main()





from finding_your_reaction import is_smiles
is_smiles("2-Acetoxybenzoic acid")
is_smile ("CC(=O)OC1=CC=CC=C1C(=O)O")





from finding_your_reaction import name_to_smiles
name_to_smiles("1,3,7-Trimethylxanthine")





from finding_your_reaction import find_molecule_rows
find_molecule_rows("[Br-]")





from finding_your_reaction import generate_permutations
generate_permutations("CCO")








from finding_your_reaction import get_molecule_name
get_molecule_name("C1=CC=CC=C1")





from finding_your_reaction import get_molecular_weight
get_moleular_weight ("C1=CC=C(C=C1)C(=O)O")





from finding_your_reaction import plot_molecule_3D
plot_molecule_3D("C=C")












