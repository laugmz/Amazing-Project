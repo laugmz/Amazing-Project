#"Finding Your Reaction" Project


# Purpose of our project:

To make a code that would output the reaction of formation of a product input by the user within the limits of our database.
If the product can be formed by various reactions, the one with the highest yield is returned.
If the given product is not in the database, the program offers the possibility to find an isomer present in the database and to return its formation reaction, as to not leave the user empty handed.
In addition, the reaction is displayed in a 2-dimensional image, and the product is plotted in a 3-dimensional graph. 
In case one needs help finding a product, the package offers random products to try from the database.


# Demonstration and result:
For example, if we enter 


# How to use it and how apply it for an other data base


# Fonctionnalities


"A function as been created to remove the atom mapping from a given smile notation, to then apply it to our data base."


from finding_your_reaction import remove_atom_mapping
print(remove_atom_mapping(("C[CH2:1][OH:2]"))


"A function to remove the percentage symbol from the yield column has been created to compare the yields in our data base


from finding_your_reaction import remove_percent_symbol
remove_percent_symbol("15%")


"To find constitution isomers, a function clean_string has been created to delete all the brakets, parenthesis, =, + or -. 
"This function is applied to the data base to form the isomere data base and later on, on the molecule smiles if the user wants to.


from finding_your_reaction import clean_string
clean_string ("CN1C=NC2=C1C(=O)N(C(=O)N2C)C")


"To generate a random product in the data base a function main() as been created.


from finding_your_reaction import main
main()


"To check if an input is in smiles notation or not, the following function has been created


from finding_your_reaction import is_smiles
is_smiles("2-Acetoxybenzoic acid")
is_smile ("CC(=O)OC1=CC=CC=C1C(=O)O")


"The following function has been used to convert a UPAC name into a smile in order to be able to search the molecule in the data base


from finding_your_reaction import name_to_smiles
name_to_smiles("1,3,7-Trimethylxanthine")


"To find the rows in the data base where there is the required product we have been used the following function


from finding_your_reaction import find_molecule_rows
find_molecule_rows("[Br-]")


"To find all the isomere possible for a molecule we've been genereate a list with all the permutations possible 


from finding_your_reaction import generate_permutations
generate_permutations("CCO")


"this list has been then passed into the is_smile function to only keept the existing configurations


"To have more informations about the molecule that we want to form, there is a function that convert the smile of the user into the UPAC name. 


from finding_your_reaction import get_molecule_name
get_molecule_name("C1=CC=CC=C1")


"There is a function to give the molecular weight


from finding_your_reaction import get_molecular_weight
get_moleular_weight ("C1=CC=C(C=C1)C(=O)O")


"To have a 3D-visualisation of the molecule, there is the function plot_molecule_3D


from finding_your_reaction import plot_molecule_3D
plot_molecule_3D("C=C")


# Advantages:
-With slight modifications, the package could be used with various databases. Our conversion in smiles without mapping can be applied easily.
-The time spent searching for the formation reaction of the needed molecule is, if contained in our database, drastically reduced and far less tedious than than if one needed to look anywhere.
-The database used in the project covers all reactions patented in the USA between 1996 and 2016. Therefore it searches, after some selection, through more than 700 000 reactions.
-The code is interactive and can be used by everyone as we have various entrees such as the common name or the smiles notation of the molecule.
-The input doesn't need to be in SMILES. Common molecule names are converted by the package as chemists use that langage only in programming.                                                                          
-If the molecule isn’t in the data base, the user still has the option to search for a possible isomer formation reaction instead of the initial molecule.
-To test the code or if the user doesn’t know which molecule to form, they have the possibility to ask for a random molecule’s smiles in the database.
-Visualizations of the reaction and the product that make the informations more digestible and readable than only the SMILES line codes.


# Limitations and possible improvements: 
-With the conversion in SMILES, we lose some of the information of the initial database. The conversion can fail for some molecules as we simplify it. That point could be optimized.
-The library used in the name_to_smiles function is the pubchempy one. Therefore, if the input that needs to be converted in SMILES isn t in the library, the code won t work, even if a reaction exist in our database.
-The initial data has over 1 million reactions, but because the choice to remove all reactions that didn t display their yields was made, a serious amount of information is lost. However, more than a hundred thousands reactions remain.



# Challenges faced:
The most difficult part of our project was to transform the data base into one without atom mapping and in a correct smiles notation to fit the input of the user.
Another challenge was rooted in the size of the databse. Indeed, some functions took a few minutes to run each and some had their kernels die before completing the task. 
To tackle this problem, and because the size of the data could not be reduced, some functions had to be seriously optimized as for everything to run smoothly.

