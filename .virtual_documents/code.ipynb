# read the data
#imports"
from pathlib import Path
from rdkit import Chem
from rdkit.Chem import Draw

# Create a Path object for the current directory
current_directory = Path.cwd()
print("Current Directory:", current_directory.resolve())

# Creating a Path object for an example file that does not yet exist
example_file_path = current_directory / "database.csv"

# Reading the contents of the file to test if we have well acess to our data
if example_file_path.exists():
    with example_file_path.open("r") as file:
        first_line = file.readline()
        print(first_line)
else:
    print("The file does not exist.")


# Create the Data Frame
from rdkit import Chem
from rdkit.Chem import PandasTools
import pandas as pd
from pathlib import Path
import os

dataFrame= pd.read_csv("database.csv")
print (dataFrame)


# fonction to remove atome mapping numbers from smiles
import re

def remove_atom_mapping(smiles):
    """
    Remove atom mapping numbers from a SMILES-like notation.
    Args:
    - smiles (str): The SMILES-like notation with atom mapping numbers.
    Returns:
    - smiles_without_mapping (str): The SMILES notation without atom mapping numbers.
    """
    # Define a regular expression pattern to match atom mapping numbers
    pattern = r':\d+'
    smiles_without_mapping = re.sub(pattern, '', smiles)
    return smiles_without_mapping


# give smiles
def Smiles(smiles):
    """
    Remove atom mapping numbers, brackets, 'H' characters, and empty parentheses from a SMILES-like notation.
    Args:
    - smiles (str): The SMILES-like notation with atom mapping numbers, brackets, 'H' characters, and empty parentheses.
    Returns:
    - smiles_cleaned (str): The cleaned SMILES notation.
    """
    # Define a regular expression pattern to match atom mapping numbers, brackets, 'H' characters, and empty parentheses
    pattern = r'[:\[\]\ H]'
    # Use re.sub() to remove the specified characters
    smiles_cleaned = re.sub(pattern, '', smiles)
    # Remove empty parentheses only
    smiles_cleaned = re.sub(r'\(\)', '', smiles_cleaned)
    return smiles_cleaned

def convert_X(smiles):
    """
    Convert "X-" elements where X can be "Br", "Cl", or "F" into "[X-]" in a SMILES-like notation.
    Args:
    - smiles (str): The SMILES-like notation.
    Returns:
    - cleaned_smiles (str): The cleaned SMILES notation.
    """
    # Define the elements you want to convert
    elements = ['Br', 'Cl', 'F']
    # Iterate over each element
    for element in elements:
        # Replace "X-" with "[X-]"
        smiles = smiles.replace(element + '-', '[' + element + '-]')
    return smiles



# remove mapping from the Data Frame
for column in dataFrame.columns:
    # Apply the remove_atom_mapping function to each column
    dataFrame[column] = dataFrame[column].apply(remove_atom_mapping)
    dataFrame[column] = dataFrame[column].apply(Smiles)
    dataFrame[column] = dataFrame[column].apply(convert_X)
print(dataFrame)


# Split the column values at each ";" and expand them into separate columns
split_dataFrame = dataFrame['Reactant 1;Reactant 2;Product 1;Product 2;Product 3'].str.split(';', expand=True)

# Rename the columns
split_dataFrame.columns = ['Reactant 1', 'Reactant 2', 'Product 1', 'Product 2', 'Product 3']

# Display the resulting DataFrame
print(split_dataFrame)


# Assuming your DataFrame is named dataFrame
# Access the third column and get its first element
element = split_dataFrame.iloc[0, 2]

# Print the element and its type
print("First element of the third column:", element)
print("Type of the element:", type(element))


# Prompt the user to enter the molecule that he wants to form
print ("you can enter the name of the molecule or its SMILES, the racemic configuration is available. Only halogen molecules are taken in account in the data base")
string_input_mol = input("Enter the molecule that you want to form: ")


# function to determine if the user enters the SMILES notation or the usual name of the molecule
from rdkit import Chem

def is_smiles(smiles):
    """
    Check if a string represents a valid SMILES notation.
    Args:
    - smiles (str): The string to check.
    Returns:
    - is_valid (bool): True if the string is a valid SMILES notation, False otherwise.
    """
    if Chem.MolFromSmiles(smiles)== None:
        return False
    else:
        return True

# Check if the entered string is a valid SMILES notation
if is_smiles(string_input_mol):
    print(f"'{string_input_mol}' is a valid SMILES notation.")
else:
    print(f"'{string_input_mol}' is not a valid SMILES notation.")


!pip install pubchempy


# function to convert name into SMILES

import pubchempy as pcp

def name_to_smiles(molecule_name):
    """
    Convert a molecule name to a SMILES notation using PubChemPy's PubChem database.
    Args:
    - molecule_name (str): The name of the molecule.
    Returns:
    - smiles (str): The SMILES notation of the molecule, or None if retrieval fails.
    """
    try:
        compound = pcp.get_compounds(molecule_name, 'name')
        if compound:
            return compound[0].canonical_smiles
        else:
            print("Error: Unable to retrieve molecule information. Please try with the SMILE of the molecule")
            return None
    except:
        print("Error: Unable to retrieve molecule information. Please try again")
        return None


# Call the function to convert the molecule name to SMILES notation
if is_smiles(string_input_mol)== False:
    string_input_mol = name_to_smiles(string_input_mol)
    if string_input_mol:
        print(f"SMILES notation for {string_input_mol}: {string_input_mol}")
else:
    print (string_input_mol)


# function to find the required molecule in the data Frame

def compare_molecule_with_data(element):
    return element == string_input_mol

# Iterate over the last three columns of the DataFrame
for column_name in split_dataFrame.columns[-3:]:
    column = split_dataFrame[column_name]
    # Check if any element in the column matches the input molecule
    if any(column.apply(compare_molecule_with_data)):
        print("Input molecule found in the DataFrame:")
        print(split_dataFrame[column.apply(compare_molecule_with_data)])
        break
else:
    print("The product is not in the database")





# print the yield


# Smiles with mapping to without maping
smiles_with_mapping = "[Br-:1].[Br:2][C:5]([C:4]([H:3])([C:31]#[N:32])[C:41]#[N:42])([H:11])[H:21]"
clean_smiles = remove_atom_mapping(smiles_with_mapping)
print("SMILES without atom mapping numbers:", clean_smiles)




# print the molecule
original_smiles='Br-'
# Parse the original SMILES notation
mol = Chem.MolFromSmiles(original_smiles)
# Convert the parsed molecule back to SMILES without atom mapping numbers
smiles_without_numbers = Chem.MolToSmiles(mol, allBondsExplicit=True, isomericSmiles=True)



# Create a molecule object from the SMILES notation
mol = Chem.MolFromSmiles(smiles_without_numbers)


# Draw and display the molecule
img = Draw.MolToImage(mol)



# Display the image
img.show()



